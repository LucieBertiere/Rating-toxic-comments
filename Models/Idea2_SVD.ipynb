{
 "cells": [
  {
   "cell_type": "markdown",
   "id": "cd3ffb90",
   "metadata": {
    "id": "PyJJMaAhB30L",
    "papermill": {
     "duration": 0.02932,
     "end_time": "2022-01-05T19:36:43.046563",
     "exception": false,
     "start_time": "2022-01-05T19:36:43.017243",
     "status": "completed"
    },
    "tags": []
   },
   "source": [
    "**Jigsaw Rate Severity of Toxic Comments**\n",
    "\n",
    "Raquel Alcaraz\n",
    "\n",
    "Lucie Bertiere"
   ]
  },
  {
   "cell_type": "markdown",
   "id": "fe0409f4",
   "metadata": {
    "id": "xAnR_77kCoKf",
    "papermill": {
     "duration": 0.026289,
     "end_time": "2022-01-05T19:36:43.100017",
     "exception": false,
     "start_time": "2022-01-05T19:36:43.073728",
     "status": "completed"
    },
    "tags": []
   },
   "source": [
    "# Libraries"
   ]
  },
  {
   "cell_type": "code",
   "execution_count": 1,
   "id": "f8c83213",
   "metadata": {
    "execution": {
     "iopub.execute_input": "2022-01-05T19:36:43.158027Z",
     "iopub.status.busy": "2022-01-05T19:36:43.156760Z",
     "iopub.status.idle": "2022-01-05T19:36:51.775969Z",
     "shell.execute_reply": "2022-01-05T19:36:51.775037Z",
     "shell.execute_reply.started": "2022-01-05T17:55:52.230868Z"
    },
    "id": "-wncRf68Cn03",
    "papermill": {
     "duration": 8.649799,
     "end_time": "2022-01-05T19:36:51.776170",
     "exception": false,
     "start_time": "2022-01-05T19:36:43.126371",
     "status": "completed"
    },
    "tags": []
   },
   "outputs": [
    {
     "data": {
      "text/html": [
       "<style type='text/css'>\n",
       ".datatable table.frame { margin-bottom: 0; }\n",
       ".datatable table.frame thead { border-bottom: none; }\n",
       ".datatable table.frame tr.coltypes td {  color: #FFFFFF;  line-height: 6px;  padding: 0 0.5em;}\n",
       ".datatable .bool    { background: #DDDD99; }\n",
       ".datatable .object  { background: #565656; }\n",
       ".datatable .int     { background: #5D9E5D; }\n",
       ".datatable .float   { background: #4040CC; }\n",
       ".datatable .str     { background: #CC4040; }\n",
       ".datatable .time    { background: #40CC40; }\n",
       ".datatable .row_index {  background: var(--jp-border-color3);  border-right: 1px solid var(--jp-border-color0);  color: var(--jp-ui-font-color3);  font-size: 9px;}\n",
       ".datatable .frame tbody td { text-align: left; }\n",
       ".datatable .frame tr.coltypes .row_index {  background: var(--jp-border-color0);}\n",
       ".datatable th:nth-child(2) { padding-left: 12px; }\n",
       ".datatable .hellipsis {  color: var(--jp-cell-editor-border-color);}\n",
       ".datatable .vellipsis {  background: var(--jp-layout-color0);  color: var(--jp-cell-editor-border-color);}\n",
       ".datatable .na {  color: var(--jp-cell-editor-border-color);  font-size: 80%;}\n",
       ".datatable .sp {  opacity: 0.25;}\n",
       ".datatable .footer { font-size: 9px; }\n",
       ".datatable .frame_dimensions {  background: var(--jp-border-color3);  border-top: 1px solid var(--jp-border-color0);  color: var(--jp-ui-font-color3);  display: inline-block;  opacity: 0.6;  padding: 1px 10px 1px 5px;}\n",
       "</style>\n"
      ],
      "text/plain": [
       "<IPython.core.display.HTML object>"
      ]
     },
     "metadata": {},
     "output_type": "display_data"
    }
   ],
   "source": [
    "import pandas as pd\n",
    "import os\n",
    "import seaborn as sns\n",
    "import numpy as np\n",
    "import matplotlib.pyplot as plt\n",
    "\n",
    "import re\n",
    "import nltk\n",
    "from nltk import word_tokenize\n",
    "from nltk.corpus import stopwords\n",
    "from nltk.stem import WordNetLemmatizer\n",
    "from wordcloud import WordCloud\n",
    "from collections import Counter\n",
    "\n",
    "from sklearn.model_selection import train_test_split\n",
    "\n",
    "from keras.preprocessing.text import Tokenizer\n",
    "from keras.preprocessing.sequence import pad_sequences\n",
    "from keras import Sequential\n",
    "from keras import layers\n",
    "\n",
    "from sklearn.naive_bayes import MultinomialNB\n",
    "from sklearn import model_selection\n",
    "from sklearn.metrics import classification_report\n",
    "from sklearn import metrics\n",
    "from sklearn.multiclass import OneVsRestClassifier\n",
    "from sklearn.decomposition import TruncatedSVD\n",
    "from sklearn.model_selection import RandomizedSearchCV\n",
    "from sklearn.feature_extraction.text import TfidfVectorizer\n",
    "\n",
    "import lightgbm as ltb"
   ]
  },
  {
   "cell_type": "markdown",
   "id": "7bc5db91",
   "metadata": {
    "id": "VuliXIFPCrjw",
    "papermill": {
     "duration": 0.027159,
     "end_time": "2022-01-05T19:36:51.831319",
     "exception": false,
     "start_time": "2022-01-05T19:36:51.804160",
     "status": "completed"
    },
    "tags": []
   },
   "source": [
    "# Importing the data"
   ]
  },
  {
   "cell_type": "code",
   "execution_count": 2,
   "id": "8935d1f7",
   "metadata": {
    "execution": {
     "iopub.execute_input": "2022-01-05T19:36:51.893002Z",
     "iopub.status.busy": "2022-01-05T19:36:51.892075Z",
     "iopub.status.idle": "2022-01-05T19:36:51.989443Z",
     "shell.execute_reply": "2022-01-05T19:36:51.988590Z"
    },
    "papermill": {
     "duration": 0.13102,
     "end_time": "2022-01-05T19:36:51.989630",
     "exception": false,
     "start_time": "2022-01-05T19:36:51.858610",
     "status": "completed"
    },
    "tags": []
   },
   "outputs": [],
   "source": [
    "comments_to_score = pd.read_csv(\"/kaggle/input/jigsaw-toxic-severity-rating/comments_to_score.csv\")"
   ]
  },
  {
   "cell_type": "code",
   "execution_count": 3,
   "id": "711a99a3",
   "metadata": {
    "execution": {
     "iopub.execute_input": "2022-01-05T19:36:52.053270Z",
     "iopub.status.busy": "2022-01-05T19:36:52.052198Z",
     "iopub.status.idle": "2022-01-05T19:36:52.065609Z",
     "shell.execute_reply": "2022-01-05T19:36:52.066413Z"
    },
    "id": "jGtviYpxHIOD",
    "outputId": "64949795-a58b-42b6-c0c9-8af33a3f1e03",
    "papermill": {
     "duration": 0.049196,
     "end_time": "2022-01-05T19:36:52.066678",
     "exception": false,
     "start_time": "2022-01-05T19:36:52.017482",
     "status": "completed"
    },
    "tags": []
   },
   "outputs": [
    {
     "data": {
      "text/html": [
       "<div>\n",
       "<style scoped>\n",
       "    .dataframe tbody tr th:only-of-type {\n",
       "        vertical-align: middle;\n",
       "    }\n",
       "\n",
       "    .dataframe tbody tr th {\n",
       "        vertical-align: top;\n",
       "    }\n",
       "\n",
       "    .dataframe thead th {\n",
       "        text-align: right;\n",
       "    }\n",
       "</style>\n",
       "<table border=\"1\" class=\"dataframe\">\n",
       "  <thead>\n",
       "    <tr style=\"text-align: right;\">\n",
       "      <th></th>\n",
       "      <th>comment_id</th>\n",
       "      <th>text</th>\n",
       "    </tr>\n",
       "  </thead>\n",
       "  <tbody>\n",
       "    <tr>\n",
       "      <th>0</th>\n",
       "      <td>114890</td>\n",
       "      <td>\"\\n \\n\\nGjalexei, you asked about whether ther...</td>\n",
       "    </tr>\n",
       "    <tr>\n",
       "      <th>1</th>\n",
       "      <td>732895</td>\n",
       "      <td>Looks like be have an abuser , can you please ...</td>\n",
       "    </tr>\n",
       "    <tr>\n",
       "      <th>2</th>\n",
       "      <td>1139051</td>\n",
       "      <td>I confess to having complete (and apparently b...</td>\n",
       "    </tr>\n",
       "    <tr>\n",
       "      <th>3</th>\n",
       "      <td>1434512</td>\n",
       "      <td>\"\\n\\nFreud's ideas are certainly much discusse...</td>\n",
       "    </tr>\n",
       "    <tr>\n",
       "      <th>4</th>\n",
       "      <td>2084821</td>\n",
       "      <td>It is not just you. This is a laundry list of ...</td>\n",
       "    </tr>\n",
       "  </tbody>\n",
       "</table>\n",
       "</div>"
      ],
      "text/plain": [
       "   comment_id                                               text\n",
       "0      114890  \"\\n \\n\\nGjalexei, you asked about whether ther...\n",
       "1      732895  Looks like be have an abuser , can you please ...\n",
       "2     1139051  I confess to having complete (and apparently b...\n",
       "3     1434512  \"\\n\\nFreud's ideas are certainly much discusse...\n",
       "4     2084821  It is not just you. This is a laundry list of ..."
      ]
     },
     "execution_count": 3,
     "metadata": {},
     "output_type": "execute_result"
    }
   ],
   "source": [
    "comments_to_score.head(5)"
   ]
  },
  {
   "cell_type": "markdown",
   "id": "bba0a62d",
   "metadata": {
    "id": "nMliJfz7FIBW",
    "papermill": {
     "duration": 0.028068,
     "end_time": "2022-01-05T19:36:52.132312",
     "exception": false,
     "start_time": "2022-01-05T19:36:52.104244",
     "status": "completed"
    },
    "tags": []
   },
   "source": [
    "# Cleaning the data"
   ]
  },
  {
   "cell_type": "markdown",
   "id": "96c576c9",
   "metadata": {
    "id": "mynzF2tNIRIs",
    "papermill": {
     "duration": 0.029928,
     "end_time": "2022-01-05T19:36:52.190992",
     "exception": false,
     "start_time": "2022-01-05T19:36:52.161064",
     "status": "completed"
    },
    "tags": []
   },
   "source": [
    "## Function"
   ]
  },
  {
   "cell_type": "code",
   "execution_count": 4,
   "id": "a641bec7",
   "metadata": {
    "execution": {
     "iopub.execute_input": "2022-01-05T19:36:52.261548Z",
     "iopub.status.busy": "2022-01-05T19:36:52.260787Z",
     "iopub.status.idle": "2022-01-05T19:37:52.358180Z",
     "shell.execute_reply": "2022-01-05T19:37:52.358687Z"
    },
    "id": "uLc89mSUZEnK",
    "outputId": "4600e3cf-177b-466c-e389-733c05c5706d",
    "papermill": {
     "duration": 60.13955,
     "end_time": "2022-01-05T19:37:52.358902",
     "exception": false,
     "start_time": "2022-01-05T19:36:52.219352",
     "status": "completed"
    },
    "tags": []
   },
   "outputs": [
    {
     "name": "stdout",
     "output_type": "stream",
     "text": [
      "[nltk_data] Error loading punkt: <urlopen error [Errno -3] Temporary\n",
      "[nltk_data]     failure in name resolution>\n",
      "[nltk_data] Error loading stopwords: <urlopen error [Errno -3]\n",
      "[nltk_data]     Temporary failure in name resolution>\n",
      "[nltk_data] Error loading wordnet: <urlopen error [Errno -3] Temporary\n",
      "[nltk_data]     failure in name resolution>\n"
     ]
    },
    {
     "data": {
      "text/plain": [
       "False"
      ]
     },
     "execution_count": 4,
     "metadata": {},
     "output_type": "execute_result"
    }
   ],
   "source": [
    "nltk.download('punkt')\n",
    "nltk.download('stopwords')\n",
    "nltk.download('wordnet')"
   ]
  },
  {
   "cell_type": "code",
   "execution_count": 5,
   "id": "74fb189c",
   "metadata": {
    "execution": {
     "iopub.execute_input": "2022-01-05T19:37:52.427852Z",
     "iopub.status.busy": "2022-01-05T19:37:52.426664Z",
     "iopub.status.idle": "2022-01-05T19:37:52.436792Z",
     "shell.execute_reply": "2022-01-05T19:37:52.437406Z"
    },
    "id": "wHVURFLgIQvW",
    "papermill": {
     "duration": 0.049308,
     "end_time": "2022-01-05T19:37:52.437598",
     "exception": false,
     "start_time": "2022-01-05T19:37:52.388290",
     "status": "completed"
    },
    "tags": []
   },
   "outputs": [],
   "source": [
    "# We set the stop words in english (the words that we don't want in the clean text\n",
    "# that are the most used and not really relevant)\n",
    "stop_words = set(stopwords.words('english'))\n",
    "# and also the lemmatizer (rocks becomes rock...)\n",
    "lem = WordNetLemmatizer()\n",
    "\n",
    "\n",
    "def cleaning_text(text):\n",
    "    \n",
    "    # to put everything in lower case (I becomes i)\n",
    "    text = text.lower()\n",
    "\n",
    "    # to remove urls\n",
    "    url = re.compile(r'https?://\\S+|www\\.\\S+')\n",
    "    text = url.sub(r' ', text)\n",
    "\n",
    "    # to remove html tags\n",
    "    html = re.compile(r'<.*?>')\n",
    "    text = html.sub(r' ', text)\n",
    "    \n",
    "    # to remove digits\n",
    "    text = re.sub(r'\\d+',' ', text)\n",
    "    \n",
    "    # to remove hashtags\n",
    "    text = re.sub(r'#\\w+',' ', text)\n",
    "    \n",
    "    # to remove mentions\n",
    "    text = re.sub(r'@\\w+',' ', text)\n",
    "\n",
    "    # to remove punctations\n",
    "    text = re.sub(r\"[^\\w\\s\\d]\",' ', text)\n",
    "\n",
    "    # to remove extra white space\n",
    "    text = re.sub(r\"\\s+\",' ',text).strip()\n",
    "    \n",
    "    # removing stop words\n",
    "    token = word_tokenize(text)\n",
    "    text=[word for word in token if not word in stop_words]\n",
    "\n",
    "    # lemmatize\n",
    "    text = \" \".join([lem.lemmatize(t) for t in text])\n",
    "\n",
    "    return  text\n",
    "  "
   ]
  },
  {
   "cell_type": "markdown",
   "id": "fbe32571",
   "metadata": {
    "id": "7xKSQPA_ZNHo",
    "papermill": {
     "duration": 0.030213,
     "end_time": "2022-01-05T19:37:52.497449",
     "exception": false,
     "start_time": "2022-01-05T19:37:52.467236",
     "status": "completed"
    },
    "tags": []
   },
   "source": [
    "## Comments to score"
   ]
  },
  {
   "cell_type": "code",
   "execution_count": 6,
   "id": "afe9146b",
   "metadata": {
    "execution": {
     "iopub.execute_input": "2022-01-05T19:37:52.563566Z",
     "iopub.status.busy": "2022-01-05T19:37:52.562515Z",
     "iopub.status.idle": "2022-01-05T19:38:02.434767Z",
     "shell.execute_reply": "2022-01-05T19:38:02.434111Z"
    },
    "id": "oTT2snz6ZQKu",
    "papermill": {
     "duration": 9.906089,
     "end_time": "2022-01-05T19:38:02.434962",
     "exception": false,
     "start_time": "2022-01-05T19:37:52.528873",
     "status": "completed"
    },
    "tags": []
   },
   "outputs": [],
   "source": [
    "comments_to_score['clean_text'] = comments_to_score['text'].apply(cleaning_text)"
   ]
  },
  {
   "cell_type": "code",
   "execution_count": 7,
   "id": "1dc98f95",
   "metadata": {
    "execution": {
     "iopub.execute_input": "2022-01-05T19:38:02.506951Z",
     "iopub.status.busy": "2022-01-05T19:38:02.506062Z",
     "iopub.status.idle": "2022-01-05T19:38:02.509390Z",
     "shell.execute_reply": "2022-01-05T19:38:02.509895Z"
    },
    "id": "UZ6IjSTFZal0",
    "outputId": "d528e17a-2422-45d1-c6d8-ecbc1ab8c968",
    "papermill": {
     "duration": 0.044851,
     "end_time": "2022-01-05T19:38:02.510093",
     "exception": false,
     "start_time": "2022-01-05T19:38:02.465242",
     "status": "completed"
    },
    "tags": []
   },
   "outputs": [
    {
     "data": {
      "text/html": [
       "<div>\n",
       "<style scoped>\n",
       "    .dataframe tbody tr th:only-of-type {\n",
       "        vertical-align: middle;\n",
       "    }\n",
       "\n",
       "    .dataframe tbody tr th {\n",
       "        vertical-align: top;\n",
       "    }\n",
       "\n",
       "    .dataframe thead th {\n",
       "        text-align: right;\n",
       "    }\n",
       "</style>\n",
       "<table border=\"1\" class=\"dataframe\">\n",
       "  <thead>\n",
       "    <tr style=\"text-align: right;\">\n",
       "      <th></th>\n",
       "      <th>comment_id</th>\n",
       "      <th>text</th>\n",
       "      <th>clean_text</th>\n",
       "    </tr>\n",
       "  </thead>\n",
       "  <tbody>\n",
       "    <tr>\n",
       "      <th>0</th>\n",
       "      <td>114890</td>\n",
       "      <td>\"\\n \\n\\nGjalexei, you asked about whether ther...</td>\n",
       "      <td>gjalexei asked whether anti editorializing pol...</td>\n",
       "    </tr>\n",
       "    <tr>\n",
       "      <th>1</th>\n",
       "      <td>732895</td>\n",
       "      <td>Looks like be have an abuser , can you please ...</td>\n",
       "      <td>look like abuser please look thanks</td>\n",
       "    </tr>\n",
       "    <tr>\n",
       "      <th>2</th>\n",
       "      <td>1139051</td>\n",
       "      <td>I confess to having complete (and apparently b...</td>\n",
       "      <td>confess complete apparently blissful ignorance...</td>\n",
       "    </tr>\n",
       "    <tr>\n",
       "      <th>3</th>\n",
       "      <td>1434512</td>\n",
       "      <td>\"\\n\\nFreud's ideas are certainly much discusse...</td>\n",
       "      <td>freud idea certainly much discussed today woul...</td>\n",
       "    </tr>\n",
       "    <tr>\n",
       "      <th>4</th>\n",
       "      <td>2084821</td>\n",
       "      <td>It is not just you. This is a laundry list of ...</td>\n",
       "      <td>laundry list stupid allegation scooped god kno...</td>\n",
       "    </tr>\n",
       "  </tbody>\n",
       "</table>\n",
       "</div>"
      ],
      "text/plain": [
       "   comment_id                                               text  \\\n",
       "0      114890  \"\\n \\n\\nGjalexei, you asked about whether ther...   \n",
       "1      732895  Looks like be have an abuser , can you please ...   \n",
       "2     1139051  I confess to having complete (and apparently b...   \n",
       "3     1434512  \"\\n\\nFreud's ideas are certainly much discusse...   \n",
       "4     2084821  It is not just you. This is a laundry list of ...   \n",
       "\n",
       "                                          clean_text  \n",
       "0  gjalexei asked whether anti editorializing pol...  \n",
       "1                look like abuser please look thanks  \n",
       "2  confess complete apparently blissful ignorance...  \n",
       "3  freud idea certainly much discussed today woul...  \n",
       "4  laundry list stupid allegation scooped god kno...  "
      ]
     },
     "execution_count": 7,
     "metadata": {},
     "output_type": "execute_result"
    }
   ],
   "source": [
    "comments_to_score.head(5)"
   ]
  },
  {
   "cell_type": "markdown",
   "id": "74a3a1af",
   "metadata": {
    "id": "KfwuCN7HEvoo",
    "papermill": {
     "duration": 0.030137,
     "end_time": "2022-01-05T19:38:02.570532",
     "exception": false,
     "start_time": "2022-01-05T19:38:02.540395",
     "status": "completed"
    },
    "tags": []
   },
   "source": [
    "# Idea 2\n",
    "\n",
    "Using previous Jigsaw competition : https://www.kaggle.com/c/jigsaw-toxic-comment-classification-challenge/"
   ]
  },
  {
   "cell_type": "code",
   "execution_count": 8,
   "id": "098a081c",
   "metadata": {
    "execution": {
     "iopub.execute_input": "2022-01-05T19:38:02.637474Z",
     "iopub.status.busy": "2022-01-05T19:38:02.636719Z",
     "iopub.status.idle": "2022-01-05T19:38:06.691728Z",
     "shell.execute_reply": "2022-01-05T19:38:06.691091Z",
     "shell.execute_reply.started": "2022-01-05T18:01:18.411983Z"
    },
    "id": "KQ-GsI1rFlz9",
    "papermill": {
     "duration": 4.090905,
     "end_time": "2022-01-05T19:38:06.691935",
     "exception": false,
     "start_time": "2022-01-05T19:38:02.601030",
     "status": "completed"
    },
    "tags": []
   },
   "outputs": [],
   "source": [
    "# We import the dataset from \"Toxic Comment Classification Challenge\"\n",
    "train2 = pd.read_csv(\"/kaggle/input/jigsaw-toxic-comment-classification-challenge/train.csv\")\n",
    "test_labels = pd.read_csv(\"/kaggle/input/jigsaw-toxic-comment-classification-challenge/test_labels.csv\")\n",
    "test2 = pd.read_csv(\"/kaggle/input/jigsaw-toxic-comment-classification-challenge/test.csv\")"
   ]
  },
  {
   "cell_type": "code",
   "execution_count": 9,
   "id": "08c1bc0e",
   "metadata": {
    "execution": {
     "iopub.execute_input": "2022-01-05T19:38:06.767369Z",
     "iopub.status.busy": "2022-01-05T19:38:06.766646Z",
     "iopub.status.idle": "2022-01-05T19:38:06.769401Z",
     "shell.execute_reply": "2022-01-05T19:38:06.769885Z"
    },
    "id": "rUXfwAQot6dt",
    "outputId": "0b2743d7-586e-4210-e3c0-deec485d72fa",
    "papermill": {
     "duration": 0.047673,
     "end_time": "2022-01-05T19:38:06.770064",
     "exception": false,
     "start_time": "2022-01-05T19:38:06.722391",
     "status": "completed"
    },
    "tags": []
   },
   "outputs": [
    {
     "data": {
      "text/html": [
       "<div>\n",
       "<style scoped>\n",
       "    .dataframe tbody tr th:only-of-type {\n",
       "        vertical-align: middle;\n",
       "    }\n",
       "\n",
       "    .dataframe tbody tr th {\n",
       "        vertical-align: top;\n",
       "    }\n",
       "\n",
       "    .dataframe thead th {\n",
       "        text-align: right;\n",
       "    }\n",
       "</style>\n",
       "<table border=\"1\" class=\"dataframe\">\n",
       "  <thead>\n",
       "    <tr style=\"text-align: right;\">\n",
       "      <th></th>\n",
       "      <th>id</th>\n",
       "      <th>comment_text</th>\n",
       "      <th>toxic</th>\n",
       "      <th>severe_toxic</th>\n",
       "      <th>obscene</th>\n",
       "      <th>threat</th>\n",
       "      <th>insult</th>\n",
       "      <th>identity_hate</th>\n",
       "    </tr>\n",
       "  </thead>\n",
       "  <tbody>\n",
       "    <tr>\n",
       "      <th>0</th>\n",
       "      <td>0000997932d777bf</td>\n",
       "      <td>Explanation\\nWhy the edits made under my usern...</td>\n",
       "      <td>0</td>\n",
       "      <td>0</td>\n",
       "      <td>0</td>\n",
       "      <td>0</td>\n",
       "      <td>0</td>\n",
       "      <td>0</td>\n",
       "    </tr>\n",
       "    <tr>\n",
       "      <th>1</th>\n",
       "      <td>000103f0d9cfb60f</td>\n",
       "      <td>D'aww! He matches this background colour I'm s...</td>\n",
       "      <td>0</td>\n",
       "      <td>0</td>\n",
       "      <td>0</td>\n",
       "      <td>0</td>\n",
       "      <td>0</td>\n",
       "      <td>0</td>\n",
       "    </tr>\n",
       "    <tr>\n",
       "      <th>2</th>\n",
       "      <td>000113f07ec002fd</td>\n",
       "      <td>Hey man, I'm really not trying to edit war. It...</td>\n",
       "      <td>0</td>\n",
       "      <td>0</td>\n",
       "      <td>0</td>\n",
       "      <td>0</td>\n",
       "      <td>0</td>\n",
       "      <td>0</td>\n",
       "    </tr>\n",
       "    <tr>\n",
       "      <th>3</th>\n",
       "      <td>0001b41b1c6bb37e</td>\n",
       "      <td>\"\\nMore\\nI can't make any real suggestions on ...</td>\n",
       "      <td>0</td>\n",
       "      <td>0</td>\n",
       "      <td>0</td>\n",
       "      <td>0</td>\n",
       "      <td>0</td>\n",
       "      <td>0</td>\n",
       "    </tr>\n",
       "    <tr>\n",
       "      <th>4</th>\n",
       "      <td>0001d958c54c6e35</td>\n",
       "      <td>You, sir, are my hero. Any chance you remember...</td>\n",
       "      <td>0</td>\n",
       "      <td>0</td>\n",
       "      <td>0</td>\n",
       "      <td>0</td>\n",
       "      <td>0</td>\n",
       "      <td>0</td>\n",
       "    </tr>\n",
       "    <tr>\n",
       "      <th>5</th>\n",
       "      <td>00025465d4725e87</td>\n",
       "      <td>\"\\n\\nCongratulations from me as well, use the ...</td>\n",
       "      <td>0</td>\n",
       "      <td>0</td>\n",
       "      <td>0</td>\n",
       "      <td>0</td>\n",
       "      <td>0</td>\n",
       "      <td>0</td>\n",
       "    </tr>\n",
       "    <tr>\n",
       "      <th>6</th>\n",
       "      <td>0002bcb3da6cb337</td>\n",
       "      <td>COCKSUCKER BEFORE YOU PISS AROUND ON MY WORK</td>\n",
       "      <td>1</td>\n",
       "      <td>1</td>\n",
       "      <td>1</td>\n",
       "      <td>0</td>\n",
       "      <td>1</td>\n",
       "      <td>0</td>\n",
       "    </tr>\n",
       "    <tr>\n",
       "      <th>7</th>\n",
       "      <td>00031b1e95af7921</td>\n",
       "      <td>Your vandalism to the Matt Shirvington article...</td>\n",
       "      <td>0</td>\n",
       "      <td>0</td>\n",
       "      <td>0</td>\n",
       "      <td>0</td>\n",
       "      <td>0</td>\n",
       "      <td>0</td>\n",
       "    </tr>\n",
       "    <tr>\n",
       "      <th>8</th>\n",
       "      <td>00037261f536c51d</td>\n",
       "      <td>Sorry if the word 'nonsense' was offensive to ...</td>\n",
       "      <td>0</td>\n",
       "      <td>0</td>\n",
       "      <td>0</td>\n",
       "      <td>0</td>\n",
       "      <td>0</td>\n",
       "      <td>0</td>\n",
       "    </tr>\n",
       "    <tr>\n",
       "      <th>9</th>\n",
       "      <td>00040093b2687caa</td>\n",
       "      <td>alignment on this subject and which are contra...</td>\n",
       "      <td>0</td>\n",
       "      <td>0</td>\n",
       "      <td>0</td>\n",
       "      <td>0</td>\n",
       "      <td>0</td>\n",
       "      <td>0</td>\n",
       "    </tr>\n",
       "  </tbody>\n",
       "</table>\n",
       "</div>"
      ],
      "text/plain": [
       "                 id                                       comment_text  toxic  \\\n",
       "0  0000997932d777bf  Explanation\\nWhy the edits made under my usern...      0   \n",
       "1  000103f0d9cfb60f  D'aww! He matches this background colour I'm s...      0   \n",
       "2  000113f07ec002fd  Hey man, I'm really not trying to edit war. It...      0   \n",
       "3  0001b41b1c6bb37e  \"\\nMore\\nI can't make any real suggestions on ...      0   \n",
       "4  0001d958c54c6e35  You, sir, are my hero. Any chance you remember...      0   \n",
       "5  00025465d4725e87  \"\\n\\nCongratulations from me as well, use the ...      0   \n",
       "6  0002bcb3da6cb337       COCKSUCKER BEFORE YOU PISS AROUND ON MY WORK      1   \n",
       "7  00031b1e95af7921  Your vandalism to the Matt Shirvington article...      0   \n",
       "8  00037261f536c51d  Sorry if the word 'nonsense' was offensive to ...      0   \n",
       "9  00040093b2687caa  alignment on this subject and which are contra...      0   \n",
       "\n",
       "   severe_toxic  obscene  threat  insult  identity_hate  \n",
       "0             0        0       0       0              0  \n",
       "1             0        0       0       0              0  \n",
       "2             0        0       0       0              0  \n",
       "3             0        0       0       0              0  \n",
       "4             0        0       0       0              0  \n",
       "5             0        0       0       0              0  \n",
       "6             1        1       0       1              0  \n",
       "7             0        0       0       0              0  \n",
       "8             0        0       0       0              0  \n",
       "9             0        0       0       0              0  "
      ]
     },
     "execution_count": 9,
     "metadata": {},
     "output_type": "execute_result"
    }
   ],
   "source": [
    "train2.head(10)\n",
    "\n",
    "# Coded as 1 if it is toxic, severe toxic, etc"
   ]
  },
  {
   "cell_type": "code",
   "execution_count": 10,
   "id": "be039523",
   "metadata": {
    "execution": {
     "iopub.execute_input": "2022-01-05T19:38:06.836502Z",
     "iopub.status.busy": "2022-01-05T19:38:06.835782Z",
     "iopub.status.idle": "2022-01-05T19:38:06.850850Z",
     "shell.execute_reply": "2022-01-05T19:38:06.850277Z"
    },
    "id": "u9r5J9f7xhYv",
    "outputId": "f0481a32-867a-4432-ce46-ffb4b4fa74b9",
    "papermill": {
     "duration": 0.049914,
     "end_time": "2022-01-05T19:38:06.851000",
     "exception": false,
     "start_time": "2022-01-05T19:38:06.801086",
     "status": "completed"
    },
    "tags": []
   },
   "outputs": [
    {
     "data": {
      "text/plain": [
       "(15294, 8)"
      ]
     },
     "execution_count": 10,
     "metadata": {},
     "output_type": "execute_result"
    }
   ],
   "source": [
    "# We check how many comments there are per category: Toxic\n",
    "nb_toxic = train2[train2.toxic==1]\n",
    "nb_toxic.shape"
   ]
  },
  {
   "cell_type": "code",
   "execution_count": 11,
   "id": "68a1c7e4",
   "metadata": {
    "execution": {
     "iopub.execute_input": "2022-01-05T19:38:06.921823Z",
     "iopub.status.busy": "2022-01-05T19:38:06.921125Z",
     "iopub.status.idle": "2022-01-05T19:38:06.929360Z",
     "shell.execute_reply": "2022-01-05T19:38:06.928728Z"
    },
    "id": "6RHRybBiyIpv",
    "outputId": "70765915-fc86-4e22-d3f7-1c673bbbad15",
    "papermill": {
     "duration": 0.046339,
     "end_time": "2022-01-05T19:38:06.929507",
     "exception": false,
     "start_time": "2022-01-05T19:38:06.883168",
     "status": "completed"
    },
    "tags": []
   },
   "outputs": [
    {
     "data": {
      "text/plain": [
       "(1595, 8)"
      ]
     },
     "execution_count": 11,
     "metadata": {},
     "output_type": "execute_result"
    }
   ],
   "source": [
    "# We check how many comments there are per category: severe toxic\n",
    "nb_severe_toxic = train2[train2.severe_toxic==1]\n",
    "nb_severe_toxic.shape"
   ]
  },
  {
   "cell_type": "code",
   "execution_count": 12,
   "id": "9e30ffe8",
   "metadata": {
    "execution": {
     "iopub.execute_input": "2022-01-05T19:38:07.000624Z",
     "iopub.status.busy": "2022-01-05T19:38:06.999579Z",
     "iopub.status.idle": "2022-01-05T19:38:07.009127Z",
     "shell.execute_reply": "2022-01-05T19:38:07.009633Z"
    },
    "id": "5bCRW0WdyhiU",
    "outputId": "aff204cd-6afe-42ff-d12d-650717d6f9bb",
    "papermill": {
     "duration": 0.047834,
     "end_time": "2022-01-05T19:38:07.009829",
     "exception": false,
     "start_time": "2022-01-05T19:38:06.961995",
     "status": "completed"
    },
    "tags": []
   },
   "outputs": [
    {
     "data": {
      "text/plain": [
       "(8449, 8)"
      ]
     },
     "execution_count": 12,
     "metadata": {},
     "output_type": "execute_result"
    }
   ],
   "source": [
    "# We check how many comments there are per category: obscene\n",
    "nb_obscene = train2[train2.obscene==1]\n",
    "nb_obscene.shape"
   ]
  },
  {
   "cell_type": "code",
   "execution_count": 13,
   "id": "e2528364",
   "metadata": {
    "execution": {
     "iopub.execute_input": "2022-01-05T19:38:07.081638Z",
     "iopub.status.busy": "2022-01-05T19:38:07.080730Z",
     "iopub.status.idle": "2022-01-05T19:38:07.088969Z",
     "shell.execute_reply": "2022-01-05T19:38:07.088329Z"
    },
    "id": "sBd0z83RyqBX",
    "outputId": "1c88a0a1-3ce6-421b-f427-672a1e71b2c4",
    "papermill": {
     "duration": 0.046242,
     "end_time": "2022-01-05T19:38:07.089127",
     "exception": false,
     "start_time": "2022-01-05T19:38:07.042885",
     "status": "completed"
    },
    "tags": []
   },
   "outputs": [
    {
     "data": {
      "text/plain": [
       "(478, 8)"
      ]
     },
     "execution_count": 13,
     "metadata": {},
     "output_type": "execute_result"
    }
   ],
   "source": [
    "# We check how many comments there are per category: threat\n",
    "nb_threat = train2[train2.threat==1]\n",
    "nb_threat.shape"
   ]
  },
  {
   "cell_type": "code",
   "execution_count": 14,
   "id": "1a469526",
   "metadata": {
    "execution": {
     "iopub.execute_input": "2022-01-05T19:38:07.159519Z",
     "iopub.status.busy": "2022-01-05T19:38:07.158731Z",
     "iopub.status.idle": "2022-01-05T19:38:07.168104Z",
     "shell.execute_reply": "2022-01-05T19:38:07.168585Z"
    },
    "id": "U2T41ImiyxgB",
    "outputId": "e849ea70-b64e-4f3c-c327-2cd7376a066b",
    "papermill": {
     "duration": 0.045894,
     "end_time": "2022-01-05T19:38:07.168757",
     "exception": false,
     "start_time": "2022-01-05T19:38:07.122863",
     "status": "completed"
    },
    "tags": []
   },
   "outputs": [
    {
     "data": {
      "text/plain": [
       "(7877, 8)"
      ]
     },
     "execution_count": 14,
     "metadata": {},
     "output_type": "execute_result"
    }
   ],
   "source": [
    "# We check how many comments there are per category: insult\n",
    "nb_insult = train2[train2.insult==1]\n",
    "nb_insult.shape"
   ]
  },
  {
   "cell_type": "code",
   "execution_count": 15,
   "id": "c6addb26",
   "metadata": {
    "execution": {
     "iopub.execute_input": "2022-01-05T19:38:07.239236Z",
     "iopub.status.busy": "2022-01-05T19:38:07.238589Z",
     "iopub.status.idle": "2022-01-05T19:38:07.246815Z",
     "shell.execute_reply": "2022-01-05T19:38:07.247306Z"
    },
    "id": "LrepfL0zy2Ee",
    "outputId": "74dd60cf-30e0-455b-eece-71ac965c33cb",
    "papermill": {
     "duration": 0.045409,
     "end_time": "2022-01-05T19:38:07.247484",
     "exception": false,
     "start_time": "2022-01-05T19:38:07.202075",
     "status": "completed"
    },
    "tags": []
   },
   "outputs": [
    {
     "data": {
      "text/plain": [
       "(1405, 8)"
      ]
     },
     "execution_count": 15,
     "metadata": {},
     "output_type": "execute_result"
    }
   ],
   "source": [
    "# We check how many comments there are per category: identity hate\n",
    "nb_id_hate = train2[train2.identity_hate==1]\n",
    "nb_id_hate.shape"
   ]
  },
  {
   "cell_type": "code",
   "execution_count": 16,
   "id": "ac91604b",
   "metadata": {
    "execution": {
     "iopub.execute_input": "2022-01-05T19:38:07.318079Z",
     "iopub.status.busy": "2022-01-05T19:38:07.317335Z",
     "iopub.status.idle": "2022-01-05T19:38:07.327526Z",
     "shell.execute_reply": "2022-01-05T19:38:07.328079Z"
    },
    "id": "Hg7QX48IvMSE",
    "outputId": "f844a2d9-4603-4f74-8a69-a289e09b2097",
    "papermill": {
     "duration": 0.04734,
     "end_time": "2022-01-05T19:38:07.328250",
     "exception": false,
     "start_time": "2022-01-05T19:38:07.280910",
     "status": "completed"
    },
    "tags": []
   },
   "outputs": [
    {
     "data": {
      "text/html": [
       "<div>\n",
       "<style scoped>\n",
       "    .dataframe tbody tr th:only-of-type {\n",
       "        vertical-align: middle;\n",
       "    }\n",
       "\n",
       "    .dataframe tbody tr th {\n",
       "        vertical-align: top;\n",
       "    }\n",
       "\n",
       "    .dataframe thead th {\n",
       "        text-align: right;\n",
       "    }\n",
       "</style>\n",
       "<table border=\"1\" class=\"dataframe\">\n",
       "  <thead>\n",
       "    <tr style=\"text-align: right;\">\n",
       "      <th></th>\n",
       "      <th>id</th>\n",
       "      <th>toxic</th>\n",
       "      <th>severe_toxic</th>\n",
       "      <th>obscene</th>\n",
       "      <th>threat</th>\n",
       "      <th>insult</th>\n",
       "      <th>identity_hate</th>\n",
       "    </tr>\n",
       "  </thead>\n",
       "  <tbody>\n",
       "    <tr>\n",
       "      <th>0</th>\n",
       "      <td>00001cee341fdb12</td>\n",
       "      <td>-1</td>\n",
       "      <td>-1</td>\n",
       "      <td>-1</td>\n",
       "      <td>-1</td>\n",
       "      <td>-1</td>\n",
       "      <td>-1</td>\n",
       "    </tr>\n",
       "    <tr>\n",
       "      <th>1</th>\n",
       "      <td>0000247867823ef7</td>\n",
       "      <td>-1</td>\n",
       "      <td>-1</td>\n",
       "      <td>-1</td>\n",
       "      <td>-1</td>\n",
       "      <td>-1</td>\n",
       "      <td>-1</td>\n",
       "    </tr>\n",
       "    <tr>\n",
       "      <th>2</th>\n",
       "      <td>00013b17ad220c46</td>\n",
       "      <td>-1</td>\n",
       "      <td>-1</td>\n",
       "      <td>-1</td>\n",
       "      <td>-1</td>\n",
       "      <td>-1</td>\n",
       "      <td>-1</td>\n",
       "    </tr>\n",
       "    <tr>\n",
       "      <th>3</th>\n",
       "      <td>00017563c3f7919a</td>\n",
       "      <td>-1</td>\n",
       "      <td>-1</td>\n",
       "      <td>-1</td>\n",
       "      <td>-1</td>\n",
       "      <td>-1</td>\n",
       "      <td>-1</td>\n",
       "    </tr>\n",
       "    <tr>\n",
       "      <th>4</th>\n",
       "      <td>00017695ad8997eb</td>\n",
       "      <td>-1</td>\n",
       "      <td>-1</td>\n",
       "      <td>-1</td>\n",
       "      <td>-1</td>\n",
       "      <td>-1</td>\n",
       "      <td>-1</td>\n",
       "    </tr>\n",
       "  </tbody>\n",
       "</table>\n",
       "</div>"
      ],
      "text/plain": [
       "                 id  toxic  severe_toxic  obscene  threat  insult  \\\n",
       "0  00001cee341fdb12     -1            -1       -1      -1      -1   \n",
       "1  0000247867823ef7     -1            -1       -1      -1      -1   \n",
       "2  00013b17ad220c46     -1            -1       -1      -1      -1   \n",
       "3  00017563c3f7919a     -1            -1       -1      -1      -1   \n",
       "4  00017695ad8997eb     -1            -1       -1      -1      -1   \n",
       "\n",
       "   identity_hate  \n",
       "0             -1  \n",
       "1             -1  \n",
       "2             -1  \n",
       "3             -1  \n",
       "4             -1  "
      ]
     },
     "execution_count": 16,
     "metadata": {},
     "output_type": "execute_result"
    }
   ],
   "source": [
    "test_labels.head()"
   ]
  },
  {
   "cell_type": "code",
   "execution_count": 17,
   "id": "52988503",
   "metadata": {
    "execution": {
     "iopub.execute_input": "2022-01-05T19:38:07.401451Z",
     "iopub.status.busy": "2022-01-05T19:38:07.400826Z",
     "iopub.status.idle": "2022-01-05T19:38:07.409481Z",
     "shell.execute_reply": "2022-01-05T19:38:07.410064Z"
    },
    "id": "EYGtRmWdvNZW",
    "outputId": "907926e3-0a2b-40a1-8ed8-58cc9c5480cb",
    "papermill": {
     "duration": 0.047367,
     "end_time": "2022-01-05T19:38:07.410240",
     "exception": false,
     "start_time": "2022-01-05T19:38:07.362873",
     "status": "completed"
    },
    "tags": []
   },
   "outputs": [
    {
     "data": {
      "text/html": [
       "<div>\n",
       "<style scoped>\n",
       "    .dataframe tbody tr th:only-of-type {\n",
       "        vertical-align: middle;\n",
       "    }\n",
       "\n",
       "    .dataframe tbody tr th {\n",
       "        vertical-align: top;\n",
       "    }\n",
       "\n",
       "    .dataframe thead th {\n",
       "        text-align: right;\n",
       "    }\n",
       "</style>\n",
       "<table border=\"1\" class=\"dataframe\">\n",
       "  <thead>\n",
       "    <tr style=\"text-align: right;\">\n",
       "      <th></th>\n",
       "      <th>id</th>\n",
       "      <th>comment_text</th>\n",
       "    </tr>\n",
       "  </thead>\n",
       "  <tbody>\n",
       "    <tr>\n",
       "      <th>0</th>\n",
       "      <td>00001cee341fdb12</td>\n",
       "      <td>Yo bitch Ja Rule is more succesful then you'll...</td>\n",
       "    </tr>\n",
       "    <tr>\n",
       "      <th>1</th>\n",
       "      <td>0000247867823ef7</td>\n",
       "      <td>== From RfC == \\n\\n The title is fine as it is...</td>\n",
       "    </tr>\n",
       "    <tr>\n",
       "      <th>2</th>\n",
       "      <td>00013b17ad220c46</td>\n",
       "      <td>\" \\n\\n == Sources == \\n\\n * Zawe Ashton on Lap...</td>\n",
       "    </tr>\n",
       "    <tr>\n",
       "      <th>3</th>\n",
       "      <td>00017563c3f7919a</td>\n",
       "      <td>:If you have a look back at the source, the in...</td>\n",
       "    </tr>\n",
       "    <tr>\n",
       "      <th>4</th>\n",
       "      <td>00017695ad8997eb</td>\n",
       "      <td>I don't anonymously edit articles at all.</td>\n",
       "    </tr>\n",
       "  </tbody>\n",
       "</table>\n",
       "</div>"
      ],
      "text/plain": [
       "                 id                                       comment_text\n",
       "0  00001cee341fdb12  Yo bitch Ja Rule is more succesful then you'll...\n",
       "1  0000247867823ef7  == From RfC == \\n\\n The title is fine as it is...\n",
       "2  00013b17ad220c46  \" \\n\\n == Sources == \\n\\n * Zawe Ashton on Lap...\n",
       "3  00017563c3f7919a  :If you have a look back at the source, the in...\n",
       "4  00017695ad8997eb          I don't anonymously edit articles at all."
      ]
     },
     "execution_count": 17,
     "metadata": {},
     "output_type": "execute_result"
    }
   ],
   "source": [
    "test2.head()"
   ]
  },
  {
   "cell_type": "markdown",
   "id": "85f93440",
   "metadata": {
    "id": "uAaK_1mX0CZ0",
    "papermill": {
     "duration": 0.034832,
     "end_time": "2022-01-05T19:38:07.480212",
     "exception": false,
     "start_time": "2022-01-05T19:38:07.445380",
     "status": "completed"
    },
    "tags": []
   },
   "source": [
    "### Cleaning data"
   ]
  },
  {
   "cell_type": "code",
   "execution_count": 18,
   "id": "eb4468bb",
   "metadata": {
    "execution": {
     "iopub.execute_input": "2022-01-05T19:38:07.553610Z",
     "iopub.status.busy": "2022-01-05T19:38:07.552998Z",
     "iopub.status.idle": "2022-01-05T19:40:38.698437Z",
     "shell.execute_reply": "2022-01-05T19:40:38.698954Z"
    },
    "id": "pLSU19TmzAGe",
    "outputId": "fcffc5a1-9fda-4e27-adba-068b8088e98b",
    "papermill": {
     "duration": 151.183434,
     "end_time": "2022-01-05T19:40:38.699145",
     "exception": false,
     "start_time": "2022-01-05T19:38:07.515711",
     "status": "completed"
    },
    "tags": []
   },
   "outputs": [
    {
     "data": {
      "text/html": [
       "<div>\n",
       "<style scoped>\n",
       "    .dataframe tbody tr th:only-of-type {\n",
       "        vertical-align: middle;\n",
       "    }\n",
       "\n",
       "    .dataframe tbody tr th {\n",
       "        vertical-align: top;\n",
       "    }\n",
       "\n",
       "    .dataframe thead th {\n",
       "        text-align: right;\n",
       "    }\n",
       "</style>\n",
       "<table border=\"1\" class=\"dataframe\">\n",
       "  <thead>\n",
       "    <tr style=\"text-align: right;\">\n",
       "      <th></th>\n",
       "      <th>id</th>\n",
       "      <th>comment_text</th>\n",
       "      <th>toxic</th>\n",
       "      <th>severe_toxic</th>\n",
       "      <th>obscene</th>\n",
       "      <th>threat</th>\n",
       "      <th>insult</th>\n",
       "      <th>identity_hate</th>\n",
       "      <th>clean_text</th>\n",
       "    </tr>\n",
       "  </thead>\n",
       "  <tbody>\n",
       "    <tr>\n",
       "      <th>0</th>\n",
       "      <td>0000997932d777bf</td>\n",
       "      <td>Explanation\\nWhy the edits made under my usern...</td>\n",
       "      <td>0</td>\n",
       "      <td>0</td>\n",
       "      <td>0</td>\n",
       "      <td>0</td>\n",
       "      <td>0</td>\n",
       "      <td>0</td>\n",
       "      <td>explanation edits made username hardcore metal...</td>\n",
       "    </tr>\n",
       "    <tr>\n",
       "      <th>1</th>\n",
       "      <td>000103f0d9cfb60f</td>\n",
       "      <td>D'aww! He matches this background colour I'm s...</td>\n",
       "      <td>0</td>\n",
       "      <td>0</td>\n",
       "      <td>0</td>\n",
       "      <td>0</td>\n",
       "      <td>0</td>\n",
       "      <td>0</td>\n",
       "      <td>aww match background colour seemingly stuck th...</td>\n",
       "    </tr>\n",
       "    <tr>\n",
       "      <th>2</th>\n",
       "      <td>000113f07ec002fd</td>\n",
       "      <td>Hey man, I'm really not trying to edit war. It...</td>\n",
       "      <td>0</td>\n",
       "      <td>0</td>\n",
       "      <td>0</td>\n",
       "      <td>0</td>\n",
       "      <td>0</td>\n",
       "      <td>0</td>\n",
       "      <td>hey man really trying edit war guy constantly ...</td>\n",
       "    </tr>\n",
       "    <tr>\n",
       "      <th>3</th>\n",
       "      <td>0001b41b1c6bb37e</td>\n",
       "      <td>\"\\nMore\\nI can't make any real suggestions on ...</td>\n",
       "      <td>0</td>\n",
       "      <td>0</td>\n",
       "      <td>0</td>\n",
       "      <td>0</td>\n",
       "      <td>0</td>\n",
       "      <td>0</td>\n",
       "      <td>make real suggestion improvement wondered sect...</td>\n",
       "    </tr>\n",
       "    <tr>\n",
       "      <th>4</th>\n",
       "      <td>0001d958c54c6e35</td>\n",
       "      <td>You, sir, are my hero. Any chance you remember...</td>\n",
       "      <td>0</td>\n",
       "      <td>0</td>\n",
       "      <td>0</td>\n",
       "      <td>0</td>\n",
       "      <td>0</td>\n",
       "      <td>0</td>\n",
       "      <td>sir hero chance remember page</td>\n",
       "    </tr>\n",
       "  </tbody>\n",
       "</table>\n",
       "</div>"
      ],
      "text/plain": [
       "                 id                                       comment_text  toxic  \\\n",
       "0  0000997932d777bf  Explanation\\nWhy the edits made under my usern...      0   \n",
       "1  000103f0d9cfb60f  D'aww! He matches this background colour I'm s...      0   \n",
       "2  000113f07ec002fd  Hey man, I'm really not trying to edit war. It...      0   \n",
       "3  0001b41b1c6bb37e  \"\\nMore\\nI can't make any real suggestions on ...      0   \n",
       "4  0001d958c54c6e35  You, sir, are my hero. Any chance you remember...      0   \n",
       "\n",
       "   severe_toxic  obscene  threat  insult  identity_hate  \\\n",
       "0             0        0       0       0              0   \n",
       "1             0        0       0       0              0   \n",
       "2             0        0       0       0              0   \n",
       "3             0        0       0       0              0   \n",
       "4             0        0       0       0              0   \n",
       "\n",
       "                                          clean_text  \n",
       "0  explanation edits made username hardcore metal...  \n",
       "1  aww match background colour seemingly stuck th...  \n",
       "2  hey man really trying edit war guy constantly ...  \n",
       "3  make real suggestion improvement wondered sect...  \n",
       "4                      sir hero chance remember page  "
      ]
     },
     "execution_count": 18,
     "metadata": {},
     "output_type": "execute_result"
    }
   ],
   "source": [
    "# We clean the train dataset\n",
    "train2['clean_text'] = train2['comment_text'].apply(cleaning_text)\n",
    "train2.head(5)"
   ]
  },
  {
   "cell_type": "code",
   "execution_count": 19,
   "id": "816339c5",
   "metadata": {
    "execution": {
     "iopub.execute_input": "2022-01-05T19:40:38.774289Z",
     "iopub.status.busy": "2022-01-05T19:40:38.773309Z",
     "iopub.status.idle": "2022-01-05T19:40:38.822873Z",
     "shell.execute_reply": "2022-01-05T19:40:38.823382Z"
    },
    "id": "ub1AnypMYmd2",
    "outputId": "a74c1aaa-9eb8-43ff-c5b7-358135c420f5",
    "papermill": {
     "duration": 0.088409,
     "end_time": "2022-01-05T19:40:38.823551",
     "exception": false,
     "start_time": "2022-01-05T19:40:38.735142",
     "status": "completed"
    },
    "tags": []
   },
   "outputs": [
    {
     "data": {
      "text/html": [
       "<div>\n",
       "<style scoped>\n",
       "    .dataframe tbody tr th:only-of-type {\n",
       "        vertical-align: middle;\n",
       "    }\n",
       "\n",
       "    .dataframe tbody tr th {\n",
       "        vertical-align: top;\n",
       "    }\n",
       "\n",
       "    .dataframe thead th {\n",
       "        text-align: right;\n",
       "    }\n",
       "</style>\n",
       "<table border=\"1\" class=\"dataframe\">\n",
       "  <thead>\n",
       "    <tr style=\"text-align: right;\">\n",
       "      <th></th>\n",
       "      <th>id</th>\n",
       "      <th>comment_text</th>\n",
       "      <th>toxic</th>\n",
       "      <th>severe_toxic</th>\n",
       "      <th>obscene</th>\n",
       "      <th>threat</th>\n",
       "      <th>insult</th>\n",
       "      <th>identity_hate</th>\n",
       "      <th>clean_text</th>\n",
       "    </tr>\n",
       "  </thead>\n",
       "  <tbody>\n",
       "    <tr>\n",
       "      <th>6</th>\n",
       "      <td>0002bcb3da6cb337</td>\n",
       "      <td>COCKSUCKER BEFORE YOU PISS AROUND ON MY WORK</td>\n",
       "      <td>1</td>\n",
       "      <td>1</td>\n",
       "      <td>1</td>\n",
       "      <td>0</td>\n",
       "      <td>1</td>\n",
       "      <td>0</td>\n",
       "      <td>cocksucker piss around work</td>\n",
       "    </tr>\n",
       "    <tr>\n",
       "      <th>55</th>\n",
       "      <td>0020e7119b96eeeb</td>\n",
       "      <td>Stupid peace of shit stop deleting my stuff as...</td>\n",
       "      <td>1</td>\n",
       "      <td>1</td>\n",
       "      <td>1</td>\n",
       "      <td>0</td>\n",
       "      <td>1</td>\n",
       "      <td>0</td>\n",
       "      <td>stupid peace shit stop deleting stuff asshole ...</td>\n",
       "    </tr>\n",
       "    <tr>\n",
       "      <th>181</th>\n",
       "      <td>006e87872c8b370c</td>\n",
       "      <td>you are a stupid fuck \\n\\nand your mother's cu...</td>\n",
       "      <td>1</td>\n",
       "      <td>1</td>\n",
       "      <td>1</td>\n",
       "      <td>0</td>\n",
       "      <td>1</td>\n",
       "      <td>0</td>\n",
       "      <td>stupid fuck mother cunt stink</td>\n",
       "    </tr>\n",
       "    <tr>\n",
       "      <th>442</th>\n",
       "      <td>01208d2b76624130</td>\n",
       "      <td>Hi \\n\\nIm a fucking bitch.\\n\\n50.180.208.181</td>\n",
       "      <td>1</td>\n",
       "      <td>1</td>\n",
       "      <td>1</td>\n",
       "      <td>0</td>\n",
       "      <td>1</td>\n",
       "      <td>0</td>\n",
       "      <td>hi im fucking bitch</td>\n",
       "    </tr>\n",
       "    <tr>\n",
       "      <th>579</th>\n",
       "      <td>018663f910e0bfe6</td>\n",
       "      <td>What a motherfucking piece of crap those fuckh...</td>\n",
       "      <td>1</td>\n",
       "      <td>1</td>\n",
       "      <td>1</td>\n",
       "      <td>0</td>\n",
       "      <td>1</td>\n",
       "      <td>0</td>\n",
       "      <td>motherfucking piece crap fuckhead blocking u</td>\n",
       "    </tr>\n",
       "    <tr>\n",
       "      <th>...</th>\n",
       "      <td>...</td>\n",
       "      <td>...</td>\n",
       "      <td>...</td>\n",
       "      <td>...</td>\n",
       "      <td>...</td>\n",
       "      <td>...</td>\n",
       "      <td>...</td>\n",
       "      <td>...</td>\n",
       "      <td>...</td>\n",
       "    </tr>\n",
       "    <tr>\n",
       "      <th>159096</th>\n",
       "      <td>f871b05d4caa6f20</td>\n",
       "      <td>You filthy, stinking crow! \\n\\nI am back! Dirt...</td>\n",
       "      <td>1</td>\n",
       "      <td>1</td>\n",
       "      <td>1</td>\n",
       "      <td>0</td>\n",
       "      <td>1</td>\n",
       "      <td>0</td>\n",
       "      <td>filthy stinking crow back dirty crow better de...</td>\n",
       "    </tr>\n",
       "    <tr>\n",
       "      <th>159099</th>\n",
       "      <td>f885a3e2d779342e</td>\n",
       "      <td>now\\n\\nyou fucking pathetic moron. \\n\\ncc:  Ji...</td>\n",
       "      <td>1</td>\n",
       "      <td>1</td>\n",
       "      <td>1</td>\n",
       "      <td>0</td>\n",
       "      <td>1</td>\n",
       "      <td>0</td>\n",
       "      <td>fucking pathetic moron cc jimbo wale rootmyass</td>\n",
       "    </tr>\n",
       "    <tr>\n",
       "      <th>159281</th>\n",
       "      <td>fb726deec64157bd</td>\n",
       "      <td>LoL!! \\n\\nyou're GAY!! you will never know how...</td>\n",
       "      <td>1</td>\n",
       "      <td>1</td>\n",
       "      <td>1</td>\n",
       "      <td>0</td>\n",
       "      <td>1</td>\n",
       "      <td>1</td>\n",
       "      <td>lol gay never know good feel fuck woman as</td>\n",
       "    </tr>\n",
       "    <tr>\n",
       "      <th>159312</th>\n",
       "      <td>fbf20e312cd4a78d</td>\n",
       "      <td>Walter Mercado \\n\\nAntonio, quite frankly, you...</td>\n",
       "      <td>1</td>\n",
       "      <td>1</td>\n",
       "      <td>1</td>\n",
       "      <td>0</td>\n",
       "      <td>1</td>\n",
       "      <td>0</td>\n",
       "      <td>walter mercado antonio quite frankly fucker co...</td>\n",
       "    </tr>\n",
       "    <tr>\n",
       "      <th>159400</th>\n",
       "      <td>fd052883fa6a8697</td>\n",
       "      <td>Shalom \\n\\nSemite, get the fuck out of here. I...</td>\n",
       "      <td>1</td>\n",
       "      <td>1</td>\n",
       "      <td>1</td>\n",
       "      <td>1</td>\n",
       "      <td>1</td>\n",
       "      <td>1</td>\n",
       "      <td>shalom semite get fuck kill son bitch leave wi...</td>\n",
       "    </tr>\n",
       "  </tbody>\n",
       "</table>\n",
       "<p>1595 rows × 9 columns</p>\n",
       "</div>"
      ],
      "text/plain": [
       "                      id                                       comment_text  \\\n",
       "6       0002bcb3da6cb337       COCKSUCKER BEFORE YOU PISS AROUND ON MY WORK   \n",
       "55      0020e7119b96eeeb  Stupid peace of shit stop deleting my stuff as...   \n",
       "181     006e87872c8b370c  you are a stupid fuck \\n\\nand your mother's cu...   \n",
       "442     01208d2b76624130       Hi \\n\\nIm a fucking bitch.\\n\\n50.180.208.181   \n",
       "579     018663f910e0bfe6  What a motherfucking piece of crap those fuckh...   \n",
       "...                  ...                                                ...   \n",
       "159096  f871b05d4caa6f20  You filthy, stinking crow! \\n\\nI am back! Dirt...   \n",
       "159099  f885a3e2d779342e  now\\n\\nyou fucking pathetic moron. \\n\\ncc:  Ji...   \n",
       "159281  fb726deec64157bd  LoL!! \\n\\nyou're GAY!! you will never know how...   \n",
       "159312  fbf20e312cd4a78d  Walter Mercado \\n\\nAntonio, quite frankly, you...   \n",
       "159400  fd052883fa6a8697  Shalom \\n\\nSemite, get the fuck out of here. I...   \n",
       "\n",
       "        toxic  severe_toxic  obscene  threat  insult  identity_hate  \\\n",
       "6           1             1        1       0       1              0   \n",
       "55          1             1        1       0       1              0   \n",
       "181         1             1        1       0       1              0   \n",
       "442         1             1        1       0       1              0   \n",
       "579         1             1        1       0       1              0   \n",
       "...       ...           ...      ...     ...     ...            ...   \n",
       "159096      1             1        1       0       1              0   \n",
       "159099      1             1        1       0       1              0   \n",
       "159281      1             1        1       0       1              1   \n",
       "159312      1             1        1       0       1              0   \n",
       "159400      1             1        1       1       1              1   \n",
       "\n",
       "                                               clean_text  \n",
       "6                             cocksucker piss around work  \n",
       "55      stupid peace shit stop deleting stuff asshole ...  \n",
       "181                         stupid fuck mother cunt stink  \n",
       "442                                   hi im fucking bitch  \n",
       "579          motherfucking piece crap fuckhead blocking u  \n",
       "...                                                   ...  \n",
       "159096  filthy stinking crow back dirty crow better de...  \n",
       "159099     fucking pathetic moron cc jimbo wale rootmyass  \n",
       "159281         lol gay never know good feel fuck woman as  \n",
       "159312  walter mercado antonio quite frankly fucker co...  \n",
       "159400  shalom semite get fuck kill son bitch leave wi...  \n",
       "\n",
       "[1595 rows x 9 columns]"
      ]
     },
     "execution_count": 19,
     "metadata": {},
     "output_type": "execute_result"
    }
   ],
   "source": [
    "# We look at observations with severe toxic being equal to 1\n",
    "train2[train2.severe_toxic==1]\n",
    "\n",
    "# We observe that all the severe toxic comments are also considered as toxic as they are both equal to 1"
   ]
  },
  {
   "cell_type": "code",
   "execution_count": 20,
   "id": "a55e0b7d",
   "metadata": {
    "execution": {
     "iopub.execute_input": "2022-01-05T19:40:38.900677Z",
     "iopub.status.busy": "2022-01-05T19:40:38.899713Z",
     "iopub.status.idle": "2022-01-05T19:42:52.625480Z",
     "shell.execute_reply": "2022-01-05T19:42:52.626002Z"
    },
    "id": "EYHikPNeic6T",
    "outputId": "02eeb7ac-5f73-4a84-f39c-4737ce49c149",
    "papermill": {
     "duration": 133.766104,
     "end_time": "2022-01-05T19:42:52.626180",
     "exception": false,
     "start_time": "2022-01-05T19:40:38.860076",
     "status": "completed"
    },
    "tags": []
   },
   "outputs": [
    {
     "data": {
      "text/html": [
       "<div>\n",
       "<style scoped>\n",
       "    .dataframe tbody tr th:only-of-type {\n",
       "        vertical-align: middle;\n",
       "    }\n",
       "\n",
       "    .dataframe tbody tr th {\n",
       "        vertical-align: top;\n",
       "    }\n",
       "\n",
       "    .dataframe thead th {\n",
       "        text-align: right;\n",
       "    }\n",
       "</style>\n",
       "<table border=\"1\" class=\"dataframe\">\n",
       "  <thead>\n",
       "    <tr style=\"text-align: right;\">\n",
       "      <th></th>\n",
       "      <th>id</th>\n",
       "      <th>comment_text</th>\n",
       "      <th>clean_text</th>\n",
       "    </tr>\n",
       "  </thead>\n",
       "  <tbody>\n",
       "    <tr>\n",
       "      <th>0</th>\n",
       "      <td>00001cee341fdb12</td>\n",
       "      <td>Yo bitch Ja Rule is more succesful then you'll...</td>\n",
       "      <td>yo bitch ja rule succesful ever whats hating s...</td>\n",
       "    </tr>\n",
       "    <tr>\n",
       "      <th>1</th>\n",
       "      <td>0000247867823ef7</td>\n",
       "      <td>== From RfC == \\n\\n The title is fine as it is...</td>\n",
       "      <td>rfc title fine imo</td>\n",
       "    </tr>\n",
       "    <tr>\n",
       "      <th>2</th>\n",
       "      <td>00013b17ad220c46</td>\n",
       "      <td>\" \\n\\n == Sources == \\n\\n * Zawe Ashton on Lap...</td>\n",
       "      <td>source zawe ashton lapland</td>\n",
       "    </tr>\n",
       "    <tr>\n",
       "      <th>3</th>\n",
       "      <td>00017563c3f7919a</td>\n",
       "      <td>:If you have a look back at the source, the in...</td>\n",
       "      <td>look back source information updated correct f...</td>\n",
       "    </tr>\n",
       "    <tr>\n",
       "      <th>4</th>\n",
       "      <td>00017695ad8997eb</td>\n",
       "      <td>I don't anonymously edit articles at all.</td>\n",
       "      <td>anonymously edit article</td>\n",
       "    </tr>\n",
       "  </tbody>\n",
       "</table>\n",
       "</div>"
      ],
      "text/plain": [
       "                 id                                       comment_text  \\\n",
       "0  00001cee341fdb12  Yo bitch Ja Rule is more succesful then you'll...   \n",
       "1  0000247867823ef7  == From RfC == \\n\\n The title is fine as it is...   \n",
       "2  00013b17ad220c46  \" \\n\\n == Sources == \\n\\n * Zawe Ashton on Lap...   \n",
       "3  00017563c3f7919a  :If you have a look back at the source, the in...   \n",
       "4  00017695ad8997eb          I don't anonymously edit articles at all.   \n",
       "\n",
       "                                          clean_text  \n",
       "0  yo bitch ja rule succesful ever whats hating s...  \n",
       "1                                 rfc title fine imo  \n",
       "2                         source zawe ashton lapland  \n",
       "3  look back source information updated correct f...  \n",
       "4                           anonymously edit article  "
      ]
     },
     "execution_count": 20,
     "metadata": {},
     "output_type": "execute_result"
    }
   ],
   "source": [
    "# We clean the test dataset\n",
    "test2['clean_text'] = test2['comment_text'].apply(cleaning_text)\n",
    "test2.head(5)"
   ]
  },
  {
   "cell_type": "markdown",
   "id": "c24a6719",
   "metadata": {
    "id": "rrIGgxexMXui",
    "papermill": {
     "duration": 0.038561,
     "end_time": "2022-01-05T19:42:52.702429",
     "exception": false,
     "start_time": "2022-01-05T19:42:52.663868",
     "status": "completed"
    },
    "tags": []
   },
   "source": [
    "## SVD"
   ]
  },
  {
   "cell_type": "code",
   "execution_count": 21,
   "id": "31c956db",
   "metadata": {
    "execution": {
     "iopub.execute_input": "2022-01-05T19:42:52.782838Z",
     "iopub.status.busy": "2022-01-05T19:42:52.781749Z",
     "iopub.status.idle": "2022-01-05T19:42:52.789709Z",
     "shell.execute_reply": "2022-01-05T19:42:52.789060Z"
    },
    "id": "kCKoZiXtBFqt",
    "papermill": {
     "duration": 0.050497,
     "end_time": "2022-01-05T19:42:52.789865",
     "exception": false,
     "start_time": "2022-01-05T19:42:52.739368",
     "status": "completed"
    },
    "tags": []
   },
   "outputs": [],
   "source": [
    "# New variable with the score (categories sum)\n",
    "train2['score'] = train2.toxic + train2.severe_toxic + train2.obscene + train2.threat + train2.insult + train2.identity_hate"
   ]
  },
  {
   "cell_type": "markdown",
   "id": "24105a90",
   "metadata": {
    "id": "otF9FJyI9-U8",
    "papermill": {
     "duration": 0.037001,
     "end_time": "2022-01-05T19:42:52.864403",
     "exception": false,
     "start_time": "2022-01-05T19:42:52.827402",
     "status": "completed"
    },
    "tags": []
   },
   "source": [
    "### Train and test split"
   ]
  },
  {
   "cell_type": "code",
   "execution_count": 22,
   "id": "170f2c44",
   "metadata": {
    "execution": {
     "iopub.execute_input": "2022-01-05T19:42:52.945394Z",
     "iopub.status.busy": "2022-01-05T19:42:52.944437Z",
     "iopub.status.idle": "2022-01-05T19:42:52.949936Z",
     "shell.execute_reply": "2022-01-05T19:42:52.949407Z"
    },
    "id": "3kF3XnujKjBW",
    "papermill": {
     "duration": 0.04618,
     "end_time": "2022-01-05T19:42:52.950080",
     "exception": false,
     "start_time": "2022-01-05T19:42:52.903900",
     "status": "completed"
    },
    "tags": []
   },
   "outputs": [],
   "source": [
    "X_svd = train2['clean_text']\n",
    "Y_svd = train2['score']"
   ]
  },
  {
   "cell_type": "markdown",
   "id": "438e0f72",
   "metadata": {
    "id": "1pYvpVX5Mt9k",
    "papermill": {
     "duration": 0.037896,
     "end_time": "2022-01-05T19:42:53.025083",
     "exception": false,
     "start_time": "2022-01-05T19:42:52.987187",
     "status": "completed"
    },
    "tags": []
   },
   "source": [
    "### TF-IDF"
   ]
  },
  {
   "cell_type": "code",
   "execution_count": 23,
   "id": "c056d8dd",
   "metadata": {
    "execution": {
     "iopub.execute_input": "2022-01-05T19:42:53.110691Z",
     "iopub.status.busy": "2022-01-05T19:42:53.109669Z",
     "iopub.status.idle": "2022-01-05T19:43:14.942392Z",
     "shell.execute_reply": "2022-01-05T19:43:14.941764Z"
    },
    "id": "qRWeKlPEMv0F",
    "papermill": {
     "duration": 21.879081,
     "end_time": "2022-01-05T19:43:14.942550",
     "exception": false,
     "start_time": "2022-01-05T19:42:53.063469",
     "status": "completed"
    },
    "tags": []
   },
   "outputs": [],
   "source": [
    "vectorizer = TfidfVectorizer(min_df=5, smooth_idf=True, ngram_range=(1,2))\n",
    "X2 = vectorizer.fit_transform(X_svd)"
   ]
  },
  {
   "cell_type": "code",
   "execution_count": 24,
   "id": "bfbeb035",
   "metadata": {
    "execution": {
     "iopub.execute_input": "2022-01-05T19:43:15.021209Z",
     "iopub.status.busy": "2022-01-05T19:43:15.020449Z",
     "iopub.status.idle": "2022-01-05T19:49:33.902393Z",
     "shell.execute_reply": "2022-01-05T19:49:33.900967Z"
    },
    "id": "Xli7pGMZ9_8E",
    "papermill": {
     "duration": 378.923018,
     "end_time": "2022-01-05T19:49:33.903058",
     "exception": false,
     "start_time": "2022-01-05T19:43:14.980040",
     "status": "completed"
    },
    "tags": []
   },
   "outputs": [],
   "source": [
    "SVD = TruncatedSVD(n_components=1000, random_state=23)\n",
    "SVD.fit(X2)\n",
    "\n",
    "Xtr_SVD = SVD.transform(X2)"
   ]
  },
  {
   "cell_type": "markdown",
   "id": "402c074f",
   "metadata": {
    "id": "yO6Oi2KxAm_7",
    "papermill": {
     "duration": 0.039346,
     "end_time": "2022-01-05T19:49:33.986701",
     "exception": false,
     "start_time": "2022-01-05T19:49:33.947355",
     "status": "completed"
    },
    "tags": []
   },
   "source": [
    "### LGBM"
   ]
  },
  {
   "cell_type": "markdown",
   "id": "d3df3521",
   "metadata": {
    "id": "HYXo4jqc0pe9",
    "papermill": {
     "duration": 0.038725,
     "end_time": "2022-01-05T19:49:34.067421",
     "exception": false,
     "start_time": "2022-01-05T19:49:34.028696",
     "status": "completed"
    },
    "tags": []
   },
   "source": [
    "**Model**"
   ]
  },
  {
   "cell_type": "code",
   "execution_count": 25,
   "id": "0d12c734",
   "metadata": {
    "execution": {
     "iopub.execute_input": "2022-01-05T19:49:34.159669Z",
     "iopub.status.busy": "2022-01-05T19:49:34.158948Z",
     "iopub.status.idle": "2022-01-05T19:50:25.195156Z",
     "shell.execute_reply": "2022-01-05T19:50:25.195753Z"
    },
    "id": "jJZF8_j5Su1r",
    "outputId": "0beee1ff-ca2b-4b7b-82e0-98564704eb99",
    "papermill": {
     "duration": 51.084678,
     "end_time": "2022-01-05T19:50:25.196076",
     "exception": false,
     "start_time": "2022-01-05T19:49:34.111398",
     "status": "completed"
    },
    "tags": []
   },
   "outputs": [
    {
     "data": {
      "text/plain": [
       "LGBMRegressor(colsample_bytree=0.7, learning_rate=0.005, max_depth=22,\n",
       "              n_estimators=70, random_state=23, reg_alpha=0.5, reg_lambda=10,\n",
       "              subsample=0.6)"
      ]
     },
     "execution_count": 25,
     "metadata": {},
     "output_type": "execute_result"
    }
   ],
   "source": [
    "# Model\n",
    "model_lgbm = ltb.LGBMRegressor(learning_rate = 0.005, num_leaves = 31, max_depth = 22, colsample_bytree = 0.7, \n",
    "                               subsample = 0.6, reg_alpha = 0.5, reg_lambda = 10, n_estimators = 70 , random_state = 23)\n",
    "model_lgbm.fit(Xtr_SVD, Y_svd)"
   ]
  },
  {
   "cell_type": "markdown",
   "id": "81d7c94d",
   "metadata": {
    "id": "ZlAjGEgEUTvm",
    "papermill": {
     "duration": 0.038439,
     "end_time": "2022-01-05T19:50:25.273187",
     "exception": false,
     "start_time": "2022-01-05T19:50:25.234748",
     "status": "completed"
    },
    "tags": []
   },
   "source": [
    "### Prediction"
   ]
  },
  {
   "cell_type": "code",
   "execution_count": 26,
   "id": "0f0cccaf",
   "metadata": {
    "execution": {
     "iopub.execute_input": "2022-01-05T19:50:25.355314Z",
     "iopub.status.busy": "2022-01-05T19:50:25.354491Z",
     "iopub.status.idle": "2022-01-05T19:50:27.230289Z",
     "shell.execute_reply": "2022-01-05T19:50:27.230882Z"
    },
    "id": "kAIqr_JjUYkI",
    "outputId": "3a780a09-235f-4c1e-ceac-7cedd342813f",
    "papermill": {
     "duration": 1.918799,
     "end_time": "2022-01-05T19:50:27.231120",
     "exception": false,
     "start_time": "2022-01-05T19:50:25.312321",
     "status": "completed"
    },
    "tags": []
   },
   "outputs": [
    {
     "data": {
      "text/plain": [
       "array([0.17309424, 0.1726319 , 0.16671379, ..., 0.19585716, 1.00665581,\n",
       "       0.18848701])"
      ]
     },
     "execution_count": 26,
     "metadata": {},
     "output_type": "execute_result"
    }
   ],
   "source": [
    "Z = vectorizer.transform(comments_to_score['clean_text'])\n",
    "X_SVD = SVD.transform(Z)\n",
    "pred = model_lgbm.predict(X_SVD)\n",
    "pred"
   ]
  },
  {
   "cell_type": "markdown",
   "id": "0a3216e5",
   "metadata": {
    "id": "7R84PgDPUfex",
    "papermill": {
     "duration": 0.038509,
     "end_time": "2022-01-05T19:50:27.309198",
     "exception": false,
     "start_time": "2022-01-05T19:50:27.270689",
     "status": "completed"
    },
    "tags": []
   },
   "source": [
    "### Submission"
   ]
  },
  {
   "cell_type": "code",
   "execution_count": 27,
   "id": "9e30d9fc",
   "metadata": {
    "execution": {
     "iopub.execute_input": "2022-01-05T19:50:27.398783Z",
     "iopub.status.busy": "2022-01-05T19:50:27.398166Z",
     "iopub.status.idle": "2022-01-05T19:50:27.400577Z",
     "shell.execute_reply": "2022-01-05T19:50:27.401128Z"
    },
    "id": "ElnT_-hpUfCa",
    "papermill": {
     "duration": 0.053268,
     "end_time": "2022-01-05T19:50:27.401298",
     "exception": false,
     "start_time": "2022-01-05T19:50:27.348030",
     "status": "completed"
    },
    "tags": []
   },
   "outputs": [],
   "source": [
    "# Exporting the submission file\n",
    "results = pd.DataFrame(comments_to_score[\"comment_id\"])\n",
    "results[\"score\"] = pred"
   ]
  },
  {
   "cell_type": "code",
   "execution_count": 28,
   "id": "0f78fb1a",
   "metadata": {
    "execution": {
     "iopub.execute_input": "2022-01-05T19:50:27.493213Z",
     "iopub.status.busy": "2022-01-05T19:50:27.487621Z",
     "iopub.status.idle": "2022-01-05T19:50:27.495885Z",
     "shell.execute_reply": "2022-01-05T19:50:27.496387Z"
    },
    "id": "WAsMHcWzUiEJ",
    "outputId": "0f51c0f6-bfef-4d33-a3c7-06300d49619f",
    "papermill": {
     "duration": 0.056369,
     "end_time": "2022-01-05T19:50:27.496580",
     "exception": false,
     "start_time": "2022-01-05T19:50:27.440211",
     "status": "completed"
    },
    "tags": []
   },
   "outputs": [
    {
     "data": {
      "text/html": [
       "<div>\n",
       "<style scoped>\n",
       "    .dataframe tbody tr th:only-of-type {\n",
       "        vertical-align: middle;\n",
       "    }\n",
       "\n",
       "    .dataframe tbody tr th {\n",
       "        vertical-align: top;\n",
       "    }\n",
       "\n",
       "    .dataframe thead th {\n",
       "        text-align: right;\n",
       "    }\n",
       "</style>\n",
       "<table border=\"1\" class=\"dataframe\">\n",
       "  <thead>\n",
       "    <tr style=\"text-align: right;\">\n",
       "      <th></th>\n",
       "      <th>comment_id</th>\n",
       "      <th>score</th>\n",
       "    </tr>\n",
       "  </thead>\n",
       "  <tbody>\n",
       "    <tr>\n",
       "      <th>0</th>\n",
       "      <td>114890</td>\n",
       "      <td>0.173094</td>\n",
       "    </tr>\n",
       "    <tr>\n",
       "      <th>1</th>\n",
       "      <td>732895</td>\n",
       "      <td>0.172632</td>\n",
       "    </tr>\n",
       "    <tr>\n",
       "      <th>2</th>\n",
       "      <td>1139051</td>\n",
       "      <td>0.166714</td>\n",
       "    </tr>\n",
       "    <tr>\n",
       "      <th>3</th>\n",
       "      <td>1434512</td>\n",
       "      <td>0.166714</td>\n",
       "    </tr>\n",
       "    <tr>\n",
       "      <th>4</th>\n",
       "      <td>2084821</td>\n",
       "      <td>0.241119</td>\n",
       "    </tr>\n",
       "  </tbody>\n",
       "</table>\n",
       "</div>"
      ],
      "text/plain": [
       "   comment_id     score\n",
       "0      114890  0.173094\n",
       "1      732895  0.172632\n",
       "2     1139051  0.166714\n",
       "3     1434512  0.166714\n",
       "4     2084821  0.241119"
      ]
     },
     "execution_count": 28,
     "metadata": {},
     "output_type": "execute_result"
    }
   ],
   "source": [
    "results.head(5)"
   ]
  },
  {
   "cell_type": "code",
   "execution_count": 29,
   "id": "7b07f05e",
   "metadata": {
    "execution": {
     "iopub.execute_input": "2022-01-05T19:50:27.582619Z",
     "iopub.status.busy": "2022-01-05T19:50:27.581981Z",
     "iopub.status.idle": "2022-01-05T19:50:27.623496Z",
     "shell.execute_reply": "2022-01-05T19:50:27.622930Z"
    },
    "id": "ScN_upV3UzFM",
    "papermill": {
     "duration": 0.087046,
     "end_time": "2022-01-05T19:50:27.623671",
     "exception": false,
     "start_time": "2022-01-05T19:50:27.536625",
     "status": "completed"
    },
    "tags": []
   },
   "outputs": [],
   "source": [
    "results.to_csv(\"submission.csv\", index=False)"
   ]
  }
 ],
 "metadata": {
  "kernelspec": {
   "display_name": "Python 3",
   "language": "python",
   "name": "python3"
  },
  "language_info": {
   "codemirror_mode": {
    "name": "ipython",
    "version": 3
   },
   "file_extension": ".py",
   "mimetype": "text/x-python",
   "name": "python",
   "nbconvert_exporter": "python",
   "pygments_lexer": "ipython3",
   "version": "3.7.12"
  },
  "papermill": {
   "default_parameters": {},
   "duration": 837.539153,
   "end_time": "2022-01-05T19:50:30.279383",
   "environment_variables": {},
   "exception": null,
   "input_path": "__notebook__.ipynb",
   "output_path": "__notebook__.ipynb",
   "parameters": {},
   "start_time": "2022-01-05T19:36:32.740230",
   "version": "2.3.3"
  }
 },
 "nbformat": 4,
 "nbformat_minor": 5
}
