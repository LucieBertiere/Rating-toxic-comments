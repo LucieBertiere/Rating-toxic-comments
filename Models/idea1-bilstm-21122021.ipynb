{
 "cells": [
  {
   "cell_type": "markdown",
   "id": "fe9cbb25",
   "metadata": {
    "id": "PyJJMaAhB30L",
    "papermill": {
     "duration": 0.036909,
     "end_time": "2021-12-22T10:02:31.401963",
     "exception": false,
     "start_time": "2021-12-22T10:02:31.365054",
     "status": "completed"
    },
    "tags": []
   },
   "source": [
    "**Jigsaw Rate Severity of Toxic Comments**\n",
    "\n",
    "Raquel Alcaraz\n",
    "\n",
    "Lucie Bertiere"
   ]
  },
  {
   "cell_type": "markdown",
   "id": "df625cb2",
   "metadata": {
    "id": "xAnR_77kCoKf",
    "papermill": {
     "duration": 0.03547,
     "end_time": "2021-12-22T10:02:31.475231",
     "exception": false,
     "start_time": "2021-12-22T10:02:31.439761",
     "status": "completed"
    },
    "tags": []
   },
   "source": [
    "# Libraries"
   ]
  },
  {
   "cell_type": "code",
   "execution_count": 1,
   "id": "9da7e8c3",
   "metadata": {
    "execution": {
     "iopub.execute_input": "2021-12-22T10:02:31.554892Z",
     "iopub.status.busy": "2021-12-22T10:02:31.554247Z",
     "iopub.status.idle": "2021-12-22T10:02:38.720842Z",
     "shell.execute_reply": "2021-12-22T10:02:38.719958Z"
    },
    "id": "-wncRf68Cn03",
    "papermill": {
     "duration": 7.210112,
     "end_time": "2021-12-22T10:02:38.721035",
     "exception": false,
     "start_time": "2021-12-22T10:02:31.510923",
     "status": "completed"
    },
    "tags": []
   },
   "outputs": [],
   "source": [
    "import pandas as pd\n",
    "import os\n",
    "import seaborn as sns\n",
    "import numpy as np\n",
    "import matplotlib.pyplot as plt\n",
    "\n",
    "import re\n",
    "import nltk\n",
    "from nltk import word_tokenize\n",
    "from nltk.corpus import stopwords\n",
    "from nltk.stem import WordNetLemmatizer\n",
    "\n",
    "from sklearn.model_selection import train_test_split\n",
    "\n",
    "from keras.preprocessing.text import Tokenizer\n",
    "from keras.preprocessing.sequence import pad_sequences\n",
    "from keras import Sequential\n",
    "from keras import layers"
   ]
  },
  {
   "cell_type": "markdown",
   "id": "f6881b69",
   "metadata": {
    "id": "VuliXIFPCrjw",
    "papermill": {
     "duration": 0.035726,
     "end_time": "2021-12-22T10:02:38.794405",
     "exception": false,
     "start_time": "2021-12-22T10:02:38.758679",
     "status": "completed"
    },
    "tags": []
   },
   "source": [
    "# Importing the data"
   ]
  },
  {
   "cell_type": "code",
   "execution_count": 2,
   "id": "9fb850fc",
   "metadata": {
    "execution": {
     "iopub.execute_input": "2021-12-22T10:02:38.872726Z",
     "iopub.status.busy": "2021-12-22T10:02:38.872079Z",
     "iopub.status.idle": "2021-12-22T10:02:39.464939Z",
     "shell.execute_reply": "2021-12-22T10:02:39.465513Z"
    },
    "id": "J6hoUjDfGnSu",
    "papermill": {
     "duration": 0.634798,
     "end_time": "2021-12-22T10:02:39.465729",
     "exception": false,
     "start_time": "2021-12-22T10:02:38.830931",
     "status": "completed"
    },
    "tags": []
   },
   "outputs": [],
   "source": [
    "# We import the two datasets\n",
    "comments_to_score = pd.read_csv(\"/kaggle/input/jigsaw-toxic-severity-rating/comments_to_score.csv\")\n",
    "train = pd.read_csv(\"/kaggle/input/jigsaw-toxic-severity-rating/validation_data.csv\")"
   ]
  },
  {
   "cell_type": "code",
   "execution_count": 3,
   "id": "0470667b",
   "metadata": {
    "execution": {
     "iopub.execute_input": "2021-12-22T10:02:39.543254Z",
     "iopub.status.busy": "2021-12-22T10:02:39.542165Z",
     "iopub.status.idle": "2021-12-22T10:02:39.561536Z",
     "shell.execute_reply": "2021-12-22T10:02:39.562029Z"
    },
    "id": "jGtviYpxHIOD",
    "outputId": "28764001-8c71-4181-c141-18dc571942c5",
    "papermill": {
     "duration": 0.060005,
     "end_time": "2021-12-22T10:02:39.562199",
     "exception": false,
     "start_time": "2021-12-22T10:02:39.502194",
     "status": "completed"
    },
    "tags": []
   },
   "outputs": [
    {
     "data": {
      "text/html": [
       "<div>\n",
       "<style scoped>\n",
       "    .dataframe tbody tr th:only-of-type {\n",
       "        vertical-align: middle;\n",
       "    }\n",
       "\n",
       "    .dataframe tbody tr th {\n",
       "        vertical-align: top;\n",
       "    }\n",
       "\n",
       "    .dataframe thead th {\n",
       "        text-align: right;\n",
       "    }\n",
       "</style>\n",
       "<table border=\"1\" class=\"dataframe\">\n",
       "  <thead>\n",
       "    <tr style=\"text-align: right;\">\n",
       "      <th></th>\n",
       "      <th>comment_id</th>\n",
       "      <th>text</th>\n",
       "    </tr>\n",
       "  </thead>\n",
       "  <tbody>\n",
       "    <tr>\n",
       "      <th>0</th>\n",
       "      <td>114890</td>\n",
       "      <td>\"\\n \\n\\nGjalexei, you asked about whether ther...</td>\n",
       "    </tr>\n",
       "    <tr>\n",
       "      <th>1</th>\n",
       "      <td>732895</td>\n",
       "      <td>Looks like be have an abuser , can you please ...</td>\n",
       "    </tr>\n",
       "    <tr>\n",
       "      <th>2</th>\n",
       "      <td>1139051</td>\n",
       "      <td>I confess to having complete (and apparently b...</td>\n",
       "    </tr>\n",
       "    <tr>\n",
       "      <th>3</th>\n",
       "      <td>1434512</td>\n",
       "      <td>\"\\n\\nFreud's ideas are certainly much discusse...</td>\n",
       "    </tr>\n",
       "    <tr>\n",
       "      <th>4</th>\n",
       "      <td>2084821</td>\n",
       "      <td>It is not just you. This is a laundry list of ...</td>\n",
       "    </tr>\n",
       "  </tbody>\n",
       "</table>\n",
       "</div>"
      ],
      "text/plain": [
       "   comment_id                                               text\n",
       "0      114890  \"\\n \\n\\nGjalexei, you asked about whether ther...\n",
       "1      732895  Looks like be have an abuser , can you please ...\n",
       "2     1139051  I confess to having complete (and apparently b...\n",
       "3     1434512  \"\\n\\nFreud's ideas are certainly much discusse...\n",
       "4     2084821  It is not just you. This is a laundry list of ..."
      ]
     },
     "execution_count": 3,
     "metadata": {},
     "output_type": "execute_result"
    }
   ],
   "source": [
    "comments_to_score.head(5)"
   ]
  },
  {
   "cell_type": "code",
   "execution_count": 4,
   "id": "66478d04",
   "metadata": {
    "execution": {
     "iopub.execute_input": "2021-12-22T10:02:39.645083Z",
     "iopub.status.busy": "2021-12-22T10:02:39.644399Z",
     "iopub.status.idle": "2021-12-22T10:02:39.647939Z",
     "shell.execute_reply": "2021-12-22T10:02:39.648416Z"
    },
    "id": "ix_D-2E4HK_N",
    "outputId": "4c9d91f3-6fe6-45d5-92ae-97ce4e317e95",
    "papermill": {
     "duration": 0.049711,
     "end_time": "2021-12-22T10:02:39.648599",
     "exception": false,
     "start_time": "2021-12-22T10:02:39.598888",
     "status": "completed"
    },
    "tags": []
   },
   "outputs": [
    {
     "data": {
      "text/html": [
       "<div>\n",
       "<style scoped>\n",
       "    .dataframe tbody tr th:only-of-type {\n",
       "        vertical-align: middle;\n",
       "    }\n",
       "\n",
       "    .dataframe tbody tr th {\n",
       "        vertical-align: top;\n",
       "    }\n",
       "\n",
       "    .dataframe thead th {\n",
       "        text-align: right;\n",
       "    }\n",
       "</style>\n",
       "<table border=\"1\" class=\"dataframe\">\n",
       "  <thead>\n",
       "    <tr style=\"text-align: right;\">\n",
       "      <th></th>\n",
       "      <th>worker</th>\n",
       "      <th>less_toxic</th>\n",
       "      <th>more_toxic</th>\n",
       "    </tr>\n",
       "  </thead>\n",
       "  <tbody>\n",
       "    <tr>\n",
       "      <th>0</th>\n",
       "      <td>313</td>\n",
       "      <td>This article sucks \\n\\nwoo woo wooooooo</td>\n",
       "      <td>WHAT!!!!!!!!?!?!!?!?!!?!?!?!?!!!!!!!!!!!!!!!!!...</td>\n",
       "    </tr>\n",
       "    <tr>\n",
       "      <th>1</th>\n",
       "      <td>188</td>\n",
       "      <td>\"And yes, people should recognize that but the...</td>\n",
       "      <td>Daphne Guinness \\n\\nTop of the mornin' my fav...</td>\n",
       "    </tr>\n",
       "    <tr>\n",
       "      <th>2</th>\n",
       "      <td>82</td>\n",
       "      <td>Western Media?\\n\\nYup, because every crime in...</td>\n",
       "      <td>\"Atom you don't believe actual photos of mastu...</td>\n",
       "    </tr>\n",
       "    <tr>\n",
       "      <th>3</th>\n",
       "      <td>347</td>\n",
       "      <td>And you removed it! You numbskull! I don't car...</td>\n",
       "      <td>You seem to have sand in your vagina.\\n\\nMight...</td>\n",
       "    </tr>\n",
       "    <tr>\n",
       "      <th>4</th>\n",
       "      <td>539</td>\n",
       "      <td>smelly vagina \\n\\nBluerasberry why don't you ...</td>\n",
       "      <td>hey \\n\\nway to support nazis, you racist</td>\n",
       "    </tr>\n",
       "  </tbody>\n",
       "</table>\n",
       "</div>"
      ],
      "text/plain": [
       "   worker                                         less_toxic  \\\n",
       "0     313            This article sucks \\n\\nwoo woo wooooooo   \n",
       "1     188  \"And yes, people should recognize that but the...   \n",
       "2      82   Western Media?\\n\\nYup, because every crime in...   \n",
       "3     347  And you removed it! You numbskull! I don't car...   \n",
       "4     539   smelly vagina \\n\\nBluerasberry why don't you ...   \n",
       "\n",
       "                                          more_toxic  \n",
       "0  WHAT!!!!!!!!?!?!!?!?!!?!?!?!?!!!!!!!!!!!!!!!!!...  \n",
       "1   Daphne Guinness \\n\\nTop of the mornin' my fav...  \n",
       "2  \"Atom you don't believe actual photos of mastu...  \n",
       "3  You seem to have sand in your vagina.\\n\\nMight...  \n",
       "4           hey \\n\\nway to support nazis, you racist  "
      ]
     },
     "execution_count": 4,
     "metadata": {},
     "output_type": "execute_result"
    }
   ],
   "source": [
    "train.head(5)"
   ]
  },
  {
   "cell_type": "markdown",
   "id": "350cf515",
   "metadata": {
    "id": "nMliJfz7FIBW",
    "papermill": {
     "duration": 0.036461,
     "end_time": "2021-12-22T10:02:39.722143",
     "exception": false,
     "start_time": "2021-12-22T10:02:39.685682",
     "status": "completed"
    },
    "tags": []
   },
   "source": [
    "# Cleaning the data"
   ]
  },
  {
   "cell_type": "markdown",
   "id": "7bb61eda",
   "metadata": {
    "id": "mynzF2tNIRIs",
    "papermill": {
     "duration": 0.036768,
     "end_time": "2021-12-22T10:02:39.795718",
     "exception": false,
     "start_time": "2021-12-22T10:02:39.758950",
     "status": "completed"
    },
    "tags": []
   },
   "source": [
    "## Function"
   ]
  },
  {
   "cell_type": "code",
   "execution_count": 5,
   "id": "7c29f38d",
   "metadata": {
    "execution": {
     "iopub.execute_input": "2021-12-22T10:02:39.879608Z",
     "iopub.status.busy": "2021-12-22T10:02:39.872062Z",
     "iopub.status.idle": "2021-12-22T10:02:39.886132Z",
     "shell.execute_reply": "2021-12-22T10:02:39.886697Z"
    },
    "id": "wHVURFLgIQvW",
    "papermill": {
     "duration": 0.05385,
     "end_time": "2021-12-22T10:02:39.886867",
     "exception": false,
     "start_time": "2021-12-22T10:02:39.833017",
     "status": "completed"
    },
    "tags": []
   },
   "outputs": [],
   "source": [
    "# We set the stop words in english (the words that we don't want in the clean text\n",
    "# that are the most used and not really relevant)\n",
    "stop_words = set(stopwords.words('english'))\n",
    "# and also the lemmatizer (rocks becomes rock...)\n",
    "lem = WordNetLemmatizer()\n",
    "\n",
    "\n",
    "def cleaning_text(text):\n",
    "    \n",
    "    # to put everything in lower case (I becomes i)\n",
    "    text = text.lower()\n",
    "\n",
    "    # to remove urls\n",
    "    url = re.compile(r'https?://\\S+|www\\.\\S+')\n",
    "    text = url.sub(r' ', text)\n",
    "\n",
    "    # to remove html tags\n",
    "    html = re.compile(r'<.*?>')\n",
    "    text = html.sub(r' ', text)\n",
    "    \n",
    "    # to remove digits\n",
    "    text = re.sub(r'\\d+',' ', text)\n",
    "    \n",
    "    # to remove hashtags\n",
    "    text = re.sub(r'#\\w+',' ', text)\n",
    "    \n",
    "    # to remove mentions\n",
    "    text = re.sub(r'@\\w+',' ', text)\n",
    "\n",
    "    # to remove punctations\n",
    "    text = re.sub(r\"[^\\w\\s\\d]\",' ', text)\n",
    "\n",
    "    # to remove extra white space\n",
    "    text = re.sub(r\"\\s+\",' ',text).strip()\n",
    "    \n",
    "    # removing stop words\n",
    "    token = word_tokenize(text)\n",
    "    text=[word for word in token if not word in stop_words]\n",
    "\n",
    "    # lemmatize\n",
    "    text = \" \".join([lem.lemmatize(t) for t in text])\n",
    "\n",
    "    return  text\n",
    "  "
   ]
  },
  {
   "cell_type": "markdown",
   "id": "d453e6f9",
   "metadata": {
    "id": "7xKSQPA_ZNHo",
    "papermill": {
     "duration": 0.036717,
     "end_time": "2021-12-22T10:02:39.961875",
     "exception": false,
     "start_time": "2021-12-22T10:02:39.925158",
     "status": "completed"
    },
    "tags": []
   },
   "source": [
    "## Comments to score"
   ]
  },
  {
   "cell_type": "code",
   "execution_count": 6,
   "id": "a0592bfa",
   "metadata": {
    "execution": {
     "iopub.execute_input": "2021-12-22T10:02:40.045950Z",
     "iopub.status.busy": "2021-12-22T10:02:40.039333Z",
     "iopub.status.idle": "2021-12-22T10:02:49.737026Z",
     "shell.execute_reply": "2021-12-22T10:02:49.736280Z"
    },
    "id": "oTT2snz6ZQKu",
    "papermill": {
     "duration": 9.738592,
     "end_time": "2021-12-22T10:02:49.737170",
     "exception": false,
     "start_time": "2021-12-22T10:02:39.998578",
     "status": "completed"
    },
    "tags": []
   },
   "outputs": [],
   "source": [
    "comments_to_score['clean_text'] = comments_to_score['text'].apply(cleaning_text)"
   ]
  },
  {
   "cell_type": "code",
   "execution_count": 7,
   "id": "112811e5",
   "metadata": {
    "execution": {
     "iopub.execute_input": "2021-12-22T10:02:49.821943Z",
     "iopub.status.busy": "2021-12-22T10:02:49.821145Z",
     "iopub.status.idle": "2021-12-22T10:02:49.824360Z",
     "shell.execute_reply": "2021-12-22T10:02:49.824849Z"
    },
    "id": "UZ6IjSTFZal0",
    "outputId": "872142b9-2962-4344-b326-8e994c4e24f7",
    "papermill": {
     "duration": 0.050755,
     "end_time": "2021-12-22T10:02:49.825024",
     "exception": false,
     "start_time": "2021-12-22T10:02:49.774269",
     "status": "completed"
    },
    "tags": []
   },
   "outputs": [
    {
     "data": {
      "text/html": [
       "<div>\n",
       "<style scoped>\n",
       "    .dataframe tbody tr th:only-of-type {\n",
       "        vertical-align: middle;\n",
       "    }\n",
       "\n",
       "    .dataframe tbody tr th {\n",
       "        vertical-align: top;\n",
       "    }\n",
       "\n",
       "    .dataframe thead th {\n",
       "        text-align: right;\n",
       "    }\n",
       "</style>\n",
       "<table border=\"1\" class=\"dataframe\">\n",
       "  <thead>\n",
       "    <tr style=\"text-align: right;\">\n",
       "      <th></th>\n",
       "      <th>comment_id</th>\n",
       "      <th>text</th>\n",
       "      <th>clean_text</th>\n",
       "    </tr>\n",
       "  </thead>\n",
       "  <tbody>\n",
       "    <tr>\n",
       "      <th>0</th>\n",
       "      <td>114890</td>\n",
       "      <td>\"\\n \\n\\nGjalexei, you asked about whether ther...</td>\n",
       "      <td>gjalexei asked whether anti editorializing pol...</td>\n",
       "    </tr>\n",
       "    <tr>\n",
       "      <th>1</th>\n",
       "      <td>732895</td>\n",
       "      <td>Looks like be have an abuser , can you please ...</td>\n",
       "      <td>look like abuser please look thanks</td>\n",
       "    </tr>\n",
       "    <tr>\n",
       "      <th>2</th>\n",
       "      <td>1139051</td>\n",
       "      <td>I confess to having complete (and apparently b...</td>\n",
       "      <td>confess complete apparently blissful ignorance...</td>\n",
       "    </tr>\n",
       "    <tr>\n",
       "      <th>3</th>\n",
       "      <td>1434512</td>\n",
       "      <td>\"\\n\\nFreud's ideas are certainly much discusse...</td>\n",
       "      <td>freud idea certainly much discussed today woul...</td>\n",
       "    </tr>\n",
       "    <tr>\n",
       "      <th>4</th>\n",
       "      <td>2084821</td>\n",
       "      <td>It is not just you. This is a laundry list of ...</td>\n",
       "      <td>laundry list stupid allegation scooped god kno...</td>\n",
       "    </tr>\n",
       "  </tbody>\n",
       "</table>\n",
       "</div>"
      ],
      "text/plain": [
       "   comment_id                                               text  \\\n",
       "0      114890  \"\\n \\n\\nGjalexei, you asked about whether ther...   \n",
       "1      732895  Looks like be have an abuser , can you please ...   \n",
       "2     1139051  I confess to having complete (and apparently b...   \n",
       "3     1434512  \"\\n\\nFreud's ideas are certainly much discusse...   \n",
       "4     2084821  It is not just you. This is a laundry list of ...   \n",
       "\n",
       "                                          clean_text  \n",
       "0  gjalexei asked whether anti editorializing pol...  \n",
       "1                look like abuser please look thanks  \n",
       "2  confess complete apparently blissful ignorance...  \n",
       "3  freud idea certainly much discussed today woul...  \n",
       "4  laundry list stupid allegation scooped god kno...  "
      ]
     },
     "execution_count": 7,
     "metadata": {},
     "output_type": "execute_result"
    }
   ],
   "source": [
    "comments_to_score.head(5)"
   ]
  },
  {
   "cell_type": "markdown",
   "id": "38516fe2",
   "metadata": {
    "id": "sVZ1YZ9NFCTW",
    "papermill": {
     "duration": 0.037405,
     "end_time": "2021-12-22T10:02:49.899953",
     "exception": false,
     "start_time": "2021-12-22T10:02:49.862548",
     "status": "completed"
    },
    "tags": []
   },
   "source": [
    "# Descriptive statistics"
   ]
  },
  {
   "cell_type": "markdown",
   "id": "699d17e0",
   "metadata": {
    "id": "ydg6H0iOcpHp",
    "papermill": {
     "duration": 0.037359,
     "end_time": "2021-12-22T10:02:49.975189",
     "exception": false,
     "start_time": "2021-12-22T10:02:49.937830",
     "status": "completed"
    },
    "tags": []
   },
   "source": [
    "TO DO :\n",
    "- wordcloud toxic comments\n",
    "- wordcloud less toxic comments"
   ]
  },
  {
   "cell_type": "code",
   "execution_count": null,
   "id": "31e93917",
   "metadata": {
    "id": "Fw8AGN3DIE50",
    "papermill": {
     "duration": 0.036685,
     "end_time": "2021-12-22T10:02:50.049188",
     "exception": false,
     "start_time": "2021-12-22T10:02:50.012503",
     "status": "completed"
    },
    "tags": []
   },
   "outputs": [],
   "source": []
  },
  {
   "cell_type": "markdown",
   "id": "555ccd3e",
   "metadata": {
    "id": "JKidJV3JiX9Q",
    "papermill": {
     "duration": 0.037426,
     "end_time": "2021-12-22T10:02:50.124174",
     "exception": false,
     "start_time": "2021-12-22T10:02:50.086748",
     "status": "completed"
    },
    "tags": []
   },
   "source": [
    "# Functions for the models"
   ]
  },
  {
   "cell_type": "code",
   "execution_count": 8,
   "id": "34d2b941",
   "metadata": {
    "execution": {
     "iopub.execute_input": "2021-12-22T10:02:50.203897Z",
     "iopub.status.busy": "2021-12-22T10:02:50.202955Z",
     "iopub.status.idle": "2021-12-22T10:02:50.209334Z",
     "shell.execute_reply": "2021-12-22T10:02:50.209890Z"
    },
    "id": "xrh3T6o8iamW",
    "papermill": {
     "duration": 0.047907,
     "end_time": "2021-12-22T10:02:50.210053",
     "exception": false,
     "start_time": "2021-12-22T10:02:50.162146",
     "status": "completed"
    },
    "tags": []
   },
   "outputs": [],
   "source": [
    "# Functions seen in the deep learning course\n",
    "def plot_history(hist):\n",
    "    plt.plot(hist.history['loss'], label='train')\n",
    "    plt.plot(hist.history['val_loss'], label='val')\n",
    "    plt.legend()\n",
    "    plt.ylim((0,1))\n",
    "    plt.title('Loss evolution')\n",
    "    plt.show()\n",
    "    plt.plot(hist.history['accuracy'], label='train')\n",
    "    plt.plot(hist.history['val_accuracy'], label='val')\n",
    "    plt.legend()\n",
    "    plt.ylim((0,1))\n",
    "    plt.title('Accuracy evolution')\n",
    "    plt.show()"
   ]
  },
  {
   "cell_type": "markdown",
   "id": "d70fe9e5",
   "metadata": {
    "id": "Upj7fOKmCuTA",
    "papermill": {
     "duration": 0.03757,
     "end_time": "2021-12-22T10:02:50.285482",
     "exception": false,
     "start_time": "2021-12-22T10:02:50.247912",
     "status": "completed"
    },
    "tags": []
   },
   "source": [
    "# Idea 1 \n",
    "\n",
    "See how many times a comment has been labeled toxic or non-toxic.\n"
   ]
  },
  {
   "cell_type": "markdown",
   "id": "90e64b46",
   "metadata": {
    "id": "wAEuOA82C96I",
    "papermill": {
     "duration": 0.037658,
     "end_time": "2021-12-22T10:02:50.360984",
     "exception": false,
     "start_time": "2021-12-22T10:02:50.323326",
     "status": "completed"
    },
    "tags": []
   },
   "source": [
    "TO DO :\n",
    "- Mettre un 0 pour les less toxics\n",
    "- Mettre un 1 pour les plus toxics\n",
    "- Concaténer\n",
    "- Faire une moyenne du commentaire (le score)\n",
    "- Entraîner le modèle"
   ]
  },
  {
   "cell_type": "markdown",
   "id": "3a380ec4",
   "metadata": {
    "id": "bZ3opbw7H3ve",
    "papermill": {
     "duration": 0.03752,
     "end_time": "2021-12-22T10:02:50.436261",
     "exception": false,
     "start_time": "2021-12-22T10:02:50.398741",
     "status": "completed"
    },
    "tags": []
   },
   "source": [
    "## Train dataset"
   ]
  },
  {
   "cell_type": "markdown",
   "id": "f67fa68a",
   "metadata": {
    "id": "i_z0mgAiHQ3V",
    "papermill": {
     "duration": 0.03759,
     "end_time": "2021-12-22T10:02:50.511544",
     "exception": false,
     "start_time": "2021-12-22T10:02:50.473954",
     "status": "completed"
    },
    "tags": []
   },
   "source": [
    "### Putting all the comments to a same column"
   ]
  },
  {
   "cell_type": "markdown",
   "id": "5fccad38",
   "metadata": {
    "id": "1UJXOXEZI3rG",
    "papermill": {
     "duration": 0.037913,
     "end_time": "2021-12-22T10:02:50.587741",
     "exception": false,
     "start_time": "2021-12-22T10:02:50.549828",
     "status": "completed"
    },
    "tags": []
   },
   "source": [
    "**Less toxic data**"
   ]
  },
  {
   "cell_type": "code",
   "execution_count": 9,
   "id": "87fe6d50",
   "metadata": {
    "execution": {
     "iopub.execute_input": "2021-12-22T10:02:50.671925Z",
     "iopub.status.busy": "2021-12-22T10:02:50.671222Z",
     "iopub.status.idle": "2021-12-22T10:02:50.681006Z",
     "shell.execute_reply": "2021-12-22T10:02:50.680410Z"
    },
    "id": "fFj62rXWFHmW",
    "papermill": {
     "duration": 0.05459,
     "end_time": "2021-12-22T10:02:50.681152",
     "exception": false,
     "start_time": "2021-12-22T10:02:50.626562",
     "status": "completed"
    },
    "tags": []
   },
   "outputs": [],
   "source": [
    "# creating a dataframe with only the less toxic comments\n",
    "less_toxic_data = train.drop(columns = ['more_toxic'])\n",
    "# Renaming the column to be able to concatenate afterwards\n",
    "less_toxic_data = less_toxic_data.rename(columns={\"less_toxic\": \"text\"})\n",
    "# Adding a 0's toxicity column to say that this comment is less toxic for the worker\n",
    "less_toxic_data['toxicity'] = 0"
   ]
  },
  {
   "cell_type": "code",
   "execution_count": 10,
   "id": "b1f782f6",
   "metadata": {
    "execution": {
     "iopub.execute_input": "2021-12-22T10:02:50.761149Z",
     "iopub.status.busy": "2021-12-22T10:02:50.760505Z",
     "iopub.status.idle": "2021-12-22T10:02:50.769251Z",
     "shell.execute_reply": "2021-12-22T10:02:50.769699Z"
    },
    "id": "bqynJkTdHj_4",
    "outputId": "17269db1-a964-4008-a142-0d3a3d20a1c7",
    "papermill": {
     "duration": 0.050574,
     "end_time": "2021-12-22T10:02:50.769877",
     "exception": false,
     "start_time": "2021-12-22T10:02:50.719303",
     "status": "completed"
    },
    "tags": []
   },
   "outputs": [
    {
     "data": {
      "text/html": [
       "<div>\n",
       "<style scoped>\n",
       "    .dataframe tbody tr th:only-of-type {\n",
       "        vertical-align: middle;\n",
       "    }\n",
       "\n",
       "    .dataframe tbody tr th {\n",
       "        vertical-align: top;\n",
       "    }\n",
       "\n",
       "    .dataframe thead th {\n",
       "        text-align: right;\n",
       "    }\n",
       "</style>\n",
       "<table border=\"1\" class=\"dataframe\">\n",
       "  <thead>\n",
       "    <tr style=\"text-align: right;\">\n",
       "      <th></th>\n",
       "      <th>worker</th>\n",
       "      <th>text</th>\n",
       "      <th>toxicity</th>\n",
       "    </tr>\n",
       "  </thead>\n",
       "  <tbody>\n",
       "    <tr>\n",
       "      <th>0</th>\n",
       "      <td>313</td>\n",
       "      <td>This article sucks \\n\\nwoo woo wooooooo</td>\n",
       "      <td>0</td>\n",
       "    </tr>\n",
       "    <tr>\n",
       "      <th>1</th>\n",
       "      <td>188</td>\n",
       "      <td>\"And yes, people should recognize that but the...</td>\n",
       "      <td>0</td>\n",
       "    </tr>\n",
       "    <tr>\n",
       "      <th>2</th>\n",
       "      <td>82</td>\n",
       "      <td>Western Media?\\n\\nYup, because every crime in...</td>\n",
       "      <td>0</td>\n",
       "    </tr>\n",
       "    <tr>\n",
       "      <th>3</th>\n",
       "      <td>347</td>\n",
       "      <td>And you removed it! You numbskull! I don't car...</td>\n",
       "      <td>0</td>\n",
       "    </tr>\n",
       "    <tr>\n",
       "      <th>4</th>\n",
       "      <td>539</td>\n",
       "      <td>smelly vagina \\n\\nBluerasberry why don't you ...</td>\n",
       "      <td>0</td>\n",
       "    </tr>\n",
       "  </tbody>\n",
       "</table>\n",
       "</div>"
      ],
      "text/plain": [
       "   worker                                               text  toxicity\n",
       "0     313            This article sucks \\n\\nwoo woo wooooooo         0\n",
       "1     188  \"And yes, people should recognize that but the...         0\n",
       "2      82   Western Media?\\n\\nYup, because every crime in...         0\n",
       "3     347  And you removed it! You numbskull! I don't car...         0\n",
       "4     539   smelly vagina \\n\\nBluerasberry why don't you ...         0"
      ]
     },
     "execution_count": 10,
     "metadata": {},
     "output_type": "execute_result"
    }
   ],
   "source": [
    "less_toxic_data.head(5)"
   ]
  },
  {
   "cell_type": "markdown",
   "id": "db56aa06",
   "metadata": {
    "id": "gotACY_OI8aO",
    "papermill": {
     "duration": 0.03834,
     "end_time": "2021-12-22T10:02:50.846961",
     "exception": false,
     "start_time": "2021-12-22T10:02:50.808621",
     "status": "completed"
    },
    "tags": []
   },
   "source": [
    "**More toxic data**"
   ]
  },
  {
   "cell_type": "code",
   "execution_count": 11,
   "id": "14f3c37e",
   "metadata": {
    "execution": {
     "iopub.execute_input": "2021-12-22T10:02:50.933529Z",
     "iopub.status.busy": "2021-12-22T10:02:50.931055Z",
     "iopub.status.idle": "2021-12-22T10:02:50.935040Z",
     "shell.execute_reply": "2021-12-22T10:02:50.935538Z"
    },
    "id": "t3iIcQgTI8aO",
    "papermill": {
     "duration": 0.049938,
     "end_time": "2021-12-22T10:02:50.935704",
     "exception": false,
     "start_time": "2021-12-22T10:02:50.885766",
     "status": "completed"
    },
    "tags": []
   },
   "outputs": [],
   "source": [
    "# creating a dataframe with only the more toxic comments\n",
    "more_toxic_data = train.drop(columns = ['less_toxic'])\n",
    "# Renaming the column to be able to concatenate afterwards\n",
    "more_toxic_data = more_toxic_data.rename(columns={\"more_toxic\": \"text\"})\n",
    "# Adding a 1's toxicity column to say that this comment is more toxic for the worker\n",
    "more_toxic_data['toxicity'] = 1"
   ]
  },
  {
   "cell_type": "code",
   "execution_count": 12,
   "id": "1380ac4a",
   "metadata": {
    "execution": {
     "iopub.execute_input": "2021-12-22T10:02:51.023261Z",
     "iopub.status.busy": "2021-12-22T10:02:51.016234Z",
     "iopub.status.idle": "2021-12-22T10:02:51.026048Z",
     "shell.execute_reply": "2021-12-22T10:02:51.026637Z"
    },
    "id": "IdKJjMFWI8aP",
    "outputId": "8deaf4a7-4e86-4523-a589-ac16cc6e3c93",
    "papermill": {
     "duration": 0.05218,
     "end_time": "2021-12-22T10:02:51.026798",
     "exception": false,
     "start_time": "2021-12-22T10:02:50.974618",
     "status": "completed"
    },
    "tags": []
   },
   "outputs": [
    {
     "data": {
      "text/html": [
       "<div>\n",
       "<style scoped>\n",
       "    .dataframe tbody tr th:only-of-type {\n",
       "        vertical-align: middle;\n",
       "    }\n",
       "\n",
       "    .dataframe tbody tr th {\n",
       "        vertical-align: top;\n",
       "    }\n",
       "\n",
       "    .dataframe thead th {\n",
       "        text-align: right;\n",
       "    }\n",
       "</style>\n",
       "<table border=\"1\" class=\"dataframe\">\n",
       "  <thead>\n",
       "    <tr style=\"text-align: right;\">\n",
       "      <th></th>\n",
       "      <th>worker</th>\n",
       "      <th>text</th>\n",
       "      <th>toxicity</th>\n",
       "    </tr>\n",
       "  </thead>\n",
       "  <tbody>\n",
       "    <tr>\n",
       "      <th>0</th>\n",
       "      <td>313</td>\n",
       "      <td>WHAT!!!!!!!!?!?!!?!?!!?!?!?!?!!!!!!!!!!!!!!!!!...</td>\n",
       "      <td>1</td>\n",
       "    </tr>\n",
       "    <tr>\n",
       "      <th>1</th>\n",
       "      <td>188</td>\n",
       "      <td>Daphne Guinness \\n\\nTop of the mornin' my fav...</td>\n",
       "      <td>1</td>\n",
       "    </tr>\n",
       "    <tr>\n",
       "      <th>2</th>\n",
       "      <td>82</td>\n",
       "      <td>\"Atom you don't believe actual photos of mastu...</td>\n",
       "      <td>1</td>\n",
       "    </tr>\n",
       "    <tr>\n",
       "      <th>3</th>\n",
       "      <td>347</td>\n",
       "      <td>You seem to have sand in your vagina.\\n\\nMight...</td>\n",
       "      <td>1</td>\n",
       "    </tr>\n",
       "    <tr>\n",
       "      <th>4</th>\n",
       "      <td>539</td>\n",
       "      <td>hey \\n\\nway to support nazis, you racist</td>\n",
       "      <td>1</td>\n",
       "    </tr>\n",
       "  </tbody>\n",
       "</table>\n",
       "</div>"
      ],
      "text/plain": [
       "   worker                                               text  toxicity\n",
       "0     313  WHAT!!!!!!!!?!?!!?!?!!?!?!?!?!!!!!!!!!!!!!!!!!...         1\n",
       "1     188   Daphne Guinness \\n\\nTop of the mornin' my fav...         1\n",
       "2      82  \"Atom you don't believe actual photos of mastu...         1\n",
       "3     347  You seem to have sand in your vagina.\\n\\nMight...         1\n",
       "4     539           hey \\n\\nway to support nazis, you racist         1"
      ]
     },
     "execution_count": 12,
     "metadata": {},
     "output_type": "execute_result"
    }
   ],
   "source": [
    "more_toxic_data.head(5)"
   ]
  },
  {
   "cell_type": "markdown",
   "id": "944faa60",
   "metadata": {
    "id": "l6J-61jpJo8k",
    "papermill": {
     "duration": 0.038627,
     "end_time": "2021-12-22T10:02:51.105273",
     "exception": false,
     "start_time": "2021-12-22T10:02:51.066646",
     "status": "completed"
    },
    "tags": []
   },
   "source": [
    "**Concatenate**"
   ]
  },
  {
   "cell_type": "code",
   "execution_count": 13,
   "id": "604ede4a",
   "metadata": {
    "execution": {
     "iopub.execute_input": "2021-12-22T10:02:51.189657Z",
     "iopub.status.busy": "2021-12-22T10:02:51.189039Z",
     "iopub.status.idle": "2021-12-22T10:02:51.191359Z",
     "shell.execute_reply": "2021-12-22T10:02:51.191877Z"
    },
    "id": "-1h43y2fLHFf",
    "outputId": "49454ce9-fa9b-46e7-a06e-cdc33060ac2b",
    "papermill": {
     "duration": 0.047155,
     "end_time": "2021-12-22T10:02:51.192034",
     "exception": false,
     "start_time": "2021-12-22T10:02:51.144879",
     "status": "completed"
    },
    "tags": []
   },
   "outputs": [
    {
     "data": {
      "text/plain": [
       "60216"
      ]
     },
     "execution_count": 13,
     "metadata": {},
     "output_type": "execute_result"
    }
   ],
   "source": [
    "# The final shape we should have\n",
    "more_toxic_data.shape[0]+less_toxic_data.shape[0]"
   ]
  },
  {
   "cell_type": "code",
   "execution_count": 14,
   "id": "a23825af",
   "metadata": {
    "execution": {
     "iopub.execute_input": "2021-12-22T10:02:51.274474Z",
     "iopub.status.busy": "2021-12-22T10:02:51.273787Z",
     "iopub.status.idle": "2021-12-22T10:02:51.284957Z",
     "shell.execute_reply": "2021-12-22T10:02:51.285533Z"
    },
    "id": "oGL4YNMuJ82U",
    "outputId": "c16d6aa6-101b-4ef9-bc2c-0156a60d0f30",
    "papermill": {
     "duration": 0.054176,
     "end_time": "2021-12-22T10:02:51.285734",
     "exception": false,
     "start_time": "2021-12-22T10:02:51.231558",
     "status": "completed"
    },
    "tags": []
   },
   "outputs": [
    {
     "data": {
      "text/html": [
       "<div>\n",
       "<style scoped>\n",
       "    .dataframe tbody tr th:only-of-type {\n",
       "        vertical-align: middle;\n",
       "    }\n",
       "\n",
       "    .dataframe tbody tr th {\n",
       "        vertical-align: top;\n",
       "    }\n",
       "\n",
       "    .dataframe thead th {\n",
       "        text-align: right;\n",
       "    }\n",
       "</style>\n",
       "<table border=\"1\" class=\"dataframe\">\n",
       "  <thead>\n",
       "    <tr style=\"text-align: right;\">\n",
       "      <th></th>\n",
       "      <th>worker</th>\n",
       "      <th>text</th>\n",
       "      <th>toxicity</th>\n",
       "    </tr>\n",
       "  </thead>\n",
       "  <tbody>\n",
       "    <tr>\n",
       "      <th>0</th>\n",
       "      <td>313</td>\n",
       "      <td>This article sucks \\n\\nwoo woo wooooooo</td>\n",
       "      <td>0</td>\n",
       "    </tr>\n",
       "    <tr>\n",
       "      <th>1</th>\n",
       "      <td>188</td>\n",
       "      <td>\"And yes, people should recognize that but the...</td>\n",
       "      <td>0</td>\n",
       "    </tr>\n",
       "    <tr>\n",
       "      <th>2</th>\n",
       "      <td>82</td>\n",
       "      <td>Western Media?\\n\\nYup, because every crime in...</td>\n",
       "      <td>0</td>\n",
       "    </tr>\n",
       "    <tr>\n",
       "      <th>3</th>\n",
       "      <td>347</td>\n",
       "      <td>And you removed it! You numbskull! I don't car...</td>\n",
       "      <td>0</td>\n",
       "    </tr>\n",
       "    <tr>\n",
       "      <th>4</th>\n",
       "      <td>539</td>\n",
       "      <td>smelly vagina \\n\\nBluerasberry why don't you ...</td>\n",
       "      <td>0</td>\n",
       "    </tr>\n",
       "  </tbody>\n",
       "</table>\n",
       "</div>"
      ],
      "text/plain": [
       "   worker                                               text  toxicity\n",
       "0     313            This article sucks \\n\\nwoo woo wooooooo         0\n",
       "1     188  \"And yes, people should recognize that but the...         0\n",
       "2      82   Western Media?\\n\\nYup, because every crime in...         0\n",
       "3     347  And you removed it! You numbskull! I don't car...         0\n",
       "4     539   smelly vagina \\n\\nBluerasberry why don't you ...         0"
      ]
     },
     "execution_count": 14,
     "metadata": {},
     "output_type": "execute_result"
    }
   ],
   "source": [
    "# The concatenation\n",
    "workers_comments = pd.concat([less_toxic_data, more_toxic_data], axis=0)\n",
    "workers_comments.head(5)"
   ]
  },
  {
   "cell_type": "code",
   "execution_count": 15,
   "id": "ec113ca3",
   "metadata": {
    "execution": {
     "iopub.execute_input": "2021-12-22T10:02:51.370164Z",
     "iopub.status.busy": "2021-12-22T10:02:51.369497Z",
     "iopub.status.idle": "2021-12-22T10:02:51.375072Z",
     "shell.execute_reply": "2021-12-22T10:02:51.374577Z"
    },
    "id": "IFTR_snuLTXb",
    "outputId": "0c9c1a42-ae8f-407d-9fbc-e6be01627c6d",
    "papermill": {
     "duration": 0.048848,
     "end_time": "2021-12-22T10:02:51.375224",
     "exception": false,
     "start_time": "2021-12-22T10:02:51.326376",
     "status": "completed"
    },
    "tags": []
   },
   "outputs": [
    {
     "data": {
      "text/plain": [
       "60216"
      ]
     },
     "execution_count": 15,
     "metadata": {},
     "output_type": "execute_result"
    }
   ],
   "source": [
    "# Checking the shape\n",
    "workers_comments.shape[0]"
   ]
  },
  {
   "cell_type": "markdown",
   "id": "6959fbc0",
   "metadata": {
    "id": "9G31epzPLmtW",
    "papermill": {
     "duration": 0.040424,
     "end_time": "2021-12-22T10:02:51.458242",
     "exception": false,
     "start_time": "2021-12-22T10:02:51.417818",
     "status": "completed"
    },
    "tags": []
   },
   "source": [
    "### Aggregation by comment"
   ]
  },
  {
   "cell_type": "code",
   "execution_count": 16,
   "id": "8be8b7f8",
   "metadata": {
    "execution": {
     "iopub.execute_input": "2021-12-22T10:02:51.547999Z",
     "iopub.status.busy": "2021-12-22T10:02:51.547233Z",
     "iopub.status.idle": "2021-12-22T10:02:51.636685Z",
     "shell.execute_reply": "2021-12-22T10:02:51.636016Z"
    },
    "id": "DgI3XGumLpO6",
    "outputId": "c2c74db9-5ad6-4b6b-ce88-aeb4f93b259d",
    "papermill": {
     "duration": 0.138262,
     "end_time": "2021-12-22T10:02:51.636856",
     "exception": false,
     "start_time": "2021-12-22T10:02:51.498594",
     "status": "completed"
    },
    "tags": []
   },
   "outputs": [
    {
     "data": {
      "text/html": [
       "<div>\n",
       "<style scoped>\n",
       "    .dataframe tbody tr th:only-of-type {\n",
       "        vertical-align: middle;\n",
       "    }\n",
       "\n",
       "    .dataframe tbody tr th {\n",
       "        vertical-align: top;\n",
       "    }\n",
       "\n",
       "    .dataframe thead th {\n",
       "        text-align: right;\n",
       "    }\n",
       "</style>\n",
       "<table border=\"1\" class=\"dataframe\">\n",
       "  <thead>\n",
       "    <tr style=\"text-align: right;\">\n",
       "      <th></th>\n",
       "      <th>text</th>\n",
       "      <th>toxicity</th>\n",
       "    </tr>\n",
       "  </thead>\n",
       "  <tbody>\n",
       "    <tr>\n",
       "      <th>0</th>\n",
       "      <td>\\n\\nThe comment directly above this one are fr...</td>\n",
       "      <td>0.666667</td>\n",
       "    </tr>\n",
       "    <tr>\n",
       "      <th>1</th>\n",
       "      <td>\\n\\nwhy should people have to read crap posted...</td>\n",
       "      <td>0.888889</td>\n",
       "    </tr>\n",
       "    <tr>\n",
       "      <th>2</th>\n",
       "      <td>\\nGo F yourself you cottonheadednittymuggins.</td>\n",
       "      <td>0.666667</td>\n",
       "    </tr>\n",
       "    <tr>\n",
       "      <th>3</th>\n",
       "      <td>\\nU POUR ADMIN, U UPDATE VANDAL COUNT, WHILE R...</td>\n",
       "      <td>0.000000</td>\n",
       "    </tr>\n",
       "    <tr>\n",
       "      <th>4</th>\n",
       "      <td>\\n\\n koreans claim  \\n\\ni see youve seen the ...</td>\n",
       "      <td>0.333333</td>\n",
       "    </tr>\n",
       "  </tbody>\n",
       "</table>\n",
       "</div>"
      ],
      "text/plain": [
       "                                                text  toxicity\n",
       "0  \\n\\nThe comment directly above this one are fr...  0.666667\n",
       "1  \\n\\nwhy should people have to read crap posted...  0.888889\n",
       "2      \\nGo F yourself you cottonheadednittymuggins.  0.666667\n",
       "3  \\nU POUR ADMIN, U UPDATE VANDAL COUNT, WHILE R...  0.000000\n",
       "4   \\n\\n koreans claim  \\n\\ni see youve seen the ...  0.333333"
      ]
     },
     "execution_count": 16,
     "metadata": {},
     "output_type": "execute_result"
    }
   ],
   "source": [
    "# Aggregate the comments together and take the mean for the toxicity\n",
    "aggregated_comments = workers_comments.groupby('text').aggregate({'toxicity': 'mean'}).reset_index()\n",
    "aggregated_comments.head(5)"
   ]
  },
  {
   "cell_type": "code",
   "execution_count": 17,
   "id": "1a78c139",
   "metadata": {
    "execution": {
     "iopub.execute_input": "2021-12-22T10:02:51.723421Z",
     "iopub.status.busy": "2021-12-22T10:02:51.722775Z",
     "iopub.status.idle": "2021-12-22T10:02:51.726892Z",
     "shell.execute_reply": "2021-12-22T10:02:51.727510Z"
    },
    "id": "VFBQ8QZaMVKa",
    "outputId": "343a0020-f3f8-40fd-9fee-56a0b25404ff",
    "papermill": {
     "duration": 0.049063,
     "end_time": "2021-12-22T10:02:51.727698",
     "exception": false,
     "start_time": "2021-12-22T10:02:51.678635",
     "status": "completed"
    },
    "tags": []
   },
   "outputs": [
    {
     "data": {
      "text/plain": [
       "(14251, 2)"
      ]
     },
     "execution_count": 17,
     "metadata": {},
     "output_type": "execute_result"
    }
   ],
   "source": [
    "# In total we have 14521 comments\n",
    "aggregated_comments.shape"
   ]
  },
  {
   "cell_type": "code",
   "execution_count": 18,
   "id": "46dafb2c",
   "metadata": {
    "execution": {
     "iopub.execute_input": "2021-12-22T10:02:51.814706Z",
     "iopub.status.busy": "2021-12-22T10:02:51.814101Z",
     "iopub.status.idle": "2021-12-22T10:02:51.820625Z",
     "shell.execute_reply": "2021-12-22T10:02:51.821201Z"
    },
    "id": "YFaGWe5AM687",
    "outputId": "beacc9db-e106-4b98-e055-db1dd1154625",
    "papermill": {
     "duration": 0.051596,
     "end_time": "2021-12-22T10:02:51.821380",
     "exception": false,
     "start_time": "2021-12-22T10:02:51.769784",
     "status": "completed"
    },
    "tags": []
   },
   "outputs": [
    {
     "data": {
      "text/plain": [
       "array([0.        , 0.08333333, 0.1       , 0.11111111, 0.13333333,\n",
       "       0.14285714, 0.16666667, 0.2       , 0.22222222, 0.25      ,\n",
       "       0.26666667, 0.27777778, 0.28571429, 0.33333333, 0.38888889,\n",
       "       0.4       , 0.41666667, 0.42857143, 0.44444444, 0.46153846,\n",
       "       0.46666667, 0.5       , 0.53333333, 0.55555556, 0.57142857,\n",
       "       0.58333333, 0.6       , 0.66666667, 0.71428571, 0.73333333,\n",
       "       0.75      , 0.77777778, 0.8       , 0.83333333, 0.85714286,\n",
       "       0.88888889, 0.91666667, 0.93333333, 1.        ])"
      ]
     },
     "execution_count": 18,
     "metadata": {},
     "output_type": "execute_result"
    }
   ],
   "source": [
    "# In total we have 39 degrees of toxicity\n",
    "np.unique(aggregated_comments['toxicity'])"
   ]
  },
  {
   "cell_type": "code",
   "execution_count": 19,
   "id": "9d95252b",
   "metadata": {
    "execution": {
     "iopub.execute_input": "2021-12-22T10:02:51.910550Z",
     "iopub.status.busy": "2021-12-22T10:02:51.909555Z",
     "iopub.status.idle": "2021-12-22T10:02:51.918295Z",
     "shell.execute_reply": "2021-12-22T10:02:51.918919Z"
    },
    "id": "T-QvMO6MafDx",
    "outputId": "ee5e8df8-08b4-47a1-a5c7-a8f9671a8709",
    "papermill": {
     "duration": 0.055215,
     "end_time": "2021-12-22T10:02:51.919091",
     "exception": false,
     "start_time": "2021-12-22T10:02:51.863876",
     "status": "completed"
    },
    "tags": []
   },
   "outputs": [
    {
     "data": {
      "text/plain": [
       "(6786, 2)"
      ]
     },
     "execution_count": 19,
     "metadata": {},
     "output_type": "execute_result"
    }
   ],
   "source": [
    "# Let's count how many comments have a level smaller than 50% of toxicity\n",
    "less_50 = aggregated_comments[aggregated_comments.toxicity<0.5]\n",
    "less_50.shape"
   ]
  },
  {
   "cell_type": "code",
   "execution_count": 20,
   "id": "bb94f4bb",
   "metadata": {
    "execution": {
     "iopub.execute_input": "2021-12-22T10:02:52.010294Z",
     "iopub.status.busy": "2021-12-22T10:02:52.009235Z",
     "iopub.status.idle": "2021-12-22T10:02:52.016567Z",
     "shell.execute_reply": "2021-12-22T10:02:52.017167Z"
    },
    "id": "yD9M3qyRfMCL",
    "outputId": "f21b3883-9de8-41bc-994f-f4dda585305f",
    "papermill": {
     "duration": 0.05467,
     "end_time": "2021-12-22T10:02:52.017333",
     "exception": false,
     "start_time": "2021-12-22T10:02:51.962663",
     "status": "completed"
    },
    "tags": []
   },
   "outputs": [
    {
     "data": {
      "text/plain": [
       "(7465, 2)"
      ]
     },
     "execution_count": 20,
     "metadata": {},
     "output_type": "execute_result"
    }
   ],
   "source": [
    "# Let's count how many comments have a level greater than 50% of toxicity\n",
    "more_50 = aggregated_comments[aggregated_comments.toxicity>=0.5]\n",
    "more_50.shape\n",
    "\n",
    "# It is pretty balanced"
   ]
  },
  {
   "cell_type": "code",
   "execution_count": 21,
   "id": "75fba600",
   "metadata": {
    "execution": {
     "iopub.execute_input": "2021-12-22T10:02:52.108962Z",
     "iopub.status.busy": "2021-12-22T10:02:52.107939Z",
     "iopub.status.idle": "2021-12-22T10:02:52.119068Z",
     "shell.execute_reply": "2021-12-22T10:02:52.119612Z"
    },
    "id": "sQfeGMe4e4vo",
    "papermill": {
     "duration": 0.058375,
     "end_time": "2021-12-22T10:02:52.119803",
     "exception": false,
     "start_time": "2021-12-22T10:02:52.061428",
     "status": "completed"
    },
    "tags": []
   },
   "outputs": [
    {
     "data": {
      "text/html": [
       "<div>\n",
       "<style scoped>\n",
       "    .dataframe tbody tr th:only-of-type {\n",
       "        vertical-align: middle;\n",
       "    }\n",
       "\n",
       "    .dataframe tbody tr th {\n",
       "        vertical-align: top;\n",
       "    }\n",
       "\n",
       "    .dataframe thead th {\n",
       "        text-align: right;\n",
       "    }\n",
       "</style>\n",
       "<table border=\"1\" class=\"dataframe\">\n",
       "  <thead>\n",
       "    <tr style=\"text-align: right;\">\n",
       "      <th></th>\n",
       "      <th>text</th>\n",
       "      <th>toxicity</th>\n",
       "      <th>score</th>\n",
       "    </tr>\n",
       "  </thead>\n",
       "  <tbody>\n",
       "    <tr>\n",
       "      <th>0</th>\n",
       "      <td>\\n\\nThe comment directly above this one are fr...</td>\n",
       "      <td>0.666667</td>\n",
       "      <td>1</td>\n",
       "    </tr>\n",
       "    <tr>\n",
       "      <th>1</th>\n",
       "      <td>\\n\\nwhy should people have to read crap posted...</td>\n",
       "      <td>0.888889</td>\n",
       "      <td>1</td>\n",
       "    </tr>\n",
       "    <tr>\n",
       "      <th>2</th>\n",
       "      <td>\\nGo F yourself you cottonheadednittymuggins.</td>\n",
       "      <td>0.666667</td>\n",
       "      <td>1</td>\n",
       "    </tr>\n",
       "    <tr>\n",
       "      <th>3</th>\n",
       "      <td>\\nU POUR ADMIN, U UPDATE VANDAL COUNT, WHILE R...</td>\n",
       "      <td>0.000000</td>\n",
       "      <td>0</td>\n",
       "    </tr>\n",
       "    <tr>\n",
       "      <th>4</th>\n",
       "      <td>\\n\\n koreans claim  \\n\\ni see youve seen the ...</td>\n",
       "      <td>0.333333</td>\n",
       "      <td>0</td>\n",
       "    </tr>\n",
       "  </tbody>\n",
       "</table>\n",
       "</div>"
      ],
      "text/plain": [
       "                                                text  toxicity  score\n",
       "0  \\n\\nThe comment directly above this one are fr...  0.666667      1\n",
       "1  \\n\\nwhy should people have to read crap posted...  0.888889      1\n",
       "2      \\nGo F yourself you cottonheadednittymuggins.  0.666667      1\n",
       "3  \\nU POUR ADMIN, U UPDATE VANDAL COUNT, WHILE R...  0.000000      0\n",
       "4   \\n\\n koreans claim  \\n\\ni see youve seen the ...  0.333333      0"
      ]
     },
     "execution_count": 21,
     "metadata": {},
     "output_type": "execute_result"
    }
   ],
   "source": [
    "# Let's create two classes :\n",
    "aggregated_comments['score'] = np.where(aggregated_comments.toxicity<0.5, 0, 1)\n",
    "aggregated_comments.head(5)"
   ]
  },
  {
   "cell_type": "markdown",
   "id": "f1c813f2",
   "metadata": {
    "id": "19lOC3b3Zmi-",
    "papermill": {
     "duration": 0.043968,
     "end_time": "2021-12-22T10:02:52.208848",
     "exception": false,
     "start_time": "2021-12-22T10:02:52.164880",
     "status": "completed"
    },
    "tags": []
   },
   "source": [
    "### Cleaning the data"
   ]
  },
  {
   "cell_type": "code",
   "execution_count": 22,
   "id": "689f6576",
   "metadata": {
    "execution": {
     "iopub.execute_input": "2021-12-22T10:02:52.299510Z",
     "iopub.status.busy": "2021-12-22T10:02:52.298843Z",
     "iopub.status.idle": "2021-12-22T10:03:07.043253Z",
     "shell.execute_reply": "2021-12-22T10:03:07.042385Z"
    },
    "id": "BQKShST8ZtIW",
    "outputId": "d42c2047-5bf5-4433-98d6-a4024da82b80",
    "papermill": {
     "duration": 14.790916,
     "end_time": "2021-12-22T10:03:07.043506",
     "exception": false,
     "start_time": "2021-12-22T10:02:52.252590",
     "status": "completed"
    },
    "tags": []
   },
   "outputs": [
    {
     "data": {
      "text/html": [
       "<div>\n",
       "<style scoped>\n",
       "    .dataframe tbody tr th:only-of-type {\n",
       "        vertical-align: middle;\n",
       "    }\n",
       "\n",
       "    .dataframe tbody tr th {\n",
       "        vertical-align: top;\n",
       "    }\n",
       "\n",
       "    .dataframe thead th {\n",
       "        text-align: right;\n",
       "    }\n",
       "</style>\n",
       "<table border=\"1\" class=\"dataframe\">\n",
       "  <thead>\n",
       "    <tr style=\"text-align: right;\">\n",
       "      <th></th>\n",
       "      <th>text</th>\n",
       "      <th>toxicity</th>\n",
       "      <th>score</th>\n",
       "      <th>clean_text</th>\n",
       "    </tr>\n",
       "  </thead>\n",
       "  <tbody>\n",
       "    <tr>\n",
       "      <th>0</th>\n",
       "      <td>\\n\\nThe comment directly above this one are fr...</td>\n",
       "      <td>0.666667</td>\n",
       "      <td>1</td>\n",
       "      <td>comment directly one strange detractor mine cp...</td>\n",
       "    </tr>\n",
       "    <tr>\n",
       "      <th>1</th>\n",
       "      <td>\\n\\nwhy should people have to read crap posted...</td>\n",
       "      <td>0.888889</td>\n",
       "      <td>1</td>\n",
       "      <td>people read crap posted idiot like</td>\n",
       "    </tr>\n",
       "    <tr>\n",
       "      <th>2</th>\n",
       "      <td>\\nGo F yourself you cottonheadednittymuggins.</td>\n",
       "      <td>0.666667</td>\n",
       "      <td>1</td>\n",
       "      <td>go f cottonheadednittymuggins</td>\n",
       "    </tr>\n",
       "    <tr>\n",
       "      <th>3</th>\n",
       "      <td>\\nU POUR ADMIN, U UPDATE VANDAL COUNT, WHILE R...</td>\n",
       "      <td>0.000000</td>\n",
       "      <td>0</td>\n",
       "      <td>u pour admin u update vandal count real admin ...</td>\n",
       "    </tr>\n",
       "    <tr>\n",
       "      <th>4</th>\n",
       "      <td>\\n\\n koreans claim  \\n\\ni see youve seen the ...</td>\n",
       "      <td>0.333333</td>\n",
       "      <td>0</td>\n",
       "      <td>korean claim see youve seen crap claim also</td>\n",
       "    </tr>\n",
       "  </tbody>\n",
       "</table>\n",
       "</div>"
      ],
      "text/plain": [
       "                                                text  toxicity  score  \\\n",
       "0  \\n\\nThe comment directly above this one are fr...  0.666667      1   \n",
       "1  \\n\\nwhy should people have to read crap posted...  0.888889      1   \n",
       "2      \\nGo F yourself you cottonheadednittymuggins.  0.666667      1   \n",
       "3  \\nU POUR ADMIN, U UPDATE VANDAL COUNT, WHILE R...  0.000000      0   \n",
       "4   \\n\\n koreans claim  \\n\\ni see youve seen the ...  0.333333      0   \n",
       "\n",
       "                                          clean_text  \n",
       "0  comment directly one strange detractor mine cp...  \n",
       "1                 people read crap posted idiot like  \n",
       "2                      go f cottonheadednittymuggins  \n",
       "3  u pour admin u update vandal count real admin ...  \n",
       "4        korean claim see youve seen crap claim also  "
      ]
     },
     "execution_count": 22,
     "metadata": {},
     "output_type": "execute_result"
    }
   ],
   "source": [
    "aggregated_comments['clean_text'] = aggregated_comments['text'].apply(cleaning_text)\n",
    "aggregated_comments.head(5)"
   ]
  },
  {
   "cell_type": "markdown",
   "id": "6f50b906",
   "metadata": {
    "id": "OcUOXNnJfzwu",
    "papermill": {
     "duration": 0.049194,
     "end_time": "2021-12-22T10:03:07.142028",
     "exception": false,
     "start_time": "2021-12-22T10:03:07.092834",
     "status": "completed"
    },
    "tags": []
   },
   "source": [
    "## Training on the train dataset"
   ]
  },
  {
   "cell_type": "markdown",
   "id": "396da26a",
   "metadata": {
    "id": "IXvEbmv2h7HW",
    "papermill": {
     "duration": 0.044747,
     "end_time": "2021-12-22T10:03:07.242611",
     "exception": false,
     "start_time": "2021-12-22T10:03:07.197864",
     "status": "completed"
    },
    "tags": []
   },
   "source": [
    "**Some preparation**"
   ]
  },
  {
   "cell_type": "code",
   "execution_count": 23,
   "id": "987a7bc1",
   "metadata": {
    "execution": {
     "iopub.execute_input": "2021-12-22T10:03:07.337737Z",
     "iopub.status.busy": "2021-12-22T10:03:07.336999Z",
     "iopub.status.idle": "2021-12-22T10:03:07.349535Z",
     "shell.execute_reply": "2021-12-22T10:03:07.350149Z"
    },
    "id": "fomcUqS1gLPG",
    "papermill": {
     "duration": 0.062104,
     "end_time": "2021-12-22T10:03:07.350350",
     "exception": false,
     "start_time": "2021-12-22T10:03:07.288246",
     "status": "completed"
    },
    "tags": []
   },
   "outputs": [],
   "source": [
    "# splitting the dataframe\n",
    "# Here we split validation data to optimize classifier during training. \n",
    "X_train, X_test, y_train, y_test = train_test_split(aggregated_comments['clean_text'], aggregated_comments['score'], \n",
    "                                                          test_size=0.2, random_state=1)"
   ]
  },
  {
   "cell_type": "code",
   "execution_count": 24,
   "id": "42a1ad2d",
   "metadata": {
    "execution": {
     "iopub.execute_input": "2021-12-22T10:03:07.446118Z",
     "iopub.status.busy": "2021-12-22T10:03:07.445390Z",
     "iopub.status.idle": "2021-12-22T10:03:07.452080Z",
     "shell.execute_reply": "2021-12-22T10:03:07.452705Z"
    },
    "id": "kUcg_8V4hE_Q",
    "papermill": {
     "duration": 0.056906,
     "end_time": "2021-12-22T10:03:07.452893",
     "exception": false,
     "start_time": "2021-12-22T10:03:07.395987",
     "status": "completed"
    },
    "tags": []
   },
   "outputs": [],
   "source": [
    "X_train = pd.DataFrame(data=X_train)\n",
    "X_test = pd.DataFrame(data=X_test)"
   ]
  },
  {
   "cell_type": "code",
   "execution_count": 25,
   "id": "f407fc2f",
   "metadata": {
    "execution": {
     "iopub.execute_input": "2021-12-22T10:03:07.548488Z",
     "iopub.status.busy": "2021-12-22T10:03:07.547808Z",
     "iopub.status.idle": "2021-12-22T10:03:08.053651Z",
     "shell.execute_reply": "2021-12-22T10:03:08.052999Z"
    },
    "id": "3CKKIbVcfzRY",
    "papermill": {
     "duration": 0.55465,
     "end_time": "2021-12-22T10:03:08.053802",
     "exception": false,
     "start_time": "2021-12-22T10:03:07.499152",
     "status": "completed"
    },
    "tags": []
   },
   "outputs": [],
   "source": [
    "tokenizer = Tokenizer()\n",
    "# We fit it to the train test\n",
    "tokenizer.fit_on_texts(X_train['clean_text'])"
   ]
  },
  {
   "cell_type": "code",
   "execution_count": 26,
   "id": "efb794bf",
   "metadata": {
    "execution": {
     "iopub.execute_input": "2021-12-22T10:03:08.148374Z",
     "iopub.status.busy": "2021-12-22T10:03:08.147726Z",
     "iopub.status.idle": "2021-12-22T10:03:08.150460Z",
     "shell.execute_reply": "2021-12-22T10:03:08.149965Z"
    },
    "id": "AZirACXjgHQP",
    "papermill": {
     "duration": 0.051843,
     "end_time": "2021-12-22T10:03:08.150601",
     "exception": false,
     "start_time": "2021-12-22T10:03:08.098758",
     "status": "completed"
    },
    "tags": []
   },
   "outputs": [],
   "source": [
    "vocab_length = len(tokenizer.word_index) +1"
   ]
  },
  {
   "cell_type": "code",
   "execution_count": 27,
   "id": "c6596528",
   "metadata": {
    "execution": {
     "iopub.execute_input": "2021-12-22T10:03:08.298415Z",
     "iopub.status.busy": "2021-12-22T10:03:08.282773Z",
     "iopub.status.idle": "2021-12-22T10:03:08.685428Z",
     "shell.execute_reply": "2021-12-22T10:03:08.684865Z"
    },
    "id": "nU-mYYVMgJRn",
    "papermill": {
     "duration": 0.488875,
     "end_time": "2021-12-22T10:03:08.685609",
     "exception": false,
     "start_time": "2021-12-22T10:03:08.196734",
     "status": "completed"
    },
    "tags": []
   },
   "outputs": [],
   "source": [
    "# we create a list of words encoded\n",
    "X_train = tokenizer.texts_to_sequences(X_train[\"clean_text\"])\n",
    "X_test = tokenizer.texts_to_sequences(X_test[\"clean_text\"])"
   ]
  },
  {
   "cell_type": "code",
   "execution_count": 28,
   "id": "c1eb8654",
   "metadata": {
    "execution": {
     "iopub.execute_input": "2021-12-22T10:03:08.788233Z",
     "iopub.status.busy": "2021-12-22T10:03:08.787324Z",
     "iopub.status.idle": "2021-12-22T10:03:08.791577Z",
     "shell.execute_reply": "2021-12-22T10:03:08.790845Z"
    },
    "id": "HMmwn9gUhpVX",
    "outputId": "3226f1c7-d896-4075-e4f2-ff8b4f52646b",
    "papermill": {
     "duration": 0.059916,
     "end_time": "2021-12-22T10:03:08.791770",
     "exception": false,
     "start_time": "2021-12-22T10:03:08.731854",
     "status": "completed"
    },
    "tags": []
   },
   "outputs": [
    {
     "name": "stdout",
     "output_type": "stream",
     "text": [
      "Maximum number of words in one tweet:  1001\n"
     ]
    }
   ],
   "source": [
    "# We need all the list to be of the same length \n",
    "\n",
    "# we then  compute the maximum length\n",
    "max_word_train = 0\n",
    "max_word_test = 0\n",
    "\n",
    "for text in X_train:\n",
    "    length = len(text)\n",
    "    if length > max_word_train:\n",
    "        max_word_train = length\n",
    "\n",
    "for text in X_test:\n",
    "    length = len(text)\n",
    "    if length > max_word_test:\n",
    "        max_word_test= length\n",
    "\n",
    "max_word = max(max_word_test,max_word_train)\n",
    "print(\"Maximum number of words in one tweet: \", max_word)"
   ]
  },
  {
   "cell_type": "code",
   "execution_count": 29,
   "id": "81691269",
   "metadata": {
    "execution": {
     "iopub.execute_input": "2021-12-22T10:03:08.895797Z",
     "iopub.status.busy": "2021-12-22T10:03:08.895091Z",
     "iopub.status.idle": "2021-12-22T10:03:09.101849Z",
     "shell.execute_reply": "2021-12-22T10:03:09.101211Z"
    },
    "id": "9HLtUF1Mhy1t",
    "papermill": {
     "duration": 0.26259,
     "end_time": "2021-12-22T10:03:09.102002",
     "exception": false,
     "start_time": "2021-12-22T10:03:08.839412",
     "status": "completed"
    },
    "tags": []
   },
   "outputs": [],
   "source": [
    "# We then pad the sequences with 1001 as a length\n",
    "X_train = pad_sequences(X_train, maxlen=max_word, padding='post')\n",
    "X_test = pad_sequences(X_test, maxlen=max_word, padding='post')"
   ]
  },
  {
   "cell_type": "markdown",
   "id": "3d9a9b18",
   "metadata": {
    "id": "Um6v7DIHh9ug",
    "papermill": {
     "duration": 0.045232,
     "end_time": "2021-12-22T10:03:09.193128",
     "exception": false,
     "start_time": "2021-12-22T10:03:09.147896",
     "status": "completed"
    },
    "tags": []
   },
   "source": [
    "**Building the model**"
   ]
  },
  {
   "cell_type": "code",
   "execution_count": 30,
   "id": "b178f8d9",
   "metadata": {
    "execution": {
     "iopub.execute_input": "2021-12-22T10:03:09.292268Z",
     "iopub.status.busy": "2021-12-22T10:03:09.291612Z",
     "iopub.status.idle": "2021-12-22T10:03:10.316983Z",
     "shell.execute_reply": "2021-12-22T10:03:10.316346Z"
    },
    "id": "hTAgaoA9iAye",
    "outputId": "a949ecb3-9e4e-459c-d5ef-06f1e095fb68",
    "papermill": {
     "duration": 1.07742,
     "end_time": "2021-12-22T10:03:10.317131",
     "exception": false,
     "start_time": "2021-12-22T10:03:09.239711",
     "status": "completed"
    },
    "tags": []
   },
   "outputs": [
    {
     "name": "stderr",
     "output_type": "stream",
     "text": [
      "\n",
      "User settings:\n",
      "\n",
      "   KMP_AFFINITY=granularity=fine,verbose,compact,1,0\n",
      "   KMP_BLOCKTIME=0\n",
      "   KMP_DUPLICATE_LIB_OK=True\n",
      "   KMP_INIT_AT_FORK=FALSE\n",
      "   KMP_SETTINGS=1\n",
      "   KMP_WARNINGS=0\n",
      "\n",
      "Effective settings:\n",
      "\n",
      "   KMP_ABORT_DELAY=0\n",
      "   KMP_ADAPTIVE_LOCK_PROPS='1,1024'\n",
      "   KMP_ALIGN_ALLOC=64\n",
      "   KMP_ALL_THREADPRIVATE=128\n",
      "   KMP_ATOMIC_MODE=2\n",
      "   KMP_BLOCKTIME=0\n",
      "   KMP_CPUINFO_FILE: value is not defined\n",
      "   KMP_DETERMINISTIC_REDUCTION=false\n",
      "   KMP_DEVICE_THREAD_LIMIT=2147483647\n",
      "   KMP_DISP_NUM_BUFFERS=7\n",
      "   KMP_DUPLICATE_LIB_OK=true\n",
      "   KMP_ENABLE_TASK_THROTTLING=true\n",
      "   KMP_FORCE_REDUCTION: value is not defined\n",
      "   KMP_FOREIGN_THREADS_THREADPRIVATE=true\n",
      "   KMP_FORKJOIN_BARRIER='2,2'\n",
      "   KMP_FORKJOIN_BARRIER_PATTERN='hyper,hyper'\n",
      "   KMP_GTID_MODE=3\n",
      "   KMP_HANDLE_SIGNALS=false\n",
      "   KMP_HOT_TEAMS_MAX_LEVEL=1\n",
      "   KMP_HOT_TEAMS_MODE=0\n",
      "   KMP_INIT_AT_FORK=true\n",
      "   KMP_LIBRARY=throughput\n",
      "   KMP_LOCK_KIND=queuing\n",
      "   KMP_MALLOC_POOL_INCR=1M\n",
      "   KMP_NUM_LOCKS_IN_BLOCK=1\n",
      "   KMP_PLAIN_BARRIER='2,2'\n",
      "   KMP_PLAIN_BARRIER_PATTERN='hyper,hyper'\n",
      "   KMP_REDUCTION_BARRIER='1,1'\n",
      "   KMP_REDUCTION_BARRIER_PATTERN='hyper,hyper'\n",
      "   KMP_SCHEDULE='static,balanced;guided,iterative'\n",
      "   KMP_SETTINGS=true\n",
      "   KMP_SPIN_BACKOFF_PARAMS='4096,100'\n",
      "   KMP_STACKOFFSET=64\n",
      "   KMP_STACKPAD=0\n",
      "   KMP_STACKSIZE=8M\n",
      "   KMP_STORAGE_MAP=false\n",
      "   KMP_TASKING=2\n",
      "   KMP_TASKLOOP_MIN_TASKS=0\n",
      "   KMP_TASK_STEALING_CONSTRAINT=1\n",
      "   KMP_TEAMS_THREAD_LIMIT=4\n",
      "   KMP_TOPOLOGY_METHOD=all\n",
      "   KMP_USE_YIELD=1\n",
      "   KMP_VERSION=false\n",
      "   KMP_WARNINGS=false\n",
      "   OMP_AFFINITY_FORMAT='OMP: pid %P tid %i thread %n bound to OS proc set {%A}'\n",
      "   OMP_ALLOCATOR=omp_default_mem_alloc\n",
      "   OMP_CANCELLATION=false\n",
      "   OMP_DEFAULT_DEVICE=0\n",
      "   OMP_DISPLAY_AFFINITY=false\n",
      "   OMP_DISPLAY_ENV=false\n",
      "   OMP_DYNAMIC=false\n",
      "   OMP_MAX_ACTIVE_LEVELS=1\n",
      "   OMP_MAX_TASK_PRIORITY=0\n",
      "   OMP_NESTED: deprecated; max-active-levels-var=1\n",
      "   OMP_NUM_THREADS: value is not defined\n",
      "   OMP_PLACES: value is not defined\n",
      "   OMP_PROC_BIND='intel'\n",
      "   OMP_SCHEDULE='static'\n",
      "   OMP_STACKSIZE=8M\n",
      "   OMP_TARGET_OFFLOAD=DEFAULT\n",
      "   OMP_THREAD_LIMIT=2147483647\n",
      "   OMP_WAIT_POLICY=PASSIVE\n",
      "   KMP_AFFINITY='verbose,warnings,respect,granularity=fine,compact,1,0'\n",
      "\n",
      "2021-12-22 10:03:09.336170: I tensorflow/core/common_runtime/process_util.cc:146] Creating new thread pool with default inter op setting: 2. Tune using inter_op_parallelism_threads for best performance.\n"
     ]
    },
    {
     "name": "stdout",
     "output_type": "stream",
     "text": [
      "Model: \"sequential\"\n",
      "_________________________________________________________________\n",
      "Layer (type)                 Output Shape              Param #   \n",
      "=================================================================\n",
      "embedding (Embedding)        (None, 1001, 32)          1052256   \n",
      "_________________________________________________________________\n",
      "lstm (LSTM)                  (None, 100)               53200     \n",
      "_________________________________________________________________\n",
      "dense (Dense)                (None, 64)                6464      \n",
      "_________________________________________________________________\n",
      "dense_1 (Dense)              (None, 32)                2080      \n",
      "_________________________________________________________________\n",
      "dense_2 (Dense)              (None, 16)                528       \n",
      "_________________________________________________________________\n",
      "dense_3 (Dense)              (None, 1)                 17        \n",
      "=================================================================\n",
      "Total params: 1,114,545\n",
      "Trainable params: 1,114,545\n",
      "Non-trainable params: 0\n",
      "_________________________________________________________________\n",
      "None\n"
     ]
    }
   ],
   "source": [
    "model_LSTM = Sequential()\n",
    "model_LSTM.add(layers.Embedding(vocab_length, output_dim=32, input_length=max_word, mask_zero=True))\n",
    "model_LSTM.add(layers.LSTM(100))\n",
    "model_LSTM.add(layers.Dense(64, activation=\"relu\"))\n",
    "model_LSTM.add(layers.Dense(32, activation=\"relu\"))\n",
    "model_LSTM.add(layers.Dense(16, activation=\"relu\"))\n",
    "model_LSTM.add(layers.Dense(1, activation='sigmoid'))\n",
    "model_LSTM.compile(loss='binary_crossentropy', optimizer='adam', metrics=['accuracy'])\n",
    "print(model_LSTM.summary())"
   ]
  },
  {
   "cell_type": "code",
   "execution_count": 31,
   "id": "5640c8a1",
   "metadata": {
    "execution": {
     "iopub.execute_input": "2021-12-22T10:03:10.417123Z",
     "iopub.status.busy": "2021-12-22T10:03:10.416376Z",
     "iopub.status.idle": "2021-12-22T10:09:53.464626Z",
     "shell.execute_reply": "2021-12-22T10:09:53.465517Z"
    },
    "id": "Vsr13v-1iNon",
    "outputId": "b64c1500-6b1c-4276-afe2-16cf7bd03c44",
    "papermill": {
     "duration": 403.100933,
     "end_time": "2021-12-22T10:09:53.465774",
     "exception": false,
     "start_time": "2021-12-22T10:03:10.364841",
     "status": "completed"
    },
    "tags": []
   },
   "outputs": [
    {
     "name": "stderr",
     "output_type": "stream",
     "text": [
      "2021-12-22 10:03:10.531859: I tensorflow/compiler/mlir/mlir_graph_optimization_pass.cc:185] None of the MLIR Optimization Passes are enabled (registered 2)\n"
     ]
    },
    {
     "name": "stdout",
     "output_type": "stream",
     "text": [
      "Epoch 1/2\n",
      "90/90 [==============================] - 204s 2s/step - loss: 0.6639 - accuracy: 0.5738 - val_loss: 0.6419 - val_accuracy: 0.6173\n",
      "Epoch 2/2\n",
      "90/90 [==============================] - 199s 2s/step - loss: 0.5425 - accuracy: 0.7341 - val_loss: 0.6631 - val_accuracy: 0.6149\n"
     ]
    }
   ],
   "source": [
    "history = model_LSTM.fit(np.array(X_train),\n",
    "                         np.array(y_train),\n",
    "                         validation_data=(np.array(X_test), np.array(y_test)),\n",
    "                         epochs=2,\n",
    "                         batch_size=128)"
   ]
  },
  {
   "cell_type": "code",
   "execution_count": 32,
   "id": "b941e338",
   "metadata": {
    "execution": {
     "iopub.execute_input": "2021-12-22T10:09:53.682772Z",
     "iopub.status.busy": "2021-12-22T10:09:53.682049Z",
     "iopub.status.idle": "2021-12-22T10:09:54.105825Z",
     "shell.execute_reply": "2021-12-22T10:09:54.105275Z"
    },
    "id": "rc5w79eJieLO",
    "outputId": "8f857df3-9e6b-4464-dfea-34a890944f2e",
    "papermill": {
     "duration": 0.536837,
     "end_time": "2021-12-22T10:09:54.105975",
     "exception": false,
     "start_time": "2021-12-22T10:09:53.569138",
     "status": "completed"
    },
    "tags": []
   },
   "outputs": [
    {
     "data": {
      "image/png": "[encoded data removed]",
      "text/plain": [
       "<Figure size 432x288 with 1 Axes>"
      ]
     },
     "metadata": {
      "needs_background": "light"
     },
     "output_type": "display_data"
    },
    {
     "data": {
      "image/png": "[encoded data removed]",
      "text/plain": [
       "<Figure size 432x288 with 1 Axes>"
      ]
     },
     "metadata": {
      "needs_background": "light"
     },
     "output_type": "display_data"
    }
   ],
   "source": [
    "# to see if we have overfitting\n",
    "plot_history(history)"
   ]
  },
  {
   "cell_type": "markdown",
   "id": "efd0917c",
   "metadata": {
    "id": "gsQpvQxtihaH",
    "papermill": {
     "duration": 0.103395,
     "end_time": "2021-12-22T10:09:54.313555",
     "exception": false,
     "start_time": "2021-12-22T10:09:54.210160",
     "status": "completed"
    },
    "tags": []
   },
   "source": [
    "**Prediction**"
   ]
  },
  {
   "cell_type": "code",
   "execution_count": 33,
   "id": "0da2cedd",
   "metadata": {
    "execution": {
     "iopub.execute_input": "2021-12-22T10:09:54.526011Z",
     "iopub.status.busy": "2021-12-22T10:09:54.525286Z",
     "iopub.status.idle": "2021-12-22T10:11:11.404760Z",
     "shell.execute_reply": "2021-12-22T10:11:11.405329Z"
    },
    "id": "nFXlk8a6isje",
    "papermill": {
     "duration": 76.988218,
     "end_time": "2021-12-22T10:11:11.405564",
     "exception": false,
     "start_time": "2021-12-22T10:09:54.417346",
     "status": "completed"
    },
    "tags": []
   },
   "outputs": [],
   "source": [
    "to_predict = tokenizer.texts_to_sequences(comments_to_score[\"clean_text\"])\n",
    "to_predict = pad_sequences(to_predict, maxlen=max_word, padding='post')\n",
    "\n",
    "pred = model_LSTM.predict(to_predict)"
   ]
  },
  {
   "cell_type": "code",
   "execution_count": 34,
   "id": "748e42a2",
   "metadata": {
    "execution": {
     "iopub.execute_input": "2021-12-22T10:11:11.623260Z",
     "iopub.status.busy": "2021-12-22T10:11:11.622514Z",
     "iopub.status.idle": "2021-12-22T10:11:11.625203Z",
     "shell.execute_reply": "2021-12-22T10:11:11.625707Z"
    },
    "id": "mljnyjBeli6N",
    "outputId": "a45e1ee3-54f1-404c-9b8e-179b3076548a",
    "papermill": {
     "duration": 0.114053,
     "end_time": "2021-12-22T10:11:11.625890",
     "exception": false,
     "start_time": "2021-12-22T10:11:11.511837",
     "status": "completed"
    },
    "tags": []
   },
   "outputs": [
    {
     "data": {
      "text/plain": [
       "array([[0.21073472],\n",
       "       [0.24994424],\n",
       "       [0.2948797 ],\n",
       "       ...,\n",
       "       [0.32783163],\n",
       "       [0.60205036],\n",
       "       [0.38095647]], dtype=float32)"
      ]
     },
     "execution_count": 34,
     "metadata": {},
     "output_type": "execute_result"
    }
   ],
   "source": [
    "pred"
   ]
  },
  {
   "cell_type": "markdown",
   "id": "82980d42",
   "metadata": {
    "id": "eEeoWu7jjTDJ",
    "papermill": {
     "duration": 0.10446,
     "end_time": "2021-12-22T10:11:11.835084",
     "exception": false,
     "start_time": "2021-12-22T10:11:11.730624",
     "status": "completed"
    },
    "tags": []
   },
   "source": [
    "**Submission file**"
   ]
  },
  {
   "cell_type": "code",
   "execution_count": 35,
   "id": "89899388",
   "metadata": {
    "execution": {
     "iopub.execute_input": "2021-12-22T10:11:12.052662Z",
     "iopub.status.busy": "2021-12-22T10:11:12.049250Z",
     "iopub.status.idle": "2021-12-22T10:11:12.054554Z",
     "shell.execute_reply": "2021-12-22T10:11:12.055133Z"
    },
    "id": "RbFomTuajVF-",
    "papermill": {
     "duration": 0.115122,
     "end_time": "2021-12-22T10:11:12.055309",
     "exception": false,
     "start_time": "2021-12-22T10:11:11.940187",
     "status": "completed"
    },
    "tags": []
   },
   "outputs": [],
   "source": [
    "# Exporting the submission file\n",
    "results = pd.DataFrame(comments_to_score[\"comment_id\"])\n",
    "results[\"score\"] = pred"
   ]
  },
  {
   "cell_type": "code",
   "execution_count": 36,
   "id": "62202572",
   "metadata": {
    "execution": {
     "iopub.execute_input": "2021-12-22T10:11:12.269135Z",
     "iopub.status.busy": "2021-12-22T10:11:12.268498Z",
     "iopub.status.idle": "2021-12-22T10:11:12.276980Z",
     "shell.execute_reply": "2021-12-22T10:11:12.277529Z"
    },
    "id": "c9lgQNH4ltxu",
    "outputId": "6e531b20-f752-4743-8d66-f2f6aadb9af7",
    "papermill": {
     "duration": 0.117297,
     "end_time": "2021-12-22T10:11:12.277706",
     "exception": false,
     "start_time": "2021-12-22T10:11:12.160409",
     "status": "completed"
    },
    "tags": []
   },
   "outputs": [
    {
     "data": {
      "text/html": [
       "<div>\n",
       "<style scoped>\n",
       "    .dataframe tbody tr th:only-of-type {\n",
       "        vertical-align: middle;\n",
       "    }\n",
       "\n",
       "    .dataframe tbody tr th {\n",
       "        vertical-align: top;\n",
       "    }\n",
       "\n",
       "    .dataframe thead th {\n",
       "        text-align: right;\n",
       "    }\n",
       "</style>\n",
       "<table border=\"1\" class=\"dataframe\">\n",
       "  <thead>\n",
       "    <tr style=\"text-align: right;\">\n",
       "      <th></th>\n",
       "      <th>comment_id</th>\n",
       "      <th>score</th>\n",
       "    </tr>\n",
       "  </thead>\n",
       "  <tbody>\n",
       "    <tr>\n",
       "      <th>0</th>\n",
       "      <td>114890</td>\n",
       "      <td>0.210735</td>\n",
       "    </tr>\n",
       "    <tr>\n",
       "      <th>1</th>\n",
       "      <td>732895</td>\n",
       "      <td>0.249944</td>\n",
       "    </tr>\n",
       "    <tr>\n",
       "      <th>2</th>\n",
       "      <td>1139051</td>\n",
       "      <td>0.294880</td>\n",
       "    </tr>\n",
       "    <tr>\n",
       "      <th>3</th>\n",
       "      <td>1434512</td>\n",
       "      <td>0.135814</td>\n",
       "    </tr>\n",
       "    <tr>\n",
       "      <th>4</th>\n",
       "      <td>2084821</td>\n",
       "      <td>0.678153</td>\n",
       "    </tr>\n",
       "  </tbody>\n",
       "</table>\n",
       "</div>"
      ],
      "text/plain": [
       "   comment_id     score\n",
       "0      114890  0.210735\n",
       "1      732895  0.249944\n",
       "2     1139051  0.294880\n",
       "3     1434512  0.135814\n",
       "4     2084821  0.678153"
      ]
     },
     "execution_count": 36,
     "metadata": {},
     "output_type": "execute_result"
    }
   ],
   "source": [
    "results.head(5)"
   ]
  },
  {
   "cell_type": "code",
   "execution_count": 37,
   "id": "550e174e",
   "metadata": {
    "execution": {
     "iopub.execute_input": "2021-12-22T10:11:12.491502Z",
     "iopub.status.busy": "2021-12-22T10:11:12.490842Z",
     "iopub.status.idle": "2021-12-22T10:11:12.522248Z",
     "shell.execute_reply": "2021-12-22T10:11:12.521555Z"
    },
    "id": "pLDLwaHllnBl",
    "papermill": {
     "duration": 0.138637,
     "end_time": "2021-12-22T10:11:12.522401",
     "exception": false,
     "start_time": "2021-12-22T10:11:12.383764",
     "status": "completed"
    },
    "tags": []
   },
   "outputs": [],
   "source": [
    "results.to_csv(\"submission.csv\", index=False)"
   ]
  }
 ],
 "metadata": {
  "kernelspec": {
   "display_name": "Python 3",
   "language": "python",
   "name": "python3"
  },
  "language_info": {
   "codemirror_mode": {
    "name": "ipython",
    "version": 3
   },
   "file_extension": ".py",
   "mimetype": "text/x-python",
   "name": "python",
   "nbconvert_exporter": "python",
   "pygments_lexer": "ipython3",
   "version": "3.7.12"
  },
  "papermill": {
   "default_parameters": {},
   "duration": 535.029005,
   "end_time": "2021-12-22T10:11:15.495167",
   "environment_variables": {},
   "exception": null,
   "input_path": "__notebook__.ipynb",
   "output_path": "__notebook__.ipynb",
   "parameters": {},
   "start_time": "2021-12-22T10:02:20.466162",
   "version": "2.3.3"
  }
 },
 "nbformat": 4,
 "nbformat_minor": 5
}
