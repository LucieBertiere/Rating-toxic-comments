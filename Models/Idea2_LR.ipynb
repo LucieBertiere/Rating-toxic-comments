{
 "cells": [
  {
   "cell_type": "markdown",
   "id": "3fba37d8",
   "metadata": {
    "papermill": {
     "duration": 0.037724,
     "end_time": "2022-01-08T11:05:56.665212",
     "exception": false,
     "start_time": "2022-01-08T11:05:56.627488",
     "status": "completed"
    },
    "tags": []
   },
   "source": [
    "**Jigsaw Rate Severity of Toxic Comments**\n",
    "\n",
    "Raquel Alcaraz\n",
    "\n",
    "Lucie Bertiere"
   ]
  },
  {
   "cell_type": "markdown",
   "id": "851e3404",
   "metadata": {
    "papermill": {
     "duration": 0.03407,
     "end_time": "2022-01-08T11:05:56.732756",
     "exception": false,
     "start_time": "2022-01-08T11:05:56.698686",
     "status": "completed"
    },
    "tags": []
   },
   "source": [
    "## Libraries"
   ]
  },
  {
   "cell_type": "code",
   "execution_count": 1,
   "id": "12c9d822",
   "metadata": {
    "execution": {
     "iopub.execute_input": "2022-01-08T11:05:56.814794Z",
     "iopub.status.busy": "2022-01-08T11:05:56.813321Z",
     "iopub.status.idle": "2022-01-08T11:05:58.797405Z",
     "shell.execute_reply": "2022-01-08T11:05:58.796566Z",
     "shell.execute_reply.started": "2022-01-08T10:53:25.395097Z"
    },
    "papermill": {
     "duration": 2.031203,
     "end_time": "2022-01-08T11:05:58.797601",
     "exception": false,
     "start_time": "2022-01-08T11:05:56.766398",
     "status": "completed"
    },
    "tags": []
   },
   "outputs": [],
   "source": [
    "import pandas as pd\n",
    "import os\n",
    "import seaborn as sns\n",
    "import numpy as np\n",
    "import matplotlib.pyplot as plt\n",
    "\n",
    "import re\n",
    "import nltk\n",
    "from nltk import word_tokenize\n",
    "from nltk.corpus import stopwords\n",
    "from nltk.stem import WordNetLemmatizer\n",
    "from wordcloud import WordCloud\n",
    "from collections import Counter\n",
    "\n",
    "\n",
    "from sklearn.linear_model import LinearRegression\n",
    "from sklearn.feature_extraction.text import TfidfVectorizer\n",
    "from sklearn import model_selection\n",
    "from sklearn import metrics\n",
    "from sklearn.feature_extraction.text import TfidfVectorizer"
   ]
  },
  {
   "cell_type": "markdown",
   "id": "1276e482",
   "metadata": {
    "papermill": {
     "duration": 0.031749,
     "end_time": "2022-01-08T11:05:58.863291",
     "exception": false,
     "start_time": "2022-01-08T11:05:58.831542",
     "status": "completed"
    },
    "tags": []
   },
   "source": [
    "## Importing the data"
   ]
  },
  {
   "cell_type": "code",
   "execution_count": 2,
   "id": "dc6a3d2a",
   "metadata": {
    "execution": {
     "iopub.execute_input": "2022-01-08T11:05:58.935187Z",
     "iopub.status.busy": "2022-01-08T11:05:58.934474Z",
     "iopub.status.idle": "2022-01-08T11:05:59.066519Z",
     "shell.execute_reply": "2022-01-08T11:05:59.065679Z",
     "shell.execute_reply.started": "2022-01-08T10:53:29.128012Z"
    },
    "papermill": {
     "duration": 0.168396,
     "end_time": "2022-01-08T11:05:59.066707",
     "exception": false,
     "start_time": "2022-01-08T11:05:58.898311",
     "status": "completed"
    },
    "tags": []
   },
   "outputs": [],
   "source": [
    "comments_to_score = pd.read_csv(\"/kaggle/input/jigsaw-toxic-severity-rating/comments_to_score.csv\")"
   ]
  },
  {
   "cell_type": "code",
   "execution_count": 3,
   "id": "6f5eebf1",
   "metadata": {
    "execution": {
     "iopub.execute_input": "2022-01-08T11:05:59.135975Z",
     "iopub.status.busy": "2022-01-08T11:05:59.135196Z",
     "iopub.status.idle": "2022-01-08T11:05:59.155727Z",
     "shell.execute_reply": "2022-01-08T11:05:59.156273Z",
     "shell.execute_reply.started": "2022-01-08T10:53:31.112628Z"
    },
    "papermill": {
     "duration": 0.057069,
     "end_time": "2022-01-08T11:05:59.156465",
     "exception": false,
     "start_time": "2022-01-08T11:05:59.099396",
     "status": "completed"
    },
    "tags": []
   },
   "outputs": [
    {
     "data": {
      "text/html": [
       "<div>\n",
       "<style scoped>\n",
       "    .dataframe tbody tr th:only-of-type {\n",
       "        vertical-align: middle;\n",
       "    }\n",
       "\n",
       "    .dataframe tbody tr th {\n",
       "        vertical-align: top;\n",
       "    }\n",
       "\n",
       "    .dataframe thead th {\n",
       "        text-align: right;\n",
       "    }\n",
       "</style>\n",
       "<table border=\"1\" class=\"dataframe\">\n",
       "  <thead>\n",
       "    <tr style=\"text-align: right;\">\n",
       "      <th></th>\n",
       "      <th>comment_id</th>\n",
       "      <th>text</th>\n",
       "    </tr>\n",
       "  </thead>\n",
       "  <tbody>\n",
       "    <tr>\n",
       "      <th>0</th>\n",
       "      <td>114890</td>\n",
       "      <td>\"\\n \\n\\nGjalexei, you asked about whether ther...</td>\n",
       "    </tr>\n",
       "    <tr>\n",
       "      <th>1</th>\n",
       "      <td>732895</td>\n",
       "      <td>Looks like be have an abuser , can you please ...</td>\n",
       "    </tr>\n",
       "    <tr>\n",
       "      <th>2</th>\n",
       "      <td>1139051</td>\n",
       "      <td>I confess to having complete (and apparently b...</td>\n",
       "    </tr>\n",
       "    <tr>\n",
       "      <th>3</th>\n",
       "      <td>1434512</td>\n",
       "      <td>\"\\n\\nFreud's ideas are certainly much discusse...</td>\n",
       "    </tr>\n",
       "    <tr>\n",
       "      <th>4</th>\n",
       "      <td>2084821</td>\n",
       "      <td>It is not just you. This is a laundry list of ...</td>\n",
       "    </tr>\n",
       "  </tbody>\n",
       "</table>\n",
       "</div>"
      ],
      "text/plain": [
       "   comment_id                                               text\n",
       "0      114890  \"\\n \\n\\nGjalexei, you asked about whether ther...\n",
       "1      732895  Looks like be have an abuser , can you please ...\n",
       "2     1139051  I confess to having complete (and apparently b...\n",
       "3     1434512  \"\\n\\nFreud's ideas are certainly much discusse...\n",
       "4     2084821  It is not just you. This is a laundry list of ..."
      ]
     },
     "execution_count": 3,
     "metadata": {},
     "output_type": "execute_result"
    }
   ],
   "source": [
    "comments_to_score.head(5)"
   ]
  },
  {
   "cell_type": "markdown",
   "id": "c899020c",
   "metadata": {
    "papermill": {
     "duration": 0.032198,
     "end_time": "2022-01-08T11:05:59.223543",
     "exception": false,
     "start_time": "2022-01-08T11:05:59.191345",
     "status": "completed"
    },
    "tags": []
   },
   "source": [
    "## Cleaning the data"
   ]
  },
  {
   "cell_type": "markdown",
   "id": "d357e106",
   "metadata": {
    "papermill": {
     "duration": 0.032274,
     "end_time": "2022-01-08T11:05:59.289698",
     "exception": false,
     "start_time": "2022-01-08T11:05:59.257424",
     "status": "completed"
    },
    "tags": []
   },
   "source": [
    "### Function"
   ]
  },
  {
   "cell_type": "code",
   "execution_count": 4,
   "id": "ced88bde",
   "metadata": {
    "execution": {
     "iopub.execute_input": "2022-01-08T11:05:59.359268Z",
     "iopub.status.busy": "2022-01-08T11:05:59.358183Z",
     "iopub.status.idle": "2022-01-08T11:06:59.476081Z",
     "shell.execute_reply": "2022-01-08T11:06:59.475129Z",
     "shell.execute_reply.started": "2022-01-08T10:53:33.471111Z"
    },
    "papermill": {
     "duration": 60.15424,
     "end_time": "2022-01-08T11:06:59.476364",
     "exception": false,
     "start_time": "2022-01-08T11:05:59.322124",
     "status": "completed"
    },
    "tags": []
   },
   "outputs": [
    {
     "name": "stdout",
     "output_type": "stream",
     "text": [
      "[nltk_data] Error loading punkt: <urlopen error [Errno -3] Temporary\n",
      "[nltk_data]     failure in name resolution>\n",
      "[nltk_data] Error loading stopwords: <urlopen error [Errno -3]\n",
      "[nltk_data]     Temporary failure in name resolution>\n",
      "[nltk_data] Error loading wordnet: <urlopen error [Errno -3] Temporary\n",
      "[nltk_data]     failure in name resolution>\n"
     ]
    },
    {
     "data": {
      "text/plain": [
       "False"
      ]
     },
     "execution_count": 4,
     "metadata": {},
     "output_type": "execute_result"
    }
   ],
   "source": [
    "nltk.download('punkt')\n",
    "nltk.download('stopwords')\n",
    "nltk.download('wordnet')"
   ]
  },
  {
   "cell_type": "code",
   "execution_count": 5,
   "id": "e333f33a",
   "metadata": {
    "execution": {
     "iopub.execute_input": "2022-01-08T11:06:59.552608Z",
     "iopub.status.busy": "2022-01-08T11:06:59.551694Z",
     "iopub.status.idle": "2022-01-08T11:06:59.571576Z",
     "shell.execute_reply": "2022-01-08T11:06:59.570778Z",
     "shell.execute_reply.started": "2022-01-08T10:54:33.606261Z"
    },
    "papermill": {
     "duration": 0.060686,
     "end_time": "2022-01-08T11:06:59.571784",
     "exception": false,
     "start_time": "2022-01-08T11:06:59.511098",
     "status": "completed"
    },
    "tags": []
   },
   "outputs": [],
   "source": [
    "# We set the stop words in english (the words that we don't want in the clean text\n",
    "# that are the most used and not really relevant)\n",
    "stop_words = set(stopwords.words('english'))\n",
    "# and also the lemmatizer (rocks becomes rock...)\n",
    "lem = WordNetLemmatizer()\n",
    "\n",
    "\n",
    "def cleaning_text(text):\n",
    "    \n",
    "    # to put everything in lower case (I becomes i)\n",
    "    text = text.lower()\n",
    "\n",
    "    # to remove urls\n",
    "    url = re.compile(r'https?://\\S+|www\\.\\S+')\n",
    "    text = url.sub(r' ', text)\n",
    "\n",
    "    # to remove html tags\n",
    "    html = re.compile(r'<.*?>')\n",
    "    text = html.sub(r' ', text)\n",
    "    \n",
    "    # to remove digits\n",
    "    text = re.sub(r'\\d+',' ', text)\n",
    "    \n",
    "    # to remove hashtags\n",
    "    text = re.sub(r'#\\w+',' ', text)\n",
    "    \n",
    "    # to remove mentions\n",
    "    text = re.sub(r'@\\w+',' ', text)\n",
    "\n",
    "    # to remove punctations\n",
    "    text = re.sub(r\"[^\\w\\s\\d]\",' ', text)\n",
    "\n",
    "    # to remove extra white space\n",
    "    text = re.sub(r\"\\s+\",' ',text).strip()\n",
    "    \n",
    "    # removing stop words\n",
    "    token = word_tokenize(text)\n",
    "    text=[word for word in token if not word in stop_words]\n",
    "\n",
    "    # lemmatize\n",
    "    text = \" \".join([lem.lemmatize(t) for t in text])\n",
    "\n",
    "    return  text"
   ]
  },
  {
   "cell_type": "markdown",
   "id": "4b281f7e",
   "metadata": {
    "papermill": {
     "duration": 0.033902,
     "end_time": "2022-01-08T11:06:59.640623",
     "exception": false,
     "start_time": "2022-01-08T11:06:59.606721",
     "status": "completed"
    },
    "tags": []
   },
   "source": [
    "### Comments to score"
   ]
  },
  {
   "cell_type": "code",
   "execution_count": 6,
   "id": "78f3f879",
   "metadata": {
    "execution": {
     "iopub.execute_input": "2022-01-08T11:06:59.722885Z",
     "iopub.status.busy": "2022-01-08T11:06:59.721922Z",
     "iopub.status.idle": "2022-01-08T11:07:09.733404Z",
     "shell.execute_reply": "2022-01-08T11:07:09.732737Z",
     "shell.execute_reply.started": "2022-01-08T10:54:33.622251Z"
    },
    "papermill": {
     "duration": 10.058552,
     "end_time": "2022-01-08T11:07:09.733577",
     "exception": false,
     "start_time": "2022-01-08T11:06:59.675025",
     "status": "completed"
    },
    "tags": []
   },
   "outputs": [],
   "source": [
    "comments_to_score['clean_text'] = comments_to_score['text'].apply(cleaning_text)"
   ]
  },
  {
   "cell_type": "code",
   "execution_count": 7,
   "id": "a4a30a1f",
   "metadata": {
    "execution": {
     "iopub.execute_input": "2022-01-08T11:07:09.806904Z",
     "iopub.status.busy": "2022-01-08T11:07:09.805859Z",
     "iopub.status.idle": "2022-01-08T11:07:09.816747Z",
     "shell.execute_reply": "2022-01-08T11:07:09.817399Z",
     "shell.execute_reply.started": "2022-01-08T10:54:43.407920Z"
    },
    "papermill": {
     "duration": 0.049644,
     "end_time": "2022-01-08T11:07:09.817608",
     "exception": false,
     "start_time": "2022-01-08T11:07:09.767964",
     "status": "completed"
    },
    "tags": []
   },
   "outputs": [
    {
     "data": {
      "text/html": [
       "<div>\n",
       "<style scoped>\n",
       "    .dataframe tbody tr th:only-of-type {\n",
       "        vertical-align: middle;\n",
       "    }\n",
       "\n",
       "    .dataframe tbody tr th {\n",
       "        vertical-align: top;\n",
       "    }\n",
       "\n",
       "    .dataframe thead th {\n",
       "        text-align: right;\n",
       "    }\n",
       "</style>\n",
       "<table border=\"1\" class=\"dataframe\">\n",
       "  <thead>\n",
       "    <tr style=\"text-align: right;\">\n",
       "      <th></th>\n",
       "      <th>comment_id</th>\n",
       "      <th>text</th>\n",
       "      <th>clean_text</th>\n",
       "    </tr>\n",
       "  </thead>\n",
       "  <tbody>\n",
       "    <tr>\n",
       "      <th>0</th>\n",
       "      <td>114890</td>\n",
       "      <td>\"\\n \\n\\nGjalexei, you asked about whether ther...</td>\n",
       "      <td>gjalexei asked whether anti editorializing pol...</td>\n",
       "    </tr>\n",
       "    <tr>\n",
       "      <th>1</th>\n",
       "      <td>732895</td>\n",
       "      <td>Looks like be have an abuser , can you please ...</td>\n",
       "      <td>look like abuser please look thanks</td>\n",
       "    </tr>\n",
       "    <tr>\n",
       "      <th>2</th>\n",
       "      <td>1139051</td>\n",
       "      <td>I confess to having complete (and apparently b...</td>\n",
       "      <td>confess complete apparently blissful ignorance...</td>\n",
       "    </tr>\n",
       "    <tr>\n",
       "      <th>3</th>\n",
       "      <td>1434512</td>\n",
       "      <td>\"\\n\\nFreud's ideas are certainly much discusse...</td>\n",
       "      <td>freud idea certainly much discussed today woul...</td>\n",
       "    </tr>\n",
       "    <tr>\n",
       "      <th>4</th>\n",
       "      <td>2084821</td>\n",
       "      <td>It is not just you. This is a laundry list of ...</td>\n",
       "      <td>laundry list stupid allegation scooped god kno...</td>\n",
       "    </tr>\n",
       "  </tbody>\n",
       "</table>\n",
       "</div>"
      ],
      "text/plain": [
       "   comment_id                                               text  \\\n",
       "0      114890  \"\\n \\n\\nGjalexei, you asked about whether ther...   \n",
       "1      732895  Looks like be have an abuser , can you please ...   \n",
       "2     1139051  I confess to having complete (and apparently b...   \n",
       "3     1434512  \"\\n\\nFreud's ideas are certainly much discusse...   \n",
       "4     2084821  It is not just you. This is a laundry list of ...   \n",
       "\n",
       "                                          clean_text  \n",
       "0  gjalexei asked whether anti editorializing pol...  \n",
       "1                look like abuser please look thanks  \n",
       "2  confess complete apparently blissful ignorance...  \n",
       "3  freud idea certainly much discussed today woul...  \n",
       "4  laundry list stupid allegation scooped god kno...  "
      ]
     },
     "execution_count": 7,
     "metadata": {},
     "output_type": "execute_result"
    }
   ],
   "source": [
    "comments_to_score.head(5)"
   ]
  },
  {
   "cell_type": "markdown",
   "id": "d8290909",
   "metadata": {
    "papermill": {
     "duration": 0.036799,
     "end_time": "2022-01-08T11:07:09.891731",
     "exception": false,
     "start_time": "2022-01-08T11:07:09.854932",
     "status": "completed"
    },
    "tags": []
   },
   "source": [
    "## Idea 2"
   ]
  },
  {
   "cell_type": "markdown",
   "id": "0f4f7e2d",
   "metadata": {
    "papermill": {
     "duration": 0.037668,
     "end_time": "2022-01-08T11:07:09.968161",
     "exception": false,
     "start_time": "2022-01-08T11:07:09.930493",
     "status": "completed"
    },
    "tags": []
   },
   "source": [
    "Using previous Jigsaw competition : https://www.kaggle.com/c/jigsaw-toxic-comment-classification-challenge/"
   ]
  },
  {
   "cell_type": "code",
   "execution_count": 8,
   "id": "11601a91",
   "metadata": {
    "execution": {
     "iopub.execute_input": "2022-01-08T11:07:10.049674Z",
     "iopub.status.busy": "2022-01-08T11:07:10.048934Z",
     "iopub.status.idle": "2022-01-08T11:07:14.475917Z",
     "shell.execute_reply": "2022-01-08T11:07:14.475059Z",
     "shell.execute_reply.started": "2022-01-08T10:54:43.419856Z"
    },
    "papermill": {
     "duration": 4.470102,
     "end_time": "2022-01-08T11:07:14.476111",
     "exception": false,
     "start_time": "2022-01-08T11:07:10.006009",
     "status": "completed"
    },
    "tags": []
   },
   "outputs": [],
   "source": [
    "# We import the dataset from \"Toxic Comment Classification Challenge\"\n",
    "train2 = pd.read_csv(\"/kaggle/input/jigsaw-toxic-comment-classification-challenge/train.csv\")\n",
    "test_labels = pd.read_csv(\"/kaggle/input/jigsaw-toxic-comment-classification-challenge/test_labels.csv\")\n",
    "test2 = pd.read_csv(\"/kaggle/input/jigsaw-toxic-comment-classification-challenge/test.csv\")"
   ]
  },
  {
   "cell_type": "code",
   "execution_count": 9,
   "id": "a0c850d9",
   "metadata": {
    "execution": {
     "iopub.execute_input": "2022-01-08T11:07:14.552428Z",
     "iopub.status.busy": "2022-01-08T11:07:14.551378Z",
     "iopub.status.idle": "2022-01-08T11:07:14.566261Z",
     "shell.execute_reply": "2022-01-08T11:07:14.566842Z",
     "shell.execute_reply.started": "2022-01-06T18:19:51.360209Z"
    },
    "papermill": {
     "duration": 0.05403,
     "end_time": "2022-01-08T11:07:14.567035",
     "exception": false,
     "start_time": "2022-01-08T11:07:14.513005",
     "status": "completed"
    },
    "tags": []
   },
   "outputs": [
    {
     "data": {
      "text/html": [
       "<div>\n",
       "<style scoped>\n",
       "    .dataframe tbody tr th:only-of-type {\n",
       "        vertical-align: middle;\n",
       "    }\n",
       "\n",
       "    .dataframe tbody tr th {\n",
       "        vertical-align: top;\n",
       "    }\n",
       "\n",
       "    .dataframe thead th {\n",
       "        text-align: right;\n",
       "    }\n",
       "</style>\n",
       "<table border=\"1\" class=\"dataframe\">\n",
       "  <thead>\n",
       "    <tr style=\"text-align: right;\">\n",
       "      <th></th>\n",
       "      <th>id</th>\n",
       "      <th>comment_text</th>\n",
       "      <th>toxic</th>\n",
       "      <th>severe_toxic</th>\n",
       "      <th>obscene</th>\n",
       "      <th>threat</th>\n",
       "      <th>insult</th>\n",
       "      <th>identity_hate</th>\n",
       "    </tr>\n",
       "  </thead>\n",
       "  <tbody>\n",
       "    <tr>\n",
       "      <th>0</th>\n",
       "      <td>0000997932d777bf</td>\n",
       "      <td>Explanation\\nWhy the edits made under my usern...</td>\n",
       "      <td>0</td>\n",
       "      <td>0</td>\n",
       "      <td>0</td>\n",
       "      <td>0</td>\n",
       "      <td>0</td>\n",
       "      <td>0</td>\n",
       "    </tr>\n",
       "    <tr>\n",
       "      <th>1</th>\n",
       "      <td>000103f0d9cfb60f</td>\n",
       "      <td>D'aww! He matches this background colour I'm s...</td>\n",
       "      <td>0</td>\n",
       "      <td>0</td>\n",
       "      <td>0</td>\n",
       "      <td>0</td>\n",
       "      <td>0</td>\n",
       "      <td>0</td>\n",
       "    </tr>\n",
       "    <tr>\n",
       "      <th>2</th>\n",
       "      <td>000113f07ec002fd</td>\n",
       "      <td>Hey man, I'm really not trying to edit war. It...</td>\n",
       "      <td>0</td>\n",
       "      <td>0</td>\n",
       "      <td>0</td>\n",
       "      <td>0</td>\n",
       "      <td>0</td>\n",
       "      <td>0</td>\n",
       "    </tr>\n",
       "    <tr>\n",
       "      <th>3</th>\n",
       "      <td>0001b41b1c6bb37e</td>\n",
       "      <td>\"\\nMore\\nI can't make any real suggestions on ...</td>\n",
       "      <td>0</td>\n",
       "      <td>0</td>\n",
       "      <td>0</td>\n",
       "      <td>0</td>\n",
       "      <td>0</td>\n",
       "      <td>0</td>\n",
       "    </tr>\n",
       "    <tr>\n",
       "      <th>4</th>\n",
       "      <td>0001d958c54c6e35</td>\n",
       "      <td>You, sir, are my hero. Any chance you remember...</td>\n",
       "      <td>0</td>\n",
       "      <td>0</td>\n",
       "      <td>0</td>\n",
       "      <td>0</td>\n",
       "      <td>0</td>\n",
       "      <td>0</td>\n",
       "    </tr>\n",
       "    <tr>\n",
       "      <th>5</th>\n",
       "      <td>00025465d4725e87</td>\n",
       "      <td>\"\\n\\nCongratulations from me as well, use the ...</td>\n",
       "      <td>0</td>\n",
       "      <td>0</td>\n",
       "      <td>0</td>\n",
       "      <td>0</td>\n",
       "      <td>0</td>\n",
       "      <td>0</td>\n",
       "    </tr>\n",
       "    <tr>\n",
       "      <th>6</th>\n",
       "      <td>0002bcb3da6cb337</td>\n",
       "      <td>COCKSUCKER BEFORE YOU PISS AROUND ON MY WORK</td>\n",
       "      <td>1</td>\n",
       "      <td>1</td>\n",
       "      <td>1</td>\n",
       "      <td>0</td>\n",
       "      <td>1</td>\n",
       "      <td>0</td>\n",
       "    </tr>\n",
       "    <tr>\n",
       "      <th>7</th>\n",
       "      <td>00031b1e95af7921</td>\n",
       "      <td>Your vandalism to the Matt Shirvington article...</td>\n",
       "      <td>0</td>\n",
       "      <td>0</td>\n",
       "      <td>0</td>\n",
       "      <td>0</td>\n",
       "      <td>0</td>\n",
       "      <td>0</td>\n",
       "    </tr>\n",
       "    <tr>\n",
       "      <th>8</th>\n",
       "      <td>00037261f536c51d</td>\n",
       "      <td>Sorry if the word 'nonsense' was offensive to ...</td>\n",
       "      <td>0</td>\n",
       "      <td>0</td>\n",
       "      <td>0</td>\n",
       "      <td>0</td>\n",
       "      <td>0</td>\n",
       "      <td>0</td>\n",
       "    </tr>\n",
       "    <tr>\n",
       "      <th>9</th>\n",
       "      <td>00040093b2687caa</td>\n",
       "      <td>alignment on this subject and which are contra...</td>\n",
       "      <td>0</td>\n",
       "      <td>0</td>\n",
       "      <td>0</td>\n",
       "      <td>0</td>\n",
       "      <td>0</td>\n",
       "      <td>0</td>\n",
       "    </tr>\n",
       "  </tbody>\n",
       "</table>\n",
       "</div>"
      ],
      "text/plain": [
       "                 id                                       comment_text  toxic  \\\n",
       "0  0000997932d777bf  Explanation\\nWhy the edits made under my usern...      0   \n",
       "1  000103f0d9cfb60f  D'aww! He matches this background colour I'm s...      0   \n",
       "2  000113f07ec002fd  Hey man, I'm really not trying to edit war. It...      0   \n",
       "3  0001b41b1c6bb37e  \"\\nMore\\nI can't make any real suggestions on ...      0   \n",
       "4  0001d958c54c6e35  You, sir, are my hero. Any chance you remember...      0   \n",
       "5  00025465d4725e87  \"\\n\\nCongratulations from me as well, use the ...      0   \n",
       "6  0002bcb3da6cb337       COCKSUCKER BEFORE YOU PISS AROUND ON MY WORK      1   \n",
       "7  00031b1e95af7921  Your vandalism to the Matt Shirvington article...      0   \n",
       "8  00037261f536c51d  Sorry if the word 'nonsense' was offensive to ...      0   \n",
       "9  00040093b2687caa  alignment on this subject and which are contra...      0   \n",
       "\n",
       "   severe_toxic  obscene  threat  insult  identity_hate  \n",
       "0             0        0       0       0              0  \n",
       "1             0        0       0       0              0  \n",
       "2             0        0       0       0              0  \n",
       "3             0        0       0       0              0  \n",
       "4             0        0       0       0              0  \n",
       "5             0        0       0       0              0  \n",
       "6             1        1       0       1              0  \n",
       "7             0        0       0       0              0  \n",
       "8             0        0       0       0              0  \n",
       "9             0        0       0       0              0  "
      ]
     },
     "execution_count": 9,
     "metadata": {},
     "output_type": "execute_result"
    }
   ],
   "source": [
    "train2.head(10)\n",
    "\n",
    "# Coded as 1 if it is toxic, severe toxic, etc"
   ]
  },
  {
   "cell_type": "code",
   "execution_count": 10,
   "id": "a20f5b8d",
   "metadata": {
    "execution": {
     "iopub.execute_input": "2022-01-08T11:07:14.645804Z",
     "iopub.status.busy": "2022-01-08T11:07:14.643148Z",
     "iopub.status.idle": "2022-01-08T11:07:14.656748Z",
     "shell.execute_reply": "2022-01-08T11:07:14.657414Z",
     "shell.execute_reply.started": "2022-01-06T18:19:51.374172Z"
    },
    "papermill": {
     "duration": 0.054209,
     "end_time": "2022-01-08T11:07:14.657615",
     "exception": false,
     "start_time": "2022-01-08T11:07:14.603406",
     "status": "completed"
    },
    "tags": []
   },
   "outputs": [
    {
     "data": {
      "text/plain": [
       "(15294, 8)"
      ]
     },
     "execution_count": 10,
     "metadata": {},
     "output_type": "execute_result"
    }
   ],
   "source": [
    "# We check how many comments there are per category: Toxic\n",
    "nb_toxic = train2[train2.toxic==1]\n",
    "nb_toxic.shape"
   ]
  },
  {
   "cell_type": "code",
   "execution_count": 11,
   "id": "93c48341",
   "metadata": {
    "execution": {
     "iopub.execute_input": "2022-01-08T11:07:14.734764Z",
     "iopub.status.busy": "2022-01-08T11:07:14.733638Z",
     "iopub.status.idle": "2022-01-08T11:07:14.744023Z",
     "shell.execute_reply": "2022-01-08T11:07:14.743364Z",
     "shell.execute_reply.started": "2022-01-06T18:19:51.391004Z"
    },
    "papermill": {
     "duration": 0.050172,
     "end_time": "2022-01-08T11:07:14.744187",
     "exception": false,
     "start_time": "2022-01-08T11:07:14.694015",
     "status": "completed"
    },
    "tags": []
   },
   "outputs": [
    {
     "data": {
      "text/plain": [
       "(1595, 8)"
      ]
     },
     "execution_count": 11,
     "metadata": {},
     "output_type": "execute_result"
    }
   ],
   "source": [
    "# We check how many comments there are per category: severe toxic\n",
    "nb_severe_toxic = train2[train2.severe_toxic==1]\n",
    "nb_severe_toxic.shape"
   ]
  },
  {
   "cell_type": "code",
   "execution_count": 12,
   "id": "fc63097a",
   "metadata": {
    "execution": {
     "iopub.execute_input": "2022-01-08T11:07:14.826030Z",
     "iopub.status.busy": "2022-01-08T11:07:14.825283Z",
     "iopub.status.idle": "2022-01-08T11:07:14.835071Z",
     "shell.execute_reply": "2022-01-08T11:07:14.834516Z",
     "shell.execute_reply.started": "2022-01-06T18:19:51.404456Z"
    },
    "papermill": {
     "duration": 0.052319,
     "end_time": "2022-01-08T11:07:14.835228",
     "exception": false,
     "start_time": "2022-01-08T11:07:14.782909",
     "status": "completed"
    },
    "tags": []
   },
   "outputs": [
    {
     "data": {
      "text/plain": [
       "(8449, 8)"
      ]
     },
     "execution_count": 12,
     "metadata": {},
     "output_type": "execute_result"
    }
   ],
   "source": [
    "# We check how many comments there are per category: obscene\n",
    "nb_obscene = train2[train2.obscene==1]\n",
    "nb_obscene.shape"
   ]
  },
  {
   "cell_type": "code",
   "execution_count": 13,
   "id": "268b37fd",
   "metadata": {
    "execution": {
     "iopub.execute_input": "2022-01-08T11:07:14.917301Z",
     "iopub.status.busy": "2022-01-08T11:07:14.916354Z",
     "iopub.status.idle": "2022-01-08T11:07:14.926786Z",
     "shell.execute_reply": "2022-01-08T11:07:14.926089Z",
     "shell.execute_reply.started": "2022-01-06T18:19:51.420158Z"
    },
    "papermill": {
     "duration": 0.053841,
     "end_time": "2022-01-08T11:07:14.926971",
     "exception": false,
     "start_time": "2022-01-08T11:07:14.873130",
     "status": "completed"
    },
    "tags": []
   },
   "outputs": [
    {
     "data": {
      "text/plain": [
       "(478, 8)"
      ]
     },
     "execution_count": 13,
     "metadata": {},
     "output_type": "execute_result"
    }
   ],
   "source": [
    "# We check how many comments there are per category: threat\n",
    "nb_threat = train2[train2.threat==1]\n",
    "nb_threat.shape"
   ]
  },
  {
   "cell_type": "code",
   "execution_count": 14,
   "id": "b18d435d",
   "metadata": {
    "execution": {
     "iopub.execute_input": "2022-01-08T11:07:15.011023Z",
     "iopub.status.busy": "2022-01-08T11:07:15.010224Z",
     "iopub.status.idle": "2022-01-08T11:07:15.018885Z",
     "shell.execute_reply": "2022-01-08T11:07:15.019564Z",
     "shell.execute_reply.started": "2022-01-06T18:19:51.43004Z"
    },
    "papermill": {
     "duration": 0.05518,
     "end_time": "2022-01-08T11:07:15.019766",
     "exception": false,
     "start_time": "2022-01-08T11:07:14.964586",
     "status": "completed"
    },
    "tags": []
   },
   "outputs": [
    {
     "data": {
      "text/plain": [
       "(7877, 8)"
      ]
     },
     "execution_count": 14,
     "metadata": {},
     "output_type": "execute_result"
    }
   ],
   "source": [
    "# We check how many comments there are per category: insult\n",
    "nb_insult = train2[train2.insult==1]\n",
    "nb_insult.shape"
   ]
  },
  {
   "cell_type": "code",
   "execution_count": 15,
   "id": "789bb156",
   "metadata": {
    "execution": {
     "iopub.execute_input": "2022-01-08T11:07:15.101132Z",
     "iopub.status.busy": "2022-01-08T11:07:15.099868Z",
     "iopub.status.idle": "2022-01-08T11:07:15.110691Z",
     "shell.execute_reply": "2022-01-08T11:07:15.109949Z",
     "shell.execute_reply.started": "2022-01-06T18:19:51.449822Z"
    },
    "papermill": {
     "duration": 0.053802,
     "end_time": "2022-01-08T11:07:15.110875",
     "exception": false,
     "start_time": "2022-01-08T11:07:15.057073",
     "status": "completed"
    },
    "tags": []
   },
   "outputs": [
    {
     "data": {
      "text/plain": [
       "(1405, 8)"
      ]
     },
     "execution_count": 15,
     "metadata": {},
     "output_type": "execute_result"
    }
   ],
   "source": [
    "# We check how many comments there are per category: identity hate\n",
    "nb_id_hate = train2[train2.identity_hate==1]\n",
    "nb_id_hate.shape"
   ]
  },
  {
   "cell_type": "code",
   "execution_count": 16,
   "id": "23f1bf53",
   "metadata": {
    "execution": {
     "iopub.execute_input": "2022-01-08T11:07:15.199667Z",
     "iopub.status.busy": "2022-01-08T11:07:15.198875Z",
     "iopub.status.idle": "2022-01-08T11:07:15.203014Z",
     "shell.execute_reply": "2022-01-08T11:07:15.203692Z",
     "shell.execute_reply.started": "2022-01-06T18:19:51.461676Z"
    },
    "papermill": {
     "duration": 0.055229,
     "end_time": "2022-01-08T11:07:15.203901",
     "exception": false,
     "start_time": "2022-01-08T11:07:15.148672",
     "status": "completed"
    },
    "tags": []
   },
   "outputs": [
    {
     "data": {
      "text/html": [
       "<div>\n",
       "<style scoped>\n",
       "    .dataframe tbody tr th:only-of-type {\n",
       "        vertical-align: middle;\n",
       "    }\n",
       "\n",
       "    .dataframe tbody tr th {\n",
       "        vertical-align: top;\n",
       "    }\n",
       "\n",
       "    .dataframe thead th {\n",
       "        text-align: right;\n",
       "    }\n",
       "</style>\n",
       "<table border=\"1\" class=\"dataframe\">\n",
       "  <thead>\n",
       "    <tr style=\"text-align: right;\">\n",
       "      <th></th>\n",
       "      <th>id</th>\n",
       "      <th>toxic</th>\n",
       "      <th>severe_toxic</th>\n",
       "      <th>obscene</th>\n",
       "      <th>threat</th>\n",
       "      <th>insult</th>\n",
       "      <th>identity_hate</th>\n",
       "    </tr>\n",
       "  </thead>\n",
       "  <tbody>\n",
       "    <tr>\n",
       "      <th>0</th>\n",
       "      <td>00001cee341fdb12</td>\n",
       "      <td>-1</td>\n",
       "      <td>-1</td>\n",
       "      <td>-1</td>\n",
       "      <td>-1</td>\n",
       "      <td>-1</td>\n",
       "      <td>-1</td>\n",
       "    </tr>\n",
       "    <tr>\n",
       "      <th>1</th>\n",
       "      <td>0000247867823ef7</td>\n",
       "      <td>-1</td>\n",
       "      <td>-1</td>\n",
       "      <td>-1</td>\n",
       "      <td>-1</td>\n",
       "      <td>-1</td>\n",
       "      <td>-1</td>\n",
       "    </tr>\n",
       "    <tr>\n",
       "      <th>2</th>\n",
       "      <td>00013b17ad220c46</td>\n",
       "      <td>-1</td>\n",
       "      <td>-1</td>\n",
       "      <td>-1</td>\n",
       "      <td>-1</td>\n",
       "      <td>-1</td>\n",
       "      <td>-1</td>\n",
       "    </tr>\n",
       "    <tr>\n",
       "      <th>3</th>\n",
       "      <td>00017563c3f7919a</td>\n",
       "      <td>-1</td>\n",
       "      <td>-1</td>\n",
       "      <td>-1</td>\n",
       "      <td>-1</td>\n",
       "      <td>-1</td>\n",
       "      <td>-1</td>\n",
       "    </tr>\n",
       "    <tr>\n",
       "      <th>4</th>\n",
       "      <td>00017695ad8997eb</td>\n",
       "      <td>-1</td>\n",
       "      <td>-1</td>\n",
       "      <td>-1</td>\n",
       "      <td>-1</td>\n",
       "      <td>-1</td>\n",
       "      <td>-1</td>\n",
       "    </tr>\n",
       "  </tbody>\n",
       "</table>\n",
       "</div>"
      ],
      "text/plain": [
       "                 id  toxic  severe_toxic  obscene  threat  insult  \\\n",
       "0  00001cee341fdb12     -1            -1       -1      -1      -1   \n",
       "1  0000247867823ef7     -1            -1       -1      -1      -1   \n",
       "2  00013b17ad220c46     -1            -1       -1      -1      -1   \n",
       "3  00017563c3f7919a     -1            -1       -1      -1      -1   \n",
       "4  00017695ad8997eb     -1            -1       -1      -1      -1   \n",
       "\n",
       "   identity_hate  \n",
       "0             -1  \n",
       "1             -1  \n",
       "2             -1  \n",
       "3             -1  \n",
       "4             -1  "
      ]
     },
     "execution_count": 16,
     "metadata": {},
     "output_type": "execute_result"
    }
   ],
   "source": [
    "test_labels.head()"
   ]
  },
  {
   "cell_type": "code",
   "execution_count": 17,
   "id": "aa549b00",
   "metadata": {
    "execution": {
     "iopub.execute_input": "2022-01-08T11:07:15.294419Z",
     "iopub.status.busy": "2022-01-08T11:07:15.293651Z",
     "iopub.status.idle": "2022-01-08T11:07:15.298316Z",
     "shell.execute_reply": "2022-01-08T11:07:15.298831Z",
     "shell.execute_reply.started": "2022-01-06T18:19:51.478286Z"
    },
    "papermill": {
     "duration": 0.056032,
     "end_time": "2022-01-08T11:07:15.299051",
     "exception": false,
     "start_time": "2022-01-08T11:07:15.243019",
     "status": "completed"
    },
    "tags": []
   },
   "outputs": [
    {
     "data": {
      "text/html": [
       "<div>\n",
       "<style scoped>\n",
       "    .dataframe tbody tr th:only-of-type {\n",
       "        vertical-align: middle;\n",
       "    }\n",
       "\n",
       "    .dataframe tbody tr th {\n",
       "        vertical-align: top;\n",
       "    }\n",
       "\n",
       "    .dataframe thead th {\n",
       "        text-align: right;\n",
       "    }\n",
       "</style>\n",
       "<table border=\"1\" class=\"dataframe\">\n",
       "  <thead>\n",
       "    <tr style=\"text-align: right;\">\n",
       "      <th></th>\n",
       "      <th>id</th>\n",
       "      <th>comment_text</th>\n",
       "    </tr>\n",
       "  </thead>\n",
       "  <tbody>\n",
       "    <tr>\n",
       "      <th>0</th>\n",
       "      <td>00001cee341fdb12</td>\n",
       "      <td>Yo bitch Ja Rule is more succesful then you'll...</td>\n",
       "    </tr>\n",
       "    <tr>\n",
       "      <th>1</th>\n",
       "      <td>0000247867823ef7</td>\n",
       "      <td>== From RfC == \\n\\n The title is fine as it is...</td>\n",
       "    </tr>\n",
       "    <tr>\n",
       "      <th>2</th>\n",
       "      <td>00013b17ad220c46</td>\n",
       "      <td>\" \\n\\n == Sources == \\n\\n * Zawe Ashton on Lap...</td>\n",
       "    </tr>\n",
       "    <tr>\n",
       "      <th>3</th>\n",
       "      <td>00017563c3f7919a</td>\n",
       "      <td>:If you have a look back at the source, the in...</td>\n",
       "    </tr>\n",
       "    <tr>\n",
       "      <th>4</th>\n",
       "      <td>00017695ad8997eb</td>\n",
       "      <td>I don't anonymously edit articles at all.</td>\n",
       "    </tr>\n",
       "  </tbody>\n",
       "</table>\n",
       "</div>"
      ],
      "text/plain": [
       "                 id                                       comment_text\n",
       "0  00001cee341fdb12  Yo bitch Ja Rule is more succesful then you'll...\n",
       "1  0000247867823ef7  == From RfC == \\n\\n The title is fine as it is...\n",
       "2  00013b17ad220c46  \" \\n\\n == Sources == \\n\\n * Zawe Ashton on Lap...\n",
       "3  00017563c3f7919a  :If you have a look back at the source, the in...\n",
       "4  00017695ad8997eb          I don't anonymously edit articles at all."
      ]
     },
     "execution_count": 17,
     "metadata": {},
     "output_type": "execute_result"
    }
   ],
   "source": [
    "test2.head()"
   ]
  },
  {
   "cell_type": "markdown",
   "id": "91400155",
   "metadata": {
    "papermill": {
     "duration": 0.039366,
     "end_time": "2022-01-08T11:07:15.377125",
     "exception": false,
     "start_time": "2022-01-08T11:07:15.337759",
     "status": "completed"
    },
    "tags": []
   },
   "source": [
    "Cleaning data"
   ]
  },
  {
   "cell_type": "code",
   "execution_count": 18,
   "id": "08653560",
   "metadata": {
    "execution": {
     "iopub.execute_input": "2022-01-08T11:07:15.470662Z",
     "iopub.status.busy": "2022-01-08T11:07:15.465293Z",
     "iopub.status.idle": "2022-01-08T11:09:50.898455Z",
     "shell.execute_reply": "2022-01-08T11:09:50.899016Z",
     "shell.execute_reply.started": "2022-01-08T10:54:47.584436Z"
    },
    "papermill": {
     "duration": 155.48347,
     "end_time": "2022-01-08T11:09:50.899230",
     "exception": false,
     "start_time": "2022-01-08T11:07:15.415760",
     "status": "completed"
    },
    "tags": []
   },
   "outputs": [
    {
     "data": {
      "text/html": [
       "<div>\n",
       "<style scoped>\n",
       "    .dataframe tbody tr th:only-of-type {\n",
       "        vertical-align: middle;\n",
       "    }\n",
       "\n",
       "    .dataframe tbody tr th {\n",
       "        vertical-align: top;\n",
       "    }\n",
       "\n",
       "    .dataframe thead th {\n",
       "        text-align: right;\n",
       "    }\n",
       "</style>\n",
       "<table border=\"1\" class=\"dataframe\">\n",
       "  <thead>\n",
       "    <tr style=\"text-align: right;\">\n",
       "      <th></th>\n",
       "      <th>id</th>\n",
       "      <th>comment_text</th>\n",
       "      <th>toxic</th>\n",
       "      <th>severe_toxic</th>\n",
       "      <th>obscene</th>\n",
       "      <th>threat</th>\n",
       "      <th>insult</th>\n",
       "      <th>identity_hate</th>\n",
       "      <th>clean_text</th>\n",
       "    </tr>\n",
       "  </thead>\n",
       "  <tbody>\n",
       "    <tr>\n",
       "      <th>0</th>\n",
       "      <td>0000997932d777bf</td>\n",
       "      <td>Explanation\\nWhy the edits made under my usern...</td>\n",
       "      <td>0</td>\n",
       "      <td>0</td>\n",
       "      <td>0</td>\n",
       "      <td>0</td>\n",
       "      <td>0</td>\n",
       "      <td>0</td>\n",
       "      <td>explanation edits made username hardcore metal...</td>\n",
       "    </tr>\n",
       "    <tr>\n",
       "      <th>1</th>\n",
       "      <td>000103f0d9cfb60f</td>\n",
       "      <td>D'aww! He matches this background colour I'm s...</td>\n",
       "      <td>0</td>\n",
       "      <td>0</td>\n",
       "      <td>0</td>\n",
       "      <td>0</td>\n",
       "      <td>0</td>\n",
       "      <td>0</td>\n",
       "      <td>aww match background colour seemingly stuck th...</td>\n",
       "    </tr>\n",
       "    <tr>\n",
       "      <th>2</th>\n",
       "      <td>000113f07ec002fd</td>\n",
       "      <td>Hey man, I'm really not trying to edit war. It...</td>\n",
       "      <td>0</td>\n",
       "      <td>0</td>\n",
       "      <td>0</td>\n",
       "      <td>0</td>\n",
       "      <td>0</td>\n",
       "      <td>0</td>\n",
       "      <td>hey man really trying edit war guy constantly ...</td>\n",
       "    </tr>\n",
       "    <tr>\n",
       "      <th>3</th>\n",
       "      <td>0001b41b1c6bb37e</td>\n",
       "      <td>\"\\nMore\\nI can't make any real suggestions on ...</td>\n",
       "      <td>0</td>\n",
       "      <td>0</td>\n",
       "      <td>0</td>\n",
       "      <td>0</td>\n",
       "      <td>0</td>\n",
       "      <td>0</td>\n",
       "      <td>make real suggestion improvement wondered sect...</td>\n",
       "    </tr>\n",
       "    <tr>\n",
       "      <th>4</th>\n",
       "      <td>0001d958c54c6e35</td>\n",
       "      <td>You, sir, are my hero. Any chance you remember...</td>\n",
       "      <td>0</td>\n",
       "      <td>0</td>\n",
       "      <td>0</td>\n",
       "      <td>0</td>\n",
       "      <td>0</td>\n",
       "      <td>0</td>\n",
       "      <td>sir hero chance remember page</td>\n",
       "    </tr>\n",
       "  </tbody>\n",
       "</table>\n",
       "</div>"
      ],
      "text/plain": [
       "                 id                                       comment_text  toxic  \\\n",
       "0  0000997932d777bf  Explanation\\nWhy the edits made under my usern...      0   \n",
       "1  000103f0d9cfb60f  D'aww! He matches this background colour I'm s...      0   \n",
       "2  000113f07ec002fd  Hey man, I'm really not trying to edit war. It...      0   \n",
       "3  0001b41b1c6bb37e  \"\\nMore\\nI can't make any real suggestions on ...      0   \n",
       "4  0001d958c54c6e35  You, sir, are my hero. Any chance you remember...      0   \n",
       "\n",
       "   severe_toxic  obscene  threat  insult  identity_hate  \\\n",
       "0             0        0       0       0              0   \n",
       "1             0        0       0       0              0   \n",
       "2             0        0       0       0              0   \n",
       "3             0        0       0       0              0   \n",
       "4             0        0       0       0              0   \n",
       "\n",
       "                                          clean_text  \n",
       "0  explanation edits made username hardcore metal...  \n",
       "1  aww match background colour seemingly stuck th...  \n",
       "2  hey man really trying edit war guy constantly ...  \n",
       "3  make real suggestion improvement wondered sect...  \n",
       "4                      sir hero chance remember page  "
      ]
     },
     "execution_count": 18,
     "metadata": {},
     "output_type": "execute_result"
    }
   ],
   "source": [
    "# We clean the train dataset\n",
    "train2['clean_text'] = train2['comment_text'].apply(cleaning_text)\n",
    "train2.head(5)"
   ]
  },
  {
   "cell_type": "code",
   "execution_count": 19,
   "id": "36cdeb76",
   "metadata": {
    "execution": {
     "iopub.execute_input": "2022-01-08T11:09:50.988448Z",
     "iopub.status.busy": "2022-01-08T11:09:50.986969Z",
     "iopub.status.idle": "2022-01-08T11:09:51.048498Z",
     "shell.execute_reply": "2022-01-08T11:09:51.047689Z",
     "shell.execute_reply.started": "2022-01-06T18:22:25.34746Z"
    },
    "papermill": {
     "duration": 0.110522,
     "end_time": "2022-01-08T11:09:51.048683",
     "exception": false,
     "start_time": "2022-01-08T11:09:50.938161",
     "status": "completed"
    },
    "tags": []
   },
   "outputs": [
    {
     "data": {
      "text/html": [
       "<div>\n",
       "<style scoped>\n",
       "    .dataframe tbody tr th:only-of-type {\n",
       "        vertical-align: middle;\n",
       "    }\n",
       "\n",
       "    .dataframe tbody tr th {\n",
       "        vertical-align: top;\n",
       "    }\n",
       "\n",
       "    .dataframe thead th {\n",
       "        text-align: right;\n",
       "    }\n",
       "</style>\n",
       "<table border=\"1\" class=\"dataframe\">\n",
       "  <thead>\n",
       "    <tr style=\"text-align: right;\">\n",
       "      <th></th>\n",
       "      <th>id</th>\n",
       "      <th>comment_text</th>\n",
       "      <th>toxic</th>\n",
       "      <th>severe_toxic</th>\n",
       "      <th>obscene</th>\n",
       "      <th>threat</th>\n",
       "      <th>insult</th>\n",
       "      <th>identity_hate</th>\n",
       "      <th>clean_text</th>\n",
       "    </tr>\n",
       "  </thead>\n",
       "  <tbody>\n",
       "    <tr>\n",
       "      <th>6</th>\n",
       "      <td>0002bcb3da6cb337</td>\n",
       "      <td>COCKSUCKER BEFORE YOU PISS AROUND ON MY WORK</td>\n",
       "      <td>1</td>\n",
       "      <td>1</td>\n",
       "      <td>1</td>\n",
       "      <td>0</td>\n",
       "      <td>1</td>\n",
       "      <td>0</td>\n",
       "      <td>cocksucker piss around work</td>\n",
       "    </tr>\n",
       "    <tr>\n",
       "      <th>55</th>\n",
       "      <td>0020e7119b96eeeb</td>\n",
       "      <td>Stupid peace of shit stop deleting my stuff as...</td>\n",
       "      <td>1</td>\n",
       "      <td>1</td>\n",
       "      <td>1</td>\n",
       "      <td>0</td>\n",
       "      <td>1</td>\n",
       "      <td>0</td>\n",
       "      <td>stupid peace shit stop deleting stuff asshole ...</td>\n",
       "    </tr>\n",
       "    <tr>\n",
       "      <th>181</th>\n",
       "      <td>006e87872c8b370c</td>\n",
       "      <td>you are a stupid fuck \\n\\nand your mother's cu...</td>\n",
       "      <td>1</td>\n",
       "      <td>1</td>\n",
       "      <td>1</td>\n",
       "      <td>0</td>\n",
       "      <td>1</td>\n",
       "      <td>0</td>\n",
       "      <td>stupid fuck mother cunt stink</td>\n",
       "    </tr>\n",
       "    <tr>\n",
       "      <th>442</th>\n",
       "      <td>01208d2b76624130</td>\n",
       "      <td>Hi \\n\\nIm a fucking bitch.\\n\\n50.180.208.181</td>\n",
       "      <td>1</td>\n",
       "      <td>1</td>\n",
       "      <td>1</td>\n",
       "      <td>0</td>\n",
       "      <td>1</td>\n",
       "      <td>0</td>\n",
       "      <td>hi im fucking bitch</td>\n",
       "    </tr>\n",
       "    <tr>\n",
       "      <th>579</th>\n",
       "      <td>018663f910e0bfe6</td>\n",
       "      <td>What a motherfucking piece of crap those fuckh...</td>\n",
       "      <td>1</td>\n",
       "      <td>1</td>\n",
       "      <td>1</td>\n",
       "      <td>0</td>\n",
       "      <td>1</td>\n",
       "      <td>0</td>\n",
       "      <td>motherfucking piece crap fuckhead blocking u</td>\n",
       "    </tr>\n",
       "    <tr>\n",
       "      <th>...</th>\n",
       "      <td>...</td>\n",
       "      <td>...</td>\n",
       "      <td>...</td>\n",
       "      <td>...</td>\n",
       "      <td>...</td>\n",
       "      <td>...</td>\n",
       "      <td>...</td>\n",
       "      <td>...</td>\n",
       "      <td>...</td>\n",
       "    </tr>\n",
       "    <tr>\n",
       "      <th>159096</th>\n",
       "      <td>f871b05d4caa6f20</td>\n",
       "      <td>You filthy, stinking crow! \\n\\nI am back! Dirt...</td>\n",
       "      <td>1</td>\n",
       "      <td>1</td>\n",
       "      <td>1</td>\n",
       "      <td>0</td>\n",
       "      <td>1</td>\n",
       "      <td>0</td>\n",
       "      <td>filthy stinking crow back dirty crow better de...</td>\n",
       "    </tr>\n",
       "    <tr>\n",
       "      <th>159099</th>\n",
       "      <td>f885a3e2d779342e</td>\n",
       "      <td>now\\n\\nyou fucking pathetic moron. \\n\\ncc:  Ji...</td>\n",
       "      <td>1</td>\n",
       "      <td>1</td>\n",
       "      <td>1</td>\n",
       "      <td>0</td>\n",
       "      <td>1</td>\n",
       "      <td>0</td>\n",
       "      <td>fucking pathetic moron cc jimbo wale rootmyass</td>\n",
       "    </tr>\n",
       "    <tr>\n",
       "      <th>159281</th>\n",
       "      <td>fb726deec64157bd</td>\n",
       "      <td>LoL!! \\n\\nyou're GAY!! you will never know how...</td>\n",
       "      <td>1</td>\n",
       "      <td>1</td>\n",
       "      <td>1</td>\n",
       "      <td>0</td>\n",
       "      <td>1</td>\n",
       "      <td>1</td>\n",
       "      <td>lol gay never know good feel fuck woman as</td>\n",
       "    </tr>\n",
       "    <tr>\n",
       "      <th>159312</th>\n",
       "      <td>fbf20e312cd4a78d</td>\n",
       "      <td>Walter Mercado \\n\\nAntonio, quite frankly, you...</td>\n",
       "      <td>1</td>\n",
       "      <td>1</td>\n",
       "      <td>1</td>\n",
       "      <td>0</td>\n",
       "      <td>1</td>\n",
       "      <td>0</td>\n",
       "      <td>walter mercado antonio quite frankly fucker co...</td>\n",
       "    </tr>\n",
       "    <tr>\n",
       "      <th>159400</th>\n",
       "      <td>fd052883fa6a8697</td>\n",
       "      <td>Shalom \\n\\nSemite, get the fuck out of here. I...</td>\n",
       "      <td>1</td>\n",
       "      <td>1</td>\n",
       "      <td>1</td>\n",
       "      <td>1</td>\n",
       "      <td>1</td>\n",
       "      <td>1</td>\n",
       "      <td>shalom semite get fuck kill son bitch leave wi...</td>\n",
       "    </tr>\n",
       "  </tbody>\n",
       "</table>\n",
       "<p>1595 rows × 9 columns</p>\n",
       "</div>"
      ],
      "text/plain": [
       "                      id                                       comment_text  \\\n",
       "6       0002bcb3da6cb337       COCKSUCKER BEFORE YOU PISS AROUND ON MY WORK   \n",
       "55      0020e7119b96eeeb  Stupid peace of shit stop deleting my stuff as...   \n",
       "181     006e87872c8b370c  you are a stupid fuck \\n\\nand your mother's cu...   \n",
       "442     01208d2b76624130       Hi \\n\\nIm a fucking bitch.\\n\\n50.180.208.181   \n",
       "579     018663f910e0bfe6  What a motherfucking piece of crap those fuckh...   \n",
       "...                  ...                                                ...   \n",
       "159096  f871b05d4caa6f20  You filthy, stinking crow! \\n\\nI am back! Dirt...   \n",
       "159099  f885a3e2d779342e  now\\n\\nyou fucking pathetic moron. \\n\\ncc:  Ji...   \n",
       "159281  fb726deec64157bd  LoL!! \\n\\nyou're GAY!! you will never know how...   \n",
       "159312  fbf20e312cd4a78d  Walter Mercado \\n\\nAntonio, quite frankly, you...   \n",
       "159400  fd052883fa6a8697  Shalom \\n\\nSemite, get the fuck out of here. I...   \n",
       "\n",
       "        toxic  severe_toxic  obscene  threat  insult  identity_hate  \\\n",
       "6           1             1        1       0       1              0   \n",
       "55          1             1        1       0       1              0   \n",
       "181         1             1        1       0       1              0   \n",
       "442         1             1        1       0       1              0   \n",
       "579         1             1        1       0       1              0   \n",
       "...       ...           ...      ...     ...     ...            ...   \n",
       "159096      1             1        1       0       1              0   \n",
       "159099      1             1        1       0       1              0   \n",
       "159281      1             1        1       0       1              1   \n",
       "159312      1             1        1       0       1              0   \n",
       "159400      1             1        1       1       1              1   \n",
       "\n",
       "                                               clean_text  \n",
       "6                             cocksucker piss around work  \n",
       "55      stupid peace shit stop deleting stuff asshole ...  \n",
       "181                         stupid fuck mother cunt stink  \n",
       "442                                   hi im fucking bitch  \n",
       "579          motherfucking piece crap fuckhead blocking u  \n",
       "...                                                   ...  \n",
       "159096  filthy stinking crow back dirty crow better de...  \n",
       "159099     fucking pathetic moron cc jimbo wale rootmyass  \n",
       "159281         lol gay never know good feel fuck woman as  \n",
       "159312  walter mercado antonio quite frankly fucker co...  \n",
       "159400  shalom semite get fuck kill son bitch leave wi...  \n",
       "\n",
       "[1595 rows x 9 columns]"
      ]
     },
     "execution_count": 19,
     "metadata": {},
     "output_type": "execute_result"
    }
   ],
   "source": [
    "# We look at observations with severe toxic being equal to 1\n",
    "train2[train2.severe_toxic==1]\n",
    "\n",
    "# We observe that all the severe toxic comments are also considered as toxic as they are both equal to 1"
   ]
  },
  {
   "cell_type": "code",
   "execution_count": 20,
   "id": "090c23a0",
   "metadata": {
    "execution": {
     "iopub.execute_input": "2022-01-08T11:09:51.149827Z",
     "iopub.status.busy": "2022-01-08T11:09:51.148673Z",
     "iopub.status.idle": "2022-01-08T11:12:07.927708Z",
     "shell.execute_reply": "2022-01-08T11:12:07.928368Z",
     "shell.execute_reply.started": "2022-01-08T10:57:20.104358Z"
    },
    "papermill": {
     "duration": 136.834621,
     "end_time": "2022-01-08T11:12:07.928609",
     "exception": false,
     "start_time": "2022-01-08T11:09:51.093988",
     "status": "completed"
    },
    "tags": []
   },
   "outputs": [
    {
     "data": {
      "text/html": [
       "<div>\n",
       "<style scoped>\n",
       "    .dataframe tbody tr th:only-of-type {\n",
       "        vertical-align: middle;\n",
       "    }\n",
       "\n",
       "    .dataframe tbody tr th {\n",
       "        vertical-align: top;\n",
       "    }\n",
       "\n",
       "    .dataframe thead th {\n",
       "        text-align: right;\n",
       "    }\n",
       "</style>\n",
       "<table border=\"1\" class=\"dataframe\">\n",
       "  <thead>\n",
       "    <tr style=\"text-align: right;\">\n",
       "      <th></th>\n",
       "      <th>id</th>\n",
       "      <th>comment_text</th>\n",
       "      <th>clean_text</th>\n",
       "    </tr>\n",
       "  </thead>\n",
       "  <tbody>\n",
       "    <tr>\n",
       "      <th>0</th>\n",
       "      <td>00001cee341fdb12</td>\n",
       "      <td>Yo bitch Ja Rule is more succesful then you'll...</td>\n",
       "      <td>yo bitch ja rule succesful ever whats hating s...</td>\n",
       "    </tr>\n",
       "    <tr>\n",
       "      <th>1</th>\n",
       "      <td>0000247867823ef7</td>\n",
       "      <td>== From RfC == \\n\\n The title is fine as it is...</td>\n",
       "      <td>rfc title fine imo</td>\n",
       "    </tr>\n",
       "    <tr>\n",
       "      <th>2</th>\n",
       "      <td>00013b17ad220c46</td>\n",
       "      <td>\" \\n\\n == Sources == \\n\\n * Zawe Ashton on Lap...</td>\n",
       "      <td>source zawe ashton lapland</td>\n",
       "    </tr>\n",
       "    <tr>\n",
       "      <th>3</th>\n",
       "      <td>00017563c3f7919a</td>\n",
       "      <td>:If you have a look back at the source, the in...</td>\n",
       "      <td>look back source information updated correct f...</td>\n",
       "    </tr>\n",
       "    <tr>\n",
       "      <th>4</th>\n",
       "      <td>00017695ad8997eb</td>\n",
       "      <td>I don't anonymously edit articles at all.</td>\n",
       "      <td>anonymously edit article</td>\n",
       "    </tr>\n",
       "  </tbody>\n",
       "</table>\n",
       "</div>"
      ],
      "text/plain": [
       "                 id                                       comment_text  \\\n",
       "0  00001cee341fdb12  Yo bitch Ja Rule is more succesful then you'll...   \n",
       "1  0000247867823ef7  == From RfC == \\n\\n The title is fine as it is...   \n",
       "2  00013b17ad220c46  \" \\n\\n == Sources == \\n\\n * Zawe Ashton on Lap...   \n",
       "3  00017563c3f7919a  :If you have a look back at the source, the in...   \n",
       "4  00017695ad8997eb          I don't anonymously edit articles at all.   \n",
       "\n",
       "                                          clean_text  \n",
       "0  yo bitch ja rule succesful ever whats hating s...  \n",
       "1                                 rfc title fine imo  \n",
       "2                         source zawe ashton lapland  \n",
       "3  look back source information updated correct f...  \n",
       "4                           anonymously edit article  "
      ]
     },
     "execution_count": 20,
     "metadata": {},
     "output_type": "execute_result"
    }
   ],
   "source": [
    "# We clean the test dataset\n",
    "test2['clean_text'] = test2['comment_text'].apply(cleaning_text)\n",
    "test2.head(5)"
   ]
  },
  {
   "cell_type": "markdown",
   "id": "06d64b78",
   "metadata": {
    "papermill": {
     "duration": 0.041592,
     "end_time": "2022-01-08T11:12:08.015062",
     "exception": false,
     "start_time": "2022-01-08T11:12:07.973470",
     "status": "completed"
    },
    "tags": []
   },
   "source": [
    "### LR"
   ]
  },
  {
   "cell_type": "code",
   "execution_count": 21,
   "id": "a4a70aa0",
   "metadata": {
    "execution": {
     "iopub.execute_input": "2022-01-08T11:12:08.110626Z",
     "iopub.status.busy": "2022-01-08T11:12:08.109690Z",
     "iopub.status.idle": "2022-01-08T11:12:08.130231Z",
     "shell.execute_reply": "2022-01-08T11:12:08.130851Z",
     "shell.execute_reply.started": "2022-01-08T10:59:36.461880Z"
    },
    "papermill": {
     "duration": 0.070993,
     "end_time": "2022-01-08T11:12:08.131059",
     "exception": false,
     "start_time": "2022-01-08T11:12:08.060066",
     "status": "completed"
    },
    "tags": []
   },
   "outputs": [
    {
     "data": {
      "text/html": [
       "<div>\n",
       "<style scoped>\n",
       "    .dataframe tbody tr th:only-of-type {\n",
       "        vertical-align: middle;\n",
       "    }\n",
       "\n",
       "    .dataframe tbody tr th {\n",
       "        vertical-align: top;\n",
       "    }\n",
       "\n",
       "    .dataframe thead th {\n",
       "        text-align: right;\n",
       "    }\n",
       "</style>\n",
       "<table border=\"1\" class=\"dataframe\">\n",
       "  <thead>\n",
       "    <tr style=\"text-align: right;\">\n",
       "      <th></th>\n",
       "      <th>id</th>\n",
       "      <th>comment_text</th>\n",
       "      <th>toxic</th>\n",
       "      <th>severe_toxic</th>\n",
       "      <th>obscene</th>\n",
       "      <th>threat</th>\n",
       "      <th>insult</th>\n",
       "      <th>identity_hate</th>\n",
       "      <th>clean_text</th>\n",
       "      <th>score</th>\n",
       "    </tr>\n",
       "  </thead>\n",
       "  <tbody>\n",
       "    <tr>\n",
       "      <th>0</th>\n",
       "      <td>0000997932d777bf</td>\n",
       "      <td>Explanation\\nWhy the edits made under my usern...</td>\n",
       "      <td>0</td>\n",
       "      <td>0</td>\n",
       "      <td>0</td>\n",
       "      <td>0</td>\n",
       "      <td>0</td>\n",
       "      <td>0</td>\n",
       "      <td>explanation edits made username hardcore metal...</td>\n",
       "      <td>0</td>\n",
       "    </tr>\n",
       "    <tr>\n",
       "      <th>1</th>\n",
       "      <td>000103f0d9cfb60f</td>\n",
       "      <td>D'aww! He matches this background colour I'm s...</td>\n",
       "      <td>0</td>\n",
       "      <td>0</td>\n",
       "      <td>0</td>\n",
       "      <td>0</td>\n",
       "      <td>0</td>\n",
       "      <td>0</td>\n",
       "      <td>aww match background colour seemingly stuck th...</td>\n",
       "      <td>0</td>\n",
       "    </tr>\n",
       "    <tr>\n",
       "      <th>2</th>\n",
       "      <td>000113f07ec002fd</td>\n",
       "      <td>Hey man, I'm really not trying to edit war. It...</td>\n",
       "      <td>0</td>\n",
       "      <td>0</td>\n",
       "      <td>0</td>\n",
       "      <td>0</td>\n",
       "      <td>0</td>\n",
       "      <td>0</td>\n",
       "      <td>hey man really trying edit war guy constantly ...</td>\n",
       "      <td>0</td>\n",
       "    </tr>\n",
       "    <tr>\n",
       "      <th>3</th>\n",
       "      <td>0001b41b1c6bb37e</td>\n",
       "      <td>\"\\nMore\\nI can't make any real suggestions on ...</td>\n",
       "      <td>0</td>\n",
       "      <td>0</td>\n",
       "      <td>0</td>\n",
       "      <td>0</td>\n",
       "      <td>0</td>\n",
       "      <td>0</td>\n",
       "      <td>make real suggestion improvement wondered sect...</td>\n",
       "      <td>0</td>\n",
       "    </tr>\n",
       "    <tr>\n",
       "      <th>4</th>\n",
       "      <td>0001d958c54c6e35</td>\n",
       "      <td>You, sir, are my hero. Any chance you remember...</td>\n",
       "      <td>0</td>\n",
       "      <td>0</td>\n",
       "      <td>0</td>\n",
       "      <td>0</td>\n",
       "      <td>0</td>\n",
       "      <td>0</td>\n",
       "      <td>sir hero chance remember page</td>\n",
       "      <td>0</td>\n",
       "    </tr>\n",
       "  </tbody>\n",
       "</table>\n",
       "</div>"
      ],
      "text/plain": [
       "                 id                                       comment_text  toxic  \\\n",
       "0  0000997932d777bf  Explanation\\nWhy the edits made under my usern...      0   \n",
       "1  000103f0d9cfb60f  D'aww! He matches this background colour I'm s...      0   \n",
       "2  000113f07ec002fd  Hey man, I'm really not trying to edit war. It...      0   \n",
       "3  0001b41b1c6bb37e  \"\\nMore\\nI can't make any real suggestions on ...      0   \n",
       "4  0001d958c54c6e35  You, sir, are my hero. Any chance you remember...      0   \n",
       "\n",
       "   severe_toxic  obscene  threat  insult  identity_hate  \\\n",
       "0             0        0       0       0              0   \n",
       "1             0        0       0       0              0   \n",
       "2             0        0       0       0              0   \n",
       "3             0        0       0       0              0   \n",
       "4             0        0       0       0              0   \n",
       "\n",
       "                                          clean_text  score  \n",
       "0  explanation edits made username hardcore metal...      0  \n",
       "1  aww match background colour seemingly stuck th...      0  \n",
       "2  hey man really trying edit war guy constantly ...      0  \n",
       "3  make real suggestion improvement wondered sect...      0  \n",
       "4                      sir hero chance remember page      0  "
      ]
     },
     "execution_count": 21,
     "metadata": {},
     "output_type": "execute_result"
    }
   ],
   "source": [
    "# New variable with the score (categories sum)\n",
    "\n",
    "# In top of that we add more weights to the comments that are severe toxic, threatning and have identity hate.\n",
    "train2['score'] = train2.toxic + 3*train2.severe_toxic + train2.obscene + 3*train2.threat + train2.insult + 3*train2.identity_hate\n",
    "train2.head()"
   ]
  },
  {
   "cell_type": "code",
   "execution_count": 22,
   "id": "a42ecf71",
   "metadata": {
    "execution": {
     "iopub.execute_input": "2022-01-08T11:12:08.230003Z",
     "iopub.status.busy": "2022-01-08T11:12:08.228285Z",
     "iopub.status.idle": "2022-01-08T11:12:08.261375Z",
     "shell.execute_reply": "2022-01-08T11:12:08.260707Z",
     "shell.execute_reply.started": "2022-01-08T10:59:36.486665Z"
    },
    "papermill": {
     "duration": 0.087206,
     "end_time": "2022-01-08T11:12:08.261566",
     "exception": false,
     "start_time": "2022-01-08T11:12:08.174360",
     "status": "completed"
    },
    "tags": []
   },
   "outputs": [
    {
     "data": {
      "text/html": [
       "<div>\n",
       "<style scoped>\n",
       "    .dataframe tbody tr th:only-of-type {\n",
       "        vertical-align: middle;\n",
       "    }\n",
       "\n",
       "    .dataframe tbody tr th {\n",
       "        vertical-align: top;\n",
       "    }\n",
       "\n",
       "    .dataframe thead th {\n",
       "        text-align: right;\n",
       "    }\n",
       "</style>\n",
       "<table border=\"1\" class=\"dataframe\">\n",
       "  <thead>\n",
       "    <tr style=\"text-align: right;\">\n",
       "      <th></th>\n",
       "      <th>clean_text</th>\n",
       "      <th>score</th>\n",
       "    </tr>\n",
       "  </thead>\n",
       "  <tbody>\n",
       "    <tr>\n",
       "      <th>0</th>\n",
       "      <td>explanation edits made username hardcore metal...</td>\n",
       "      <td>0</td>\n",
       "    </tr>\n",
       "    <tr>\n",
       "      <th>1</th>\n",
       "      <td>aww match background colour seemingly stuck th...</td>\n",
       "      <td>0</td>\n",
       "    </tr>\n",
       "    <tr>\n",
       "      <th>2</th>\n",
       "      <td>hey man really trying edit war guy constantly ...</td>\n",
       "      <td>0</td>\n",
       "    </tr>\n",
       "    <tr>\n",
       "      <th>3</th>\n",
       "      <td>make real suggestion improvement wondered sect...</td>\n",
       "      <td>0</td>\n",
       "    </tr>\n",
       "    <tr>\n",
       "      <th>4</th>\n",
       "      <td>sir hero chance remember page</td>\n",
       "      <td>0</td>\n",
       "    </tr>\n",
       "    <tr>\n",
       "      <th>...</th>\n",
       "      <td>...</td>\n",
       "      <td>...</td>\n",
       "    </tr>\n",
       "    <tr>\n",
       "      <th>159566</th>\n",
       "      <td>second time asking view completely contradicts...</td>\n",
       "      <td>0</td>\n",
       "    </tr>\n",
       "    <tr>\n",
       "      <th>159567</th>\n",
       "      <td>ashamed horrible thing put talk page</td>\n",
       "      <td>0</td>\n",
       "    </tr>\n",
       "    <tr>\n",
       "      <th>159568</th>\n",
       "      <td>spitzer umm there actual article prostitution ...</td>\n",
       "      <td>0</td>\n",
       "    </tr>\n",
       "    <tr>\n",
       "      <th>159569</th>\n",
       "      <td>look like actually put speedy first version de...</td>\n",
       "      <td>0</td>\n",
       "    </tr>\n",
       "    <tr>\n",
       "      <th>159570</th>\n",
       "      <td>really think understand came idea bad right aw...</td>\n",
       "      <td>0</td>\n",
       "    </tr>\n",
       "  </tbody>\n",
       "</table>\n",
       "<p>159571 rows × 2 columns</p>\n",
       "</div>"
      ],
      "text/plain": [
       "                                               clean_text  score\n",
       "0       explanation edits made username hardcore metal...      0\n",
       "1       aww match background colour seemingly stuck th...      0\n",
       "2       hey man really trying edit war guy constantly ...      0\n",
       "3       make real suggestion improvement wondered sect...      0\n",
       "4                           sir hero chance remember page      0\n",
       "...                                                   ...    ...\n",
       "159566  second time asking view completely contradicts...      0\n",
       "159567               ashamed horrible thing put talk page      0\n",
       "159568  spitzer umm there actual article prostitution ...      0\n",
       "159569  look like actually put speedy first version de...      0\n",
       "159570  really think understand came idea bad right aw...      0\n",
       "\n",
       "[159571 rows x 2 columns]"
      ]
     },
     "execution_count": 22,
     "metadata": {},
     "output_type": "execute_result"
    }
   ],
   "source": [
    "# We keep only the clean text and the score\n",
    "train2 = train2[[\"clean_text\", \"score\"]]\n",
    "train2"
   ]
  },
  {
   "cell_type": "code",
   "execution_count": 23,
   "id": "83b55f10",
   "metadata": {
    "execution": {
     "iopub.execute_input": "2022-01-08T11:12:08.355841Z",
     "iopub.status.busy": "2022-01-08T11:12:08.355083Z",
     "iopub.status.idle": "2022-01-08T11:12:08.360599Z",
     "shell.execute_reply": "2022-01-08T11:12:08.361377Z",
     "shell.execute_reply.started": "2022-01-06T18:24:41.360903Z"
    },
    "papermill": {
     "duration": 0.053463,
     "end_time": "2022-01-08T11:12:08.361585",
     "exception": false,
     "start_time": "2022-01-08T11:12:08.308122",
     "status": "completed"
    },
    "tags": []
   },
   "outputs": [
    {
     "data": {
      "text/plain": [
       "159571"
      ]
     },
     "execution_count": 23,
     "metadata": {},
     "output_type": "execute_result"
    }
   ],
   "source": [
    "len(train2)"
   ]
  },
  {
   "cell_type": "code",
   "execution_count": 24,
   "id": "0d231319",
   "metadata": {
    "execution": {
     "iopub.execute_input": "2022-01-08T11:12:08.449374Z",
     "iopub.status.busy": "2022-01-08T11:12:08.448580Z",
     "iopub.status.idle": "2022-01-08T11:12:08.452939Z",
     "shell.execute_reply": "2022-01-08T11:12:08.453493Z",
     "shell.execute_reply.started": "2022-01-08T10:59:36.568613Z"
    },
    "papermill": {
     "duration": 0.050267,
     "end_time": "2022-01-08T11:12:08.453696",
     "exception": false,
     "start_time": "2022-01-08T11:12:08.403429",
     "status": "completed"
    },
    "tags": []
   },
   "outputs": [],
   "source": [
    "X = train2['clean_text']\n",
    "Y = train2['score']"
   ]
  },
  {
   "cell_type": "markdown",
   "id": "defb1626",
   "metadata": {
    "papermill": {
     "duration": 0.041437,
     "end_time": "2022-01-08T11:12:08.537515",
     "exception": false,
     "start_time": "2022-01-08T11:12:08.496078",
     "status": "completed"
    },
    "tags": []
   },
   "source": [
    "## TF-IDF"
   ]
  },
  {
   "cell_type": "code",
   "execution_count": 25,
   "id": "78079a95",
   "metadata": {
    "execution": {
     "iopub.execute_input": "2022-01-08T11:12:08.624948Z",
     "iopub.status.busy": "2022-01-08T11:12:08.624066Z",
     "iopub.status.idle": "2022-01-08T11:13:11.282476Z",
     "shell.execute_reply": "2022-01-08T11:13:11.281558Z",
     "shell.execute_reply.started": "2022-01-08T10:59:36.574228Z"
    },
    "papermill": {
     "duration": 62.703466,
     "end_time": "2022-01-08T11:13:11.282644",
     "exception": false,
     "start_time": "2022-01-08T11:12:08.579178",
     "status": "completed"
    },
    "tags": []
   },
   "outputs": [],
   "source": [
    "vectorizer = TfidfVectorizer(analyzer = 'char_wb', min_df = 5, smooth_idf=True, ngram_range=(1,2))\n",
    "\n",
    "X_train_tfidf = vectorizer.fit_transform(X)"
   ]
  },
  {
   "cell_type": "markdown",
   "id": "1b08738c",
   "metadata": {
    "papermill": {
     "duration": 0.042759,
     "end_time": "2022-01-08T11:13:11.368096",
     "exception": false,
     "start_time": "2022-01-08T11:13:11.325337",
     "status": "completed"
    },
    "tags": []
   },
   "source": [
    "### Model"
   ]
  },
  {
   "cell_type": "code",
   "execution_count": 26,
   "id": "55826c0f",
   "metadata": {
    "execution": {
     "iopub.execute_input": "2022-01-08T11:13:11.459282Z",
     "iopub.status.busy": "2022-01-08T11:13:11.458582Z",
     "iopub.status.idle": "2022-01-08T11:13:11.460005Z",
     "shell.execute_reply": "2022-01-08T11:13:11.460605Z",
     "shell.execute_reply.started": "2022-01-08T11:04:18.706300Z"
    },
    "papermill": {
     "duration": 0.049755,
     "end_time": "2022-01-08T11:13:11.460792",
     "exception": false,
     "start_time": "2022-01-08T11:13:11.411037",
     "status": "completed"
    },
    "tags": []
   },
   "outputs": [],
   "source": [
    "X = X_train_tfidf\n",
    "Y = train2['score']"
   ]
  },
  {
   "cell_type": "code",
   "execution_count": 27,
   "id": "5e1fac88",
   "metadata": {
    "execution": {
     "iopub.execute_input": "2022-01-08T11:13:11.549653Z",
     "iopub.status.busy": "2022-01-08T11:13:11.548870Z",
     "iopub.status.idle": "2022-01-08T11:13:11.555060Z",
     "shell.execute_reply": "2022-01-08T11:13:11.555554Z",
     "shell.execute_reply.started": "2022-01-08T11:04:23.716800Z"
    },
    "papermill": {
     "duration": 0.051673,
     "end_time": "2022-01-08T11:13:11.555769",
     "exception": false,
     "start_time": "2022-01-08T11:13:11.504096",
     "status": "completed"
    },
    "tags": []
   },
   "outputs": [
    {
     "name": "stdout",
     "output_type": "stream",
     "text": [
      "0         0\n",
      "1         0\n",
      "2         0\n",
      "3         0\n",
      "4         0\n",
      "         ..\n",
      "159566    0\n",
      "159567    0\n",
      "159568    0\n",
      "159569    0\n",
      "159570    0\n",
      "Name: score, Length: 159571, dtype: int64\n"
     ]
    }
   ],
   "source": [
    "print(Y)"
   ]
  },
  {
   "cell_type": "code",
   "execution_count": 28,
   "id": "260ef79a",
   "metadata": {
    "execution": {
     "iopub.execute_input": "2022-01-08T11:13:11.646422Z",
     "iopub.status.busy": "2022-01-08T11:13:11.645413Z",
     "iopub.status.idle": "2022-01-08T11:20:39.141037Z",
     "shell.execute_reply": "2022-01-08T11:20:39.144019Z",
     "shell.execute_reply.started": "2022-01-06T18:28:35.167257Z"
    },
    "papermill": {
     "duration": 447.545442,
     "end_time": "2022-01-08T11:20:39.145074",
     "exception": false,
     "start_time": "2022-01-08T11:13:11.599632",
     "status": "completed"
    },
    "tags": []
   },
   "outputs": [],
   "source": [
    "# Model\n",
    "lin_reg = LinearRegression().fit(X,Y)"
   ]
  },
  {
   "cell_type": "code",
   "execution_count": 29,
   "id": "afd967c4",
   "metadata": {
    "execution": {
     "iopub.execute_input": "2022-01-08T11:20:39.283065Z",
     "iopub.status.busy": "2022-01-08T11:20:39.282214Z",
     "iopub.status.idle": "2022-01-08T11:20:42.354650Z",
     "shell.execute_reply": "2022-01-08T11:20:42.355181Z",
     "shell.execute_reply.started": "2022-01-06T18:29:48.684419Z"
    },
    "papermill": {
     "duration": 3.137189,
     "end_time": "2022-01-08T11:20:42.355400",
     "exception": false,
     "start_time": "2022-01-08T11:20:39.218211",
     "status": "completed"
    },
    "tags": []
   },
   "outputs": [
    {
     "name": "stdout",
     "output_type": "stream",
     "text": [
      "[ 0.18167436  0.09032524  0.41128101 ...  0.10414714  2.29449945\n",
      " -0.26025716]\n"
     ]
    }
   ],
   "source": [
    "# Predicting on the comments_to_score\n",
    "comments_to_score_tfidf = vectorizer.transform(comments_to_score['clean_text'])\n",
    "\n",
    "pred = lin_reg.predict(comments_to_score_tfidf)\n",
    "print(pred)"
   ]
  },
  {
   "cell_type": "markdown",
   "id": "0f26a4c1",
   "metadata": {
    "papermill": {
     "duration": 0.041962,
     "end_time": "2022-01-08T11:20:42.439837",
     "exception": false,
     "start_time": "2022-01-08T11:20:42.397875",
     "status": "completed"
    },
    "tags": []
   },
   "source": [
    "### Submission"
   ]
  },
  {
   "cell_type": "code",
   "execution_count": 30,
   "id": "14aed50d",
   "metadata": {
    "execution": {
     "iopub.execute_input": "2022-01-08T11:20:42.529889Z",
     "iopub.status.busy": "2022-01-08T11:20:42.528880Z",
     "iopub.status.idle": "2022-01-08T11:20:42.539405Z",
     "shell.execute_reply": "2022-01-08T11:20:42.539995Z",
     "shell.execute_reply.started": "2022-01-06T18:29:51.813383Z"
    },
    "papermill": {
     "duration": 0.057394,
     "end_time": "2022-01-08T11:20:42.540210",
     "exception": false,
     "start_time": "2022-01-08T11:20:42.482816",
     "status": "completed"
    },
    "tags": []
   },
   "outputs": [],
   "source": [
    "# Exporting the submission file\n",
    "results = pd.DataFrame(comments_to_score[\"comment_id\"])\n",
    "results[\"score\"] = pred"
   ]
  },
  {
   "cell_type": "code",
   "execution_count": 31,
   "id": "12524d92",
   "metadata": {
    "execution": {
     "iopub.execute_input": "2022-01-08T11:20:42.631345Z",
     "iopub.status.busy": "2022-01-08T11:20:42.630205Z",
     "iopub.status.idle": "2022-01-08T11:20:42.642855Z",
     "shell.execute_reply": "2022-01-08T11:20:42.643390Z",
     "shell.execute_reply.started": "2022-01-06T18:29:51.82453Z"
    },
    "papermill": {
     "duration": 0.059516,
     "end_time": "2022-01-08T11:20:42.643591",
     "exception": false,
     "start_time": "2022-01-08T11:20:42.584075",
     "status": "completed"
    },
    "tags": []
   },
   "outputs": [
    {
     "data": {
      "text/html": [
       "<div>\n",
       "<style scoped>\n",
       "    .dataframe tbody tr th:only-of-type {\n",
       "        vertical-align: middle;\n",
       "    }\n",
       "\n",
       "    .dataframe tbody tr th {\n",
       "        vertical-align: top;\n",
       "    }\n",
       "\n",
       "    .dataframe thead th {\n",
       "        text-align: right;\n",
       "    }\n",
       "</style>\n",
       "<table border=\"1\" class=\"dataframe\">\n",
       "  <thead>\n",
       "    <tr style=\"text-align: right;\">\n",
       "      <th></th>\n",
       "      <th>comment_id</th>\n",
       "      <th>score</th>\n",
       "    </tr>\n",
       "  </thead>\n",
       "  <tbody>\n",
       "    <tr>\n",
       "      <th>0</th>\n",
       "      <td>114890</td>\n",
       "      <td>0.181674</td>\n",
       "    </tr>\n",
       "    <tr>\n",
       "      <th>1</th>\n",
       "      <td>732895</td>\n",
       "      <td>0.090325</td>\n",
       "    </tr>\n",
       "    <tr>\n",
       "      <th>2</th>\n",
       "      <td>1139051</td>\n",
       "      <td>0.411281</td>\n",
       "    </tr>\n",
       "    <tr>\n",
       "      <th>3</th>\n",
       "      <td>1434512</td>\n",
       "      <td>0.282650</td>\n",
       "    </tr>\n",
       "    <tr>\n",
       "      <th>4</th>\n",
       "      <td>2084821</td>\n",
       "      <td>0.887930</td>\n",
       "    </tr>\n",
       "  </tbody>\n",
       "</table>\n",
       "</div>"
      ],
      "text/plain": [
       "   comment_id     score\n",
       "0      114890  0.181674\n",
       "1      732895  0.090325\n",
       "2     1139051  0.411281\n",
       "3     1434512  0.282650\n",
       "4     2084821  0.887930"
      ]
     },
     "execution_count": 31,
     "metadata": {},
     "output_type": "execute_result"
    }
   ],
   "source": [
    "results.head(5)"
   ]
  },
  {
   "cell_type": "code",
   "execution_count": 32,
   "id": "4b43ac91",
   "metadata": {
    "execution": {
     "iopub.execute_input": "2022-01-08T11:20:42.735044Z",
     "iopub.status.busy": "2022-01-08T11:20:42.734035Z",
     "iopub.status.idle": "2022-01-08T11:20:42.775353Z",
     "shell.execute_reply": "2022-01-08T11:20:42.774569Z",
     "shell.execute_reply.started": "2022-01-06T18:29:51.845544Z"
    },
    "papermill": {
     "duration": 0.088437,
     "end_time": "2022-01-08T11:20:42.775527",
     "exception": false,
     "start_time": "2022-01-08T11:20:42.687090",
     "status": "completed"
    },
    "tags": []
   },
   "outputs": [],
   "source": [
    "results.to_csv(\"submission.csv\", index=False)"
   ]
  }
 ],
 "metadata": {
  "kernelspec": {
   "display_name": "Python 3",
   "language": "python",
   "name": "python3"
  },
  "language_info": {
   "codemirror_mode": {
    "name": "ipython",
    "version": 3
   },
   "file_extension": ".py",
   "mimetype": "text/x-python",
   "name": "python",
   "nbconvert_exporter": "python",
   "pygments_lexer": "ipython3",
   "version": "3.7.12"
  },
  "papermill": {
   "default_parameters": {},
   "duration": 900.855349,
   "end_time": "2022-01-08T11:20:44.239191",
   "environment_variables": {},
   "exception": null,
   "input_path": "__notebook__.ipynb",
   "output_path": "__notebook__.ipynb",
   "parameters": {},
   "start_time": "2022-01-08T11:05:43.383842",
   "version": "2.3.3"
  }
 },
 "nbformat": 4,
 "nbformat_minor": 5
}
