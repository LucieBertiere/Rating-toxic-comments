{
 "cells": [
  {
   "cell_type": "markdown",
   "id": "ab799f01",
   "metadata": {
    "id": "PyJJMaAhB30L",
    "papermill": {
     "duration": 0.023893,
     "end_time": "2022-01-06T14:32:03.289876",
     "exception": false,
     "start_time": "2022-01-06T14:32:03.265983",
     "status": "completed"
    },
    "tags": []
   },
   "source": [
    "**Jigsaw Rate Severity of Toxic Comments**\n",
    "\n",
    "Raquel Alcaraz\n",
    "\n",
    "Lucie Bertiere"
   ]
  },
  {
   "cell_type": "markdown",
   "id": "6eecc41f",
   "metadata": {
    "id": "xAnR_77kCoKf",
    "papermill": {
     "duration": 0.019988,
     "end_time": "2022-01-06T14:32:03.330862",
     "exception": false,
     "start_time": "2022-01-06T14:32:03.310874",
     "status": "completed"
    },
    "tags": []
   },
   "source": [
    "# Libraries"
   ]
  },
  {
   "cell_type": "code",
   "execution_count": 1,
   "id": "ac9a10a0",
   "metadata": {
    "execution": {
     "iopub.execute_input": "2022-01-06T14:32:03.374227Z",
     "iopub.status.busy": "2022-01-06T14:32:03.373094Z",
     "iopub.status.idle": "2022-01-06T14:32:05.140560Z",
     "shell.execute_reply": "2022-01-06T14:32:05.139794Z",
     "shell.execute_reply.started": "2022-01-05T17:55:52.230868Z"
    },
    "id": "-wncRf68Cn03",
    "papermill": {
     "duration": 1.789735,
     "end_time": "2022-01-06T14:32:05.140731",
     "exception": false,
     "start_time": "2022-01-06T14:32:03.350996",
     "status": "completed"
    },
    "tags": []
   },
   "outputs": [],
   "source": [
    "import pandas as pd\n",
    "import os\n",
    "import seaborn as sns\n",
    "import numpy as np\n",
    "import matplotlib.pyplot as plt\n",
    "\n",
    "import re\n",
    "import nltk\n",
    "from nltk import word_tokenize\n",
    "from nltk.corpus import stopwords\n",
    "from nltk.stem import WordNetLemmatizer\n",
    "from wordcloud import WordCloud\n",
    "from collections import Counter\n",
    "\n",
    "\n",
    "from sklearn.linear_model import Ridge\n",
    "from sklearn import model_selection\n",
    "from sklearn import metrics\n",
    "from sklearn.feature_extraction.text import TfidfVectorizer\n"
   ]
  },
  {
   "cell_type": "markdown",
   "id": "28fd583a",
   "metadata": {
    "id": "VuliXIFPCrjw",
    "papermill": {
     "duration": 0.019673,
     "end_time": "2022-01-06T14:32:05.180248",
     "exception": false,
     "start_time": "2022-01-06T14:32:05.160575",
     "status": "completed"
    },
    "tags": []
   },
   "source": [
    "# Importing the data"
   ]
  },
  {
   "cell_type": "code",
   "execution_count": 2,
   "id": "c16a1d11",
   "metadata": {
    "execution": {
     "iopub.execute_input": "2022-01-06T14:32:05.226279Z",
     "iopub.status.busy": "2022-01-06T14:32:05.223788Z",
     "iopub.status.idle": "2022-01-06T14:32:05.329340Z",
     "shell.execute_reply": "2022-01-06T14:32:05.329833Z"
    },
    "papermill": {
     "duration": 0.12936,
     "end_time": "2022-01-06T14:32:05.330006",
     "exception": false,
     "start_time": "2022-01-06T14:32:05.200646",
     "status": "completed"
    },
    "tags": []
   },
   "outputs": [],
   "source": [
    "comments_to_score = pd.read_csv(\"/kaggle/input/jigsaw-toxic-severity-rating/comments_to_score.csv\")"
   ]
  },
  {
   "cell_type": "code",
   "execution_count": 3,
   "id": "9c1cced5",
   "metadata": {
    "execution": {
     "iopub.execute_input": "2022-01-06T14:32:05.372965Z",
     "iopub.status.busy": "2022-01-06T14:32:05.372066Z",
     "iopub.status.idle": "2022-01-06T14:32:05.389476Z",
     "shell.execute_reply": "2022-01-06T14:32:05.389911Z"
    },
    "id": "jGtviYpxHIOD",
    "outputId": "64949795-a58b-42b6-c0c9-8af33a3f1e03",
    "papermill": {
     "duration": 0.040186,
     "end_time": "2022-01-06T14:32:05.390080",
     "exception": false,
     "start_time": "2022-01-06T14:32:05.349894",
     "status": "completed"
    },
    "tags": []
   },
   "outputs": [
    {
     "data": {
      "text/html": [
       "<div>\n",
       "<style scoped>\n",
       "    .dataframe tbody tr th:only-of-type {\n",
       "        vertical-align: middle;\n",
       "    }\n",
       "\n",
       "    .dataframe tbody tr th {\n",
       "        vertical-align: top;\n",
       "    }\n",
       "\n",
       "    .dataframe thead th {\n",
       "        text-align: right;\n",
       "    }\n",
       "</style>\n",
       "<table border=\"1\" class=\"dataframe\">\n",
       "  <thead>\n",
       "    <tr style=\"text-align: right;\">\n",
       "      <th></th>\n",
       "      <th>comment_id</th>\n",
       "      <th>text</th>\n",
       "    </tr>\n",
       "  </thead>\n",
       "  <tbody>\n",
       "    <tr>\n",
       "      <th>0</th>\n",
       "      <td>114890</td>\n",
       "      <td>\"\\n \\n\\nGjalexei, you asked about whether ther...</td>\n",
       "    </tr>\n",
       "    <tr>\n",
       "      <th>1</th>\n",
       "      <td>732895</td>\n",
       "      <td>Looks like be have an abuser , can you please ...</td>\n",
       "    </tr>\n",
       "    <tr>\n",
       "      <th>2</th>\n",
       "      <td>1139051</td>\n",
       "      <td>I confess to having complete (and apparently b...</td>\n",
       "    </tr>\n",
       "    <tr>\n",
       "      <th>3</th>\n",
       "      <td>1434512</td>\n",
       "      <td>\"\\n\\nFreud's ideas are certainly much discusse...</td>\n",
       "    </tr>\n",
       "    <tr>\n",
       "      <th>4</th>\n",
       "      <td>2084821</td>\n",
       "      <td>It is not just you. This is a laundry list of ...</td>\n",
       "    </tr>\n",
       "  </tbody>\n",
       "</table>\n",
       "</div>"
      ],
      "text/plain": [
       "   comment_id                                               text\n",
       "0      114890  \"\\n \\n\\nGjalexei, you asked about whether ther...\n",
       "1      732895  Looks like be have an abuser , can you please ...\n",
       "2     1139051  I confess to having complete (and apparently b...\n",
       "3     1434512  \"\\n\\nFreud's ideas are certainly much discusse...\n",
       "4     2084821  It is not just you. This is a laundry list of ..."
      ]
     },
     "execution_count": 3,
     "metadata": {},
     "output_type": "execute_result"
    }
   ],
   "source": [
    "comments_to_score.head(5)"
   ]
  },
  {
   "cell_type": "markdown",
   "id": "94490c92",
   "metadata": {
    "id": "nMliJfz7FIBW",
    "papermill": {
     "duration": 0.01974,
     "end_time": "2022-01-06T14:32:05.430699",
     "exception": false,
     "start_time": "2022-01-06T14:32:05.410959",
     "status": "completed"
    },
    "tags": []
   },
   "source": [
    "# Cleaning the data"
   ]
  },
  {
   "cell_type": "markdown",
   "id": "8505220e",
   "metadata": {
    "id": "mynzF2tNIRIs",
    "papermill": {
     "duration": 0.019998,
     "end_time": "2022-01-06T14:32:05.470696",
     "exception": false,
     "start_time": "2022-01-06T14:32:05.450698",
     "status": "completed"
    },
    "tags": []
   },
   "source": [
    "## Function"
   ]
  },
  {
   "cell_type": "code",
   "execution_count": 4,
   "id": "9bd594e7",
   "metadata": {
    "execution": {
     "iopub.execute_input": "2022-01-06T14:32:05.516226Z",
     "iopub.status.busy": "2022-01-06T14:32:05.515270Z",
     "iopub.status.idle": "2022-01-06T14:33:05.621283Z",
     "shell.execute_reply": "2022-01-06T14:33:05.620663Z"
    },
    "id": "uLc89mSUZEnK",
    "outputId": "4600e3cf-177b-466c-e389-733c05c5706d",
    "papermill": {
     "duration": 60.12968,
     "end_time": "2022-01-06T14:33:05.621429",
     "exception": false,
     "start_time": "2022-01-06T14:32:05.491749",
     "status": "completed"
    },
    "tags": []
   },
   "outputs": [
    {
     "name": "stdout",
     "output_type": "stream",
     "text": [
      "[nltk_data] Error loading punkt: <urlopen error [Errno -3] Temporary\n",
      "[nltk_data]     failure in name resolution>\n",
      "[nltk_data] Error loading stopwords: <urlopen error [Errno -3]\n",
      "[nltk_data]     Temporary failure in name resolution>\n",
      "[nltk_data] Error loading wordnet: <urlopen error [Errno -3] Temporary\n",
      "[nltk_data]     failure in name resolution>\n"
     ]
    },
    {
     "data": {
      "text/plain": [
       "False"
      ]
     },
     "execution_count": 4,
     "metadata": {},
     "output_type": "execute_result"
    }
   ],
   "source": [
    "nltk.download('punkt')\n",
    "nltk.download('stopwords')\n",
    "nltk.download('wordnet')"
   ]
  },
  {
   "cell_type": "code",
   "execution_count": 5,
   "id": "ff5cf7e4",
   "metadata": {
    "execution": {
     "iopub.execute_input": "2022-01-06T14:33:05.668361Z",
     "iopub.status.busy": "2022-01-06T14:33:05.667724Z",
     "iopub.status.idle": "2022-01-06T14:33:05.681044Z",
     "shell.execute_reply": "2022-01-06T14:33:05.681554Z"
    },
    "id": "wHVURFLgIQvW",
    "papermill": {
     "duration": 0.038249,
     "end_time": "2022-01-06T14:33:05.681767",
     "exception": false,
     "start_time": "2022-01-06T14:33:05.643518",
     "status": "completed"
    },
    "tags": []
   },
   "outputs": [],
   "source": [
    "# We set the stop words in english (the words that we don't want in the clean text\n",
    "# that are the most used and not really relevant)\n",
    "stop_words = set(stopwords.words('english'))\n",
    "# and also the lemmatizer (rocks becomes rock...)\n",
    "lem = WordNetLemmatizer()\n",
    "\n",
    "\n",
    "def cleaning_text(text):\n",
    "    \n",
    "    # to put everything in lower case (I becomes i)\n",
    "    text = text.lower()\n",
    "\n",
    "    # to remove urls\n",
    "    url = re.compile(r'https?://\\S+|www\\.\\S+')\n",
    "    text = url.sub(r' ', text)\n",
    "\n",
    "    # to remove html tags\n",
    "    html = re.compile(r'<.*?>')\n",
    "    text = html.sub(r' ', text)\n",
    "    \n",
    "    # to remove digits\n",
    "    text = re.sub(r'\\d+',' ', text)\n",
    "    \n",
    "    # to remove hashtags\n",
    "    text = re.sub(r'#\\w+',' ', text)\n",
    "    \n",
    "    # to remove mentions\n",
    "    text = re.sub(r'@\\w+',' ', text)\n",
    "\n",
    "    # to remove punctations\n",
    "    text = re.sub(r\"[^\\w\\s\\d]\",' ', text)\n",
    "\n",
    "    # to remove extra white space\n",
    "    text = re.sub(r\"\\s+\",' ',text).strip()\n",
    "    \n",
    "    # removing stop words\n",
    "    token = word_tokenize(text)\n",
    "    text=[word for word in token if not word in stop_words]\n",
    "\n",
    "    # lemmatize\n",
    "    text = \" \".join([lem.lemmatize(t) for t in text])\n",
    "\n",
    "    return  text\n",
    "  "
   ]
  },
  {
   "cell_type": "markdown",
   "id": "84328d5c",
   "metadata": {
    "id": "7xKSQPA_ZNHo",
    "papermill": {
     "duration": 0.020668,
     "end_time": "2022-01-06T14:33:05.723677",
     "exception": false,
     "start_time": "2022-01-06T14:33:05.703009",
     "status": "completed"
    },
    "tags": []
   },
   "source": [
    "## Comments to score"
   ]
  },
  {
   "cell_type": "code",
   "execution_count": 6,
   "id": "6be23950",
   "metadata": {
    "execution": {
     "iopub.execute_input": "2022-01-06T14:33:05.769549Z",
     "iopub.status.busy": "2022-01-06T14:33:05.768933Z",
     "iopub.status.idle": "2022-01-06T14:33:11.373303Z",
     "shell.execute_reply": "2022-01-06T14:33:11.372758Z"
    },
    "id": "oTT2snz6ZQKu",
    "papermill": {
     "duration": 5.628779,
     "end_time": "2022-01-06T14:33:11.373437",
     "exception": false,
     "start_time": "2022-01-06T14:33:05.744658",
     "status": "completed"
    },
    "tags": []
   },
   "outputs": [],
   "source": [
    "comments_to_score['clean_text'] = comments_to_score['text'].apply(cleaning_text)"
   ]
  },
  {
   "cell_type": "code",
   "execution_count": 7,
   "id": "84b4bd9b",
   "metadata": {
    "execution": {
     "iopub.execute_input": "2022-01-06T14:33:11.423232Z",
     "iopub.status.busy": "2022-01-06T14:33:11.422298Z",
     "iopub.status.idle": "2022-01-06T14:33:11.431532Z",
     "shell.execute_reply": "2022-01-06T14:33:11.431989Z"
    },
    "id": "UZ6IjSTFZal0",
    "outputId": "d528e17a-2422-45d1-c6d8-ecbc1ab8c968",
    "papermill": {
     "duration": 0.036103,
     "end_time": "2022-01-06T14:33:11.432172",
     "exception": false,
     "start_time": "2022-01-06T14:33:11.396069",
     "status": "completed"
    },
    "tags": []
   },
   "outputs": [
    {
     "data": {
      "text/html": [
       "<div>\n",
       "<style scoped>\n",
       "    .dataframe tbody tr th:only-of-type {\n",
       "        vertical-align: middle;\n",
       "    }\n",
       "\n",
       "    .dataframe tbody tr th {\n",
       "        vertical-align: top;\n",
       "    }\n",
       "\n",
       "    .dataframe thead th {\n",
       "        text-align: right;\n",
       "    }\n",
       "</style>\n",
       "<table border=\"1\" class=\"dataframe\">\n",
       "  <thead>\n",
       "    <tr style=\"text-align: right;\">\n",
       "      <th></th>\n",
       "      <th>comment_id</th>\n",
       "      <th>text</th>\n",
       "      <th>clean_text</th>\n",
       "    </tr>\n",
       "  </thead>\n",
       "  <tbody>\n",
       "    <tr>\n",
       "      <th>0</th>\n",
       "      <td>114890</td>\n",
       "      <td>\"\\n \\n\\nGjalexei, you asked about whether ther...</td>\n",
       "      <td>gjalexei asked whether anti editorializing pol...</td>\n",
       "    </tr>\n",
       "    <tr>\n",
       "      <th>1</th>\n",
       "      <td>732895</td>\n",
       "      <td>Looks like be have an abuser , can you please ...</td>\n",
       "      <td>look like abuser please look thanks</td>\n",
       "    </tr>\n",
       "    <tr>\n",
       "      <th>2</th>\n",
       "      <td>1139051</td>\n",
       "      <td>I confess to having complete (and apparently b...</td>\n",
       "      <td>confess complete apparently blissful ignorance...</td>\n",
       "    </tr>\n",
       "    <tr>\n",
       "      <th>3</th>\n",
       "      <td>1434512</td>\n",
       "      <td>\"\\n\\nFreud's ideas are certainly much discusse...</td>\n",
       "      <td>freud idea certainly much discussed today woul...</td>\n",
       "    </tr>\n",
       "    <tr>\n",
       "      <th>4</th>\n",
       "      <td>2084821</td>\n",
       "      <td>It is not just you. This is a laundry list of ...</td>\n",
       "      <td>laundry list stupid allegation scooped god kno...</td>\n",
       "    </tr>\n",
       "  </tbody>\n",
       "</table>\n",
       "</div>"
      ],
      "text/plain": [
       "   comment_id                                               text  \\\n",
       "0      114890  \"\\n \\n\\nGjalexei, you asked about whether ther...   \n",
       "1      732895  Looks like be have an abuser , can you please ...   \n",
       "2     1139051  I confess to having complete (and apparently b...   \n",
       "3     1434512  \"\\n\\nFreud's ideas are certainly much discusse...   \n",
       "4     2084821  It is not just you. This is a laundry list of ...   \n",
       "\n",
       "                                          clean_text  \n",
       "0  gjalexei asked whether anti editorializing pol...  \n",
       "1                look like abuser please look thanks  \n",
       "2  confess complete apparently blissful ignorance...  \n",
       "3  freud idea certainly much discussed today woul...  \n",
       "4  laundry list stupid allegation scooped god kno...  "
      ]
     },
     "execution_count": 7,
     "metadata": {},
     "output_type": "execute_result"
    }
   ],
   "source": [
    "comments_to_score.head(5)"
   ]
  },
  {
   "cell_type": "markdown",
   "id": "3228640c",
   "metadata": {
    "id": "KfwuCN7HEvoo",
    "papermill": {
     "duration": 0.022426,
     "end_time": "2022-01-06T14:33:11.479013",
     "exception": false,
     "start_time": "2022-01-06T14:33:11.456587",
     "status": "completed"
    },
    "tags": []
   },
   "source": [
    "# Idea 2\n",
    "\n",
    "Using previous Jigsaw competition : https://www.kaggle.com/c/jigsaw-toxic-comment-classification-challenge/"
   ]
  },
  {
   "cell_type": "code",
   "execution_count": 8,
   "id": "fae01836",
   "metadata": {
    "execution": {
     "iopub.execute_input": "2022-01-06T14:33:11.526570Z",
     "iopub.status.busy": "2022-01-06T14:33:11.524642Z",
     "iopub.status.idle": "2022-01-06T14:33:15.346241Z",
     "shell.execute_reply": "2022-01-06T14:33:15.345665Z",
     "shell.execute_reply.started": "2022-01-05T18:01:18.411983Z"
    },
    "id": "KQ-GsI1rFlz9",
    "papermill": {
     "duration": 3.845867,
     "end_time": "2022-01-06T14:33:15.346386",
     "exception": false,
     "start_time": "2022-01-06T14:33:11.500519",
     "status": "completed"
    },
    "tags": []
   },
   "outputs": [],
   "source": [
    "# We import the dataset from \"Toxic Comment Classification Challenge\"\n",
    "train2 = pd.read_csv(\"/kaggle/input/jigsaw-toxic-comment-classification-challenge/train.csv\")\n",
    "test_labels = pd.read_csv(\"/kaggle/input/jigsaw-toxic-comment-classification-challenge/test_labels.csv\")\n",
    "test2 = pd.read_csv(\"/kaggle/input/jigsaw-toxic-comment-classification-challenge/test.csv\")"
   ]
  },
  {
   "cell_type": "code",
   "execution_count": 9,
   "id": "c8256558",
   "metadata": {
    "execution": {
     "iopub.execute_input": "2022-01-06T14:33:15.398397Z",
     "iopub.status.busy": "2022-01-06T14:33:15.397400Z",
     "iopub.status.idle": "2022-01-06T14:33:15.404397Z",
     "shell.execute_reply": "2022-01-06T14:33:15.404839Z"
    },
    "id": "rUXfwAQot6dt",
    "outputId": "0b2743d7-586e-4210-e3c0-deec485d72fa",
    "papermill": {
     "duration": 0.03654,
     "end_time": "2022-01-06T14:33:15.405000",
     "exception": false,
     "start_time": "2022-01-06T14:33:15.368460",
     "status": "completed"
    },
    "tags": []
   },
   "outputs": [
    {
     "data": {
      "text/html": [
       "<div>\n",
       "<style scoped>\n",
       "    .dataframe tbody tr th:only-of-type {\n",
       "        vertical-align: middle;\n",
       "    }\n",
       "\n",
       "    .dataframe tbody tr th {\n",
       "        vertical-align: top;\n",
       "    }\n",
       "\n",
       "    .dataframe thead th {\n",
       "        text-align: right;\n",
       "    }\n",
       "</style>\n",
       "<table border=\"1\" class=\"dataframe\">\n",
       "  <thead>\n",
       "    <tr style=\"text-align: right;\">\n",
       "      <th></th>\n",
       "      <th>id</th>\n",
       "      <th>comment_text</th>\n",
       "      <th>toxic</th>\n",
       "      <th>severe_toxic</th>\n",
       "      <th>obscene</th>\n",
       "      <th>threat</th>\n",
       "      <th>insult</th>\n",
       "      <th>identity_hate</th>\n",
       "    </tr>\n",
       "  </thead>\n",
       "  <tbody>\n",
       "    <tr>\n",
       "      <th>0</th>\n",
       "      <td>0000997932d777bf</td>\n",
       "      <td>Explanation\\nWhy the edits made under my usern...</td>\n",
       "      <td>0</td>\n",
       "      <td>0</td>\n",
       "      <td>0</td>\n",
       "      <td>0</td>\n",
       "      <td>0</td>\n",
       "      <td>0</td>\n",
       "    </tr>\n",
       "    <tr>\n",
       "      <th>1</th>\n",
       "      <td>000103f0d9cfb60f</td>\n",
       "      <td>D'aww! He matches this background colour I'm s...</td>\n",
       "      <td>0</td>\n",
       "      <td>0</td>\n",
       "      <td>0</td>\n",
       "      <td>0</td>\n",
       "      <td>0</td>\n",
       "      <td>0</td>\n",
       "    </tr>\n",
       "    <tr>\n",
       "      <th>2</th>\n",
       "      <td>000113f07ec002fd</td>\n",
       "      <td>Hey man, I'm really not trying to edit war. It...</td>\n",
       "      <td>0</td>\n",
       "      <td>0</td>\n",
       "      <td>0</td>\n",
       "      <td>0</td>\n",
       "      <td>0</td>\n",
       "      <td>0</td>\n",
       "    </tr>\n",
       "    <tr>\n",
       "      <th>3</th>\n",
       "      <td>0001b41b1c6bb37e</td>\n",
       "      <td>\"\\nMore\\nI can't make any real suggestions on ...</td>\n",
       "      <td>0</td>\n",
       "      <td>0</td>\n",
       "      <td>0</td>\n",
       "      <td>0</td>\n",
       "      <td>0</td>\n",
       "      <td>0</td>\n",
       "    </tr>\n",
       "    <tr>\n",
       "      <th>4</th>\n",
       "      <td>0001d958c54c6e35</td>\n",
       "      <td>You, sir, are my hero. Any chance you remember...</td>\n",
       "      <td>0</td>\n",
       "      <td>0</td>\n",
       "      <td>0</td>\n",
       "      <td>0</td>\n",
       "      <td>0</td>\n",
       "      <td>0</td>\n",
       "    </tr>\n",
       "    <tr>\n",
       "      <th>5</th>\n",
       "      <td>00025465d4725e87</td>\n",
       "      <td>\"\\n\\nCongratulations from me as well, use the ...</td>\n",
       "      <td>0</td>\n",
       "      <td>0</td>\n",
       "      <td>0</td>\n",
       "      <td>0</td>\n",
       "      <td>0</td>\n",
       "      <td>0</td>\n",
       "    </tr>\n",
       "    <tr>\n",
       "      <th>6</th>\n",
       "      <td>0002bcb3da6cb337</td>\n",
       "      <td>COCKSUCKER BEFORE YOU PISS AROUND ON MY WORK</td>\n",
       "      <td>1</td>\n",
       "      <td>1</td>\n",
       "      <td>1</td>\n",
       "      <td>0</td>\n",
       "      <td>1</td>\n",
       "      <td>0</td>\n",
       "    </tr>\n",
       "    <tr>\n",
       "      <th>7</th>\n",
       "      <td>00031b1e95af7921</td>\n",
       "      <td>Your vandalism to the Matt Shirvington article...</td>\n",
       "      <td>0</td>\n",
       "      <td>0</td>\n",
       "      <td>0</td>\n",
       "      <td>0</td>\n",
       "      <td>0</td>\n",
       "      <td>0</td>\n",
       "    </tr>\n",
       "    <tr>\n",
       "      <th>8</th>\n",
       "      <td>00037261f536c51d</td>\n",
       "      <td>Sorry if the word 'nonsense' was offensive to ...</td>\n",
       "      <td>0</td>\n",
       "      <td>0</td>\n",
       "      <td>0</td>\n",
       "      <td>0</td>\n",
       "      <td>0</td>\n",
       "      <td>0</td>\n",
       "    </tr>\n",
       "    <tr>\n",
       "      <th>9</th>\n",
       "      <td>00040093b2687caa</td>\n",
       "      <td>alignment on this subject and which are contra...</td>\n",
       "      <td>0</td>\n",
       "      <td>0</td>\n",
       "      <td>0</td>\n",
       "      <td>0</td>\n",
       "      <td>0</td>\n",
       "      <td>0</td>\n",
       "    </tr>\n",
       "  </tbody>\n",
       "</table>\n",
       "</div>"
      ],
      "text/plain": [
       "                 id                                       comment_text  toxic  \\\n",
       "0  0000997932d777bf  Explanation\\nWhy the edits made under my usern...      0   \n",
       "1  000103f0d9cfb60f  D'aww! He matches this background colour I'm s...      0   \n",
       "2  000113f07ec002fd  Hey man, I'm really not trying to edit war. It...      0   \n",
       "3  0001b41b1c6bb37e  \"\\nMore\\nI can't make any real suggestions on ...      0   \n",
       "4  0001d958c54c6e35  You, sir, are my hero. Any chance you remember...      0   \n",
       "5  00025465d4725e87  \"\\n\\nCongratulations from me as well, use the ...      0   \n",
       "6  0002bcb3da6cb337       COCKSUCKER BEFORE YOU PISS AROUND ON MY WORK      1   \n",
       "7  00031b1e95af7921  Your vandalism to the Matt Shirvington article...      0   \n",
       "8  00037261f536c51d  Sorry if the word 'nonsense' was offensive to ...      0   \n",
       "9  00040093b2687caa  alignment on this subject and which are contra...      0   \n",
       "\n",
       "   severe_toxic  obscene  threat  insult  identity_hate  \n",
       "0             0        0       0       0              0  \n",
       "1             0        0       0       0              0  \n",
       "2             0        0       0       0              0  \n",
       "3             0        0       0       0              0  \n",
       "4             0        0       0       0              0  \n",
       "5             0        0       0       0              0  \n",
       "6             1        1       0       1              0  \n",
       "7             0        0       0       0              0  \n",
       "8             0        0       0       0              0  \n",
       "9             0        0       0       0              0  "
      ]
     },
     "execution_count": 9,
     "metadata": {},
     "output_type": "execute_result"
    }
   ],
   "source": [
    "train2.head(10)\n",
    "\n",
    "# Coded as 1 if it is toxic, severe toxic, etc"
   ]
  },
  {
   "cell_type": "code",
   "execution_count": 10,
   "id": "dd0b4550",
   "metadata": {
    "execution": {
     "iopub.execute_input": "2022-01-06T14:33:15.455544Z",
     "iopub.status.busy": "2022-01-06T14:33:15.454630Z",
     "iopub.status.idle": "2022-01-06T14:33:15.466611Z",
     "shell.execute_reply": "2022-01-06T14:33:15.467025Z"
    },
    "id": "u9r5J9f7xhYv",
    "outputId": "f0481a32-867a-4432-ce46-ffb4b4fa74b9",
    "papermill": {
     "duration": 0.039141,
     "end_time": "2022-01-06T14:33:15.467221",
     "exception": false,
     "start_time": "2022-01-06T14:33:15.428080",
     "status": "completed"
    },
    "tags": []
   },
   "outputs": [
    {
     "data": {
      "text/plain": [
       "(15294, 8)"
      ]
     },
     "execution_count": 10,
     "metadata": {},
     "output_type": "execute_result"
    }
   ],
   "source": [
    "# We check how many comments there are per category: Toxic\n",
    "nb_toxic = train2[train2.toxic==1]\n",
    "nb_toxic.shape"
   ]
  },
  {
   "cell_type": "code",
   "execution_count": 11,
   "id": "7efa1721",
   "metadata": {
    "execution": {
     "iopub.execute_input": "2022-01-06T14:33:15.517247Z",
     "iopub.status.busy": "2022-01-06T14:33:15.516303Z",
     "iopub.status.idle": "2022-01-06T14:33:15.524086Z",
     "shell.execute_reply": "2022-01-06T14:33:15.524540Z"
    },
    "id": "6RHRybBiyIpv",
    "outputId": "70765915-fc86-4e22-d3f7-1c673bbbad15",
    "papermill": {
     "duration": 0.035103,
     "end_time": "2022-01-06T14:33:15.524717",
     "exception": false,
     "start_time": "2022-01-06T14:33:15.489614",
     "status": "completed"
    },
    "tags": []
   },
   "outputs": [
    {
     "data": {
      "text/plain": [
       "(1595, 8)"
      ]
     },
     "execution_count": 11,
     "metadata": {},
     "output_type": "execute_result"
    }
   ],
   "source": [
    "# We check how many comments there are per category: severe toxic\n",
    "nb_severe_toxic = train2[train2.severe_toxic==1]\n",
    "nb_severe_toxic.shape"
   ]
  },
  {
   "cell_type": "code",
   "execution_count": 12,
   "id": "700a9c3c",
   "metadata": {
    "execution": {
     "iopub.execute_input": "2022-01-06T14:33:15.576310Z",
     "iopub.status.busy": "2022-01-06T14:33:15.573760Z",
     "iopub.status.idle": "2022-01-06T14:33:15.582977Z",
     "shell.execute_reply": "2022-01-06T14:33:15.583450Z"
    },
    "id": "5bCRW0WdyhiU",
    "outputId": "aff204cd-6afe-42ff-d12d-650717d6f9bb",
    "papermill": {
     "duration": 0.036059,
     "end_time": "2022-01-06T14:33:15.583625",
     "exception": false,
     "start_time": "2022-01-06T14:33:15.547566",
     "status": "completed"
    },
    "tags": []
   },
   "outputs": [
    {
     "data": {
      "text/plain": [
       "(8449, 8)"
      ]
     },
     "execution_count": 12,
     "metadata": {},
     "output_type": "execute_result"
    }
   ],
   "source": [
    "# We check how many comments there are per category: obscene\n",
    "nb_obscene = train2[train2.obscene==1]\n",
    "nb_obscene.shape"
   ]
  },
  {
   "cell_type": "code",
   "execution_count": 13,
   "id": "66c25e9c",
   "metadata": {
    "execution": {
     "iopub.execute_input": "2022-01-06T14:33:15.634336Z",
     "iopub.status.busy": "2022-01-06T14:33:15.633386Z",
     "iopub.status.idle": "2022-01-06T14:33:15.640706Z",
     "shell.execute_reply": "2022-01-06T14:33:15.641111Z"
    },
    "id": "sBd0z83RyqBX",
    "outputId": "1c88a0a1-3ce6-421b-f427-672a1e71b2c4",
    "papermill": {
     "duration": 0.034124,
     "end_time": "2022-01-06T14:33:15.641283",
     "exception": false,
     "start_time": "2022-01-06T14:33:15.607159",
     "status": "completed"
    },
    "tags": []
   },
   "outputs": [
    {
     "data": {
      "text/plain": [
       "(478, 8)"
      ]
     },
     "execution_count": 13,
     "metadata": {},
     "output_type": "execute_result"
    }
   ],
   "source": [
    "# We check how many comments there are per category: threat\n",
    "nb_threat = train2[train2.threat==1]\n",
    "nb_threat.shape"
   ]
  },
  {
   "cell_type": "code",
   "execution_count": 14,
   "id": "bd0f1f4d",
   "metadata": {
    "execution": {
     "iopub.execute_input": "2022-01-06T14:33:15.694238Z",
     "iopub.status.busy": "2022-01-06T14:33:15.693342Z",
     "iopub.status.idle": "2022-01-06T14:33:15.700512Z",
     "shell.execute_reply": "2022-01-06T14:33:15.700014Z"
    },
    "id": "U2T41ImiyxgB",
    "outputId": "e849ea70-b64e-4f3c-c327-2cd7376a066b",
    "papermill": {
     "duration": 0.035837,
     "end_time": "2022-01-06T14:33:15.700652",
     "exception": false,
     "start_time": "2022-01-06T14:33:15.664815",
     "status": "completed"
    },
    "tags": []
   },
   "outputs": [
    {
     "data": {
      "text/plain": [
       "(7877, 8)"
      ]
     },
     "execution_count": 14,
     "metadata": {},
     "output_type": "execute_result"
    }
   ],
   "source": [
    "# We check how many comments there are per category: insult\n",
    "nb_insult = train2[train2.insult==1]\n",
    "nb_insult.shape"
   ]
  },
  {
   "cell_type": "code",
   "execution_count": 15,
   "id": "c509cade",
   "metadata": {
    "execution": {
     "iopub.execute_input": "2022-01-06T14:33:15.755941Z",
     "iopub.status.busy": "2022-01-06T14:33:15.753346Z",
     "iopub.status.idle": "2022-01-06T14:33:15.759584Z",
     "shell.execute_reply": "2022-01-06T14:33:15.758991Z"
    },
    "id": "LrepfL0zy2Ee",
    "outputId": "74dd60cf-30e0-455b-eece-71ac965c33cb",
    "papermill": {
     "duration": 0.034838,
     "end_time": "2022-01-06T14:33:15.759718",
     "exception": false,
     "start_time": "2022-01-06T14:33:15.724880",
     "status": "completed"
    },
    "tags": []
   },
   "outputs": [
    {
     "data": {
      "text/plain": [
       "(1405, 8)"
      ]
     },
     "execution_count": 15,
     "metadata": {},
     "output_type": "execute_result"
    }
   ],
   "source": [
    "# We check how many comments there are per category: identity hate\n",
    "nb_id_hate = train2[train2.identity_hate==1]\n",
    "nb_id_hate.shape"
   ]
  },
  {
   "cell_type": "code",
   "execution_count": 16,
   "id": "f9eb58d6",
   "metadata": {
    "execution": {
     "iopub.execute_input": "2022-01-06T14:33:15.811675Z",
     "iopub.status.busy": "2022-01-06T14:33:15.810993Z",
     "iopub.status.idle": "2022-01-06T14:33:15.820400Z",
     "shell.execute_reply": "2022-01-06T14:33:15.819877Z"
    },
    "id": "Hg7QX48IvMSE",
    "outputId": "f844a2d9-4603-4f74-8a69-a289e09b2097",
    "papermill": {
     "duration": 0.036303,
     "end_time": "2022-01-06T14:33:15.820539",
     "exception": false,
     "start_time": "2022-01-06T14:33:15.784236",
     "status": "completed"
    },
    "tags": []
   },
   "outputs": [
    {
     "data": {
      "text/html": [
       "<div>\n",
       "<style scoped>\n",
       "    .dataframe tbody tr th:only-of-type {\n",
       "        vertical-align: middle;\n",
       "    }\n",
       "\n",
       "    .dataframe tbody tr th {\n",
       "        vertical-align: top;\n",
       "    }\n",
       "\n",
       "    .dataframe thead th {\n",
       "        text-align: right;\n",
       "    }\n",
       "</style>\n",
       "<table border=\"1\" class=\"dataframe\">\n",
       "  <thead>\n",
       "    <tr style=\"text-align: right;\">\n",
       "      <th></th>\n",
       "      <th>id</th>\n",
       "      <th>toxic</th>\n",
       "      <th>severe_toxic</th>\n",
       "      <th>obscene</th>\n",
       "      <th>threat</th>\n",
       "      <th>insult</th>\n",
       "      <th>identity_hate</th>\n",
       "    </tr>\n",
       "  </thead>\n",
       "  <tbody>\n",
       "    <tr>\n",
       "      <th>0</th>\n",
       "      <td>00001cee341fdb12</td>\n",
       "      <td>-1</td>\n",
       "      <td>-1</td>\n",
       "      <td>-1</td>\n",
       "      <td>-1</td>\n",
       "      <td>-1</td>\n",
       "      <td>-1</td>\n",
       "    </tr>\n",
       "    <tr>\n",
       "      <th>1</th>\n",
       "      <td>0000247867823ef7</td>\n",
       "      <td>-1</td>\n",
       "      <td>-1</td>\n",
       "      <td>-1</td>\n",
       "      <td>-1</td>\n",
       "      <td>-1</td>\n",
       "      <td>-1</td>\n",
       "    </tr>\n",
       "    <tr>\n",
       "      <th>2</th>\n",
       "      <td>00013b17ad220c46</td>\n",
       "      <td>-1</td>\n",
       "      <td>-1</td>\n",
       "      <td>-1</td>\n",
       "      <td>-1</td>\n",
       "      <td>-1</td>\n",
       "      <td>-1</td>\n",
       "    </tr>\n",
       "    <tr>\n",
       "      <th>3</th>\n",
       "      <td>00017563c3f7919a</td>\n",
       "      <td>-1</td>\n",
       "      <td>-1</td>\n",
       "      <td>-1</td>\n",
       "      <td>-1</td>\n",
       "      <td>-1</td>\n",
       "      <td>-1</td>\n",
       "    </tr>\n",
       "    <tr>\n",
       "      <th>4</th>\n",
       "      <td>00017695ad8997eb</td>\n",
       "      <td>-1</td>\n",
       "      <td>-1</td>\n",
       "      <td>-1</td>\n",
       "      <td>-1</td>\n",
       "      <td>-1</td>\n",
       "      <td>-1</td>\n",
       "    </tr>\n",
       "  </tbody>\n",
       "</table>\n",
       "</div>"
      ],
      "text/plain": [
       "                 id  toxic  severe_toxic  obscene  threat  insult  \\\n",
       "0  00001cee341fdb12     -1            -1       -1      -1      -1   \n",
       "1  0000247867823ef7     -1            -1       -1      -1      -1   \n",
       "2  00013b17ad220c46     -1            -1       -1      -1      -1   \n",
       "3  00017563c3f7919a     -1            -1       -1      -1      -1   \n",
       "4  00017695ad8997eb     -1            -1       -1      -1      -1   \n",
       "\n",
       "   identity_hate  \n",
       "0             -1  \n",
       "1             -1  \n",
       "2             -1  \n",
       "3             -1  \n",
       "4             -1  "
      ]
     },
     "execution_count": 16,
     "metadata": {},
     "output_type": "execute_result"
    }
   ],
   "source": [
    "test_labels.head()"
   ]
  },
  {
   "cell_type": "code",
   "execution_count": 17,
   "id": "590a0203",
   "metadata": {
    "execution": {
     "iopub.execute_input": "2022-01-06T14:33:15.875679Z",
     "iopub.status.busy": "2022-01-06T14:33:15.874958Z",
     "iopub.status.idle": "2022-01-06T14:33:15.882744Z",
     "shell.execute_reply": "2022-01-06T14:33:15.883210Z"
    },
    "id": "EYGtRmWdvNZW",
    "outputId": "907926e3-0a2b-40a1-8ed8-58cc9c5480cb",
    "papermill": {
     "duration": 0.037975,
     "end_time": "2022-01-06T14:33:15.883376",
     "exception": false,
     "start_time": "2022-01-06T14:33:15.845401",
     "status": "completed"
    },
    "tags": []
   },
   "outputs": [
    {
     "data": {
      "text/html": [
       "<div>\n",
       "<style scoped>\n",
       "    .dataframe tbody tr th:only-of-type {\n",
       "        vertical-align: middle;\n",
       "    }\n",
       "\n",
       "    .dataframe tbody tr th {\n",
       "        vertical-align: top;\n",
       "    }\n",
       "\n",
       "    .dataframe thead th {\n",
       "        text-align: right;\n",
       "    }\n",
       "</style>\n",
       "<table border=\"1\" class=\"dataframe\">\n",
       "  <thead>\n",
       "    <tr style=\"text-align: right;\">\n",
       "      <th></th>\n",
       "      <th>id</th>\n",
       "      <th>comment_text</th>\n",
       "    </tr>\n",
       "  </thead>\n",
       "  <tbody>\n",
       "    <tr>\n",
       "      <th>0</th>\n",
       "      <td>00001cee341fdb12</td>\n",
       "      <td>Yo bitch Ja Rule is more succesful then you'll...</td>\n",
       "    </tr>\n",
       "    <tr>\n",
       "      <th>1</th>\n",
       "      <td>0000247867823ef7</td>\n",
       "      <td>== From RfC == \\n\\n The title is fine as it is...</td>\n",
       "    </tr>\n",
       "    <tr>\n",
       "      <th>2</th>\n",
       "      <td>00013b17ad220c46</td>\n",
       "      <td>\" \\n\\n == Sources == \\n\\n * Zawe Ashton on Lap...</td>\n",
       "    </tr>\n",
       "    <tr>\n",
       "      <th>3</th>\n",
       "      <td>00017563c3f7919a</td>\n",
       "      <td>:If you have a look back at the source, the in...</td>\n",
       "    </tr>\n",
       "    <tr>\n",
       "      <th>4</th>\n",
       "      <td>00017695ad8997eb</td>\n",
       "      <td>I don't anonymously edit articles at all.</td>\n",
       "    </tr>\n",
       "  </tbody>\n",
       "</table>\n",
       "</div>"
      ],
      "text/plain": [
       "                 id                                       comment_text\n",
       "0  00001cee341fdb12  Yo bitch Ja Rule is more succesful then you'll...\n",
       "1  0000247867823ef7  == From RfC == \\n\\n The title is fine as it is...\n",
       "2  00013b17ad220c46  \" \\n\\n == Sources == \\n\\n * Zawe Ashton on Lap...\n",
       "3  00017563c3f7919a  :If you have a look back at the source, the in...\n",
       "4  00017695ad8997eb          I don't anonymously edit articles at all."
      ]
     },
     "execution_count": 17,
     "metadata": {},
     "output_type": "execute_result"
    }
   ],
   "source": [
    "test2.head()"
   ]
  },
  {
   "cell_type": "markdown",
   "id": "6a44515c",
   "metadata": {
    "id": "uAaK_1mX0CZ0",
    "papermill": {
     "duration": 0.025297,
     "end_time": "2022-01-06T14:33:15.934028",
     "exception": false,
     "start_time": "2022-01-06T14:33:15.908731",
     "status": "completed"
    },
    "tags": []
   },
   "source": [
    "### Cleaning data"
   ]
  },
  {
   "cell_type": "code",
   "execution_count": 18,
   "id": "f6dd86ee",
   "metadata": {
    "execution": {
     "iopub.execute_input": "2022-01-06T14:33:15.988641Z",
     "iopub.status.busy": "2022-01-06T14:33:15.987990Z",
     "iopub.status.idle": "2022-01-06T14:34:35.356261Z",
     "shell.execute_reply": "2022-01-06T14:34:35.356740Z"
    },
    "id": "pLSU19TmzAGe",
    "outputId": "fcffc5a1-9fda-4e27-adba-068b8088e98b",
    "papermill": {
     "duration": 79.397696,
     "end_time": "2022-01-06T14:34:35.356916",
     "exception": false,
     "start_time": "2022-01-06T14:33:15.959220",
     "status": "completed"
    },
    "tags": []
   },
   "outputs": [
    {
     "data": {
      "text/html": [
       "<div>\n",
       "<style scoped>\n",
       "    .dataframe tbody tr th:only-of-type {\n",
       "        vertical-align: middle;\n",
       "    }\n",
       "\n",
       "    .dataframe tbody tr th {\n",
       "        vertical-align: top;\n",
       "    }\n",
       "\n",
       "    .dataframe thead th {\n",
       "        text-align: right;\n",
       "    }\n",
       "</style>\n",
       "<table border=\"1\" class=\"dataframe\">\n",
       "  <thead>\n",
       "    <tr style=\"text-align: right;\">\n",
       "      <th></th>\n",
       "      <th>id</th>\n",
       "      <th>comment_text</th>\n",
       "      <th>toxic</th>\n",
       "      <th>severe_toxic</th>\n",
       "      <th>obscene</th>\n",
       "      <th>threat</th>\n",
       "      <th>insult</th>\n",
       "      <th>identity_hate</th>\n",
       "      <th>clean_text</th>\n",
       "    </tr>\n",
       "  </thead>\n",
       "  <tbody>\n",
       "    <tr>\n",
       "      <th>0</th>\n",
       "      <td>0000997932d777bf</td>\n",
       "      <td>Explanation\\nWhy the edits made under my usern...</td>\n",
       "      <td>0</td>\n",
       "      <td>0</td>\n",
       "      <td>0</td>\n",
       "      <td>0</td>\n",
       "      <td>0</td>\n",
       "      <td>0</td>\n",
       "      <td>explanation edits made username hardcore metal...</td>\n",
       "    </tr>\n",
       "    <tr>\n",
       "      <th>1</th>\n",
       "      <td>000103f0d9cfb60f</td>\n",
       "      <td>D'aww! He matches this background colour I'm s...</td>\n",
       "      <td>0</td>\n",
       "      <td>0</td>\n",
       "      <td>0</td>\n",
       "      <td>0</td>\n",
       "      <td>0</td>\n",
       "      <td>0</td>\n",
       "      <td>aww match background colour seemingly stuck th...</td>\n",
       "    </tr>\n",
       "    <tr>\n",
       "      <th>2</th>\n",
       "      <td>000113f07ec002fd</td>\n",
       "      <td>Hey man, I'm really not trying to edit war. It...</td>\n",
       "      <td>0</td>\n",
       "      <td>0</td>\n",
       "      <td>0</td>\n",
       "      <td>0</td>\n",
       "      <td>0</td>\n",
       "      <td>0</td>\n",
       "      <td>hey man really trying edit war guy constantly ...</td>\n",
       "    </tr>\n",
       "    <tr>\n",
       "      <th>3</th>\n",
       "      <td>0001b41b1c6bb37e</td>\n",
       "      <td>\"\\nMore\\nI can't make any real suggestions on ...</td>\n",
       "      <td>0</td>\n",
       "      <td>0</td>\n",
       "      <td>0</td>\n",
       "      <td>0</td>\n",
       "      <td>0</td>\n",
       "      <td>0</td>\n",
       "      <td>make real suggestion improvement wondered sect...</td>\n",
       "    </tr>\n",
       "    <tr>\n",
       "      <th>4</th>\n",
       "      <td>0001d958c54c6e35</td>\n",
       "      <td>You, sir, are my hero. Any chance you remember...</td>\n",
       "      <td>0</td>\n",
       "      <td>0</td>\n",
       "      <td>0</td>\n",
       "      <td>0</td>\n",
       "      <td>0</td>\n",
       "      <td>0</td>\n",
       "      <td>sir hero chance remember page</td>\n",
       "    </tr>\n",
       "  </tbody>\n",
       "</table>\n",
       "</div>"
      ],
      "text/plain": [
       "                 id                                       comment_text  toxic  \\\n",
       "0  0000997932d777bf  Explanation\\nWhy the edits made under my usern...      0   \n",
       "1  000103f0d9cfb60f  D'aww! He matches this background colour I'm s...      0   \n",
       "2  000113f07ec002fd  Hey man, I'm really not trying to edit war. It...      0   \n",
       "3  0001b41b1c6bb37e  \"\\nMore\\nI can't make any real suggestions on ...      0   \n",
       "4  0001d958c54c6e35  You, sir, are my hero. Any chance you remember...      0   \n",
       "\n",
       "   severe_toxic  obscene  threat  insult  identity_hate  \\\n",
       "0             0        0       0       0              0   \n",
       "1             0        0       0       0              0   \n",
       "2             0        0       0       0              0   \n",
       "3             0        0       0       0              0   \n",
       "4             0        0       0       0              0   \n",
       "\n",
       "                                          clean_text  \n",
       "0  explanation edits made username hardcore metal...  \n",
       "1  aww match background colour seemingly stuck th...  \n",
       "2  hey man really trying edit war guy constantly ...  \n",
       "3  make real suggestion improvement wondered sect...  \n",
       "4                      sir hero chance remember page  "
      ]
     },
     "execution_count": 18,
     "metadata": {},
     "output_type": "execute_result"
    }
   ],
   "source": [
    "# We clean the train dataset\n",
    "train2['clean_text'] = train2['comment_text'].apply(cleaning_text)\n",
    "train2.head(5)"
   ]
  },
  {
   "cell_type": "code",
   "execution_count": 19,
   "id": "55909ead",
   "metadata": {
    "execution": {
     "iopub.execute_input": "2022-01-06T14:34:35.411949Z",
     "iopub.status.busy": "2022-01-06T14:34:35.411038Z",
     "iopub.status.idle": "2022-01-06T14:34:35.457758Z",
     "shell.execute_reply": "2022-01-06T14:34:35.457300Z"
    },
    "id": "ub1AnypMYmd2",
    "outputId": "a74c1aaa-9eb8-43ff-c5b7-358135c420f5",
    "papermill": {
     "duration": 0.075322,
     "end_time": "2022-01-06T14:34:35.457905",
     "exception": false,
     "start_time": "2022-01-06T14:34:35.382583",
     "status": "completed"
    },
    "tags": []
   },
   "outputs": [
    {
     "data": {
      "text/html": [
       "<div>\n",
       "<style scoped>\n",
       "    .dataframe tbody tr th:only-of-type {\n",
       "        vertical-align: middle;\n",
       "    }\n",
       "\n",
       "    .dataframe tbody tr th {\n",
       "        vertical-align: top;\n",
       "    }\n",
       "\n",
       "    .dataframe thead th {\n",
       "        text-align: right;\n",
       "    }\n",
       "</style>\n",
       "<table border=\"1\" class=\"dataframe\">\n",
       "  <thead>\n",
       "    <tr style=\"text-align: right;\">\n",
       "      <th></th>\n",
       "      <th>id</th>\n",
       "      <th>comment_text</th>\n",
       "      <th>toxic</th>\n",
       "      <th>severe_toxic</th>\n",
       "      <th>obscene</th>\n",
       "      <th>threat</th>\n",
       "      <th>insult</th>\n",
       "      <th>identity_hate</th>\n",
       "      <th>clean_text</th>\n",
       "    </tr>\n",
       "  </thead>\n",
       "  <tbody>\n",
       "    <tr>\n",
       "      <th>6</th>\n",
       "      <td>0002bcb3da6cb337</td>\n",
       "      <td>COCKSUCKER BEFORE YOU PISS AROUND ON MY WORK</td>\n",
       "      <td>1</td>\n",
       "      <td>1</td>\n",
       "      <td>1</td>\n",
       "      <td>0</td>\n",
       "      <td>1</td>\n",
       "      <td>0</td>\n",
       "      <td>cocksucker piss around work</td>\n",
       "    </tr>\n",
       "    <tr>\n",
       "      <th>55</th>\n",
       "      <td>0020e7119b96eeeb</td>\n",
       "      <td>Stupid peace of shit stop deleting my stuff as...</td>\n",
       "      <td>1</td>\n",
       "      <td>1</td>\n",
       "      <td>1</td>\n",
       "      <td>0</td>\n",
       "      <td>1</td>\n",
       "      <td>0</td>\n",
       "      <td>stupid peace shit stop deleting stuff asshole ...</td>\n",
       "    </tr>\n",
       "    <tr>\n",
       "      <th>181</th>\n",
       "      <td>006e87872c8b370c</td>\n",
       "      <td>you are a stupid fuck \\n\\nand your mother's cu...</td>\n",
       "      <td>1</td>\n",
       "      <td>1</td>\n",
       "      <td>1</td>\n",
       "      <td>0</td>\n",
       "      <td>1</td>\n",
       "      <td>0</td>\n",
       "      <td>stupid fuck mother cunt stink</td>\n",
       "    </tr>\n",
       "    <tr>\n",
       "      <th>442</th>\n",
       "      <td>01208d2b76624130</td>\n",
       "      <td>Hi \\n\\nIm a fucking bitch.\\n\\n50.180.208.181</td>\n",
       "      <td>1</td>\n",
       "      <td>1</td>\n",
       "      <td>1</td>\n",
       "      <td>0</td>\n",
       "      <td>1</td>\n",
       "      <td>0</td>\n",
       "      <td>hi im fucking bitch</td>\n",
       "    </tr>\n",
       "    <tr>\n",
       "      <th>579</th>\n",
       "      <td>018663f910e0bfe6</td>\n",
       "      <td>What a motherfucking piece of crap those fuckh...</td>\n",
       "      <td>1</td>\n",
       "      <td>1</td>\n",
       "      <td>1</td>\n",
       "      <td>0</td>\n",
       "      <td>1</td>\n",
       "      <td>0</td>\n",
       "      <td>motherfucking piece crap fuckhead blocking u</td>\n",
       "    </tr>\n",
       "    <tr>\n",
       "      <th>...</th>\n",
       "      <td>...</td>\n",
       "      <td>...</td>\n",
       "      <td>...</td>\n",
       "      <td>...</td>\n",
       "      <td>...</td>\n",
       "      <td>...</td>\n",
       "      <td>...</td>\n",
       "      <td>...</td>\n",
       "      <td>...</td>\n",
       "    </tr>\n",
       "    <tr>\n",
       "      <th>159096</th>\n",
       "      <td>f871b05d4caa6f20</td>\n",
       "      <td>You filthy, stinking crow! \\n\\nI am back! Dirt...</td>\n",
       "      <td>1</td>\n",
       "      <td>1</td>\n",
       "      <td>1</td>\n",
       "      <td>0</td>\n",
       "      <td>1</td>\n",
       "      <td>0</td>\n",
       "      <td>filthy stinking crow back dirty crow better de...</td>\n",
       "    </tr>\n",
       "    <tr>\n",
       "      <th>159099</th>\n",
       "      <td>f885a3e2d779342e</td>\n",
       "      <td>now\\n\\nyou fucking pathetic moron. \\n\\ncc:  Ji...</td>\n",
       "      <td>1</td>\n",
       "      <td>1</td>\n",
       "      <td>1</td>\n",
       "      <td>0</td>\n",
       "      <td>1</td>\n",
       "      <td>0</td>\n",
       "      <td>fucking pathetic moron cc jimbo wale rootmyass</td>\n",
       "    </tr>\n",
       "    <tr>\n",
       "      <th>159281</th>\n",
       "      <td>fb726deec64157bd</td>\n",
       "      <td>LoL!! \\n\\nyou're GAY!! you will never know how...</td>\n",
       "      <td>1</td>\n",
       "      <td>1</td>\n",
       "      <td>1</td>\n",
       "      <td>0</td>\n",
       "      <td>1</td>\n",
       "      <td>1</td>\n",
       "      <td>lol gay never know good feel fuck woman as</td>\n",
       "    </tr>\n",
       "    <tr>\n",
       "      <th>159312</th>\n",
       "      <td>fbf20e312cd4a78d</td>\n",
       "      <td>Walter Mercado \\n\\nAntonio, quite frankly, you...</td>\n",
       "      <td>1</td>\n",
       "      <td>1</td>\n",
       "      <td>1</td>\n",
       "      <td>0</td>\n",
       "      <td>1</td>\n",
       "      <td>0</td>\n",
       "      <td>walter mercado antonio quite frankly fucker co...</td>\n",
       "    </tr>\n",
       "    <tr>\n",
       "      <th>159400</th>\n",
       "      <td>fd052883fa6a8697</td>\n",
       "      <td>Shalom \\n\\nSemite, get the fuck out of here. I...</td>\n",
       "      <td>1</td>\n",
       "      <td>1</td>\n",
       "      <td>1</td>\n",
       "      <td>1</td>\n",
       "      <td>1</td>\n",
       "      <td>1</td>\n",
       "      <td>shalom semite get fuck kill son bitch leave wi...</td>\n",
       "    </tr>\n",
       "  </tbody>\n",
       "</table>\n",
       "<p>1595 rows × 9 columns</p>\n",
       "</div>"
      ],
      "text/plain": [
       "                      id                                       comment_text  \\\n",
       "6       0002bcb3da6cb337       COCKSUCKER BEFORE YOU PISS AROUND ON MY WORK   \n",
       "55      0020e7119b96eeeb  Stupid peace of shit stop deleting my stuff as...   \n",
       "181     006e87872c8b370c  you are a stupid fuck \\n\\nand your mother's cu...   \n",
       "442     01208d2b76624130       Hi \\n\\nIm a fucking bitch.\\n\\n50.180.208.181   \n",
       "579     018663f910e0bfe6  What a motherfucking piece of crap those fuckh...   \n",
       "...                  ...                                                ...   \n",
       "159096  f871b05d4caa6f20  You filthy, stinking crow! \\n\\nI am back! Dirt...   \n",
       "159099  f885a3e2d779342e  now\\n\\nyou fucking pathetic moron. \\n\\ncc:  Ji...   \n",
       "159281  fb726deec64157bd  LoL!! \\n\\nyou're GAY!! you will never know how...   \n",
       "159312  fbf20e312cd4a78d  Walter Mercado \\n\\nAntonio, quite frankly, you...   \n",
       "159400  fd052883fa6a8697  Shalom \\n\\nSemite, get the fuck out of here. I...   \n",
       "\n",
       "        toxic  severe_toxic  obscene  threat  insult  identity_hate  \\\n",
       "6           1             1        1       0       1              0   \n",
       "55          1             1        1       0       1              0   \n",
       "181         1             1        1       0       1              0   \n",
       "442         1             1        1       0       1              0   \n",
       "579         1             1        1       0       1              0   \n",
       "...       ...           ...      ...     ...     ...            ...   \n",
       "159096      1             1        1       0       1              0   \n",
       "159099      1             1        1       0       1              0   \n",
       "159281      1             1        1       0       1              1   \n",
       "159312      1             1        1       0       1              0   \n",
       "159400      1             1        1       1       1              1   \n",
       "\n",
       "                                               clean_text  \n",
       "6                             cocksucker piss around work  \n",
       "55      stupid peace shit stop deleting stuff asshole ...  \n",
       "181                         stupid fuck mother cunt stink  \n",
       "442                                   hi im fucking bitch  \n",
       "579          motherfucking piece crap fuckhead blocking u  \n",
       "...                                                   ...  \n",
       "159096  filthy stinking crow back dirty crow better de...  \n",
       "159099     fucking pathetic moron cc jimbo wale rootmyass  \n",
       "159281         lol gay never know good feel fuck woman as  \n",
       "159312  walter mercado antonio quite frankly fucker co...  \n",
       "159400  shalom semite get fuck kill son bitch leave wi...  \n",
       "\n",
       "[1595 rows x 9 columns]"
      ]
     },
     "execution_count": 19,
     "metadata": {},
     "output_type": "execute_result"
    }
   ],
   "source": [
    "# We look at observations with severe toxic being equal to 1\n",
    "train2[train2.severe_toxic==1]\n",
    "\n",
    "# We observe that all the severe toxic comments are also considered as toxic as they are both equal to 1"
   ]
  },
  {
   "cell_type": "code",
   "execution_count": 20,
   "id": "e1ea9253",
   "metadata": {
    "execution": {
     "iopub.execute_input": "2022-01-06T14:34:35.515738Z",
     "iopub.status.busy": "2022-01-06T14:34:35.514804Z",
     "iopub.status.idle": "2022-01-06T14:35:47.005484Z",
     "shell.execute_reply": "2022-01-06T14:35:47.005960Z"
    },
    "id": "EYHikPNeic6T",
    "outputId": "02eeb7ac-5f73-4a84-f39c-4737ce49c149",
    "papermill": {
     "duration": 71.521684,
     "end_time": "2022-01-06T14:35:47.006153",
     "exception": false,
     "start_time": "2022-01-06T14:34:35.484469",
     "status": "completed"
    },
    "tags": []
   },
   "outputs": [
    {
     "data": {
      "text/html": [
       "<div>\n",
       "<style scoped>\n",
       "    .dataframe tbody tr th:only-of-type {\n",
       "        vertical-align: middle;\n",
       "    }\n",
       "\n",
       "    .dataframe tbody tr th {\n",
       "        vertical-align: top;\n",
       "    }\n",
       "\n",
       "    .dataframe thead th {\n",
       "        text-align: right;\n",
       "    }\n",
       "</style>\n",
       "<table border=\"1\" class=\"dataframe\">\n",
       "  <thead>\n",
       "    <tr style=\"text-align: right;\">\n",
       "      <th></th>\n",
       "      <th>id</th>\n",
       "      <th>comment_text</th>\n",
       "      <th>clean_text</th>\n",
       "    </tr>\n",
       "  </thead>\n",
       "  <tbody>\n",
       "    <tr>\n",
       "      <th>0</th>\n",
       "      <td>00001cee341fdb12</td>\n",
       "      <td>Yo bitch Ja Rule is more succesful then you'll...</td>\n",
       "      <td>yo bitch ja rule succesful ever whats hating s...</td>\n",
       "    </tr>\n",
       "    <tr>\n",
       "      <th>1</th>\n",
       "      <td>0000247867823ef7</td>\n",
       "      <td>== From RfC == \\n\\n The title is fine as it is...</td>\n",
       "      <td>rfc title fine imo</td>\n",
       "    </tr>\n",
       "    <tr>\n",
       "      <th>2</th>\n",
       "      <td>00013b17ad220c46</td>\n",
       "      <td>\" \\n\\n == Sources == \\n\\n * Zawe Ashton on Lap...</td>\n",
       "      <td>source zawe ashton lapland</td>\n",
       "    </tr>\n",
       "    <tr>\n",
       "      <th>3</th>\n",
       "      <td>00017563c3f7919a</td>\n",
       "      <td>:If you have a look back at the source, the in...</td>\n",
       "      <td>look back source information updated correct f...</td>\n",
       "    </tr>\n",
       "    <tr>\n",
       "      <th>4</th>\n",
       "      <td>00017695ad8997eb</td>\n",
       "      <td>I don't anonymously edit articles at all.</td>\n",
       "      <td>anonymously edit article</td>\n",
       "    </tr>\n",
       "  </tbody>\n",
       "</table>\n",
       "</div>"
      ],
      "text/plain": [
       "                 id                                       comment_text  \\\n",
       "0  00001cee341fdb12  Yo bitch Ja Rule is more succesful then you'll...   \n",
       "1  0000247867823ef7  == From RfC == \\n\\n The title is fine as it is...   \n",
       "2  00013b17ad220c46  \" \\n\\n == Sources == \\n\\n * Zawe Ashton on Lap...   \n",
       "3  00017563c3f7919a  :If you have a look back at the source, the in...   \n",
       "4  00017695ad8997eb          I don't anonymously edit articles at all.   \n",
       "\n",
       "                                          clean_text  \n",
       "0  yo bitch ja rule succesful ever whats hating s...  \n",
       "1                                 rfc title fine imo  \n",
       "2                         source zawe ashton lapland  \n",
       "3  look back source information updated correct f...  \n",
       "4                           anonymously edit article  "
      ]
     },
     "execution_count": 20,
     "metadata": {},
     "output_type": "execute_result"
    }
   ],
   "source": [
    "# We clean the test dataset\n",
    "test2['clean_text'] = test2['comment_text'].apply(cleaning_text)\n",
    "test2.head(5)"
   ]
  },
  {
   "cell_type": "markdown",
   "id": "926ae6c9",
   "metadata": {
    "id": "rrIGgxexMXui",
    "papermill": {
     "duration": 0.027928,
     "end_time": "2022-01-06T14:35:47.060731",
     "exception": false,
     "start_time": "2022-01-06T14:35:47.032803",
     "status": "completed"
    },
    "tags": []
   },
   "source": [
    "## Ridge"
   ]
  },
  {
   "cell_type": "code",
   "execution_count": 21,
   "id": "1bdf329c",
   "metadata": {
    "execution": {
     "iopub.execute_input": "2022-01-06T14:35:47.120533Z",
     "iopub.status.busy": "2022-01-06T14:35:47.119501Z",
     "iopub.status.idle": "2022-01-06T14:35:47.127852Z",
     "shell.execute_reply": "2022-01-06T14:35:47.128322Z"
    },
    "id": "kCKoZiXtBFqt",
    "papermill": {
     "duration": 0.041049,
     "end_time": "2022-01-06T14:35:47.128501",
     "exception": false,
     "start_time": "2022-01-06T14:35:47.087452",
     "status": "completed"
    },
    "tags": []
   },
   "outputs": [],
   "source": [
    "# New variable with the score (categories sum)\n",
    "\n",
    "# In top of that we add more weights to the comments that are severe toxic, threatning and have identity hate.\n",
    "train2['score'] = train2.toxic + 3*train2.severe_toxic + train2.obscene + 3*train2.threat + train2.insult + 3*train2.identity_hate"
   ]
  },
  {
   "cell_type": "code",
   "execution_count": 22,
   "id": "83036cd5",
   "metadata": {
    "execution": {
     "iopub.execute_input": "2022-01-06T14:35:47.187679Z",
     "iopub.status.busy": "2022-01-06T14:35:47.186848Z",
     "iopub.status.idle": "2022-01-06T14:35:47.189777Z",
     "shell.execute_reply": "2022-01-06T14:35:47.189332Z"
    },
    "id": "3kF3XnujKjBW",
    "papermill": {
     "duration": 0.034262,
     "end_time": "2022-01-06T14:35:47.189912",
     "exception": false,
     "start_time": "2022-01-06T14:35:47.155650",
     "status": "completed"
    },
    "tags": []
   },
   "outputs": [],
   "source": [
    "X = train2['clean_text']\n",
    "Y = train2['score']"
   ]
  },
  {
   "cell_type": "markdown",
   "id": "f3f5a677",
   "metadata": {
    "id": "1pYvpVX5Mt9k",
    "papermill": {
     "duration": 0.026569,
     "end_time": "2022-01-06T14:35:47.243360",
     "exception": false,
     "start_time": "2022-01-06T14:35:47.216791",
     "status": "completed"
    },
    "tags": []
   },
   "source": [
    "### TF-IDF"
   ]
  },
  {
   "cell_type": "code",
   "execution_count": 23,
   "id": "b27b347d",
   "metadata": {
    "execution": {
     "iopub.execute_input": "2022-01-06T14:35:47.306633Z",
     "iopub.status.busy": "2022-01-06T14:35:47.305933Z",
     "iopub.status.idle": "2022-01-06T14:36:02.499514Z",
     "shell.execute_reply": "2022-01-06T14:36:02.498970Z"
    },
    "id": "qRWeKlPEMv0F",
    "papermill": {
     "duration": 15.228792,
     "end_time": "2022-01-06T14:36:02.499669",
     "exception": false,
     "start_time": "2022-01-06T14:35:47.270877",
     "status": "completed"
    },
    "tags": []
   },
   "outputs": [],
   "source": [
    "vectorizer = TfidfVectorizer(min_df = 5, smooth_idf=True, ngram_range=(1,2))\n",
    "\n",
    "X_train_tfidf = vectorizer.fit_transform(X)"
   ]
  },
  {
   "cell_type": "markdown",
   "id": "35f50aed",
   "metadata": {
    "id": "HYXo4jqc0pe9",
    "papermill": {
     "duration": 0.026981,
     "end_time": "2022-01-06T14:36:02.554541",
     "exception": false,
     "start_time": "2022-01-06T14:36:02.527560",
     "status": "completed"
    },
    "tags": []
   },
   "source": [
    "### Model"
   ]
  },
  {
   "cell_type": "code",
   "execution_count": 24,
   "id": "efb84ce7",
   "metadata": {
    "execution": {
     "iopub.execute_input": "2022-01-06T14:36:02.614865Z",
     "iopub.status.busy": "2022-01-06T14:36:02.613806Z",
     "iopub.status.idle": "2022-01-06T14:36:05.265190Z",
     "shell.execute_reply": "2022-01-06T14:36:05.266034Z"
    },
    "id": "jJZF8_j5Su1r",
    "outputId": "0beee1ff-ca2b-4b7b-82e0-98564704eb99",
    "papermill": {
     "duration": 2.684292,
     "end_time": "2022-01-06T14:36:05.266322",
     "exception": false,
     "start_time": "2022-01-06T14:36:02.582030",
     "status": "completed"
    },
    "tags": []
   },
   "outputs": [
    {
     "data": {
      "text/plain": [
       "Ridge(alpha=10, random_state=1, tol=1e-05)"
      ]
     },
     "execution_count": 24,
     "metadata": {},
     "output_type": "execute_result"
    }
   ],
   "source": [
    "model = Ridge(random_state=1, alpha = 10, tol = 1e-5)\n",
    "model.fit(X_train_tfidf, Y)"
   ]
  },
  {
   "cell_type": "markdown",
   "id": "24bef57e",
   "metadata": {
    "id": "ZlAjGEgEUTvm",
    "papermill": {
     "duration": 0.054588,
     "end_time": "2022-01-06T14:36:05.376821",
     "exception": false,
     "start_time": "2022-01-06T14:36:05.322233",
     "status": "completed"
    },
    "tags": []
   },
   "source": [
    "### Prediction"
   ]
  },
  {
   "cell_type": "code",
   "execution_count": 25,
   "id": "cde9af61",
   "metadata": {
    "execution": {
     "iopub.execute_input": "2022-01-06T14:36:05.456183Z",
     "iopub.status.busy": "2022-01-06T14:36:05.434080Z",
     "iopub.status.idle": "2022-01-06T14:36:05.941534Z",
     "shell.execute_reply": "2022-01-06T14:36:05.941016Z"
    },
    "id": "kAIqr_JjUYkI",
    "outputId": "3a780a09-235f-4c1e-ceac-7cedd342813f",
    "papermill": {
     "duration": 0.537259,
     "end_time": "2022-01-06T14:36:05.941686",
     "exception": false,
     "start_time": "2022-01-06T14:36:05.404427",
     "status": "completed"
    },
    "tags": []
   },
   "outputs": [],
   "source": [
    "# Predicting on the comments_to_score\n",
    "comments_to_score_tfidf = vectorizer.transform(comments_to_score['clean_text'])\n",
    "pred = model.predict(comments_to_score_tfidf)"
   ]
  },
  {
   "cell_type": "code",
   "execution_count": 26,
   "id": "aa210633",
   "metadata": {
    "execution": {
     "iopub.execute_input": "2022-01-06T14:36:06.002769Z",
     "iopub.status.busy": "2022-01-06T14:36:06.001997Z",
     "iopub.status.idle": "2022-01-06T14:36:06.004760Z",
     "shell.execute_reply": "2022-01-06T14:36:06.005325Z"
    },
    "papermill": {
     "duration": 0.036249,
     "end_time": "2022-01-06T14:36:06.005487",
     "exception": false,
     "start_time": "2022-01-06T14:36:05.969238",
     "status": "completed"
    },
    "tags": []
   },
   "outputs": [
    {
     "name": "stdout",
     "output_type": "stream",
     "text": [
      "[ 0.00430313  0.10164943  0.07066633 ... -0.03950453  1.79225506\n",
      "  0.17499616]\n"
     ]
    }
   ],
   "source": [
    "print(pred)"
   ]
  },
  {
   "cell_type": "markdown",
   "id": "dfe071ce",
   "metadata": {
    "id": "7R84PgDPUfex",
    "papermill": {
     "duration": 0.027344,
     "end_time": "2022-01-06T14:36:06.061027",
     "exception": false,
     "start_time": "2022-01-06T14:36:06.033683",
     "status": "completed"
    },
    "tags": []
   },
   "source": [
    "### Submission"
   ]
  },
  {
   "cell_type": "code",
   "execution_count": 27,
   "id": "36cc2273",
   "metadata": {
    "execution": {
     "iopub.execute_input": "2022-01-06T14:36:06.125073Z",
     "iopub.status.busy": "2022-01-06T14:36:06.124208Z",
     "iopub.status.idle": "2022-01-06T14:36:06.126962Z",
     "shell.execute_reply": "2022-01-06T14:36:06.126456Z"
    },
    "id": "ElnT_-hpUfCa",
    "papermill": {
     "duration": 0.038441,
     "end_time": "2022-01-06T14:36:06.127111",
     "exception": false,
     "start_time": "2022-01-06T14:36:06.088670",
     "status": "completed"
    },
    "tags": []
   },
   "outputs": [],
   "source": [
    "# Exporting the submission file\n",
    "results = pd.DataFrame(comments_to_score[\"comment_id\"])\n",
    "results[\"score\"] = pred"
   ]
  },
  {
   "cell_type": "code",
   "execution_count": 28,
   "id": "0cd0a028",
   "metadata": {
    "execution": {
     "iopub.execute_input": "2022-01-06T14:36:06.187257Z",
     "iopub.status.busy": "2022-01-06T14:36:06.186641Z",
     "iopub.status.idle": "2022-01-06T14:36:06.195456Z",
     "shell.execute_reply": "2022-01-06T14:36:06.195865Z"
    },
    "id": "WAsMHcWzUiEJ",
    "outputId": "0f51c0f6-bfef-4d33-a3c7-06300d49619f",
    "papermill": {
     "duration": 0.039698,
     "end_time": "2022-01-06T14:36:06.196030",
     "exception": false,
     "start_time": "2022-01-06T14:36:06.156332",
     "status": "completed"
    },
    "tags": []
   },
   "outputs": [
    {
     "data": {
      "text/html": [
       "<div>\n",
       "<style scoped>\n",
       "    .dataframe tbody tr th:only-of-type {\n",
       "        vertical-align: middle;\n",
       "    }\n",
       "\n",
       "    .dataframe tbody tr th {\n",
       "        vertical-align: top;\n",
       "    }\n",
       "\n",
       "    .dataframe thead th {\n",
       "        text-align: right;\n",
       "    }\n",
       "</style>\n",
       "<table border=\"1\" class=\"dataframe\">\n",
       "  <thead>\n",
       "    <tr style=\"text-align: right;\">\n",
       "      <th></th>\n",
       "      <th>comment_id</th>\n",
       "      <th>score</th>\n",
       "    </tr>\n",
       "  </thead>\n",
       "  <tbody>\n",
       "    <tr>\n",
       "      <th>0</th>\n",
       "      <td>114890</td>\n",
       "      <td>0.004303</td>\n",
       "    </tr>\n",
       "    <tr>\n",
       "      <th>1</th>\n",
       "      <td>732895</td>\n",
       "      <td>0.101649</td>\n",
       "    </tr>\n",
       "    <tr>\n",
       "      <th>2</th>\n",
       "      <td>1139051</td>\n",
       "      <td>0.070666</td>\n",
       "    </tr>\n",
       "    <tr>\n",
       "      <th>3</th>\n",
       "      <td>1434512</td>\n",
       "      <td>0.116093</td>\n",
       "    </tr>\n",
       "    <tr>\n",
       "      <th>4</th>\n",
       "      <td>2084821</td>\n",
       "      <td>0.908127</td>\n",
       "    </tr>\n",
       "  </tbody>\n",
       "</table>\n",
       "</div>"
      ],
      "text/plain": [
       "   comment_id     score\n",
       "0      114890  0.004303\n",
       "1      732895  0.101649\n",
       "2     1139051  0.070666\n",
       "3     1434512  0.116093\n",
       "4     2084821  0.908127"
      ]
     },
     "execution_count": 28,
     "metadata": {},
     "output_type": "execute_result"
    }
   ],
   "source": [
    "results.head(5)"
   ]
  },
  {
   "cell_type": "code",
   "execution_count": 29,
   "id": "c7471090",
   "metadata": {
    "execution": {
     "iopub.execute_input": "2022-01-06T14:36:06.257585Z",
     "iopub.status.busy": "2022-01-06T14:36:06.256648Z",
     "iopub.status.idle": "2022-01-06T14:36:06.282370Z",
     "shell.execute_reply": "2022-01-06T14:36:06.281815Z"
    },
    "id": "ScN_upV3UzFM",
    "papermill": {
     "duration": 0.058329,
     "end_time": "2022-01-06T14:36:06.282516",
     "exception": false,
     "start_time": "2022-01-06T14:36:06.224187",
     "status": "completed"
    },
    "tags": []
   },
   "outputs": [],
   "source": [
    "results.to_csv(\"submission.csv\", index=False)"
   ]
  }
 ],
 "metadata": {
  "kernelspec": {
   "display_name": "Python 3",
   "language": "python",
   "name": "python3"
  },
  "language_info": {
   "codemirror_mode": {
    "name": "ipython",
    "version": 3
   },
   "file_extension": ".py",
   "mimetype": "text/x-python",
   "name": "python",
   "nbconvert_exporter": "python",
   "pygments_lexer": "ipython3",
   "version": "3.7.12"
  },
  "papermill": {
   "default_parameters": {},
   "duration": 253.179864,
   "end_time": "2022-01-06T14:36:07.726077",
   "environment_variables": {},
   "exception": null,
   "input_path": "__notebook__.ipynb",
   "output_path": "__notebook__.ipynb",
   "parameters": {},
   "start_time": "2022-01-06T14:31:54.546213",
   "version": "2.3.3"
  }
 },
 "nbformat": 4,
 "nbformat_minor": 5
}
