{
 "cells": [
  {
   "cell_type": "markdown",
   "id": "4a867035",
   "metadata": {
    "id": "PyJJMaAhB30L",
    "papermill": {
     "duration": 0.035986,
     "end_time": "2022-01-06T10:22:47.632336",
     "exception": false,
     "start_time": "2022-01-06T10:22:47.596350",
     "status": "completed"
    },
    "tags": []
   },
   "source": [
    "**Jigsaw Rate Severity of Toxic Comments**\n",
    "\n",
    "Raquel Alcaraz\n",
    "\n",
    "Lucie Bertiere"
   ]
  },
  {
   "cell_type": "markdown",
   "id": "55e28779",
   "metadata": {
    "id": "xAnR_77kCoKf",
    "papermill": {
     "duration": 0.026275,
     "end_time": "2022-01-06T10:22:47.689529",
     "exception": false,
     "start_time": "2022-01-06T10:22:47.663254",
     "status": "completed"
    },
    "tags": []
   },
   "source": [
    "# Libraries"
   ]
  },
  {
   "cell_type": "code",
   "execution_count": 1,
   "id": "cf5bf603",
   "metadata": {
    "execution": {
     "iopub.execute_input": "2022-01-06T10:22:47.748164Z",
     "iopub.status.busy": "2022-01-06T10:22:47.746603Z",
     "iopub.status.idle": "2022-01-06T10:22:49.597368Z",
     "shell.execute_reply": "2022-01-06T10:22:49.597907Z",
     "shell.execute_reply.started": "2022-01-05T17:55:52.230868Z"
    },
    "id": "-wncRf68Cn03",
    "papermill": {
     "duration": 1.882323,
     "end_time": "2022-01-06T10:22:49.598216",
     "exception": false,
     "start_time": "2022-01-06T10:22:47.715893",
     "status": "completed"
    },
    "tags": []
   },
   "outputs": [],
   "source": [
    "import pandas as pd\n",
    "import os\n",
    "import seaborn as sns\n",
    "import numpy as np\n",
    "import matplotlib.pyplot as plt\n",
    "\n",
    "import re\n",
    "import nltk\n",
    "from nltk import word_tokenize\n",
    "from nltk.corpus import stopwords\n",
    "from nltk.stem import WordNetLemmatizer\n",
    "from wordcloud import WordCloud\n",
    "from collections import Counter\n",
    "\n",
    "\n",
    "from sklearn.linear_model import Ridge\n",
    "from sklearn import model_selection\n",
    "from sklearn import metrics\n",
    "from sklearn.feature_extraction.text import TfidfVectorizer\n"
   ]
  },
  {
   "cell_type": "markdown",
   "id": "8c74b5f9",
   "metadata": {
    "id": "VuliXIFPCrjw",
    "papermill": {
     "duration": 0.025577,
     "end_time": "2022-01-06T10:22:49.650059",
     "exception": false,
     "start_time": "2022-01-06T10:22:49.624482",
     "status": "completed"
    },
    "tags": []
   },
   "source": [
    "# Importing the data"
   ]
  },
  {
   "cell_type": "code",
   "execution_count": 2,
   "id": "b1d7044c",
   "metadata": {
    "execution": {
     "iopub.execute_input": "2022-01-06T10:22:49.705391Z",
     "iopub.status.busy": "2022-01-06T10:22:49.704535Z",
     "iopub.status.idle": "2022-01-06T10:22:49.816556Z",
     "shell.execute_reply": "2022-01-06T10:22:49.817124Z"
    },
    "papermill": {
     "duration": 0.141198,
     "end_time": "2022-01-06T10:22:49.817298",
     "exception": false,
     "start_time": "2022-01-06T10:22:49.676100",
     "status": "completed"
    },
    "tags": []
   },
   "outputs": [],
   "source": [
    "comments_to_score = pd.read_csv(\"/kaggle/input/jigsaw-toxic-severity-rating/comments_to_score.csv\")"
   ]
  },
  {
   "cell_type": "code",
   "execution_count": 3,
   "id": "75d0e9af",
   "metadata": {
    "execution": {
     "iopub.execute_input": "2022-01-06T10:22:49.871951Z",
     "iopub.status.busy": "2022-01-06T10:22:49.871299Z",
     "iopub.status.idle": "2022-01-06T10:22:49.889966Z",
     "shell.execute_reply": "2022-01-06T10:22:49.889379Z"
    },
    "id": "jGtviYpxHIOD",
    "outputId": "64949795-a58b-42b6-c0c9-8af33a3f1e03",
    "papermill": {
     "duration": 0.047125,
     "end_time": "2022-01-06T10:22:49.890114",
     "exception": false,
     "start_time": "2022-01-06T10:22:49.842989",
     "status": "completed"
    },
    "tags": []
   },
   "outputs": [
    {
     "data": {
      "text/html": [
       "<div>\n",
       "<style scoped>\n",
       "    .dataframe tbody tr th:only-of-type {\n",
       "        vertical-align: middle;\n",
       "    }\n",
       "\n",
       "    .dataframe tbody tr th {\n",
       "        vertical-align: top;\n",
       "    }\n",
       "\n",
       "    .dataframe thead th {\n",
       "        text-align: right;\n",
       "    }\n",
       "</style>\n",
       "<table border=\"1\" class=\"dataframe\">\n",
       "  <thead>\n",
       "    <tr style=\"text-align: right;\">\n",
       "      <th></th>\n",
       "      <th>comment_id</th>\n",
       "      <th>text</th>\n",
       "    </tr>\n",
       "  </thead>\n",
       "  <tbody>\n",
       "    <tr>\n",
       "      <th>0</th>\n",
       "      <td>114890</td>\n",
       "      <td>\"\\n \\n\\nGjalexei, you asked about whether ther...</td>\n",
       "    </tr>\n",
       "    <tr>\n",
       "      <th>1</th>\n",
       "      <td>732895</td>\n",
       "      <td>Looks like be have an abuser , can you please ...</td>\n",
       "    </tr>\n",
       "    <tr>\n",
       "      <th>2</th>\n",
       "      <td>1139051</td>\n",
       "      <td>I confess to having complete (and apparently b...</td>\n",
       "    </tr>\n",
       "    <tr>\n",
       "      <th>3</th>\n",
       "      <td>1434512</td>\n",
       "      <td>\"\\n\\nFreud's ideas are certainly much discusse...</td>\n",
       "    </tr>\n",
       "    <tr>\n",
       "      <th>4</th>\n",
       "      <td>2084821</td>\n",
       "      <td>It is not just you. This is a laundry list of ...</td>\n",
       "    </tr>\n",
       "  </tbody>\n",
       "</table>\n",
       "</div>"
      ],
      "text/plain": [
       "   comment_id                                               text\n",
       "0      114890  \"\\n \\n\\nGjalexei, you asked about whether ther...\n",
       "1      732895  Looks like be have an abuser , can you please ...\n",
       "2     1139051  I confess to having complete (and apparently b...\n",
       "3     1434512  \"\\n\\nFreud's ideas are certainly much discusse...\n",
       "4     2084821  It is not just you. This is a laundry list of ..."
      ]
     },
     "execution_count": 3,
     "metadata": {},
     "output_type": "execute_result"
    }
   ],
   "source": [
    "comments_to_score.head(5)"
   ]
  },
  {
   "cell_type": "markdown",
   "id": "fbb78904",
   "metadata": {
    "id": "nMliJfz7FIBW",
    "papermill": {
     "duration": 0.026103,
     "end_time": "2022-01-06T10:22:49.942970",
     "exception": false,
     "start_time": "2022-01-06T10:22:49.916867",
     "status": "completed"
    },
    "tags": []
   },
   "source": [
    "# Cleaning the data"
   ]
  },
  {
   "cell_type": "markdown",
   "id": "05fd918a",
   "metadata": {
    "id": "mynzF2tNIRIs",
    "papermill": {
     "duration": 0.025856,
     "end_time": "2022-01-06T10:22:49.995663",
     "exception": false,
     "start_time": "2022-01-06T10:22:49.969807",
     "status": "completed"
    },
    "tags": []
   },
   "source": [
    "## Function"
   ]
  },
  {
   "cell_type": "code",
   "execution_count": 4,
   "id": "025e34a1",
   "metadata": {
    "execution": {
     "iopub.execute_input": "2022-01-06T10:22:50.061618Z",
     "iopub.status.busy": "2022-01-06T10:22:50.060949Z",
     "iopub.status.idle": "2022-01-06T10:23:50.157077Z",
     "shell.execute_reply": "2022-01-06T10:23:50.157533Z"
    },
    "id": "uLc89mSUZEnK",
    "outputId": "4600e3cf-177b-466c-e389-733c05c5706d",
    "papermill": {
     "duration": 60.135817,
     "end_time": "2022-01-06T10:23:50.157710",
     "exception": false,
     "start_time": "2022-01-06T10:22:50.021893",
     "status": "completed"
    },
    "tags": []
   },
   "outputs": [
    {
     "name": "stdout",
     "output_type": "stream",
     "text": [
      "[nltk_data] Error loading punkt: <urlopen error [Errno -3] Temporary\n",
      "[nltk_data]     failure in name resolution>\n",
      "[nltk_data] Error loading stopwords: <urlopen error [Errno -3]\n",
      "[nltk_data]     Temporary failure in name resolution>\n",
      "[nltk_data] Error loading wordnet: <urlopen error [Errno -3] Temporary\n",
      "[nltk_data]     failure in name resolution>\n"
     ]
    },
    {
     "data": {
      "text/plain": [
       "False"
      ]
     },
     "execution_count": 4,
     "metadata": {},
     "output_type": "execute_result"
    }
   ],
   "source": [
    "nltk.download('punkt')\n",
    "nltk.download('stopwords')\n",
    "nltk.download('wordnet')"
   ]
  },
  {
   "cell_type": "code",
   "execution_count": 5,
   "id": "09c70285",
   "metadata": {
    "execution": {
     "iopub.execute_input": "2022-01-06T10:23:50.217174Z",
     "iopub.status.busy": "2022-01-06T10:23:50.216364Z",
     "iopub.status.idle": "2022-01-06T10:23:50.232443Z",
     "shell.execute_reply": "2022-01-06T10:23:50.231850Z"
    },
    "id": "wHVURFLgIQvW",
    "papermill": {
     "duration": 0.047078,
     "end_time": "2022-01-06T10:23:50.232600",
     "exception": false,
     "start_time": "2022-01-06T10:23:50.185522",
     "status": "completed"
    },
    "tags": []
   },
   "outputs": [],
   "source": [
    "# We set the stop words in english (the words that we don't want in the clean text\n",
    "# that are the most used and not really relevant)\n",
    "stop_words = set(stopwords.words('english'))\n",
    "# and also the lemmatizer (rocks becomes rock...)\n",
    "lem = WordNetLemmatizer()\n",
    "\n",
    "\n",
    "def cleaning_text(text):\n",
    "    \n",
    "    # to put everything in lower case (I becomes i)\n",
    "    text = text.lower()\n",
    "\n",
    "    # to remove urls\n",
    "    url = re.compile(r'https?://\\S+|www\\.\\S+')\n",
    "    text = url.sub(r' ', text)\n",
    "\n",
    "    # to remove html tags\n",
    "    html = re.compile(r'<.*?>')\n",
    "    text = html.sub(r' ', text)\n",
    "    \n",
    "    # to remove digits\n",
    "    text = re.sub(r'\\d+',' ', text)\n",
    "    \n",
    "    # to remove hashtags\n",
    "    text = re.sub(r'#\\w+',' ', text)\n",
    "    \n",
    "    # to remove mentions\n",
    "    text = re.sub(r'@\\w+',' ', text)\n",
    "\n",
    "    # to remove punctations\n",
    "    text = re.sub(r\"[^\\w\\s\\d]\",' ', text)\n",
    "\n",
    "    # to remove extra white space\n",
    "    text = re.sub(r\"\\s+\",' ',text).strip()\n",
    "    \n",
    "    # removing stop words\n",
    "    token = word_tokenize(text)\n",
    "    text=[word for word in token if not word in stop_words]\n",
    "\n",
    "    # lemmatize\n",
    "    text = \" \".join([lem.lemmatize(t) for t in text])\n",
    "\n",
    "    return  text\n",
    "  "
   ]
  },
  {
   "cell_type": "markdown",
   "id": "1be7c97f",
   "metadata": {
    "id": "7xKSQPA_ZNHo",
    "papermill": {
     "duration": 0.02766,
     "end_time": "2022-01-06T10:23:50.288145",
     "exception": false,
     "start_time": "2022-01-06T10:23:50.260485",
     "status": "completed"
    },
    "tags": []
   },
   "source": [
    "## Comments to score"
   ]
  },
  {
   "cell_type": "code",
   "execution_count": 6,
   "id": "d38d167a",
   "metadata": {
    "execution": {
     "iopub.execute_input": "2022-01-06T10:23:50.351978Z",
     "iopub.status.busy": "2022-01-06T10:23:50.351282Z",
     "iopub.status.idle": "2022-01-06T10:23:59.824523Z",
     "shell.execute_reply": "2022-01-06T10:23:59.825060Z"
    },
    "id": "oTT2snz6ZQKu",
    "papermill": {
     "duration": 9.509405,
     "end_time": "2022-01-06T10:23:59.825251",
     "exception": false,
     "start_time": "2022-01-06T10:23:50.315846",
     "status": "completed"
    },
    "tags": []
   },
   "outputs": [],
   "source": [
    "comments_to_score['clean_text'] = comments_to_score['text'].apply(cleaning_text)"
   ]
  },
  {
   "cell_type": "code",
   "execution_count": 7,
   "id": "9638dd67",
   "metadata": {
    "execution": {
     "iopub.execute_input": "2022-01-06T10:23:59.891464Z",
     "iopub.status.busy": "2022-01-06T10:23:59.890607Z",
     "iopub.status.idle": "2022-01-06T10:23:59.893975Z",
     "shell.execute_reply": "2022-01-06T10:23:59.894471Z"
    },
    "id": "UZ6IjSTFZal0",
    "outputId": "d528e17a-2422-45d1-c6d8-ecbc1ab8c968",
    "papermill": {
     "duration": 0.0414,
     "end_time": "2022-01-06T10:23:59.894636",
     "exception": false,
     "start_time": "2022-01-06T10:23:59.853236",
     "status": "completed"
    },
    "tags": []
   },
   "outputs": [
    {
     "data": {
      "text/html": [
       "<div>\n",
       "<style scoped>\n",
       "    .dataframe tbody tr th:only-of-type {\n",
       "        vertical-align: middle;\n",
       "    }\n",
       "\n",
       "    .dataframe tbody tr th {\n",
       "        vertical-align: top;\n",
       "    }\n",
       "\n",
       "    .dataframe thead th {\n",
       "        text-align: right;\n",
       "    }\n",
       "</style>\n",
       "<table border=\"1\" class=\"dataframe\">\n",
       "  <thead>\n",
       "    <tr style=\"text-align: right;\">\n",
       "      <th></th>\n",
       "      <th>comment_id</th>\n",
       "      <th>text</th>\n",
       "      <th>clean_text</th>\n",
       "    </tr>\n",
       "  </thead>\n",
       "  <tbody>\n",
       "    <tr>\n",
       "      <th>0</th>\n",
       "      <td>114890</td>\n",
       "      <td>\"\\n \\n\\nGjalexei, you asked about whether ther...</td>\n",
       "      <td>gjalexei asked whether anti editorializing pol...</td>\n",
       "    </tr>\n",
       "    <tr>\n",
       "      <th>1</th>\n",
       "      <td>732895</td>\n",
       "      <td>Looks like be have an abuser , can you please ...</td>\n",
       "      <td>look like abuser please look thanks</td>\n",
       "    </tr>\n",
       "    <tr>\n",
       "      <th>2</th>\n",
       "      <td>1139051</td>\n",
       "      <td>I confess to having complete (and apparently b...</td>\n",
       "      <td>confess complete apparently blissful ignorance...</td>\n",
       "    </tr>\n",
       "    <tr>\n",
       "      <th>3</th>\n",
       "      <td>1434512</td>\n",
       "      <td>\"\\n\\nFreud's ideas are certainly much discusse...</td>\n",
       "      <td>freud idea certainly much discussed today woul...</td>\n",
       "    </tr>\n",
       "    <tr>\n",
       "      <th>4</th>\n",
       "      <td>2084821</td>\n",
       "      <td>It is not just you. This is a laundry list of ...</td>\n",
       "      <td>laundry list stupid allegation scooped god kno...</td>\n",
       "    </tr>\n",
       "  </tbody>\n",
       "</table>\n",
       "</div>"
      ],
      "text/plain": [
       "   comment_id                                               text  \\\n",
       "0      114890  \"\\n \\n\\nGjalexei, you asked about whether ther...   \n",
       "1      732895  Looks like be have an abuser , can you please ...   \n",
       "2     1139051  I confess to having complete (and apparently b...   \n",
       "3     1434512  \"\\n\\nFreud's ideas are certainly much discusse...   \n",
       "4     2084821  It is not just you. This is a laundry list of ...   \n",
       "\n",
       "                                          clean_text  \n",
       "0  gjalexei asked whether anti editorializing pol...  \n",
       "1                look like abuser please look thanks  \n",
       "2  confess complete apparently blissful ignorance...  \n",
       "3  freud idea certainly much discussed today woul...  \n",
       "4  laundry list stupid allegation scooped god kno...  "
      ]
     },
     "execution_count": 7,
     "metadata": {},
     "output_type": "execute_result"
    }
   ],
   "source": [
    "comments_to_score.head(5)"
   ]
  },
  {
   "cell_type": "markdown",
   "id": "da62ad2c",
   "metadata": {
    "id": "KfwuCN7HEvoo",
    "papermill": {
     "duration": 0.027922,
     "end_time": "2022-01-06T10:23:59.950844",
     "exception": false,
     "start_time": "2022-01-06T10:23:59.922922",
     "status": "completed"
    },
    "tags": []
   },
   "source": [
    "# Idea 2\n",
    "\n",
    "Using previous Jigsaw competition : https://www.kaggle.com/c/jigsaw-toxic-comment-classification-challenge/"
   ]
  },
  {
   "cell_type": "code",
   "execution_count": 8,
   "id": "db4dbf39",
   "metadata": {
    "execution": {
     "iopub.execute_input": "2022-01-06T10:24:00.012502Z",
     "iopub.status.busy": "2022-01-06T10:24:00.011508Z",
     "iopub.status.idle": "2022-01-06T10:24:03.885862Z",
     "shell.execute_reply": "2022-01-06T10:24:03.885210Z",
     "shell.execute_reply.started": "2022-01-05T18:01:18.411983Z"
    },
    "id": "KQ-GsI1rFlz9",
    "papermill": {
     "duration": 3.905962,
     "end_time": "2022-01-06T10:24:03.886012",
     "exception": false,
     "start_time": "2022-01-06T10:23:59.980050",
     "status": "completed"
    },
    "tags": []
   },
   "outputs": [],
   "source": [
    "# We import the dataset from \"Toxic Comment Classification Challenge\"\n",
    "train2 = pd.read_csv(\"/kaggle/input/jigsaw-toxic-comment-classification-challenge/train.csv\")\n",
    "test_labels = pd.read_csv(\"/kaggle/input/jigsaw-toxic-comment-classification-challenge/test_labels.csv\")\n",
    "test2 = pd.read_csv(\"/kaggle/input/jigsaw-toxic-comment-classification-challenge/test.csv\")"
   ]
  },
  {
   "cell_type": "code",
   "execution_count": 9,
   "id": "e5fee5df",
   "metadata": {
    "execution": {
     "iopub.execute_input": "2022-01-06T10:24:03.955649Z",
     "iopub.status.busy": "2022-01-06T10:24:03.954835Z",
     "iopub.status.idle": "2022-01-06T10:24:03.958046Z",
     "shell.execute_reply": "2022-01-06T10:24:03.958544Z"
    },
    "id": "rUXfwAQot6dt",
    "outputId": "0b2743d7-586e-4210-e3c0-deec485d72fa",
    "papermill": {
     "duration": 0.044046,
     "end_time": "2022-01-06T10:24:03.958711",
     "exception": false,
     "start_time": "2022-01-06T10:24:03.914665",
     "status": "completed"
    },
    "tags": []
   },
   "outputs": [
    {
     "data": {
      "text/html": [
       "<div>\n",
       "<style scoped>\n",
       "    .dataframe tbody tr th:only-of-type {\n",
       "        vertical-align: middle;\n",
       "    }\n",
       "\n",
       "    .dataframe tbody tr th {\n",
       "        vertical-align: top;\n",
       "    }\n",
       "\n",
       "    .dataframe thead th {\n",
       "        text-align: right;\n",
       "    }\n",
       "</style>\n",
       "<table border=\"1\" class=\"dataframe\">\n",
       "  <thead>\n",
       "    <tr style=\"text-align: right;\">\n",
       "      <th></th>\n",
       "      <th>id</th>\n",
       "      <th>comment_text</th>\n",
       "      <th>toxic</th>\n",
       "      <th>severe_toxic</th>\n",
       "      <th>obscene</th>\n",
       "      <th>threat</th>\n",
       "      <th>insult</th>\n",
       "      <th>identity_hate</th>\n",
       "    </tr>\n",
       "  </thead>\n",
       "  <tbody>\n",
       "    <tr>\n",
       "      <th>0</th>\n",
       "      <td>0000997932d777bf</td>\n",
       "      <td>Explanation\\nWhy the edits made under my usern...</td>\n",
       "      <td>0</td>\n",
       "      <td>0</td>\n",
       "      <td>0</td>\n",
       "      <td>0</td>\n",
       "      <td>0</td>\n",
       "      <td>0</td>\n",
       "    </tr>\n",
       "    <tr>\n",
       "      <th>1</th>\n",
       "      <td>000103f0d9cfb60f</td>\n",
       "      <td>D'aww! He matches this background colour I'm s...</td>\n",
       "      <td>0</td>\n",
       "      <td>0</td>\n",
       "      <td>0</td>\n",
       "      <td>0</td>\n",
       "      <td>0</td>\n",
       "      <td>0</td>\n",
       "    </tr>\n",
       "    <tr>\n",
       "      <th>2</th>\n",
       "      <td>000113f07ec002fd</td>\n",
       "      <td>Hey man, I'm really not trying to edit war. It...</td>\n",
       "      <td>0</td>\n",
       "      <td>0</td>\n",
       "      <td>0</td>\n",
       "      <td>0</td>\n",
       "      <td>0</td>\n",
       "      <td>0</td>\n",
       "    </tr>\n",
       "    <tr>\n",
       "      <th>3</th>\n",
       "      <td>0001b41b1c6bb37e</td>\n",
       "      <td>\"\\nMore\\nI can't make any real suggestions on ...</td>\n",
       "      <td>0</td>\n",
       "      <td>0</td>\n",
       "      <td>0</td>\n",
       "      <td>0</td>\n",
       "      <td>0</td>\n",
       "      <td>0</td>\n",
       "    </tr>\n",
       "    <tr>\n",
       "      <th>4</th>\n",
       "      <td>0001d958c54c6e35</td>\n",
       "      <td>You, sir, are my hero. Any chance you remember...</td>\n",
       "      <td>0</td>\n",
       "      <td>0</td>\n",
       "      <td>0</td>\n",
       "      <td>0</td>\n",
       "      <td>0</td>\n",
       "      <td>0</td>\n",
       "    </tr>\n",
       "    <tr>\n",
       "      <th>5</th>\n",
       "      <td>00025465d4725e87</td>\n",
       "      <td>\"\\n\\nCongratulations from me as well, use the ...</td>\n",
       "      <td>0</td>\n",
       "      <td>0</td>\n",
       "      <td>0</td>\n",
       "      <td>0</td>\n",
       "      <td>0</td>\n",
       "      <td>0</td>\n",
       "    </tr>\n",
       "    <tr>\n",
       "      <th>6</th>\n",
       "      <td>0002bcb3da6cb337</td>\n",
       "      <td>COCKSUCKER BEFORE YOU PISS AROUND ON MY WORK</td>\n",
       "      <td>1</td>\n",
       "      <td>1</td>\n",
       "      <td>1</td>\n",
       "      <td>0</td>\n",
       "      <td>1</td>\n",
       "      <td>0</td>\n",
       "    </tr>\n",
       "    <tr>\n",
       "      <th>7</th>\n",
       "      <td>00031b1e95af7921</td>\n",
       "      <td>Your vandalism to the Matt Shirvington article...</td>\n",
       "      <td>0</td>\n",
       "      <td>0</td>\n",
       "      <td>0</td>\n",
       "      <td>0</td>\n",
       "      <td>0</td>\n",
       "      <td>0</td>\n",
       "    </tr>\n",
       "    <tr>\n",
       "      <th>8</th>\n",
       "      <td>00037261f536c51d</td>\n",
       "      <td>Sorry if the word 'nonsense' was offensive to ...</td>\n",
       "      <td>0</td>\n",
       "      <td>0</td>\n",
       "      <td>0</td>\n",
       "      <td>0</td>\n",
       "      <td>0</td>\n",
       "      <td>0</td>\n",
       "    </tr>\n",
       "    <tr>\n",
       "      <th>9</th>\n",
       "      <td>00040093b2687caa</td>\n",
       "      <td>alignment on this subject and which are contra...</td>\n",
       "      <td>0</td>\n",
       "      <td>0</td>\n",
       "      <td>0</td>\n",
       "      <td>0</td>\n",
       "      <td>0</td>\n",
       "      <td>0</td>\n",
       "    </tr>\n",
       "  </tbody>\n",
       "</table>\n",
       "</div>"
      ],
      "text/plain": [
       "                 id                                       comment_text  toxic  \\\n",
       "0  0000997932d777bf  Explanation\\nWhy the edits made under my usern...      0   \n",
       "1  000103f0d9cfb60f  D'aww! He matches this background colour I'm s...      0   \n",
       "2  000113f07ec002fd  Hey man, I'm really not trying to edit war. It...      0   \n",
       "3  0001b41b1c6bb37e  \"\\nMore\\nI can't make any real suggestions on ...      0   \n",
       "4  0001d958c54c6e35  You, sir, are my hero. Any chance you remember...      0   \n",
       "5  00025465d4725e87  \"\\n\\nCongratulations from me as well, use the ...      0   \n",
       "6  0002bcb3da6cb337       COCKSUCKER BEFORE YOU PISS AROUND ON MY WORK      1   \n",
       "7  00031b1e95af7921  Your vandalism to the Matt Shirvington article...      0   \n",
       "8  00037261f536c51d  Sorry if the word 'nonsense' was offensive to ...      0   \n",
       "9  00040093b2687caa  alignment on this subject and which are contra...      0   \n",
       "\n",
       "   severe_toxic  obscene  threat  insult  identity_hate  \n",
       "0             0        0       0       0              0  \n",
       "1             0        0       0       0              0  \n",
       "2             0        0       0       0              0  \n",
       "3             0        0       0       0              0  \n",
       "4             0        0       0       0              0  \n",
       "5             0        0       0       0              0  \n",
       "6             1        1       0       1              0  \n",
       "7             0        0       0       0              0  \n",
       "8             0        0       0       0              0  \n",
       "9             0        0       0       0              0  "
      ]
     },
     "execution_count": 9,
     "metadata": {},
     "output_type": "execute_result"
    }
   ],
   "source": [
    "train2.head(10)\n",
    "\n",
    "# Coded as 1 if it is toxic, severe toxic, etc"
   ]
  },
  {
   "cell_type": "code",
   "execution_count": 10,
   "id": "0c7342fd",
   "metadata": {
    "execution": {
     "iopub.execute_input": "2022-01-06T10:24:04.023579Z",
     "iopub.status.busy": "2022-01-06T10:24:04.022917Z",
     "iopub.status.idle": "2022-01-06T10:24:04.033146Z",
     "shell.execute_reply": "2022-01-06T10:24:04.032538Z"
    },
    "id": "u9r5J9f7xhYv",
    "outputId": "f0481a32-867a-4432-ce46-ffb4b4fa74b9",
    "papermill": {
     "duration": 0.045104,
     "end_time": "2022-01-06T10:24:04.033287",
     "exception": false,
     "start_time": "2022-01-06T10:24:03.988183",
     "status": "completed"
    },
    "tags": []
   },
   "outputs": [
    {
     "data": {
      "text/plain": [
       "(15294, 8)"
      ]
     },
     "execution_count": 10,
     "metadata": {},
     "output_type": "execute_result"
    }
   ],
   "source": [
    "# We check how many comments there are per category: Toxic\n",
    "nb_toxic = train2[train2.toxic==1]\n",
    "nb_toxic.shape"
   ]
  },
  {
   "cell_type": "code",
   "execution_count": 11,
   "id": "56ee8ef8",
   "metadata": {
    "execution": {
     "iopub.execute_input": "2022-01-06T10:24:04.097576Z",
     "iopub.status.busy": "2022-01-06T10:24:04.096915Z",
     "iopub.status.idle": "2022-01-06T10:24:04.102055Z",
     "shell.execute_reply": "2022-01-06T10:24:04.102530Z"
    },
    "id": "6RHRybBiyIpv",
    "outputId": "70765915-fc86-4e22-d3f7-1c673bbbad15",
    "papermill": {
     "duration": 0.039855,
     "end_time": "2022-01-06T10:24:04.102688",
     "exception": false,
     "start_time": "2022-01-06T10:24:04.062833",
     "status": "completed"
    },
    "tags": []
   },
   "outputs": [
    {
     "data": {
      "text/plain": [
       "(1595, 8)"
      ]
     },
     "execution_count": 11,
     "metadata": {},
     "output_type": "execute_result"
    }
   ],
   "source": [
    "# We check how many comments there are per category: severe toxic\n",
    "nb_severe_toxic = train2[train2.severe_toxic==1]\n",
    "nb_severe_toxic.shape"
   ]
  },
  {
   "cell_type": "code",
   "execution_count": 12,
   "id": "f7b11148",
   "metadata": {
    "execution": {
     "iopub.execute_input": "2022-01-06T10:24:04.166076Z",
     "iopub.status.busy": "2022-01-06T10:24:04.165391Z",
     "iopub.status.idle": "2022-01-06T10:24:04.173349Z",
     "shell.execute_reply": "2022-01-06T10:24:04.173972Z"
    },
    "id": "5bCRW0WdyhiU",
    "outputId": "aff204cd-6afe-42ff-d12d-650717d6f9bb",
    "papermill": {
     "duration": 0.041305,
     "end_time": "2022-01-06T10:24:04.174136",
     "exception": false,
     "start_time": "2022-01-06T10:24:04.132831",
     "status": "completed"
    },
    "tags": []
   },
   "outputs": [
    {
     "data": {
      "text/plain": [
       "(8449, 8)"
      ]
     },
     "execution_count": 12,
     "metadata": {},
     "output_type": "execute_result"
    }
   ],
   "source": [
    "# We check how many comments there are per category: obscene\n",
    "nb_obscene = train2[train2.obscene==1]\n",
    "nb_obscene.shape"
   ]
  },
  {
   "cell_type": "code",
   "execution_count": 13,
   "id": "65740b83",
   "metadata": {
    "execution": {
     "iopub.execute_input": "2022-01-06T10:24:04.239005Z",
     "iopub.status.busy": "2022-01-06T10:24:04.237971Z",
     "iopub.status.idle": "2022-01-06T10:24:04.246185Z",
     "shell.execute_reply": "2022-01-06T10:24:04.246646Z"
    },
    "id": "sBd0z83RyqBX",
    "outputId": "1c88a0a1-3ce6-421b-f427-672a1e71b2c4",
    "papermill": {
     "duration": 0.042415,
     "end_time": "2022-01-06T10:24:04.246855",
     "exception": false,
     "start_time": "2022-01-06T10:24:04.204440",
     "status": "completed"
    },
    "tags": []
   },
   "outputs": [
    {
     "data": {
      "text/plain": [
       "(478, 8)"
      ]
     },
     "execution_count": 13,
     "metadata": {},
     "output_type": "execute_result"
    }
   ],
   "source": [
    "# We check how many comments there are per category: threat\n",
    "nb_threat = train2[train2.threat==1]\n",
    "nb_threat.shape"
   ]
  },
  {
   "cell_type": "code",
   "execution_count": 14,
   "id": "43b75d81",
   "metadata": {
    "execution": {
     "iopub.execute_input": "2022-01-06T10:24:04.315138Z",
     "iopub.status.busy": "2022-01-06T10:24:04.314433Z",
     "iopub.status.idle": "2022-01-06T10:24:04.320811Z",
     "shell.execute_reply": "2022-01-06T10:24:04.321296Z"
    },
    "id": "U2T41ImiyxgB",
    "outputId": "e849ea70-b64e-4f3c-c327-2cd7376a066b",
    "papermill": {
     "duration": 0.043229,
     "end_time": "2022-01-06T10:24:04.321478",
     "exception": false,
     "start_time": "2022-01-06T10:24:04.278249",
     "status": "completed"
    },
    "tags": []
   },
   "outputs": [
    {
     "data": {
      "text/plain": [
       "(7877, 8)"
      ]
     },
     "execution_count": 14,
     "metadata": {},
     "output_type": "execute_result"
    }
   ],
   "source": [
    "# We check how many comments there are per category: insult\n",
    "nb_insult = train2[train2.insult==1]\n",
    "nb_insult.shape"
   ]
  },
  {
   "cell_type": "code",
   "execution_count": 15,
   "id": "a61c183a",
   "metadata": {
    "execution": {
     "iopub.execute_input": "2022-01-06T10:24:04.387573Z",
     "iopub.status.busy": "2022-01-06T10:24:04.386965Z",
     "iopub.status.idle": "2022-01-06T10:24:04.393515Z",
     "shell.execute_reply": "2022-01-06T10:24:04.394026Z"
    },
    "id": "LrepfL0zy2Ee",
    "outputId": "74dd60cf-30e0-455b-eece-71ac965c33cb",
    "papermill": {
     "duration": 0.041485,
     "end_time": "2022-01-06T10:24:04.394191",
     "exception": false,
     "start_time": "2022-01-06T10:24:04.352706",
     "status": "completed"
    },
    "tags": []
   },
   "outputs": [
    {
     "data": {
      "text/plain": [
       "(1405, 8)"
      ]
     },
     "execution_count": 15,
     "metadata": {},
     "output_type": "execute_result"
    }
   ],
   "source": [
    "# We check how many comments there are per category: identity hate\n",
    "nb_id_hate = train2[train2.identity_hate==1]\n",
    "nb_id_hate.shape"
   ]
  },
  {
   "cell_type": "code",
   "execution_count": 16,
   "id": "47497a27",
   "metadata": {
    "execution": {
     "iopub.execute_input": "2022-01-06T10:24:04.462572Z",
     "iopub.status.busy": "2022-01-06T10:24:04.461939Z",
     "iopub.status.idle": "2022-01-06T10:24:04.472112Z",
     "shell.execute_reply": "2022-01-06T10:24:04.472739Z"
    },
    "id": "Hg7QX48IvMSE",
    "outputId": "f844a2d9-4603-4f74-8a69-a289e09b2097",
    "papermill": {
     "duration": 0.046627,
     "end_time": "2022-01-06T10:24:04.472937",
     "exception": false,
     "start_time": "2022-01-06T10:24:04.426310",
     "status": "completed"
    },
    "tags": []
   },
   "outputs": [
    {
     "data": {
      "text/html": [
       "<div>\n",
       "<style scoped>\n",
       "    .dataframe tbody tr th:only-of-type {\n",
       "        vertical-align: middle;\n",
       "    }\n",
       "\n",
       "    .dataframe tbody tr th {\n",
       "        vertical-align: top;\n",
       "    }\n",
       "\n",
       "    .dataframe thead th {\n",
       "        text-align: right;\n",
       "    }\n",
       "</style>\n",
       "<table border=\"1\" class=\"dataframe\">\n",
       "  <thead>\n",
       "    <tr style=\"text-align: right;\">\n",
       "      <th></th>\n",
       "      <th>id</th>\n",
       "      <th>toxic</th>\n",
       "      <th>severe_toxic</th>\n",
       "      <th>obscene</th>\n",
       "      <th>threat</th>\n",
       "      <th>insult</th>\n",
       "      <th>identity_hate</th>\n",
       "    </tr>\n",
       "  </thead>\n",
       "  <tbody>\n",
       "    <tr>\n",
       "      <th>0</th>\n",
       "      <td>00001cee341fdb12</td>\n",
       "      <td>-1</td>\n",
       "      <td>-1</td>\n",
       "      <td>-1</td>\n",
       "      <td>-1</td>\n",
       "      <td>-1</td>\n",
       "      <td>-1</td>\n",
       "    </tr>\n",
       "    <tr>\n",
       "      <th>1</th>\n",
       "      <td>0000247867823ef7</td>\n",
       "      <td>-1</td>\n",
       "      <td>-1</td>\n",
       "      <td>-1</td>\n",
       "      <td>-1</td>\n",
       "      <td>-1</td>\n",
       "      <td>-1</td>\n",
       "    </tr>\n",
       "    <tr>\n",
       "      <th>2</th>\n",
       "      <td>00013b17ad220c46</td>\n",
       "      <td>-1</td>\n",
       "      <td>-1</td>\n",
       "      <td>-1</td>\n",
       "      <td>-1</td>\n",
       "      <td>-1</td>\n",
       "      <td>-1</td>\n",
       "    </tr>\n",
       "    <tr>\n",
       "      <th>3</th>\n",
       "      <td>00017563c3f7919a</td>\n",
       "      <td>-1</td>\n",
       "      <td>-1</td>\n",
       "      <td>-1</td>\n",
       "      <td>-1</td>\n",
       "      <td>-1</td>\n",
       "      <td>-1</td>\n",
       "    </tr>\n",
       "    <tr>\n",
       "      <th>4</th>\n",
       "      <td>00017695ad8997eb</td>\n",
       "      <td>-1</td>\n",
       "      <td>-1</td>\n",
       "      <td>-1</td>\n",
       "      <td>-1</td>\n",
       "      <td>-1</td>\n",
       "      <td>-1</td>\n",
       "    </tr>\n",
       "  </tbody>\n",
       "</table>\n",
       "</div>"
      ],
      "text/plain": [
       "                 id  toxic  severe_toxic  obscene  threat  insult  \\\n",
       "0  00001cee341fdb12     -1            -1       -1      -1      -1   \n",
       "1  0000247867823ef7     -1            -1       -1      -1      -1   \n",
       "2  00013b17ad220c46     -1            -1       -1      -1      -1   \n",
       "3  00017563c3f7919a     -1            -1       -1      -1      -1   \n",
       "4  00017695ad8997eb     -1            -1       -1      -1      -1   \n",
       "\n",
       "   identity_hate  \n",
       "0             -1  \n",
       "1             -1  \n",
       "2             -1  \n",
       "3             -1  \n",
       "4             -1  "
      ]
     },
     "execution_count": 16,
     "metadata": {},
     "output_type": "execute_result"
    }
   ],
   "source": [
    "test_labels.head()"
   ]
  },
  {
   "cell_type": "code",
   "execution_count": 17,
   "id": "d0f19c77",
   "metadata": {
    "execution": {
     "iopub.execute_input": "2022-01-06T10:24:04.551755Z",
     "iopub.status.busy": "2022-01-06T10:24:04.550442Z",
     "iopub.status.idle": "2022-01-06T10:24:04.557791Z",
     "shell.execute_reply": "2022-01-06T10:24:04.558354Z"
    },
    "id": "EYGtRmWdvNZW",
    "outputId": "907926e3-0a2b-40a1-8ed8-58cc9c5480cb",
    "papermill": {
     "duration": 0.052165,
     "end_time": "2022-01-06T10:24:04.558530",
     "exception": false,
     "start_time": "2022-01-06T10:24:04.506365",
     "status": "completed"
    },
    "tags": []
   },
   "outputs": [
    {
     "data": {
      "text/html": [
       "<div>\n",
       "<style scoped>\n",
       "    .dataframe tbody tr th:only-of-type {\n",
       "        vertical-align: middle;\n",
       "    }\n",
       "\n",
       "    .dataframe tbody tr th {\n",
       "        vertical-align: top;\n",
       "    }\n",
       "\n",
       "    .dataframe thead th {\n",
       "        text-align: right;\n",
       "    }\n",
       "</style>\n",
       "<table border=\"1\" class=\"dataframe\">\n",
       "  <thead>\n",
       "    <tr style=\"text-align: right;\">\n",
       "      <th></th>\n",
       "      <th>id</th>\n",
       "      <th>comment_text</th>\n",
       "    </tr>\n",
       "  </thead>\n",
       "  <tbody>\n",
       "    <tr>\n",
       "      <th>0</th>\n",
       "      <td>00001cee341fdb12</td>\n",
       "      <td>Yo bitch Ja Rule is more succesful then you'll...</td>\n",
       "    </tr>\n",
       "    <tr>\n",
       "      <th>1</th>\n",
       "      <td>0000247867823ef7</td>\n",
       "      <td>== From RfC == \\n\\n The title is fine as it is...</td>\n",
       "    </tr>\n",
       "    <tr>\n",
       "      <th>2</th>\n",
       "      <td>00013b17ad220c46</td>\n",
       "      <td>\" \\n\\n == Sources == \\n\\n * Zawe Ashton on Lap...</td>\n",
       "    </tr>\n",
       "    <tr>\n",
       "      <th>3</th>\n",
       "      <td>00017563c3f7919a</td>\n",
       "      <td>:If you have a look back at the source, the in...</td>\n",
       "    </tr>\n",
       "    <tr>\n",
       "      <th>4</th>\n",
       "      <td>00017695ad8997eb</td>\n",
       "      <td>I don't anonymously edit articles at all.</td>\n",
       "    </tr>\n",
       "  </tbody>\n",
       "</table>\n",
       "</div>"
      ],
      "text/plain": [
       "                 id                                       comment_text\n",
       "0  00001cee341fdb12  Yo bitch Ja Rule is more succesful then you'll...\n",
       "1  0000247867823ef7  == From RfC == \\n\\n The title is fine as it is...\n",
       "2  00013b17ad220c46  \" \\n\\n == Sources == \\n\\n * Zawe Ashton on Lap...\n",
       "3  00017563c3f7919a  :If you have a look back at the source, the in...\n",
       "4  00017695ad8997eb          I don't anonymously edit articles at all."
      ]
     },
     "execution_count": 17,
     "metadata": {},
     "output_type": "execute_result"
    }
   ],
   "source": [
    "test2.head()"
   ]
  },
  {
   "cell_type": "markdown",
   "id": "6f4c4c19",
   "metadata": {
    "id": "uAaK_1mX0CZ0",
    "papermill": {
     "duration": 0.045054,
     "end_time": "2022-01-06T10:24:04.648487",
     "exception": false,
     "start_time": "2022-01-06T10:24:04.603433",
     "status": "completed"
    },
    "tags": []
   },
   "source": [
    "### Cleaning data"
   ]
  },
  {
   "cell_type": "code",
   "execution_count": 18,
   "id": "9a01a060",
   "metadata": {
    "execution": {
     "iopub.execute_input": "2022-01-06T10:24:04.725798Z",
     "iopub.status.busy": "2022-01-06T10:24:04.724832Z",
     "iopub.status.idle": "2022-01-06T10:26:34.563308Z",
     "shell.execute_reply": "2022-01-06T10:26:34.563849Z"
    },
    "id": "pLSU19TmzAGe",
    "outputId": "fcffc5a1-9fda-4e27-adba-068b8088e98b",
    "papermill": {
     "duration": 149.878524,
     "end_time": "2022-01-06T10:26:34.564042",
     "exception": false,
     "start_time": "2022-01-06T10:24:04.685518",
     "status": "completed"
    },
    "tags": []
   },
   "outputs": [
    {
     "data": {
      "text/html": [
       "<div>\n",
       "<style scoped>\n",
       "    .dataframe tbody tr th:only-of-type {\n",
       "        vertical-align: middle;\n",
       "    }\n",
       "\n",
       "    .dataframe tbody tr th {\n",
       "        vertical-align: top;\n",
       "    }\n",
       "\n",
       "    .dataframe thead th {\n",
       "        text-align: right;\n",
       "    }\n",
       "</style>\n",
       "<table border=\"1\" class=\"dataframe\">\n",
       "  <thead>\n",
       "    <tr style=\"text-align: right;\">\n",
       "      <th></th>\n",
       "      <th>id</th>\n",
       "      <th>comment_text</th>\n",
       "      <th>toxic</th>\n",
       "      <th>severe_toxic</th>\n",
       "      <th>obscene</th>\n",
       "      <th>threat</th>\n",
       "      <th>insult</th>\n",
       "      <th>identity_hate</th>\n",
       "      <th>clean_text</th>\n",
       "    </tr>\n",
       "  </thead>\n",
       "  <tbody>\n",
       "    <tr>\n",
       "      <th>0</th>\n",
       "      <td>0000997932d777bf</td>\n",
       "      <td>Explanation\\nWhy the edits made under my usern...</td>\n",
       "      <td>0</td>\n",
       "      <td>0</td>\n",
       "      <td>0</td>\n",
       "      <td>0</td>\n",
       "      <td>0</td>\n",
       "      <td>0</td>\n",
       "      <td>explanation edits made username hardcore metal...</td>\n",
       "    </tr>\n",
       "    <tr>\n",
       "      <th>1</th>\n",
       "      <td>000103f0d9cfb60f</td>\n",
       "      <td>D'aww! He matches this background colour I'm s...</td>\n",
       "      <td>0</td>\n",
       "      <td>0</td>\n",
       "      <td>0</td>\n",
       "      <td>0</td>\n",
       "      <td>0</td>\n",
       "      <td>0</td>\n",
       "      <td>aww match background colour seemingly stuck th...</td>\n",
       "    </tr>\n",
       "    <tr>\n",
       "      <th>2</th>\n",
       "      <td>000113f07ec002fd</td>\n",
       "      <td>Hey man, I'm really not trying to edit war. It...</td>\n",
       "      <td>0</td>\n",
       "      <td>0</td>\n",
       "      <td>0</td>\n",
       "      <td>0</td>\n",
       "      <td>0</td>\n",
       "      <td>0</td>\n",
       "      <td>hey man really trying edit war guy constantly ...</td>\n",
       "    </tr>\n",
       "    <tr>\n",
       "      <th>3</th>\n",
       "      <td>0001b41b1c6bb37e</td>\n",
       "      <td>\"\\nMore\\nI can't make any real suggestions on ...</td>\n",
       "      <td>0</td>\n",
       "      <td>0</td>\n",
       "      <td>0</td>\n",
       "      <td>0</td>\n",
       "      <td>0</td>\n",
       "      <td>0</td>\n",
       "      <td>make real suggestion improvement wondered sect...</td>\n",
       "    </tr>\n",
       "    <tr>\n",
       "      <th>4</th>\n",
       "      <td>0001d958c54c6e35</td>\n",
       "      <td>You, sir, are my hero. Any chance you remember...</td>\n",
       "      <td>0</td>\n",
       "      <td>0</td>\n",
       "      <td>0</td>\n",
       "      <td>0</td>\n",
       "      <td>0</td>\n",
       "      <td>0</td>\n",
       "      <td>sir hero chance remember page</td>\n",
       "    </tr>\n",
       "  </tbody>\n",
       "</table>\n",
       "</div>"
      ],
      "text/plain": [
       "                 id                                       comment_text  toxic  \\\n",
       "0  0000997932d777bf  Explanation\\nWhy the edits made under my usern...      0   \n",
       "1  000103f0d9cfb60f  D'aww! He matches this background colour I'm s...      0   \n",
       "2  000113f07ec002fd  Hey man, I'm really not trying to edit war. It...      0   \n",
       "3  0001b41b1c6bb37e  \"\\nMore\\nI can't make any real suggestions on ...      0   \n",
       "4  0001d958c54c6e35  You, sir, are my hero. Any chance you remember...      0   \n",
       "\n",
       "   severe_toxic  obscene  threat  insult  identity_hate  \\\n",
       "0             0        0       0       0              0   \n",
       "1             0        0       0       0              0   \n",
       "2             0        0       0       0              0   \n",
       "3             0        0       0       0              0   \n",
       "4             0        0       0       0              0   \n",
       "\n",
       "                                          clean_text  \n",
       "0  explanation edits made username hardcore metal...  \n",
       "1  aww match background colour seemingly stuck th...  \n",
       "2  hey man really trying edit war guy constantly ...  \n",
       "3  make real suggestion improvement wondered sect...  \n",
       "4                      sir hero chance remember page  "
      ]
     },
     "execution_count": 18,
     "metadata": {},
     "output_type": "execute_result"
    }
   ],
   "source": [
    "# We clean the train dataset\n",
    "train2['clean_text'] = train2['comment_text'].apply(cleaning_text)\n",
    "train2.head(5)"
   ]
  },
  {
   "cell_type": "code",
   "execution_count": 19,
   "id": "77bcc379",
   "metadata": {
    "execution": {
     "iopub.execute_input": "2022-01-06T10:26:34.649162Z",
     "iopub.status.busy": "2022-01-06T10:26:34.636419Z",
     "iopub.status.idle": "2022-01-06T10:26:34.683369Z",
     "shell.execute_reply": "2022-01-06T10:26:34.682829Z"
    },
    "id": "ub1AnypMYmd2",
    "outputId": "a74c1aaa-9eb8-43ff-c5b7-358135c420f5",
    "papermill": {
     "duration": 0.085659,
     "end_time": "2022-01-06T10:26:34.683510",
     "exception": false,
     "start_time": "2022-01-06T10:26:34.597851",
     "status": "completed"
    },
    "tags": []
   },
   "outputs": [
    {
     "data": {
      "text/html": [
       "<div>\n",
       "<style scoped>\n",
       "    .dataframe tbody tr th:only-of-type {\n",
       "        vertical-align: middle;\n",
       "    }\n",
       "\n",
       "    .dataframe tbody tr th {\n",
       "        vertical-align: top;\n",
       "    }\n",
       "\n",
       "    .dataframe thead th {\n",
       "        text-align: right;\n",
       "    }\n",
       "</style>\n",
       "<table border=\"1\" class=\"dataframe\">\n",
       "  <thead>\n",
       "    <tr style=\"text-align: right;\">\n",
       "      <th></th>\n",
       "      <th>id</th>\n",
       "      <th>comment_text</th>\n",
       "      <th>toxic</th>\n",
       "      <th>severe_toxic</th>\n",
       "      <th>obscene</th>\n",
       "      <th>threat</th>\n",
       "      <th>insult</th>\n",
       "      <th>identity_hate</th>\n",
       "      <th>clean_text</th>\n",
       "    </tr>\n",
       "  </thead>\n",
       "  <tbody>\n",
       "    <tr>\n",
       "      <th>6</th>\n",
       "      <td>0002bcb3da6cb337</td>\n",
       "      <td>COCKSUCKER BEFORE YOU PISS AROUND ON MY WORK</td>\n",
       "      <td>1</td>\n",
       "      <td>1</td>\n",
       "      <td>1</td>\n",
       "      <td>0</td>\n",
       "      <td>1</td>\n",
       "      <td>0</td>\n",
       "      <td>cocksucker piss around work</td>\n",
       "    </tr>\n",
       "    <tr>\n",
       "      <th>55</th>\n",
       "      <td>0020e7119b96eeeb</td>\n",
       "      <td>Stupid peace of shit stop deleting my stuff as...</td>\n",
       "      <td>1</td>\n",
       "      <td>1</td>\n",
       "      <td>1</td>\n",
       "      <td>0</td>\n",
       "      <td>1</td>\n",
       "      <td>0</td>\n",
       "      <td>stupid peace shit stop deleting stuff asshole ...</td>\n",
       "    </tr>\n",
       "    <tr>\n",
       "      <th>181</th>\n",
       "      <td>006e87872c8b370c</td>\n",
       "      <td>you are a stupid fuck \\n\\nand your mother's cu...</td>\n",
       "      <td>1</td>\n",
       "      <td>1</td>\n",
       "      <td>1</td>\n",
       "      <td>0</td>\n",
       "      <td>1</td>\n",
       "      <td>0</td>\n",
       "      <td>stupid fuck mother cunt stink</td>\n",
       "    </tr>\n",
       "    <tr>\n",
       "      <th>442</th>\n",
       "      <td>01208d2b76624130</td>\n",
       "      <td>Hi \\n\\nIm a fucking bitch.\\n\\n50.180.208.181</td>\n",
       "      <td>1</td>\n",
       "      <td>1</td>\n",
       "      <td>1</td>\n",
       "      <td>0</td>\n",
       "      <td>1</td>\n",
       "      <td>0</td>\n",
       "      <td>hi im fucking bitch</td>\n",
       "    </tr>\n",
       "    <tr>\n",
       "      <th>579</th>\n",
       "      <td>018663f910e0bfe6</td>\n",
       "      <td>What a motherfucking piece of crap those fuckh...</td>\n",
       "      <td>1</td>\n",
       "      <td>1</td>\n",
       "      <td>1</td>\n",
       "      <td>0</td>\n",
       "      <td>1</td>\n",
       "      <td>0</td>\n",
       "      <td>motherfucking piece crap fuckhead blocking u</td>\n",
       "    </tr>\n",
       "    <tr>\n",
       "      <th>...</th>\n",
       "      <td>...</td>\n",
       "      <td>...</td>\n",
       "      <td>...</td>\n",
       "      <td>...</td>\n",
       "      <td>...</td>\n",
       "      <td>...</td>\n",
       "      <td>...</td>\n",
       "      <td>...</td>\n",
       "      <td>...</td>\n",
       "    </tr>\n",
       "    <tr>\n",
       "      <th>159096</th>\n",
       "      <td>f871b05d4caa6f20</td>\n",
       "      <td>You filthy, stinking crow! \\n\\nI am back! Dirt...</td>\n",
       "      <td>1</td>\n",
       "      <td>1</td>\n",
       "      <td>1</td>\n",
       "      <td>0</td>\n",
       "      <td>1</td>\n",
       "      <td>0</td>\n",
       "      <td>filthy stinking crow back dirty crow better de...</td>\n",
       "    </tr>\n",
       "    <tr>\n",
       "      <th>159099</th>\n",
       "      <td>f885a3e2d779342e</td>\n",
       "      <td>now\\n\\nyou fucking pathetic moron. \\n\\ncc:  Ji...</td>\n",
       "      <td>1</td>\n",
       "      <td>1</td>\n",
       "      <td>1</td>\n",
       "      <td>0</td>\n",
       "      <td>1</td>\n",
       "      <td>0</td>\n",
       "      <td>fucking pathetic moron cc jimbo wale rootmyass</td>\n",
       "    </tr>\n",
       "    <tr>\n",
       "      <th>159281</th>\n",
       "      <td>fb726deec64157bd</td>\n",
       "      <td>LoL!! \\n\\nyou're GAY!! you will never know how...</td>\n",
       "      <td>1</td>\n",
       "      <td>1</td>\n",
       "      <td>1</td>\n",
       "      <td>0</td>\n",
       "      <td>1</td>\n",
       "      <td>1</td>\n",
       "      <td>lol gay never know good feel fuck woman as</td>\n",
       "    </tr>\n",
       "    <tr>\n",
       "      <th>159312</th>\n",
       "      <td>fbf20e312cd4a78d</td>\n",
       "      <td>Walter Mercado \\n\\nAntonio, quite frankly, you...</td>\n",
       "      <td>1</td>\n",
       "      <td>1</td>\n",
       "      <td>1</td>\n",
       "      <td>0</td>\n",
       "      <td>1</td>\n",
       "      <td>0</td>\n",
       "      <td>walter mercado antonio quite frankly fucker co...</td>\n",
       "    </tr>\n",
       "    <tr>\n",
       "      <th>159400</th>\n",
       "      <td>fd052883fa6a8697</td>\n",
       "      <td>Shalom \\n\\nSemite, get the fuck out of here. I...</td>\n",
       "      <td>1</td>\n",
       "      <td>1</td>\n",
       "      <td>1</td>\n",
       "      <td>1</td>\n",
       "      <td>1</td>\n",
       "      <td>1</td>\n",
       "      <td>shalom semite get fuck kill son bitch leave wi...</td>\n",
       "    </tr>\n",
       "  </tbody>\n",
       "</table>\n",
       "<p>1595 rows × 9 columns</p>\n",
       "</div>"
      ],
      "text/plain": [
       "                      id                                       comment_text  \\\n",
       "6       0002bcb3da6cb337       COCKSUCKER BEFORE YOU PISS AROUND ON MY WORK   \n",
       "55      0020e7119b96eeeb  Stupid peace of shit stop deleting my stuff as...   \n",
       "181     006e87872c8b370c  you are a stupid fuck \\n\\nand your mother's cu...   \n",
       "442     01208d2b76624130       Hi \\n\\nIm a fucking bitch.\\n\\n50.180.208.181   \n",
       "579     018663f910e0bfe6  What a motherfucking piece of crap those fuckh...   \n",
       "...                  ...                                                ...   \n",
       "159096  f871b05d4caa6f20  You filthy, stinking crow! \\n\\nI am back! Dirt...   \n",
       "159099  f885a3e2d779342e  now\\n\\nyou fucking pathetic moron. \\n\\ncc:  Ji...   \n",
       "159281  fb726deec64157bd  LoL!! \\n\\nyou're GAY!! you will never know how...   \n",
       "159312  fbf20e312cd4a78d  Walter Mercado \\n\\nAntonio, quite frankly, you...   \n",
       "159400  fd052883fa6a8697  Shalom \\n\\nSemite, get the fuck out of here. I...   \n",
       "\n",
       "        toxic  severe_toxic  obscene  threat  insult  identity_hate  \\\n",
       "6           1             1        1       0       1              0   \n",
       "55          1             1        1       0       1              0   \n",
       "181         1             1        1       0       1              0   \n",
       "442         1             1        1       0       1              0   \n",
       "579         1             1        1       0       1              0   \n",
       "...       ...           ...      ...     ...     ...            ...   \n",
       "159096      1             1        1       0       1              0   \n",
       "159099      1             1        1       0       1              0   \n",
       "159281      1             1        1       0       1              1   \n",
       "159312      1             1        1       0       1              0   \n",
       "159400      1             1        1       1       1              1   \n",
       "\n",
       "                                               clean_text  \n",
       "6                             cocksucker piss around work  \n",
       "55      stupid peace shit stop deleting stuff asshole ...  \n",
       "181                         stupid fuck mother cunt stink  \n",
       "442                                   hi im fucking bitch  \n",
       "579          motherfucking piece crap fuckhead blocking u  \n",
       "...                                                   ...  \n",
       "159096  filthy stinking crow back dirty crow better de...  \n",
       "159099     fucking pathetic moron cc jimbo wale rootmyass  \n",
       "159281         lol gay never know good feel fuck woman as  \n",
       "159312  walter mercado antonio quite frankly fucker co...  \n",
       "159400  shalom semite get fuck kill son bitch leave wi...  \n",
       "\n",
       "[1595 rows x 9 columns]"
      ]
     },
     "execution_count": 19,
     "metadata": {},
     "output_type": "execute_result"
    }
   ],
   "source": [
    "# We look at observations with severe toxic being equal to 1\n",
    "train2[train2.severe_toxic==1]\n",
    "\n",
    "# We observe that all the severe toxic comments are also considered as toxic as they are both equal to 1"
   ]
  },
  {
   "cell_type": "code",
   "execution_count": 20,
   "id": "3ddf66b3",
   "metadata": {
    "execution": {
     "iopub.execute_input": "2022-01-06T10:26:34.756198Z",
     "iopub.status.busy": "2022-01-06T10:26:34.755558Z",
     "iopub.status.idle": "2022-01-06T10:28:47.473634Z",
     "shell.execute_reply": "2022-01-06T10:28:47.474162Z"
    },
    "id": "EYHikPNeic6T",
    "outputId": "02eeb7ac-5f73-4a84-f39c-4737ce49c149",
    "papermill": {
     "duration": 132.756043,
     "end_time": "2022-01-06T10:28:47.474340",
     "exception": false,
     "start_time": "2022-01-06T10:26:34.718297",
     "status": "completed"
    },
    "tags": []
   },
   "outputs": [
    {
     "data": {
      "text/html": [
       "<div>\n",
       "<style scoped>\n",
       "    .dataframe tbody tr th:only-of-type {\n",
       "        vertical-align: middle;\n",
       "    }\n",
       "\n",
       "    .dataframe tbody tr th {\n",
       "        vertical-align: top;\n",
       "    }\n",
       "\n",
       "    .dataframe thead th {\n",
       "        text-align: right;\n",
       "    }\n",
       "</style>\n",
       "<table border=\"1\" class=\"dataframe\">\n",
       "  <thead>\n",
       "    <tr style=\"text-align: right;\">\n",
       "      <th></th>\n",
       "      <th>id</th>\n",
       "      <th>comment_text</th>\n",
       "      <th>clean_text</th>\n",
       "    </tr>\n",
       "  </thead>\n",
       "  <tbody>\n",
       "    <tr>\n",
       "      <th>0</th>\n",
       "      <td>00001cee341fdb12</td>\n",
       "      <td>Yo bitch Ja Rule is more succesful then you'll...</td>\n",
       "      <td>yo bitch ja rule succesful ever whats hating s...</td>\n",
       "    </tr>\n",
       "    <tr>\n",
       "      <th>1</th>\n",
       "      <td>0000247867823ef7</td>\n",
       "      <td>== From RfC == \\n\\n The title is fine as it is...</td>\n",
       "      <td>rfc title fine imo</td>\n",
       "    </tr>\n",
       "    <tr>\n",
       "      <th>2</th>\n",
       "      <td>00013b17ad220c46</td>\n",
       "      <td>\" \\n\\n == Sources == \\n\\n * Zawe Ashton on Lap...</td>\n",
       "      <td>source zawe ashton lapland</td>\n",
       "    </tr>\n",
       "    <tr>\n",
       "      <th>3</th>\n",
       "      <td>00017563c3f7919a</td>\n",
       "      <td>:If you have a look back at the source, the in...</td>\n",
       "      <td>look back source information updated correct f...</td>\n",
       "    </tr>\n",
       "    <tr>\n",
       "      <th>4</th>\n",
       "      <td>00017695ad8997eb</td>\n",
       "      <td>I don't anonymously edit articles at all.</td>\n",
       "      <td>anonymously edit article</td>\n",
       "    </tr>\n",
       "  </tbody>\n",
       "</table>\n",
       "</div>"
      ],
      "text/plain": [
       "                 id                                       comment_text  \\\n",
       "0  00001cee341fdb12  Yo bitch Ja Rule is more succesful then you'll...   \n",
       "1  0000247867823ef7  == From RfC == \\n\\n The title is fine as it is...   \n",
       "2  00013b17ad220c46  \" \\n\\n == Sources == \\n\\n * Zawe Ashton on Lap...   \n",
       "3  00017563c3f7919a  :If you have a look back at the source, the in...   \n",
       "4  00017695ad8997eb          I don't anonymously edit articles at all.   \n",
       "\n",
       "                                          clean_text  \n",
       "0  yo bitch ja rule succesful ever whats hating s...  \n",
       "1                                 rfc title fine imo  \n",
       "2                         source zawe ashton lapland  \n",
       "3  look back source information updated correct f...  \n",
       "4                           anonymously edit article  "
      ]
     },
     "execution_count": 20,
     "metadata": {},
     "output_type": "execute_result"
    }
   ],
   "source": [
    "# We clean the test dataset\n",
    "test2['clean_text'] = test2['comment_text'].apply(cleaning_text)\n",
    "test2.head(5)"
   ]
  },
  {
   "cell_type": "markdown",
   "id": "3200631e",
   "metadata": {
    "id": "rrIGgxexMXui",
    "papermill": {
     "duration": 0.034938,
     "end_time": "2022-01-06T10:28:47.544833",
     "exception": false,
     "start_time": "2022-01-06T10:28:47.509895",
     "status": "completed"
    },
    "tags": []
   },
   "source": [
    "## Ridge"
   ]
  },
  {
   "cell_type": "code",
   "execution_count": 21,
   "id": "15f8f926",
   "metadata": {
    "execution": {
     "iopub.execute_input": "2022-01-06T10:28:47.621500Z",
     "iopub.status.busy": "2022-01-06T10:28:47.620796Z",
     "iopub.status.idle": "2022-01-06T10:28:47.627799Z",
     "shell.execute_reply": "2022-01-06T10:28:47.627138Z"
    },
    "id": "kCKoZiXtBFqt",
    "papermill": {
     "duration": 0.047848,
     "end_time": "2022-01-06T10:28:47.627940",
     "exception": false,
     "start_time": "2022-01-06T10:28:47.580092",
     "status": "completed"
    },
    "tags": []
   },
   "outputs": [],
   "source": [
    "# New variable with the score (categories sum)\n",
    "train2['score'] = train2.toxic + train2.severe_toxic + train2.obscene + train2.threat + train2.insult + train2.identity_hate"
   ]
  },
  {
   "cell_type": "code",
   "execution_count": 22,
   "id": "6f42becb",
   "metadata": {
    "execution": {
     "iopub.execute_input": "2022-01-06T10:28:47.706383Z",
     "iopub.status.busy": "2022-01-06T10:28:47.705630Z",
     "iopub.status.idle": "2022-01-06T10:28:47.707252Z",
     "shell.execute_reply": "2022-01-06T10:28:47.707742Z"
    },
    "id": "3kF3XnujKjBW",
    "papermill": {
     "duration": 0.043813,
     "end_time": "2022-01-06T10:28:47.707923",
     "exception": false,
     "start_time": "2022-01-06T10:28:47.664110",
     "status": "completed"
    },
    "tags": []
   },
   "outputs": [],
   "source": [
    "X = train2['clean_text']\n",
    "Y = train2['score']"
   ]
  },
  {
   "cell_type": "markdown",
   "id": "66d05d91",
   "metadata": {
    "id": "1pYvpVX5Mt9k",
    "papermill": {
     "duration": 0.035203,
     "end_time": "2022-01-06T10:28:47.779068",
     "exception": false,
     "start_time": "2022-01-06T10:28:47.743865",
     "status": "completed"
    },
    "tags": []
   },
   "source": [
    "### TF-IDF"
   ]
  },
  {
   "cell_type": "code",
   "execution_count": 23,
   "id": "9d6400a6",
   "metadata": {
    "execution": {
     "iopub.execute_input": "2022-01-06T10:28:47.859319Z",
     "iopub.status.busy": "2022-01-06T10:28:47.858585Z",
     "iopub.status.idle": "2022-01-06T10:29:07.833120Z",
     "shell.execute_reply": "2022-01-06T10:29:07.832495Z"
    },
    "id": "qRWeKlPEMv0F",
    "papermill": {
     "duration": 20.01856,
     "end_time": "2022-01-06T10:29:07.833273",
     "exception": false,
     "start_time": "2022-01-06T10:28:47.814713",
     "status": "completed"
    },
    "tags": []
   },
   "outputs": [],
   "source": [
    "vectorizer = TfidfVectorizer(min_df = 5, smooth_idf=True, ngram_range=(1,2))\n",
    "\n",
    "X_train_tfidf = vectorizer.fit_transform(X)"
   ]
  },
  {
   "cell_type": "markdown",
   "id": "62e5c8f5",
   "metadata": {
    "id": "HYXo4jqc0pe9",
    "papermill": {
     "duration": 0.035729,
     "end_time": "2022-01-06T10:29:07.906340",
     "exception": false,
     "start_time": "2022-01-06T10:29:07.870611",
     "status": "completed"
    },
    "tags": []
   },
   "source": [
    "### Model"
   ]
  },
  {
   "cell_type": "code",
   "execution_count": 24,
   "id": "070dd248",
   "metadata": {
    "execution": {
     "iopub.execute_input": "2022-01-06T10:29:07.984714Z",
     "iopub.status.busy": "2022-01-06T10:29:07.983463Z",
     "iopub.status.idle": "2022-01-06T10:29:10.482904Z",
     "shell.execute_reply": "2022-01-06T10:29:10.483815Z"
    },
    "id": "jJZF8_j5Su1r",
    "outputId": "0beee1ff-ca2b-4b7b-82e0-98564704eb99",
    "papermill": {
     "duration": 2.541886,
     "end_time": "2022-01-06T10:29:10.484076",
     "exception": false,
     "start_time": "2022-01-06T10:29:07.942190",
     "status": "completed"
    },
    "tags": []
   },
   "outputs": [
    {
     "data": {
      "text/plain": [
       "Ridge(alpha=10, random_state=1, tol=1e-05)"
      ]
     },
     "execution_count": 24,
     "metadata": {},
     "output_type": "execute_result"
    }
   ],
   "source": [
    "model = Ridge(random_state=1, alpha = 10, tol = 1e-5)\n",
    "model.fit(X_train_tfidf, Y)"
   ]
  },
  {
   "cell_type": "markdown",
   "id": "210ef510",
   "metadata": {
    "id": "ZlAjGEgEUTvm",
    "papermill": {
     "duration": 0.05644,
     "end_time": "2022-01-06T10:29:10.607273",
     "exception": false,
     "start_time": "2022-01-06T10:29:10.550833",
     "status": "completed"
    },
    "tags": []
   },
   "source": [
    "### Prediction"
   ]
  },
  {
   "cell_type": "code",
   "execution_count": 25,
   "id": "be55bfb3",
   "metadata": {
    "execution": {
     "iopub.execute_input": "2022-01-06T10:29:10.700012Z",
     "iopub.status.busy": "2022-01-06T10:29:10.689494Z",
     "iopub.status.idle": "2022-01-06T10:29:11.386381Z",
     "shell.execute_reply": "2022-01-06T10:29:11.385714Z"
    },
    "id": "kAIqr_JjUYkI",
    "outputId": "3a780a09-235f-4c1e-ceac-7cedd342813f",
    "papermill": {
     "duration": 0.743202,
     "end_time": "2022-01-06T10:29:11.386522",
     "exception": false,
     "start_time": "2022-01-06T10:29:10.643320",
     "status": "completed"
    },
    "tags": []
   },
   "outputs": [],
   "source": [
    "# Predicting on the comments_to_score\n",
    "comments_to_score_tfidf = vectorizer.transform(comments_to_score['clean_text'])\n",
    "pred = model.predict(comments_to_score_tfidf)"
   ]
  },
  {
   "cell_type": "code",
   "execution_count": 26,
   "id": "02d9b28c",
   "metadata": {
    "execution": {
     "iopub.execute_input": "2022-01-06T10:29:11.465574Z",
     "iopub.status.busy": "2022-01-06T10:29:11.464956Z",
     "iopub.status.idle": "2022-01-06T10:29:11.468341Z",
     "shell.execute_reply": "2022-01-06T10:29:11.467857Z"
    },
    "papermill": {
     "duration": 0.045168,
     "end_time": "2022-01-06T10:29:11.468485",
     "exception": false,
     "start_time": "2022-01-06T10:29:11.423317",
     "status": "completed"
    },
    "tags": []
   },
   "outputs": [
    {
     "name": "stdout",
     "output_type": "stream",
     "text": [
      "[-0.00724607  0.08809496  0.08827002 ...  0.02867775  1.43304324\n",
      "  0.14920967]\n"
     ]
    }
   ],
   "source": [
    "print(pred)"
   ]
  },
  {
   "cell_type": "markdown",
   "id": "8f4dd50e",
   "metadata": {
    "id": "7R84PgDPUfex",
    "papermill": {
     "duration": 0.036374,
     "end_time": "2022-01-06T10:29:11.542324",
     "exception": false,
     "start_time": "2022-01-06T10:29:11.505950",
     "status": "completed"
    },
    "tags": []
   },
   "source": [
    "### Submission"
   ]
  },
  {
   "cell_type": "code",
   "execution_count": 27,
   "id": "d2f8f171",
   "metadata": {
    "execution": {
     "iopub.execute_input": "2022-01-06T10:29:11.620564Z",
     "iopub.status.busy": "2022-01-06T10:29:11.618780Z",
     "iopub.status.idle": "2022-01-06T10:29:11.625483Z",
     "shell.execute_reply": "2022-01-06T10:29:11.625995Z"
    },
    "id": "ElnT_-hpUfCa",
    "papermill": {
     "duration": 0.047105,
     "end_time": "2022-01-06T10:29:11.626162",
     "exception": false,
     "start_time": "2022-01-06T10:29:11.579057",
     "status": "completed"
    },
    "tags": []
   },
   "outputs": [],
   "source": [
    "# Exporting the submission file\n",
    "results = pd.DataFrame(comments_to_score[\"comment_id\"])\n",
    "results[\"score\"] = pred"
   ]
  },
  {
   "cell_type": "code",
   "execution_count": 28,
   "id": "afb9bd5c",
   "metadata": {
    "execution": {
     "iopub.execute_input": "2022-01-06T10:29:11.703949Z",
     "iopub.status.busy": "2022-01-06T10:29:11.703305Z",
     "iopub.status.idle": "2022-01-06T10:29:11.711386Z",
     "shell.execute_reply": "2022-01-06T10:29:11.712003Z"
    },
    "id": "WAsMHcWzUiEJ",
    "outputId": "0f51c0f6-bfef-4d33-a3c7-06300d49619f",
    "papermill": {
     "duration": 0.048908,
     "end_time": "2022-01-06T10:29:11.712171",
     "exception": false,
     "start_time": "2022-01-06T10:29:11.663263",
     "status": "completed"
    },
    "tags": []
   },
   "outputs": [
    {
     "data": {
      "text/html": [
       "<div>\n",
       "<style scoped>\n",
       "    .dataframe tbody tr th:only-of-type {\n",
       "        vertical-align: middle;\n",
       "    }\n",
       "\n",
       "    .dataframe tbody tr th {\n",
       "        vertical-align: top;\n",
       "    }\n",
       "\n",
       "    .dataframe thead th {\n",
       "        text-align: right;\n",
       "    }\n",
       "</style>\n",
       "<table border=\"1\" class=\"dataframe\">\n",
       "  <thead>\n",
       "    <tr style=\"text-align: right;\">\n",
       "      <th></th>\n",
       "      <th>comment_id</th>\n",
       "      <th>score</th>\n",
       "    </tr>\n",
       "  </thead>\n",
       "  <tbody>\n",
       "    <tr>\n",
       "      <th>0</th>\n",
       "      <td>114890</td>\n",
       "      <td>-0.007246</td>\n",
       "    </tr>\n",
       "    <tr>\n",
       "      <th>1</th>\n",
       "      <td>732895</td>\n",
       "      <td>0.088095</td>\n",
       "    </tr>\n",
       "    <tr>\n",
       "      <th>2</th>\n",
       "      <td>1139051</td>\n",
       "      <td>0.088270</td>\n",
       "    </tr>\n",
       "    <tr>\n",
       "      <th>3</th>\n",
       "      <td>1434512</td>\n",
       "      <td>0.124904</td>\n",
       "    </tr>\n",
       "    <tr>\n",
       "      <th>4</th>\n",
       "      <td>2084821</td>\n",
       "      <td>0.816219</td>\n",
       "    </tr>\n",
       "  </tbody>\n",
       "</table>\n",
       "</div>"
      ],
      "text/plain": [
       "   comment_id     score\n",
       "0      114890 -0.007246\n",
       "1      732895  0.088095\n",
       "2     1139051  0.088270\n",
       "3     1434512  0.124904\n",
       "4     2084821  0.816219"
      ]
     },
     "execution_count": 28,
     "metadata": {},
     "output_type": "execute_result"
    }
   ],
   "source": [
    "results.head(5)"
   ]
  },
  {
   "cell_type": "code",
   "execution_count": 29,
   "id": "c0c21f77",
   "metadata": {
    "execution": {
     "iopub.execute_input": "2022-01-06T10:29:11.789734Z",
     "iopub.status.busy": "2022-01-06T10:29:11.789124Z",
     "iopub.status.idle": "2022-01-06T10:29:11.826818Z",
     "shell.execute_reply": "2022-01-06T10:29:11.827325Z"
    },
    "id": "ScN_upV3UzFM",
    "papermill": {
     "duration": 0.078137,
     "end_time": "2022-01-06T10:29:11.827507",
     "exception": false,
     "start_time": "2022-01-06T10:29:11.749370",
     "status": "completed"
    },
    "tags": []
   },
   "outputs": [],
   "source": [
    "results.to_csv(\"submission.csv\", index=False)"
   ]
  }
 ],
 "metadata": {
  "kernelspec": {
   "display_name": "Python 3",
   "language": "python",
   "name": "python3"
  },
  "language_info": {
   "codemirror_mode": {
    "name": "ipython",
    "version": 3
   },
   "file_extension": ".py",
   "mimetype": "text/x-python",
   "name": "python",
   "nbconvert_exporter": "python",
   "pygments_lexer": "ipython3",
   "version": "3.7.12"
  },
  "papermill": {
   "default_parameters": {},
   "duration": 395.66991,
   "end_time": "2022-01-06T10:29:13.280888",
   "environment_variables": {},
   "exception": null,
   "input_path": "__notebook__.ipynb",
   "output_path": "__notebook__.ipynb",
   "parameters": {},
   "start_time": "2022-01-06T10:22:37.610978",
   "version": "2.3.3"
  }
 },
 "nbformat": 4,
 "nbformat_minor": 5
}
